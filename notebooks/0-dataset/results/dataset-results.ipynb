{
 "cells": [
  {
   "cell_type": "markdown",
   "metadata": {},
   "source": [
    "# Dataset Results\n",
    "Updated on 2019-12-27"
   ]
  },
  {
   "cell_type": "markdown",
   "metadata": {},
   "source": [
    "Three datasets were used:\n",
    "1. ALMA Antennas during Observation (ALMA Antennas)\n",
    "1. Paranal AT Telescopes during Observtion (Paranal AT)\n",
    "1. Paranal Instrument GRAVITY executing observations (Paranal Observation)\n",
    "\n",
    "Each of those raw datasets, in ```data/raw```, were processed and converted to a CSV using the following standard structure, and stored in ```data/interim```\n",
    "\n",
    "| origin   | @timestamp | source | logtext |\n",
    "|----------|---------------------------|--------|---------------------------------------------|\n",
    "| (inferred from dataset #) | [YYYY-MM-DD HH:mm:ss.mmm] | [optional source] | [text coming from the event log] |"
   ]
  },
  {
   "cell_type": "markdown",
   "metadata": {},
   "source": [
    "## 1. ALMA Antennas\n",
    "The dataset from ALMA correspond to some manually selected antenna containers that covers the full lifecycle of the related computer, between reboots."
   ]
  },
  {
   "cell_type": "code",
   "execution_count": 1,
   "metadata": {},
   "outputs": [],
   "source": [
    "import pandas as pd\n",
    "RAWDATA=\"../../../data/raw/alma/\"\n",
    "INTERIM=\"../../../data/interim/ALMA/\"\n",
    "stats=pd.read_csv(INTERIM+'count-AntObs.csv')\n",
    "alma_ds = pd.read_csv(INTERIM+'2017-07-12T14:39:02.679-dv25-AntObs.csv').head()"
   ]
  },
  {
   "cell_type": "markdown",
   "metadata": {},
   "source": [
    "### Logs by Instance"
   ]
  },
  {
   "cell_type": "code",
   "execution_count": 2,
   "metadata": {},
   "outputs": [
    {
     "data": {
      "text/html": [
       "<div>\n",
       "<style scoped>\n",
       "    .dataframe tbody tr th:only-of-type {\n",
       "        vertical-align: middle;\n",
       "    }\n",
       "\n",
       "    .dataframe tbody tr th {\n",
       "        vertical-align: top;\n",
       "    }\n",
       "\n",
       "    .dataframe thead th {\n",
       "        text-align: right;\n",
       "    }\n",
       "</style>\n",
       "<table border=\"1\" class=\"dataframe\">\n",
       "  <thead>\n",
       "    <tr style=\"text-align: right;\">\n",
       "      <th></th>\n",
       "      <th># logs</th>\n",
       "    </tr>\n",
       "  </thead>\n",
       "  <tbody>\n",
       "    <tr>\n",
       "      <th>count</th>\n",
       "      <td>630.000000</td>\n",
       "    </tr>\n",
       "    <tr>\n",
       "      <th>mean</th>\n",
       "      <td>388.666667</td>\n",
       "    </tr>\n",
       "    <tr>\n",
       "      <th>std</th>\n",
       "      <td>387.084512</td>\n",
       "    </tr>\n",
       "    <tr>\n",
       "      <th>min</th>\n",
       "      <td>12.000000</td>\n",
       "    </tr>\n",
       "    <tr>\n",
       "      <th>25%</th>\n",
       "      <td>156.000000</td>\n",
       "    </tr>\n",
       "    <tr>\n",
       "      <th>50%</th>\n",
       "      <td>252.500000</td>\n",
       "    </tr>\n",
       "    <tr>\n",
       "      <th>75%</th>\n",
       "      <td>509.750000</td>\n",
       "    </tr>\n",
       "    <tr>\n",
       "      <th>max</th>\n",
       "      <td>4261.000000</td>\n",
       "    </tr>\n",
       "  </tbody>\n",
       "</table>\n",
       "</div>"
      ],
      "text/plain": [
       "            # logs\n",
       "count   630.000000\n",
       "mean    388.666667\n",
       "std     387.084512\n",
       "min      12.000000\n",
       "25%     156.000000\n",
       "50%     252.500000\n",
       "75%     509.750000\n",
       "max    4261.000000"
      ]
     },
     "execution_count": 2,
     "metadata": {},
     "output_type": "execute_result"
    }
   ],
   "source": [
    "stats[['# logs']].describe()"
   ]
  },
  {
   "cell_type": "markdown",
   "metadata": {},
   "source": [
    "### Sample dataset points"
   ]
  },
  {
   "cell_type": "code",
   "execution_count": 3,
   "metadata": {},
   "outputs": [
    {
     "data": {
      "text/html": [
       "<div>\n",
       "<style scoped>\n",
       "    .dataframe tbody tr th:only-of-type {\n",
       "        vertical-align: middle;\n",
       "    }\n",
       "\n",
       "    .dataframe tbody tr th {\n",
       "        vertical-align: top;\n",
       "    }\n",
       "\n",
       "    .dataframe thead th {\n",
       "        text-align: right;\n",
       "    }\n",
       "</style>\n",
       "<table border=\"1\" class=\"dataframe\">\n",
       "  <thead>\n",
       "    <tr style=\"text-align: right;\">\n",
       "      <th></th>\n",
       "      <th>@timestamp</th>\n",
       "      <th>source</th>\n",
       "      <th>logtext</th>\n",
       "    </tr>\n",
       "  </thead>\n",
       "  <tbody>\n",
       "    <tr>\n",
       "      <th>0</th>\n",
       "      <td>2017-07-12 14:39:02.679</td>\n",
       "      <td>maci::LibraryManager - maci::LibraryManager::load</td>\n",
       "      <td>Request to load 'AntInterferometryController'.</td>\n",
       "    </tr>\n",
       "    <tr>\n",
       "      <th>1</th>\n",
       "      <td>2017-07-12 14:39:02.680</td>\n",
       "      <td>maci::LibraryManager - maci::LibraryManager::load</td>\n",
       "      <td>Full path '/alma/ACS-2015.8/ACSSW/lib/libAntIn...</td>\n",
       "    </tr>\n",
       "    <tr>\n",
       "      <th>2</th>\n",
       "      <td>2017-07-12 14:39:02.693</td>\n",
       "      <td>maci::LibraryManager - maci::LibraryManager::load</td>\n",
       "      <td>Loaded '/alma/ACS-2015.8/ACSSW/lib/libAntInter...</td>\n",
       "    </tr>\n",
       "    <tr>\n",
       "      <th>3</th>\n",
       "      <td>2017-07-12 14:39:02.695</td>\n",
       "      <td>/cppContainer-GL -</td>\n",
       "      <td>Switched state of component CONTROL/DV25/AntIn...</td>\n",
       "    </tr>\n",
       "    <tr>\n",
       "      <th>4</th>\n",
       "      <td>2017-07-12 14:39:02.695</td>\n",
       "      <td>/cppContainer-GL -</td>\n",
       "      <td>Switched state of component CONTROL/DV25/AntIn...</td>\n",
       "    </tr>\n",
       "  </tbody>\n",
       "</table>\n",
       "</div>"
      ],
      "text/plain": [
       "                @timestamp                                             source  \\\n",
       "0  2017-07-12 14:39:02.679  maci::LibraryManager - maci::LibraryManager::load   \n",
       "1  2017-07-12 14:39:02.680  maci::LibraryManager - maci::LibraryManager::load   \n",
       "2  2017-07-12 14:39:02.693  maci::LibraryManager - maci::LibraryManager::load   \n",
       "3  2017-07-12 14:39:02.695                                /cppContainer-GL -    \n",
       "4  2017-07-12 14:39:02.695                                /cppContainer-GL -    \n",
       "\n",
       "                                             logtext  \n",
       "0     Request to load 'AntInterferometryController'.  \n",
       "1  Full path '/alma/ACS-2015.8/ACSSW/lib/libAntIn...  \n",
       "2  Loaded '/alma/ACS-2015.8/ACSSW/lib/libAntInter...  \n",
       "3  Switched state of component CONTROL/DV25/AntIn...  \n",
       "4  Switched state of component CONTROL/DV25/AntIn...  "
      ]
     },
     "execution_count": 3,
     "metadata": {},
     "output_type": "execute_result"
    }
   ],
   "source": [
    "alma_ds"
   ]
  },
  {
   "cell_type": "markdown",
   "metadata": {},
   "source": [
    "## 2. Paranal AT"
   ]
  },
  {
   "cell_type": "code",
   "execution_count": 4,
   "metadata": {},
   "outputs": [],
   "source": [
    "import pandas as pd\n",
    "RAWDATA=\"../../../data/raw/PARANAL/\"\n",
    "INTERIM=\"../../../data/interim/PARANAL/\"\n",
    "at_ds=pd.read_csv(INTERIM+'GRAVITY-2018-12-16T00:02:45.108Z.AT1.csv')"
   ]
  },
  {
   "cell_type": "code",
   "execution_count": 12,
   "metadata": {},
   "outputs": [],
   "source": [
    "countlogs=pd.read_csv(RAWDATA+'GRAVITY-countlogs.csv')\n",
    "at1 = countlogs[['AT1']].rename(columns={'AT1': 'AT logs'})\n",
    "at2 = countlogs[['AT2']].rename(columns={'AT2': 'AT logs'})\n",
    "at3 = countlogs[['AT3']].rename(columns={'AT3': 'AT logs'})\n",
    "at4 = countlogs[['AT4']].rename(columns={'AT4': 'AT logs'})\n",
    "stats = pd.concat([at1, at2, at3, at4])"
   ]
  },
  {
   "cell_type": "markdown",
   "metadata": {},
   "source": [
    "### Logs by Instance"
   ]
  },
  {
   "cell_type": "code",
   "execution_count": 13,
   "metadata": {},
   "outputs": [
    {
     "data": {
      "text/html": [
       "<div>\n",
       "<style scoped>\n",
       "    .dataframe tbody tr th:only-of-type {\n",
       "        vertical-align: middle;\n",
       "    }\n",
       "\n",
       "    .dataframe tbody tr th {\n",
       "        vertical-align: top;\n",
       "    }\n",
       "\n",
       "    .dataframe thead th {\n",
       "        text-align: right;\n",
       "    }\n",
       "</style>\n",
       "<table border=\"1\" class=\"dataframe\">\n",
       "  <thead>\n",
       "    <tr style=\"text-align: right;\">\n",
       "      <th></th>\n",
       "      <th>AT logs</th>\n",
       "    </tr>\n",
       "  </thead>\n",
       "  <tbody>\n",
       "    <tr>\n",
       "      <th>count</th>\n",
       "      <td>568.000000</td>\n",
       "    </tr>\n",
       "    <tr>\n",
       "      <th>mean</th>\n",
       "      <td>613.783451</td>\n",
       "    </tr>\n",
       "    <tr>\n",
       "      <th>std</th>\n",
       "      <td>522.236363</td>\n",
       "    </tr>\n",
       "    <tr>\n",
       "      <th>min</th>\n",
       "      <td>2.000000</td>\n",
       "    </tr>\n",
       "    <tr>\n",
       "      <th>25%</th>\n",
       "      <td>321.000000</td>\n",
       "    </tr>\n",
       "    <tr>\n",
       "      <th>50%</th>\n",
       "      <td>450.000000</td>\n",
       "    </tr>\n",
       "    <tr>\n",
       "      <th>75%</th>\n",
       "      <td>791.250000</td>\n",
       "    </tr>\n",
       "    <tr>\n",
       "      <th>max</th>\n",
       "      <td>6284.000000</td>\n",
       "    </tr>\n",
       "  </tbody>\n",
       "</table>\n",
       "</div>"
      ],
      "text/plain": [
       "           AT logs\n",
       "count   568.000000\n",
       "mean    613.783451\n",
       "std     522.236363\n",
       "min       2.000000\n",
       "25%     321.000000\n",
       "50%     450.000000\n",
       "75%     791.250000\n",
       "max    6284.000000"
      ]
     },
     "execution_count": 13,
     "metadata": {},
     "output_type": "execute_result"
    }
   ],
   "source": [
    "stats[['AT logs']].describe()"
   ]
  },
  {
   "cell_type": "markdown",
   "metadata": {},
   "source": [
    "### Sample dataset points"
   ]
  },
  {
   "cell_type": "code",
   "execution_count": 7,
   "metadata": {},
   "outputs": [
    {
     "data": {
      "text/html": [
       "<div>\n",
       "<style scoped>\n",
       "    .dataframe tbody tr th:only-of-type {\n",
       "        vertical-align: middle;\n",
       "    }\n",
       "\n",
       "    .dataframe tbody tr th {\n",
       "        vertical-align: top;\n",
       "    }\n",
       "\n",
       "    .dataframe thead th {\n",
       "        text-align: right;\n",
       "    }\n",
       "</style>\n",
       "<table border=\"1\" class=\"dataframe\">\n",
       "  <thead>\n",
       "    <tr style=\"text-align: right;\">\n",
       "      <th></th>\n",
       "      <th>@timestamp</th>\n",
       "      <th>source</th>\n",
       "      <th>logtext</th>\n",
       "    </tr>\n",
       "  </thead>\n",
       "  <tbody>\n",
       "    <tr>\n",
       "      <th>0</th>\n",
       "      <td>2018-12-16T00:03:16.000Z</td>\n",
       "      <td>wat1tcs/logManager</td>\n",
       "      <td>INS.OPTI1.MOVE Motion execution.</td>\n",
       "    </tr>\n",
       "    <tr>\n",
       "      <th>1</th>\n",
       "      <td>2018-12-16T00:03:17.000Z</td>\n",
       "      <td>wat1tcs/logManager</td>\n",
       "      <td>INS.OPTI1.MOVEDONE Motor offset done.</td>\n",
       "    </tr>\n",
       "    <tr>\n",
       "      <th>2</th>\n",
       "      <td>2018-12-16T00:03:17.000Z</td>\n",
       "      <td>wat1tcs/logManager</td>\n",
       "      <td>INS.OPTI2.MOVE Motion execution.</td>\n",
       "    </tr>\n",
       "    <tr>\n",
       "      <th>3</th>\n",
       "      <td>2018-12-16T00:03:17.689Z</td>\n",
       "      <td>wat1tcs/ic0fbDev_PUPX</td>\n",
       "      <td>0 - ic0fbiDevDrvDiscreteMotor.C:1953: NAOMI: ...</td>\n",
       "    </tr>\n",
       "    <tr>\n",
       "      <th>4</th>\n",
       "      <td>2018-12-16T00:03:18.000Z</td>\n",
       "      <td>wat1tcs/logManager</td>\n",
       "      <td>INS.OPTI2.MOVEDONE Motor offset done.</td>\n",
       "    </tr>\n",
       "  </tbody>\n",
       "</table>\n",
       "</div>"
      ],
      "text/plain": [
       "                 @timestamp                 source  \\\n",
       "0  2018-12-16T00:03:16.000Z     wat1tcs/logManager   \n",
       "1  2018-12-16T00:03:17.000Z     wat1tcs/logManager   \n",
       "2  2018-12-16T00:03:17.000Z     wat1tcs/logManager   \n",
       "3  2018-12-16T00:03:17.689Z  wat1tcs/ic0fbDev_PUPX   \n",
       "4  2018-12-16T00:03:18.000Z     wat1tcs/logManager   \n",
       "\n",
       "                                             logtext  \n",
       "0                   INS.OPTI1.MOVE Motion execution.  \n",
       "1              INS.OPTI1.MOVEDONE Motor offset done.  \n",
       "2                   INS.OPTI2.MOVE Motion execution.  \n",
       "3   0 - ic0fbiDevDrvDiscreteMotor.C:1953: NAOMI: ...  \n",
       "4              INS.OPTI2.MOVEDONE Motor offset done.  "
      ]
     },
     "execution_count": 7,
     "metadata": {},
     "output_type": "execute_result"
    }
   ],
   "source": [
    "at_ds.head()"
   ]
  },
  {
   "cell_type": "markdown",
   "metadata": {},
   "source": [
    "## 3. Paranal Observation"
   ]
  },
  {
   "cell_type": "code",
   "execution_count": 8,
   "metadata": {},
   "outputs": [],
   "source": [
    "import pandas as pd\n",
    "RAWDATA=\"../../../data/raw/PARANAL/\"\n",
    "INTERIM=\"../../../data/interim/PARANAL/\"\n",
    "obs_ds=pd.read_csv(INTERIM+'GRAVITY-2018-12-16T00:02:45.108Z.OBS.csv')\n",
    "stats=pd.read_csv(RAWDATA+'GRAVITY-countlogs.csv')"
   ]
  },
  {
   "cell_type": "markdown",
   "metadata": {},
   "source": [
    "### Logs by Instance"
   ]
  },
  {
   "cell_type": "code",
   "execution_count": 11,
   "metadata": {},
   "outputs": [
    {
     "data": {
      "text/html": [
       "<div>\n",
       "<style scoped>\n",
       "    .dataframe tbody tr th:only-of-type {\n",
       "        vertical-align: middle;\n",
       "    }\n",
       "\n",
       "    .dataframe tbody tr th {\n",
       "        vertical-align: top;\n",
       "    }\n",
       "\n",
       "    .dataframe thead th {\n",
       "        text-align: right;\n",
       "    }\n",
       "</style>\n",
       "<table border=\"1\" class=\"dataframe\">\n",
       "  <thead>\n",
       "    <tr style=\"text-align: right;\">\n",
       "      <th></th>\n",
       "      <th>OBS</th>\n",
       "    </tr>\n",
       "  </thead>\n",
       "  <tbody>\n",
       "    <tr>\n",
       "      <th>count</th>\n",
       "      <td>142.000000</td>\n",
       "    </tr>\n",
       "    <tr>\n",
       "      <th>mean</th>\n",
       "      <td>885.915493</td>\n",
       "    </tr>\n",
       "    <tr>\n",
       "      <th>std</th>\n",
       "      <td>376.563266</td>\n",
       "    </tr>\n",
       "    <tr>\n",
       "      <th>min</th>\n",
       "      <td>185.000000</td>\n",
       "    </tr>\n",
       "    <tr>\n",
       "      <th>25%</th>\n",
       "      <td>656.000000</td>\n",
       "    </tr>\n",
       "    <tr>\n",
       "      <th>50%</th>\n",
       "      <td>984.500000</td>\n",
       "    </tr>\n",
       "    <tr>\n",
       "      <th>75%</th>\n",
       "      <td>1126.000000</td>\n",
       "    </tr>\n",
       "    <tr>\n",
       "      <th>max</th>\n",
       "      <td>2168.000000</td>\n",
       "    </tr>\n",
       "  </tbody>\n",
       "</table>\n",
       "</div>"
      ],
      "text/plain": [
       "               OBS\n",
       "count   142.000000\n",
       "mean    885.915493\n",
       "std     376.563266\n",
       "min     185.000000\n",
       "25%     656.000000\n",
       "50%     984.500000\n",
       "75%    1126.000000\n",
       "max    2168.000000"
      ]
     },
     "execution_count": 11,
     "metadata": {},
     "output_type": "execute_result"
    }
   ],
   "source": [
    "stats[['OBS']].describe()"
   ]
  },
  {
   "cell_type": "markdown",
   "metadata": {},
   "source": [
    "### Sample dataset points"
   ]
  },
  {
   "cell_type": "code",
   "execution_count": 10,
   "metadata": {},
   "outputs": [
    {
     "data": {
      "text/html": [
       "<div>\n",
       "<style scoped>\n",
       "    .dataframe tbody tr th:only-of-type {\n",
       "        vertical-align: middle;\n",
       "    }\n",
       "\n",
       "    .dataframe tbody tr th {\n",
       "        vertical-align: top;\n",
       "    }\n",
       "\n",
       "    .dataframe thead th {\n",
       "        text-align: right;\n",
       "    }\n",
       "</style>\n",
       "<table border=\"1\" class=\"dataframe\">\n",
       "  <thead>\n",
       "    <tr style=\"text-align: right;\">\n",
       "      <th></th>\n",
       "      <th>@timestamp</th>\n",
       "      <th>source</th>\n",
       "      <th>logtext</th>\n",
       "    </tr>\n",
       "  </thead>\n",
       "  <tbody>\n",
       "    <tr>\n",
       "      <th>0</th>\n",
       "      <td>2018-12-16T00:02:45.108Z</td>\n",
       "      <td>wgv/bob_29921</td>\n",
       "      <td>OB started at 2018-12-16T00:02:45</td>\n",
       "    </tr>\n",
       "    <tr>\n",
       "      <th>1</th>\n",
       "      <td>2018-12-16T00:02:45.109Z</td>\n",
       "      <td>wgv/bob_29921</td>\n",
       "      <td>(OBS.NAME: GJ65_Dec16 // OBS.ID: 2226308)</td>\n",
       "    </tr>\n",
       "    <tr>\n",
       "      <th>2</th>\n",
       "      <td>2018-12-16T00:02:45.115Z</td>\n",
       "      <td>wgv/bob_29921</td>\n",
       "      <td>Started at 2018-12-16T00:02:45 (underlined)</td>\n",
       "    </tr>\n",
       "    <tr>\n",
       "      <th>3</th>\n",
       "      <td>2018-12-16T00:02:45.115Z</td>\n",
       "      <td>wgv/bob_29921</td>\n",
       "      <td>GRAVITY_dual_acq -- GRAVITY Dual Mode Acquisi...</td>\n",
       "    </tr>\n",
       "    <tr>\n",
       "      <th>4</th>\n",
       "      <td>2018-12-16T00:02:45.378Z</td>\n",
       "      <td>wgv/bob_29921</td>\n",
       "      <td>COU AG OPTIMIZE = 'F'</td>\n",
       "    </tr>\n",
       "  </tbody>\n",
       "</table>\n",
       "</div>"
      ],
      "text/plain": [
       "                 @timestamp         source  \\\n",
       "0  2018-12-16T00:02:45.108Z  wgv/bob_29921   \n",
       "1  2018-12-16T00:02:45.109Z  wgv/bob_29921   \n",
       "2  2018-12-16T00:02:45.115Z  wgv/bob_29921   \n",
       "3  2018-12-16T00:02:45.115Z  wgv/bob_29921   \n",
       "4  2018-12-16T00:02:45.378Z  wgv/bob_29921   \n",
       "\n",
       "                                             logtext  \n",
       "0                  OB started at 2018-12-16T00:02:45  \n",
       "1          (OBS.NAME: GJ65_Dec16 // OBS.ID: 2226308)  \n",
       "2        Started at 2018-12-16T00:02:45 (underlined)  \n",
       "3   GRAVITY_dual_acq -- GRAVITY Dual Mode Acquisi...  \n",
       "4                              COU AG OPTIMIZE = 'F'  "
      ]
     },
     "execution_count": 10,
     "metadata": {},
     "output_type": "execute_result"
    }
   ],
   "source": [
    "obs_ds.head()"
   ]
  }
 ],
 "metadata": {
  "kernelspec": {
   "display_name": "Python 3",
   "language": "python",
   "name": "python3"
  },
  "language_info": {
   "codemirror_mode": {
    "name": "ipython",
    "version": 3
   },
   "file_extension": ".py",
   "mimetype": "text/x-python",
   "name": "python",
   "nbconvert_exporter": "python",
   "pygments_lexer": "ipython3",
   "version": "3.7.5"
  }
 },
 "nbformat": 4,
 "nbformat_minor": 4
}
