{
 "cells": [
  {
   "cell_type": "markdown",
   "metadata": {},
   "source": [
    "# ALMA Dataset"
   ]
  },
  {
   "cell_type": "markdown",
   "metadata": {},
   "source": [
    "The dataset from ALMA correspond to some manually selected antenna containers that covers the full lifecycle of the related computer, between reboots. "
   ]
  },
  {
   "cell_type": "code",
   "execution_count": 225,
   "metadata": {},
   "outputs": [
    {
     "name": "stdout",
     "output_type": "stream",
     "text": [
      "dv25-acsStartContainer_cppContainer_2017-07-10_17.03.32.841\n",
      "dv25-acsStartContainer_cppContainer_2017-07-10_17.12.59.636\n",
      "dv25-acsStartContainer_cppContainer_2017-07-10_19.30.47.674\n",
      "dv25-acsStartContainer_cppContainer_2017-07-10_20.43.06.773\n",
      "dv25-acsStartContainer_cppContainer_2017-07-10_20.56.06.754\n",
      "dv25-acsStartContainer_cppContainer_2017-07-11_19.55.26.410\n",
      "dv25-acsStartContainer_cppContainer_2017-07-11_20.41.40.861\n",
      "dv25-acsStartContainer_cppContainer_2017-07-11_20.55.42.275\n",
      "dv25-acsStartContainer_cppContainer_2017-07-12_00.14.04.823\n",
      "dv25-acsStartContainer_cppContainer_2017-07-12_00.40.12.586\n"
     ]
    }
   ],
   "source": [
    "!ls ../../data/raw/alma | tail"
   ]
  },
  {
   "cell_type": "code",
   "execution_count": 226,
   "metadata": {},
   "outputs": [
    {
     "name": "stdout",
     "output_type": "stream",
     "text": [
      "2017-07-10T17:09:35.050 [CONTROL/DV25/cppContainer-GL - virtual void AmbDeviceImpl::monitorEnc(ACS::Time*, const AMBSystem::AmbRelativeAddr&, AmbDataLength_t&, AmbDataMem_t*)] CAMB Error (type=10000, code=0) Detail=\"The monitor request returned an error.  AMB status = 11, channel = 1, node number = 0x13, RCA = 0xb009.\"\n",
      "terminate called after throwing an instance of 'St9bad_alloc'\n",
      "  what():  St9bad_alloc\n",
      "/alma/ACS-2015.8/ACSSW/bin/acsStartContainer: line 112:  3298 Aborted                 (core dumped) $COMMANDLINE\n",
      "2017-07-10T17:09:48.100 INFO [acsStartContainer] Container: 'CONTROL/DV25/cppContainer' exited with code: 134.\n"
     ]
    }
   ],
   "source": [
    "!tail -n 5 ../../data/raw/alma/dv25-acsStartContainer_cppContainer_2017-07-10_17.03.32.841"
   ]
  },
  {
   "cell_type": "markdown",
   "metadata": {},
   "source": [
    "## Load an antenna file"
   ]
  },
  {
   "cell_type": "markdown",
   "metadata": {},
   "source": [
    "Given an antenna file:"
   ]
  },
  {
   "cell_type": "code",
   "execution_count": 227,
   "metadata": {},
   "outputs": [],
   "source": [
    "ant_file=\"../../data/raw/alma/da41-acsStartContainer_cppContainer_2017-07-01_20.06.49.894\""
   ]
  },
  {
   "cell_type": "markdown",
   "metadata": {},
   "source": [
    "Let's consider only the individual lines that follows the rule:\n",
    "```\n",
    "TIMESTAMP [Source] logtext\n",
    "```\n",
    "The file is read in a pandas dataframe"
   ]
  },
  {
   "cell_type": "code",
   "execution_count": 228,
   "metadata": {},
   "outputs": [],
   "source": [
    "import pandas as pd\n",
    "RAWLINES=!cat $ant_file | egrep \"^2[0-9]..\\-..\\-..T.*[0-9][0-9][0-9] \\[\"\n",
    "raw=pd.DataFrame(RAWLINES)"
   ]
  },
  {
   "cell_type": "markdown",
   "metadata": {},
   "source": [
    "And it is splitted into different columns, removing some useless strings (as CONTROL/ANT)"
   ]
  },
  {
   "cell_type": "code",
   "execution_count": 229,
   "metadata": {},
   "outputs": [],
   "source": [
    "import re\n",
    "regex = re.compile(r\"CONTROL\\/[A-Z][A-Z][0-9][0-9]\")\n",
    "\n",
    "raw[\"@timestamp\"] = raw[0].apply( lambda r: pd.to_datetime( r[:23] ))\n",
    "raw[\"source\"]  = raw[0].apply( lambda r: regex.sub( \"\", r[24:].split(\"]\")[0][1:] ) )\n",
    "raw[\"logtext\"] = raw[0].apply( lambda r: \" \".join(r[24:].split(\"] \")[1:]) )\n",
    "del raw[0]"
   ]
  },
  {
   "cell_type": "code",
   "execution_count": 230,
   "metadata": {},
   "outputs": [
    {
     "data": {
      "text/html": [
       "<div>\n",
       "<style scoped>\n",
       "    .dataframe tbody tr th:only-of-type {\n",
       "        vertical-align: middle;\n",
       "    }\n",
       "\n",
       "    .dataframe tbody tr th {\n",
       "        vertical-align: top;\n",
       "    }\n",
       "\n",
       "    .dataframe thead th {\n",
       "        text-align: right;\n",
       "    }\n",
       "</style>\n",
       "<table border=\"1\" class=\"dataframe\">\n",
       "  <thead>\n",
       "    <tr style=\"text-align: right;\">\n",
       "      <th></th>\n",
       "      <th>@timestamp</th>\n",
       "      <th>source</th>\n",
       "      <th>logtext</th>\n",
       "    </tr>\n",
       "  </thead>\n",
       "  <tbody>\n",
       "    <tr>\n",
       "      <th>0</th>\n",
       "      <td>2017-07-01 20:06:52.995</td>\n",
       "      <td>/cppContainer-GL - cdb::DAOImpl</td>\n",
       "      <td>DAO:'MACI/Containers/CONTROL/DA41/cppContainer...</td>\n",
       "    </tr>\n",
       "    <tr>\n",
       "      <th>1</th>\n",
       "      <td>2017-07-01 20:06:53.001</td>\n",
       "      <td>/cppContainer - maci::ContainerImpl::getManager</td>\n",
       "      <td>Resolving manager...</td>\n",
       "    </tr>\n",
       "    <tr>\n",
       "      <th>2</th>\n",
       "      <td>2017-07-01 20:06:53.003</td>\n",
       "      <td>/cppContainer-GL - maci::MACIHelper::resolveMa...</td>\n",
       "      <td>ManagerReference obtained via command line: 'c...</td>\n",
       "    </tr>\n",
       "    <tr>\n",
       "      <th>3</th>\n",
       "      <td>2017-07-01 20:06:53.505</td>\n",
       "      <td>/cppContainer - maci::Container::init</td>\n",
       "      <td>Recovery enabled.</td>\n",
       "    </tr>\n",
       "    <tr>\n",
       "      <th>4</th>\n",
       "      <td>2017-07-01 20:06:53.507</td>\n",
       "      <td>/cppContainer - maci::ContainerImpl::init</td>\n",
       "      <td>Container 'CONTROL/DA41/cppContainer' activated.</td>\n",
       "    </tr>\n",
       "    <tr>\n",
       "      <th>...</th>\n",
       "      <td>...</td>\n",
       "      <td>...</td>\n",
       "      <td>...</td>\n",
       "    </tr>\n",
       "    <tr>\n",
       "      <th>7729</th>\n",
       "      <td>2017-07-01 22:33:52.438</td>\n",
       "      <td>ambServer - loggerThread</td>\n",
       "      <td>Channel 1 has seen 0 total control messages an...</td>\n",
       "    </tr>\n",
       "    <tr>\n",
       "      <th>7730</th>\n",
       "      <td>2017-07-01 22:33:52.438</td>\n",
       "      <td>ambServer - loggerThread</td>\n",
       "      <td>Channel 2 has seen 0 total control messages an...</td>\n",
       "    </tr>\n",
       "    <tr>\n",
       "      <th>7731</th>\n",
       "      <td>2017-07-01 22:33:52.438</td>\n",
       "      <td>ambServer - loggerThread</td>\n",
       "      <td>Channel 3 has seen 0 total control messages an...</td>\n",
       "    </tr>\n",
       "    <tr>\n",
       "      <th>7732</th>\n",
       "      <td>2017-07-01 22:33:52.438</td>\n",
       "      <td>ambServer - loggerThread</td>\n",
       "      <td>Channel 4 has seen 0 total control messages an...</td>\n",
       "    </tr>\n",
       "    <tr>\n",
       "      <th>7733</th>\n",
       "      <td>2017-07-01 22:33:52.438</td>\n",
       "      <td>ambServer - loggerThread</td>\n",
       "      <td>Channel 5 has seen 0 total control messages an...</td>\n",
       "    </tr>\n",
       "  </tbody>\n",
       "</table>\n",
       "<p>7734 rows × 3 columns</p>\n",
       "</div>"
      ],
      "text/plain": [
       "                  @timestamp  \\\n",
       "0    2017-07-01 20:06:52.995   \n",
       "1    2017-07-01 20:06:53.001   \n",
       "2    2017-07-01 20:06:53.003   \n",
       "3    2017-07-01 20:06:53.505   \n",
       "4    2017-07-01 20:06:53.507   \n",
       "...                      ...   \n",
       "7729 2017-07-01 22:33:52.438   \n",
       "7730 2017-07-01 22:33:52.438   \n",
       "7731 2017-07-01 22:33:52.438   \n",
       "7732 2017-07-01 22:33:52.438   \n",
       "7733 2017-07-01 22:33:52.438   \n",
       "\n",
       "                                                 source  \\\n",
       "0                       /cppContainer-GL - cdb::DAOImpl   \n",
       "1       /cppContainer - maci::ContainerImpl::getManager   \n",
       "2     /cppContainer-GL - maci::MACIHelper::resolveMa...   \n",
       "3                 /cppContainer - maci::Container::init   \n",
       "4             /cppContainer - maci::ContainerImpl::init   \n",
       "...                                                 ...   \n",
       "7729                           ambServer - loggerThread   \n",
       "7730                           ambServer - loggerThread   \n",
       "7731                           ambServer - loggerThread   \n",
       "7732                           ambServer - loggerThread   \n",
       "7733                           ambServer - loggerThread   \n",
       "\n",
       "                                                logtext  \n",
       "0     DAO:'MACI/Containers/CONTROL/DA41/cppContainer...  \n",
       "1                                  Resolving manager...  \n",
       "2     ManagerReference obtained via command line: 'c...  \n",
       "3                                     Recovery enabled.  \n",
       "4      Container 'CONTROL/DA41/cppContainer' activated.  \n",
       "...                                                 ...  \n",
       "7729  Channel 1 has seen 0 total control messages an...  \n",
       "7730  Channel 2 has seen 0 total control messages an...  \n",
       "7731  Channel 3 has seen 0 total control messages an...  \n",
       "7732  Channel 4 has seen 0 total control messages an...  \n",
       "7733  Channel 5 has seen 0 total control messages an...  \n",
       "\n",
       "[7734 rows x 3 columns]"
      ]
     },
     "execution_count": 230,
     "metadata": {},
     "output_type": "execute_result"
    }
   ],
   "source": [
    "raw"
   ]
  },
  {
   "cell_type": "markdown",
   "metadata": {},
   "source": [
    "## Searching for Antenna Observing"
   ]
  },
  {
   "cell_type": "markdown",
   "metadata": {},
   "source": [
    "From a previous work, we choose a high level task called \"Antenna Observing\" that are characterized by the following start / end events:\n",
    "\n",
    "```\n",
    "Request to load 'AntInterferometryController'\n",
    "...\n",
    "Switched state of component ... AntInterferometryController: DESTROYING -> DEFUNCT\n",
    "```\n",
    "Let's search in "
   ]
  },
  {
   "cell_type": "code",
   "execution_count": 231,
   "metadata": {},
   "outputs": [],
   "source": [
    "start = raw[ raw[\"logtext\"].str.contains(\"Request to load.*AntInterferometryController\", regex=True) ]\n",
    "end = raw[ raw[\"logtext\"].str.contains(\"AntInterferometryController: DESTROYING -> DEFUNCT\", regex=False) ]"
   ]
  },
  {
   "cell_type": "code",
   "execution_count": 245,
   "metadata": {},
   "outputs": [],
   "source": [
    "#start"
   ]
  },
  {
   "cell_type": "code",
   "execution_count": 246,
   "metadata": {},
   "outputs": [],
   "source": [
    "#end"
   ]
  },
  {
   "cell_type": "markdown",
   "metadata": {},
   "source": [
    "The events between those two  markers corresponds to AntennaObserving instances to be analyzed."
   ]
  },
  {
   "cell_type": "code",
   "execution_count": 234,
   "metadata": {},
   "outputs": [],
   "source": [
    "ant_obs=pd.DataFrame( { 'start': start[\"@timestamp\"].values, 'end': end[\"@timestamp\"].values })"
   ]
  },
  {
   "cell_type": "code",
   "execution_count": 235,
   "metadata": {},
   "outputs": [
    {
     "data": {
      "text/html": [
       "<div>\n",
       "<style scoped>\n",
       "    .dataframe tbody tr th:only-of-type {\n",
       "        vertical-align: middle;\n",
       "    }\n",
       "\n",
       "    .dataframe tbody tr th {\n",
       "        vertical-align: top;\n",
       "    }\n",
       "\n",
       "    .dataframe thead th {\n",
       "        text-align: right;\n",
       "    }\n",
       "</style>\n",
       "<table border=\"1\" class=\"dataframe\">\n",
       "  <thead>\n",
       "    <tr style=\"text-align: right;\">\n",
       "      <th></th>\n",
       "      <th>start</th>\n",
       "      <th>end</th>\n",
       "    </tr>\n",
       "  </thead>\n",
       "  <tbody>\n",
       "    <tr>\n",
       "      <th>0</th>\n",
       "      <td>2017-07-01 21:02:13.979</td>\n",
       "      <td>2017-07-01 21:02:29.648</td>\n",
       "    </tr>\n",
       "    <tr>\n",
       "      <th>1</th>\n",
       "      <td>2017-07-01 21:03:21.631</td>\n",
       "      <td>2017-07-01 21:03:29.601</td>\n",
       "    </tr>\n",
       "    <tr>\n",
       "      <th>2</th>\n",
       "      <td>2017-07-01 21:20:08.150</td>\n",
       "      <td>2017-07-01 21:21:00.560</td>\n",
       "    </tr>\n",
       "    <tr>\n",
       "      <th>3</th>\n",
       "      <td>2017-07-01 21:23:26.907</td>\n",
       "      <td>2017-07-01 21:36:57.971</td>\n",
       "    </tr>\n",
       "    <tr>\n",
       "      <th>4</th>\n",
       "      <td>2017-07-01 21:37:25.567</td>\n",
       "      <td>2017-07-01 21:50:32.845</td>\n",
       "    </tr>\n",
       "    <tr>\n",
       "      <th>5</th>\n",
       "      <td>2017-07-01 21:55:11.232</td>\n",
       "      <td>2017-07-01 22:08:19.178</td>\n",
       "    </tr>\n",
       "    <tr>\n",
       "      <th>6</th>\n",
       "      <td>2017-07-01 22:08:47.676</td>\n",
       "      <td>2017-07-01 22:21:53.586</td>\n",
       "    </tr>\n",
       "  </tbody>\n",
       "</table>\n",
       "</div>"
      ],
      "text/plain": [
       "                    start                     end\n",
       "0 2017-07-01 21:02:13.979 2017-07-01 21:02:29.648\n",
       "1 2017-07-01 21:03:21.631 2017-07-01 21:03:29.601\n",
       "2 2017-07-01 21:20:08.150 2017-07-01 21:21:00.560\n",
       "3 2017-07-01 21:23:26.907 2017-07-01 21:36:57.971\n",
       "4 2017-07-01 21:37:25.567 2017-07-01 21:50:32.845\n",
       "5 2017-07-01 21:55:11.232 2017-07-01 22:08:19.178\n",
       "6 2017-07-01 22:08:47.676 2017-07-01 22:21:53.586"
      ]
     },
     "execution_count": 235,
     "metadata": {},
     "output_type": "execute_result"
    }
   ],
   "source": [
    "ant_obs"
   ]
  },
  {
   "cell_type": "markdown",
   "metadata": {},
   "source": [
    "And now, let's filter the raw logs by the ant_obs dates"
   ]
  },
  {
   "cell_type": "code",
   "execution_count": 247,
   "metadata": {},
   "outputs": [
    {
     "name": "stdout",
     "output_type": "stream",
     "text": [
      "2017-07-01 21:02:13.979000 18\n",
      "2017-07-01 21:03:21.631000 19\n",
      "2017-07-01 21:20:08.150000 41\n",
      "2017-07-01 21:23:26.907000 341\n",
      "2017-07-01 21:37:25.567000 314\n",
      "2017-07-01 21:55:11.232000 314\n",
      "2017-07-01 22:08:47.676000 319\n"
     ]
    },
    {
     "name": "stderr",
     "output_type": "stream",
     "text": [
      "/Users/jgil/logdelay/venv/lib/python3.7/site-packages/ipykernel_launcher.py:2: UserWarning: Boolean Series key will be reindexed to match DataFrame index.\n",
      "  \n"
     ]
    }
   ],
   "source": [
    "for i, r in ant_obs.iterrows():\n",
    "    print( r[\"start\"], len(raw[ raw[\"@timestamp\"] >= r[\"start\"] ][ raw[\"@timestamp\"] <= r[\"end\"] ]))"
   ]
  },
  {
   "cell_type": "markdown",
   "metadata": {},
   "source": [
    "## All Together"
   ]
  },
  {
   "cell_type": "code",
   "execution_count": 250,
   "metadata": {},
   "outputs": [],
   "source": [
    "import pandas as pd\n",
    "import re\n",
    "\n",
    "def get_alma_logs(ant_file):\n",
    "    RAWLINES=!cat $ant_file | egrep \"^2[0-9]..\\-..\\-..T.*[0-9][0-9][0-9] \\[\"\n",
    "    raw=pd.DataFrame(RAWLINES)\n",
    "\n",
    "    regex = re.compile(r\"CONTROL\\/[A-Z][A-Z][0-9][0-9]\")\n",
    "\n",
    "    raw[\"@timestamp\"] = raw[0].apply( lambda r: pd.to_datetime( r[:23] ))\n",
    "    raw[\"source\"]  = raw[0].apply( lambda r: regex.sub( \"\", r[24:].split(\"]\")[0][1:] ) )\n",
    "    raw[\"logtext\"] = raw[0].apply( lambda r: \" \".join(r[24:].split(\"] \")[1:]) )\n",
    "    del raw[0]\n",
    "    \n",
    "    start = raw[ raw[\"logtext\"].str.contains(\"Request to load.*AntInterferometryController\", regex=True) ]\n",
    "    end = raw[ raw[\"logtext\"].str.contains(\"AntInterferometryController: DESTROYING -> DEFUNCT\", regex=False) ]\n",
    "    ant_obs=pd.DataFrame( { 'start': start[\"@timestamp\"].values, 'end': end[\"@timestamp\"].values })\n",
    "    \n",
    "    obs_logs = []\n",
    "    for i, r in ant_obs.iterrows():\n",
    "        obs_logs.append( raw[ raw[\"@timestamp\"] >= r[\"start\"] ][ raw[\"@timestamp\"] <= r[\"end\"] ] )\n",
    "    \n",
    "    return obs_logs"
   ]
  },
  {
   "cell_type": "code",
   "execution_count": 259,
   "metadata": {},
   "outputs": [
    {
     "name": "stdout",
     "output_type": "stream",
     "text": [
      "At ['2017-07-01T21:02:13.979000000'] there are 18 logs\n",
      "At ['2017-07-01T21:03:21.631000000'] there are 19 logs\n",
      "At ['2017-07-01T21:20:08.150000000'] there are 41 logs\n",
      "At ['2017-07-01T21:23:26.907000000'] there are 341 logs\n",
      "At ['2017-07-01T21:37:25.567000000'] there are 314 logs\n",
      "At ['2017-07-01T21:55:11.232000000'] there are 314 logs\n",
      "At ['2017-07-01T22:08:47.676000000'] there are 319 logs\n"
     ]
    },
    {
     "name": "stderr",
     "output_type": "stream",
     "text": [
      "/Users/jgil/logdelay/venv/lib/python3.7/site-packages/ipykernel_launcher.py:21: UserWarning: Boolean Series key will be reindexed to match DataFrame index.\n"
     ]
    }
   ],
   "source": [
    "for logs in get_alma_logs(\"../../data/raw/alma/da41-acsStartContainer_cppContainer_2017-07-01_20.06.49.894\"):\n",
    "    print ( \"At %s there are %s logs\" % (logs[[\"@timestamp\"]].values[0], len(logs)) )"
   ]
  },
  {
   "cell_type": "code",
   "execution_count": null,
   "metadata": {},
   "outputs": [],
   "source": []
  }
 ],
 "metadata": {
  "kernelspec": {
   "display_name": "Python 3",
   "language": "python",
   "name": "python3"
  },
  "language_info": {
   "codemirror_mode": {
    "name": "ipython",
    "version": 3
   },
   "file_extension": ".py",
   "mimetype": "text/x-python",
   "name": "python",
   "nbconvert_exporter": "python",
   "pygments_lexer": "ipython3",
   "version": "3.7.5"
  }
 },
 "nbformat": 4,
 "nbformat_minor": 4
}
