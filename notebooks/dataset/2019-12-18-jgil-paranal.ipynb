{
 "cells": [
  {
   "cell_type": "markdown",
   "metadata": {},
   "source": [
    "# Paranal Dataset"
   ]
  },
  {
   "cell_type": "markdown",
   "metadata": {},
   "source": [
    "The raw data coming from Paranal are available at:"
   ]
  },
  {
   "cell_type": "code",
   "execution_count": 4,
   "metadata": {},
   "outputs": [
    {
     "name": "stdout",
     "output_type": "stream",
     "text": [
      "GRAVITY-2018-12-30T00:33:40.369Z.AT3.csv\n",
      "GRAVITY-2018-12-30T00:33:40.369Z.AT4.csv\n",
      "GRAVITY-2018-12-30T00:33:40.369Z.OBS.csv\n",
      "GRAVITY-2018-12-30T00:37:09.554Z.AT1.csv\n",
      "GRAVITY-2018-12-30T00:37:09.554Z.AT2.csv\n",
      "GRAVITY-2018-12-30T00:37:09.554Z.AT3.csv\n",
      "GRAVITY-2018-12-30T00:37:09.554Z.AT4.csv\n",
      "GRAVITY-2018-12-30T00:37:09.554Z.OBS.csv\n",
      "GRAVITY-countlogs.csv\n",
      "GRAVITY-observations-2018.12.csv\n"
     ]
    }
   ],
   "source": [
    "!ls ../../data/raw/paranal | tail"
   ]
  },
  {
   "cell_type": "code",
   "execution_count": 9,
   "metadata": {},
   "outputs": [],
   "source": [
    "import pandas as pd\n",
    "countlogs=pd.read_csv(\"../../data/raw/paranal/GRAVITY-countlogs.csv\")"
   ]
  },
  {
   "cell_type": "code",
   "execution_count": 11,
   "metadata": {},
   "outputs": [
    {
     "data": {
      "text/html": [
       "<div>\n",
       "<style scoped>\n",
       "    .dataframe tbody tr th:only-of-type {\n",
       "        vertical-align: middle;\n",
       "    }\n",
       "\n",
       "    .dataframe tbody tr th {\n",
       "        vertical-align: top;\n",
       "    }\n",
       "\n",
       "    .dataframe thead th {\n",
       "        text-align: right;\n",
       "    }\n",
       "</style>\n",
       "<table border=\"1\" class=\"dataframe\">\n",
       "  <thead>\n",
       "    <tr style=\"text-align: right;\">\n",
       "      <th></th>\n",
       "      <th>START</th>\n",
       "      <th>END</th>\n",
       "      <th>AT1</th>\n",
       "      <th>AT2</th>\n",
       "      <th>AT3</th>\n",
       "      <th>AT4</th>\n",
       "      <th>OBS</th>\n",
       "    </tr>\n",
       "  </thead>\n",
       "  <tbody>\n",
       "    <tr>\n",
       "      <th>0</th>\n",
       "      <td>2018-12-15T23:55:02.289Z</td>\n",
       "      <td>2018-12-16T00:02:22.378Z</td>\n",
       "      <td>449</td>\n",
       "      <td>405</td>\n",
       "      <td>460</td>\n",
       "      <td>321</td>\n",
       "      <td>397</td>\n",
       "    </tr>\n",
       "    <tr>\n",
       "      <th>1</th>\n",
       "      <td>2018-12-16T00:02:45.108Z</td>\n",
       "      <td>2018-12-16T00:48:52.275Z</td>\n",
       "      <td>1341</td>\n",
       "      <td>1043</td>\n",
       "      <td>1405</td>\n",
       "      <td>1377</td>\n",
       "      <td>1878</td>\n",
       "    </tr>\n",
       "    <tr>\n",
       "      <th>2</th>\n",
       "      <td>2018-12-16T00:50:01.619Z</td>\n",
       "      <td>2018-12-16T01:08:56.031Z</td>\n",
       "      <td>579</td>\n",
       "      <td>360</td>\n",
       "      <td>585</td>\n",
       "      <td>528</td>\n",
       "      <td>687</td>\n",
       "    </tr>\n",
       "    <tr>\n",
       "      <th>3</th>\n",
       "      <td>2018-12-16T01:09:09.373Z</td>\n",
       "      <td>2018-12-16T01:29:30.306Z</td>\n",
       "      <td>504</td>\n",
       "      <td>436</td>\n",
       "      <td>604</td>\n",
       "      <td>541</td>\n",
       "      <td>735</td>\n",
       "    </tr>\n",
       "    <tr>\n",
       "      <th>4</th>\n",
       "      <td>2018-12-16T02:35:09.945Z</td>\n",
       "      <td>2018-12-16T02:46:08.156Z</td>\n",
       "      <td>414</td>\n",
       "      <td>280</td>\n",
       "      <td>621</td>\n",
       "      <td>307</td>\n",
       "      <td>512</td>\n",
       "    </tr>\n",
       "    <tr>\n",
       "      <th>...</th>\n",
       "      <td>...</td>\n",
       "      <td>...</td>\n",
       "      <td>...</td>\n",
       "      <td>...</td>\n",
       "      <td>...</td>\n",
       "      <td>...</td>\n",
       "      <td>...</td>\n",
       "    </tr>\n",
       "    <tr>\n",
       "      <th>137</th>\n",
       "      <td>2018-12-28T03:47:28.569Z</td>\n",
       "      <td>2018-12-28T03:57:11.779Z</td>\n",
       "      <td>933</td>\n",
       "      <td>330</td>\n",
       "      <td>350</td>\n",
       "      <td>339</td>\n",
       "      <td>992</td>\n",
       "    </tr>\n",
       "    <tr>\n",
       "      <th>138</th>\n",
       "      <td>2018-12-28T03:59:26.125Z</td>\n",
       "      <td>2018-12-28T04:19:51.997Z</td>\n",
       "      <td>1263</td>\n",
       "      <td>454</td>\n",
       "      <td>484</td>\n",
       "      <td>511</td>\n",
       "      <td>992</td>\n",
       "    </tr>\n",
       "    <tr>\n",
       "      <th>139</th>\n",
       "      <td>2018-12-28T04:20:09.711Z</td>\n",
       "      <td>2018-12-28T04:28:16.507Z</td>\n",
       "      <td>927</td>\n",
       "      <td>301</td>\n",
       "      <td>323</td>\n",
       "      <td>325</td>\n",
       "      <td>929</td>\n",
       "    </tr>\n",
       "    <tr>\n",
       "      <th>140</th>\n",
       "      <td>2018-12-30T00:33:40.369Z</td>\n",
       "      <td>2018-12-30T00:37:05.073Z</td>\n",
       "      <td>284</td>\n",
       "      <td>277</td>\n",
       "      <td>292</td>\n",
       "      <td>267</td>\n",
       "      <td>390</td>\n",
       "    </tr>\n",
       "    <tr>\n",
       "      <th>141</th>\n",
       "      <td>2018-12-30T00:37:09.554Z</td>\n",
       "      <td>2018-12-30T01:37:23.552Z</td>\n",
       "      <td>681</td>\n",
       "      <td>732</td>\n",
       "      <td>880</td>\n",
       "      <td>1023</td>\n",
       "      <td>698</td>\n",
       "    </tr>\n",
       "  </tbody>\n",
       "</table>\n",
       "<p>142 rows × 7 columns</p>\n",
       "</div>"
      ],
      "text/plain": [
       "                        START                       END   AT1   AT2   AT3  \\\n",
       "0    2018-12-15T23:55:02.289Z  2018-12-16T00:02:22.378Z   449   405   460   \n",
       "1    2018-12-16T00:02:45.108Z  2018-12-16T00:48:52.275Z  1341  1043  1405   \n",
       "2    2018-12-16T00:50:01.619Z  2018-12-16T01:08:56.031Z   579   360   585   \n",
       "3    2018-12-16T01:09:09.373Z  2018-12-16T01:29:30.306Z   504   436   604   \n",
       "4    2018-12-16T02:35:09.945Z  2018-12-16T02:46:08.156Z   414   280   621   \n",
       "..                        ...                       ...   ...   ...   ...   \n",
       "137  2018-12-28T03:47:28.569Z  2018-12-28T03:57:11.779Z   933   330   350   \n",
       "138  2018-12-28T03:59:26.125Z  2018-12-28T04:19:51.997Z  1263   454   484   \n",
       "139  2018-12-28T04:20:09.711Z  2018-12-28T04:28:16.507Z   927   301   323   \n",
       "140  2018-12-30T00:33:40.369Z  2018-12-30T00:37:05.073Z   284   277   292   \n",
       "141  2018-12-30T00:37:09.554Z  2018-12-30T01:37:23.552Z   681   732   880   \n",
       "\n",
       "      AT4   OBS  \n",
       "0     321   397  \n",
       "1    1377  1878  \n",
       "2     528   687  \n",
       "3     541   735  \n",
       "4     307   512  \n",
       "..    ...   ...  \n",
       "137   339   992  \n",
       "138   511   992  \n",
       "139   325   929  \n",
       "140   267   390  \n",
       "141  1023   698  \n",
       "\n",
       "[142 rows x 7 columns]"
      ]
     },
     "execution_count": 11,
     "metadata": {},
     "output_type": "execute_result"
    }
   ],
   "source": [
    "countlogs"
   ]
  },
  {
   "cell_type": "code",
   "execution_count": 16,
   "metadata": {},
   "outputs": [
    {
     "data": {
      "text/plain": [
       "AT1    161742\n",
       "AT2     55885\n",
       "AT3     72211\n",
       "AT4     58791\n",
       "OBS    125800\n",
       "dtype: int64"
      ]
     },
     "execution_count": 16,
     "metadata": {},
     "output_type": "execute_result"
    }
   ],
   "source": [
    "countlogs[[\"AT1\", \"AT2\", \"AT3\", \"AT4\", \"OBS\"]].sum()"
   ]
  },
  {
   "cell_type": "code",
   "execution_count": 17,
   "metadata": {},
   "outputs": [
    {
     "data": {
      "text/plain": [
       "474429"
      ]
     },
     "execution_count": 17,
     "metadata": {},
     "output_type": "execute_result"
    }
   ],
   "source": [
    "countlogs[[\"AT1\", \"AT2\", \"AT3\", \"AT4\", \"OBS\"]].sum().sum()"
   ]
  },
  {
   "cell_type": "code",
   "execution_count": null,
   "metadata": {},
   "outputs": [],
   "source": []
  }
 ],
 "metadata": {
  "kernelspec": {
   "display_name": "Python 3",
   "language": "python",
   "name": "python3"
  },
  "language_info": {
   "codemirror_mode": {
    "name": "ipython",
    "version": 3
   },
   "file_extension": ".py",
   "mimetype": "text/x-python",
   "name": "python",
   "nbconvert_exporter": "python",
   "pygments_lexer": "ipython3",
   "version": "3.7.5"
  }
 },
 "nbformat": 4,
 "nbformat_minor": 4
}
