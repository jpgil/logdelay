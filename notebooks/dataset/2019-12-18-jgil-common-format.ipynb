{
 "cells": [
  {
   "cell_type": "markdown",
   "metadata": {},
   "source": [
    "# Common format for datasets"
   ]
  },
  {
   "cell_type": "code",
   "execution_count": 45,
   "metadata": {},
   "outputs": [],
   "source": [
    "import pandas as pd\n",
    "interim=\"../../data/interim/\""
   ]
  },
  {
   "cell_type": "markdown",
   "metadata": {},
   "source": [
    "A **sample** contains all the events from the same high level task, labeled with its origin to  The method to use the delays in logs requires a common input. The format chosen was a *pandas dataframe* with the following columns:\n",
    "\n",
    "| origin   | @timestamp | source | logtext |\n",
    "|----------|---------------------------|--------|---------------------------------------------|\n",
    "| [Main Origin] | [YYYY-MM-DD HH:mm:ss.mmm] | [optional source] | [text coming from the event log] |\n",
    "\n",
    "This format allows to focus on the data itself. As a shortcut , the origin is inferred from the filename as shown below."
   ]
  },
  {
   "cell_type": "markdown",
   "metadata": {},
   "source": [
    "## Interim files"
   ]
  },
  {
   "cell_type": "markdown",
   "metadata": {},
   "source": [
    "All the preapred datasets for the algorithm are stored in **/data/interim/[Observatory]** and already have the structure shown above."
   ]
  },
  {
   "cell_type": "markdown",
   "metadata": {},
   "source": [
    "For ALMA logs, the dataset was already extracted using this format"
   ]
  },
  {
   "cell_type": "code",
   "execution_count": 46,
   "metadata": {},
   "outputs": [
    {
     "name": "stdout",
     "output_type": "stream",
     "text": [
      "2017-07-01T19:07:07.456-da62-AntObs.csv\n",
      "2017-07-01T19:07:07.458-da44-AntObs.csv\n",
      "2017-07-01T19:14:51.172-da44-AntObs.csv\n",
      "2017-07-01T19:14:51.173-da62-AntObs.csv\n",
      "2017-07-01T21:02:13.979-da41-AntObs.csv\n"
     ]
    }
   ],
   "source": [
    "!ls $interim/ALMA | head -n 5"
   ]
  },
  {
   "cell_type": "code",
   "execution_count": 47,
   "metadata": {},
   "outputs": [
    {
     "data": {
      "text/html": [
       "<div>\n",
       "<style scoped>\n",
       "    .dataframe tbody tr th:only-of-type {\n",
       "        vertical-align: middle;\n",
       "    }\n",
       "\n",
       "    .dataframe tbody tr th {\n",
       "        vertical-align: top;\n",
       "    }\n",
       "\n",
       "    .dataframe thead th {\n",
       "        text-align: right;\n",
       "    }\n",
       "</style>\n",
       "<table border=\"1\" class=\"dataframe\">\n",
       "  <thead>\n",
       "    <tr style=\"text-align: right;\">\n",
       "      <th></th>\n",
       "      <th>origin</th>\n",
       "      <th>@timestamp</th>\n",
       "      <th>source</th>\n",
       "      <th>logtext</th>\n",
       "    </tr>\n",
       "  </thead>\n",
       "  <tbody>\n",
       "    <tr>\n",
       "      <th>0</th>\n",
       "      <td>da62</td>\n",
       "      <td>2017-07-01 19:07:07.456</td>\n",
       "      <td>maci::LibraryManager - maci::LibraryManager::load</td>\n",
       "      <td>Request to load 'AntInterferometryController'.</td>\n",
       "    </tr>\n",
       "    <tr>\n",
       "      <th>1</th>\n",
       "      <td>da62</td>\n",
       "      <td>2017-07-01 19:07:07.458</td>\n",
       "      <td>maci::LibraryManager - maci::LibraryManager::load</td>\n",
       "      <td>Full path '/alma/ACS-DEC2016/ACSSW/lib/libAntI...</td>\n",
       "    </tr>\n",
       "    <tr>\n",
       "      <th>2</th>\n",
       "      <td>da62</td>\n",
       "      <td>2017-07-01 19:07:07.574</td>\n",
       "      <td>maci::LibraryManager - maci::LibraryManager::load</td>\n",
       "      <td>Loaded '/alma/ACS-DEC2016/ACSSW/lib/libAntInte...</td>\n",
       "    </tr>\n",
       "    <tr>\n",
       "      <th>3</th>\n",
       "      <td>da62</td>\n",
       "      <td>2017-07-01 19:07:07.575</td>\n",
       "      <td>/cppContainer-GL -</td>\n",
       "      <td>Switched state of component CONTROL/DA62/AntIn...</td>\n",
       "    </tr>\n",
       "    <tr>\n",
       "      <th>4</th>\n",
       "      <td>da62</td>\n",
       "      <td>2017-07-01 19:07:07.575</td>\n",
       "      <td>/cppContainer-GL -</td>\n",
       "      <td>Switched state of component CONTROL/DA62/AntIn...</td>\n",
       "    </tr>\n",
       "  </tbody>\n",
       "</table>\n",
       "</div>"
      ],
      "text/plain": [
       "  origin               @timestamp  \\\n",
       "0   da62  2017-07-01 19:07:07.456   \n",
       "1   da62  2017-07-01 19:07:07.458   \n",
       "2   da62  2017-07-01 19:07:07.574   \n",
       "3   da62  2017-07-01 19:07:07.575   \n",
       "4   da62  2017-07-01 19:07:07.575   \n",
       "\n",
       "                                              source  \\\n",
       "0  maci::LibraryManager - maci::LibraryManager::load   \n",
       "1  maci::LibraryManager - maci::LibraryManager::load   \n",
       "2  maci::LibraryManager - maci::LibraryManager::load   \n",
       "3                                /cppContainer-GL -    \n",
       "4                                /cppContainer-GL -    \n",
       "\n",
       "                                             logtext  \n",
       "0     Request to load 'AntInterferometryController'.  \n",
       "1  Full path '/alma/ACS-DEC2016/ACSSW/lib/libAntI...  \n",
       "2  Loaded '/alma/ACS-DEC2016/ACSSW/lib/libAntInte...  \n",
       "3  Switched state of component CONTROL/DA62/AntIn...  \n",
       "4  Switched state of component CONTROL/DA62/AntIn...  "
      ]
     },
     "execution_count": 47,
     "metadata": {},
     "output_type": "execute_result"
    }
   ],
   "source": [
    "data=pd.read_csv(interim +'ALMA/2017-07-01T19:07:07.456-da62-AntObs.csv').head()\n",
    "data['origin'] = \"da62\"\n",
    "data[['origin', '@timestamp', 'source', 'logtext']]"
   ]
  },
  {
   "cell_type": "markdown",
   "metadata": {},
   "source": [
    "In the case of Paranal we have raw logs for ATs and GRAVITY observations that needs to be transformed into the format shown above:"
   ]
  },
  {
   "cell_type": "code",
   "execution_count": 48,
   "metadata": {},
   "outputs": [
    {
     "name": "stdout",
     "output_type": "stream",
     "text": [
      "GRAVITY-2018-12-15T23:55:02.289Z.AT1.csv\n",
      "GRAVITY-2018-12-15T23:55:02.289Z.AT2.csv\n",
      "GRAVITY-2018-12-15T23:55:02.289Z.AT3.csv\n",
      "GRAVITY-2018-12-15T23:55:02.289Z.AT4.csv\n",
      "GRAVITY-2018-12-15T23:55:02.289Z.OBS.csv\n"
     ]
    }
   ],
   "source": [
    "!ls $interim/PARANAL | head -n 5"
   ]
  },
  {
   "cell_type": "code",
   "execution_count": 49,
   "metadata": {},
   "outputs": [
    {
     "data": {
      "text/html": [
       "<div>\n",
       "<style scoped>\n",
       "    .dataframe tbody tr th:only-of-type {\n",
       "        vertical-align: middle;\n",
       "    }\n",
       "\n",
       "    .dataframe tbody tr th {\n",
       "        vertical-align: top;\n",
       "    }\n",
       "\n",
       "    .dataframe thead th {\n",
       "        text-align: right;\n",
       "    }\n",
       "</style>\n",
       "<table border=\"1\" class=\"dataframe\">\n",
       "  <thead>\n",
       "    <tr style=\"text-align: right;\">\n",
       "      <th></th>\n",
       "      <th>origin</th>\n",
       "      <th>@timestamp</th>\n",
       "      <th>source</th>\n",
       "      <th>logtext</th>\n",
       "    </tr>\n",
       "  </thead>\n",
       "  <tbody>\n",
       "    <tr>\n",
       "      <th>0</th>\n",
       "      <td>AT1</td>\n",
       "      <td>2018-12-15T23:55:06.244Z</td>\n",
       "      <td>wat1tcs/atifControl</td>\n",
       "      <td>TIF   : Received command: SETGVCM, Buffer: 0,0...</td>\n",
       "    </tr>\n",
       "    <tr>\n",
       "      <th>1</th>\n",
       "      <td>AT1</td>\n",
       "      <td>2018-12-15T23:55:06.246Z</td>\n",
       "      <td>wat1tcs/atifControl</td>\n",
       "      <td>TIF   : Succesfully completed command: SETGVCM...</td>\n",
       "    </tr>\n",
       "    <tr>\n",
       "      <th>2</th>\n",
       "      <td>AT1</td>\n",
       "      <td>2018-12-15T23:55:09.287Z</td>\n",
       "      <td>wat1tcs/atifControl</td>\n",
       "      <td>TIF   : Received command: SETGFSM, Buffer: 0,0...</td>\n",
       "    </tr>\n",
       "    <tr>\n",
       "      <th>3</th>\n",
       "      <td>AT1</td>\n",
       "      <td>2018-12-15T23:55:09.289Z</td>\n",
       "      <td>wat1tcs/atifControl</td>\n",
       "      <td>TIF   : Succesfully completed command: SETGFSM...</td>\n",
       "    </tr>\n",
       "    <tr>\n",
       "      <th>4</th>\n",
       "      <td>AT1</td>\n",
       "      <td>2018-12-15T23:55:12.355Z</td>\n",
       "      <td>wat1tcs/prsControl</td>\n",
       "      <td>PRESET: Received command: CLRSTP, Buffer:</td>\n",
       "    </tr>\n",
       "  </tbody>\n",
       "</table>\n",
       "</div>"
      ],
      "text/plain": [
       "  origin                @timestamp               source  \\\n",
       "0    AT1  2018-12-15T23:55:06.244Z  wat1tcs/atifControl   \n",
       "1    AT1  2018-12-15T23:55:06.246Z  wat1tcs/atifControl   \n",
       "2    AT1  2018-12-15T23:55:09.287Z  wat1tcs/atifControl   \n",
       "3    AT1  2018-12-15T23:55:09.289Z  wat1tcs/atifControl   \n",
       "4    AT1  2018-12-15T23:55:12.355Z   wat1tcs/prsControl   \n",
       "\n",
       "                                             logtext  \n",
       "0  TIF   : Received command: SETGVCM, Buffer: 0,0...  \n",
       "1  TIF   : Succesfully completed command: SETGVCM...  \n",
       "2  TIF   : Received command: SETGFSM, Buffer: 0,0...  \n",
       "3  TIF   : Succesfully completed command: SETGFSM...  \n",
       "4          PRESET: Received command: CLRSTP, Buffer:  "
      ]
     },
     "execution_count": 49,
     "metadata": {},
     "output_type": "execute_result"
    }
   ],
   "source": [
    "data=pd.read_csv(interim +'PARANAL/GRAVITY-2018-12-15T23:55:02.289Z.AT1.csv').head()\n",
    "data['origin'] = \"AT1\"\n",
    "data[['origin', '@timestamp', 'source', 'logtext']]"
   ]
  },
  {
   "cell_type": "code",
   "execution_count": null,
   "metadata": {},
   "outputs": [],
   "source": []
  }
 ],
 "metadata": {
  "kernelspec": {
   "display_name": "Python 3",
   "language": "python",
   "name": "python3"
  },
  "language_info": {
   "codemirror_mode": {
    "name": "ipython",
    "version": 3
   },
   "file_extension": ".py",
   "mimetype": "text/x-python",
   "name": "python",
   "nbconvert_exporter": "python",
   "pygments_lexer": "ipython3",
   "version": "3.7.5"
  }
 },
 "nbformat": 4,
 "nbformat_minor": 4
}
