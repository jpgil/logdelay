{
 "cells": [
  {
   "cell_type": "markdown",
   "id": "certain-demographic",
   "metadata": {},
   "source": [
    "# Examples"
   ]
  },
  {
   "cell_type": "code",
   "execution_count": 1,
   "id": "drawn-anthropology",
   "metadata": {},
   "outputs": [],
   "source": [
    "import sys\n",
    "sys.path.append(\"../../src\")\n",
    "%reload_ext autoreload\n",
    "%autoreload 2\n",
    "\n",
    "from theory202105d import *"
   ]
  },
  {
   "cell_type": "markdown",
   "id": "unlike-agreement",
   "metadata": {},
   "source": [
    "### Pair and Adjacency matrixes\n",
    "### Serial Traces\n",
    "### Concurrent Traces\n",
    "### Equivalent Traces\n",
    "### Serial base of a concurrent trace\n",
    "### Serializacion of a concurrent trace\n",
    "## For another notebooks\n",
    "### Random serial traces\n",
    "### Random concurrent traces\n",
    "### Measure evolution of pair graph"
   ]
  },
  {
   "cell_type": "code",
   "execution_count": null,
   "id": "intellectual-asbestos",
   "metadata": {},
   "outputs": [],
   "source": []
  }
 ],
 "metadata": {
  "kernelspec": {
   "display_name": "Python 3",
   "language": "python",
   "name": "python3"
  },
  "language_info": {
   "codemirror_mode": {
    "name": "ipython",
    "version": 3
   },
   "file_extension": ".py",
   "mimetype": "text/x-python",
   "name": "python",
   "nbconvert_exporter": "python",
   "pygments_lexer": "ipython3",
   "version": "3.9.1"
  }
 },
 "nbformat": 4,
 "nbformat_minor": 5
}
