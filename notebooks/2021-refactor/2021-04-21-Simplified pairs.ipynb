{
 "cells": [
  {
   "cell_type": "markdown",
   "id": "polar-exclusion",
   "metadata": {},
   "source": [
    "# Pairs in a trace\n",
    "\n",
    "Progress done between 2021-04-17 and 2021-04-22 by jgil@eso.org\n",
    "\n",
    "## Some definitions\n",
    "\n",
    "An *alphabet* $\\Sigma$ is any finite set, and its elements are called *symbols*. A *trace* $T$ is any concatenation of symbols in $\\Sigma$, written as $T \\in \\Sigma^{*}$. The symbols in $\\Sigma$ that are also in a trace $T$ are written as $\\Sigma(T)$"
   ]
  },
  {
   "cell_type": "markdown",
   "id": "greenhouse-timeline",
   "metadata": {},
   "source": [
    "## Notion of a pair\n",
    "\n",
    "In any trace we can precisely determine which of them appears in pairs by rewritting the trace as repetitions. For example in $T=ababab$, $T$ can be written as a repetition of the subtrace $ab$: $T= (ab)(ab)(ab) = 3 \\times (ab)$. Note that if any other symbols exists in the trace, the pairing condition of $ab$ remains, for example $(ab)$ is paired in both $T_1=ababab$ and $T_2=abXabYab$.\n",
    "\n",
    "Let be the set $\\Sigma$ an alphabet, $T \\in \\Sigma^{*}$ a trace, and $a,b \\in \\Sigma; a \\neq b$ a disjoint ordered pair. We say that $(a,b)$ is **paired in $T$** if exists $n \\ge 0$ such that $T \\cap \\{a,b\\} = n \\times (ab)$, i.e. the symbols in $T$ restricted to $a$ and $b$ can be written as a repetition of the trace $(ab)$, possibly with $n=0$.\n",
    "\n"
   ]
  },
  {
   "cell_type": "markdown",
   "id": "opening-genesis",
   "metadata": {},
   "source": [
    "## Pair-cardinality\n",
    "\n",
    "The pair-cardinality captures the repetitions of $ab$ in $T$. \n",
    "\n",
    "**Definition**: Given $T \\in \\Sigma^{*}$ and $a,b \\in \\Sigma$ we define the function $n_T(ab)$ as:\n",
    "\n",
    "$$ \n",
    "\\begin{align}\n",
    "n_T: & \\Sigma^2 \\rightarrow \\mathbb{N} \\cup \\{- \\infty \\} \\\\\n",
    "n_T(ab) & = \\left\\{ \n",
    "  \\begin{array}{rcl} n & \\text{ if } a \\neq b \\text{ and } T \\cap \\{a,b\\} = n \\times (ab)   \\\\ \n",
    "  -\\infty & \\text{ otherwise } \\end{array}\\right. \n",
    "\\end{align}\n",
    "$$\n",
    "\n",
    "Now we can define more precisely the notion of pairs. \n",
    "\n",
    "**Definition**: A pair $(a,b)$ is **paired in T** if $n_T(ab) \\ge 0$, and $(a,b)$ is **unpaired in T** if $n_T(ab) \\lt 0$.\n",
    "\n",
    "**Definition**: The set of all pairs in $T$ is defined as $\\mathcal{P}_T = \\{ (ab) | (a,b) \\text{ is paired in } T \\}$"
   ]
  },
  {
   "cell_type": "markdown",
   "id": "champion-calibration",
   "metadata": {},
   "source": [
    "### Examples"
   ]
  },
  {
   "cell_type": "code",
   "execution_count": 1,
   "id": "deadly-edmonton",
   "metadata": {},
   "outputs": [],
   "source": [
    "def pair_cardinality(x, y, T):\n",
    "    '''\n",
    "    Returns the cardinality if (x,y) is pair in T, otherwise it returns -1\n",
    "    '''\n",
    "    if x==y:\n",
    "        return -1\n",
    "    intersection=[a for a in T if a==x or a==y ]\n",
    "    cardinality=int(len(intersection) / 2)\n",
    "    return cardinality if [x,y]*cardinality==intersection else -1"
   ]
  },
  {
   "cell_type": "markdown",
   "id": "violent-diabetes",
   "metadata": {},
   "source": [
    "Let be $\\Sigma = \\{a,b,x,y,m,n\\}$ and $T=axbabyabyx$."
   ]
  },
  {
   "cell_type": "code",
   "execution_count": 2,
   "id": "interim-pound",
   "metadata": {},
   "outputs": [],
   "source": [
    "T='axbabyabyx'"
   ]
  },
  {
   "cell_type": "markdown",
   "id": "theoretical-master",
   "metadata": {},
   "source": [
    "$(x,y)$ is unpaired in T because $T \\cap \\{x,y\\} = xyyx$ cannot be written as repetitions of $(xy)$. Its cardinality $n_T(xy) = - \\infty $"
   ]
  },
  {
   "cell_type": "code",
   "execution_count": 3,
   "id": "nervous-membership",
   "metadata": {},
   "outputs": [
    {
     "data": {
      "text/plain": [
       "['x', 'y', 'y', 'x']"
      ]
     },
     "execution_count": 3,
     "metadata": {},
     "output_type": "execute_result"
    }
   ],
   "source": [
    "[i for i in T if i in ('x', 'y')]"
   ]
  },
  {
   "cell_type": "code",
   "execution_count": 4,
   "id": "atomic-board",
   "metadata": {},
   "outputs": [
    {
     "data": {
      "text/plain": [
       "-1"
      ]
     },
     "execution_count": 4,
     "metadata": {},
     "output_type": "execute_result"
    }
   ],
   "source": [
    "pair_cardinality('x', 'y', T)"
   ]
  },
  {
   "cell_type": "markdown",
   "id": "close-movie",
   "metadata": {},
   "source": [
    "The pair $(a,b)$ is paired in $T$ and $n_T(ab)=3$, because $T \\cap \\{a,b\\} = ababab = 3 \\times (ab)$. "
   ]
  },
  {
   "cell_type": "code",
   "execution_count": 5,
   "id": "armed-alabama",
   "metadata": {},
   "outputs": [
    {
     "data": {
      "text/plain": [
       "['a', 'b', 'a', 'b', 'a', 'b']"
      ]
     },
     "execution_count": 5,
     "metadata": {},
     "output_type": "execute_result"
    }
   ],
   "source": [
    "[i for i in T if i in ('a', 'b')]"
   ]
  },
  {
   "cell_type": "code",
   "execution_count": 6,
   "id": "muslim-tension",
   "metadata": {},
   "outputs": [
    {
     "data": {
      "text/plain": [
       "3"
      ]
     },
     "execution_count": 6,
     "metadata": {},
     "output_type": "execute_result"
    }
   ],
   "source": [
    "pair_cardinality('a', 'b', T)"
   ]
  },
  {
   "cell_type": "markdown",
   "id": "dental-audit",
   "metadata": {},
   "source": [
    "## Properties of pairs"
   ]
  },
  {
   "cell_type": "markdown",
   "id": "tight-incident",
   "metadata": {},
   "source": [
    "**Property**: If $(a,b)$ is paired in $T$ then it is easy to prove that $(b,a)$ is unpaired in $T$ because there not exists any $n$ that verifies $T \\cap \\{b,a\\} = n \\times (ba)$"
   ]
  },
  {
   "cell_type": "code",
   "execution_count": 7,
   "id": "manual-objective",
   "metadata": {},
   "outputs": [
    {
     "data": {
      "text/plain": [
       "-1"
      ]
     },
     "execution_count": 7,
     "metadata": {},
     "output_type": "execute_result"
    }
   ],
   "source": [
    "pair_cardinality('b', 'a', T)"
   ]
  },
  {
   "cell_type": "markdown",
   "id": "honey-infrared",
   "metadata": {},
   "source": [
    "**Property**: If both $m$, $n$ are not in $\\Sigma(T)$, then $T \\cap \\{m,n\\} = 0 \\times (mn)$ and its cardinality is equal to 0 which means that there is no evidence that $(m,n)$ be unpaired in T."
   ]
  },
  {
   "cell_type": "code",
   "execution_count": 8,
   "id": "together-feedback",
   "metadata": {},
   "outputs": [
    {
     "data": {
      "text/plain": [
       "0"
      ]
     },
     "execution_count": 8,
     "metadata": {},
     "output_type": "execute_result"
    }
   ],
   "source": [
    "pair_cardinality('m', 'n', T)"
   ]
  },
  {
   "cell_type": "markdown",
   "id": "equal-webster",
   "metadata": {},
   "source": [
    "**Property**: If $a \\in \\Sigma(T); x \\in \\Sigma \\setminus \\Sigma(T)$ i.e. the first symbol is in $T$ and the second not in $T$, then both $(a,x)$ and $(x,a)$ are unpaired in $T$."
   ]
  },
  {
   "cell_type": "code",
   "execution_count": 9,
   "id": "sized-princess",
   "metadata": {},
   "outputs": [
    {
     "data": {
      "text/plain": [
       "-1"
      ]
     },
     "execution_count": 9,
     "metadata": {},
     "output_type": "execute_result"
    }
   ],
   "source": [
    "pair_cardinality('a', 'm', T)"
   ]
  },
  {
   "cell_type": "code",
   "execution_count": 10,
   "id": "norwegian-february",
   "metadata": {},
   "outputs": [
    {
     "data": {
      "text/plain": [
       "-1"
      ]
     },
     "execution_count": 10,
     "metadata": {},
     "output_type": "execute_result"
    }
   ],
   "source": [
    "\n",
    "pair_cardinality('m', 'a', T)"
   ]
  },
  {
   "cell_type": "markdown",
   "id": "leading-essex",
   "metadata": {},
   "source": [
    "## All pairs in T"
   ]
  },
  {
   "cell_type": "markdown",
   "id": "changing-regard",
   "metadata": {},
   "source": [
    "Strategy: $\\forall a,b \\in \\Sigma(T); a \\neq b$ test if $n_T(ab) \\ge 0$"
   ]
  },
  {
   "cell_type": "code",
   "execution_count": 11,
   "id": "caroline-daily",
   "metadata": {},
   "outputs": [],
   "source": [
    "T='axbabyabyx'"
   ]
  },
  {
   "cell_type": "code",
   "execution_count": 12,
   "id": "naughty-reference",
   "metadata": {},
   "outputs": [
    {
     "data": {
      "text/plain": [
       "['a', 'b', 'y', 'x']"
      ]
     },
     "execution_count": 12,
     "metadata": {},
     "output_type": "execute_result"
    }
   ],
   "source": [
    "list( set( [x for x in T] ) )"
   ]
  },
  {
   "cell_type": "code",
   "execution_count": 13,
   "id": "pressing-miller",
   "metadata": {},
   "outputs": [],
   "source": [
    "import pandas as pd"
   ]
  },
  {
   "cell_type": "code",
   "execution_count": 14,
   "id": "stopped-multiple",
   "metadata": {},
   "outputs": [],
   "source": [
    "def pairs_in_trace(T):\n",
    "    Pairs_in_T = {}\n",
    "\n",
    "    # The alphabet in T\n",
    "    Sigma_T = list( set( [x for x in T] ) )\n",
    "    for i in range( len(Sigma_T) -1 ):\n",
    "        a = Sigma_T[i]\n",
    "        # By def (a,a) is not paired in T\n",
    "        Pairs_in_T[ (a,a) ] = -1 \n",
    "        for b in Sigma_T[i+1:]:\n",
    "            Pairs_in_T[ (a,b) ] = pair_cardinality(a, b, T)\n",
    "            # asymmetric paired property: if (a,b) is paired in T the (b,a) is not\n",
    "            if Pairs_in_T[ (a,b) ]>=0:\n",
    "                Pairs_in_T[ (b,a) ] = -1  \n",
    "            else: \n",
    "                Pairs_in_T[ (b,a) ] = pair_cardinality(b, a, T)\n",
    "    return Pairs_in_T"
   ]
  },
  {
   "cell_type": "code",
   "execution_count": 15,
   "id": "following-declaration",
   "metadata": {},
   "outputs": [],
   "source": [
    "# Note that the sequence 1234 can be destroyed if a 4321 is added.\n",
    "T='123abcabc44321'"
   ]
  },
  {
   "cell_type": "code",
   "execution_count": 16,
   "id": "numerous-roman",
   "metadata": {
    "tags": []
   },
   "outputs": [
    {
     "data": {
      "text/html": [
       "<div>\n",
       "<style scoped>\n",
       "    .dataframe tbody tr th:only-of-type {\n",
       "        vertical-align: middle;\n",
       "    }\n",
       "\n",
       "    .dataframe tbody tr th {\n",
       "        vertical-align: top;\n",
       "    }\n",
       "\n",
       "    .dataframe thead th {\n",
       "        text-align: right;\n",
       "    }\n",
       "</style>\n",
       "<table border=\"1\" class=\"dataframe\">\n",
       "  <thead>\n",
       "    <tr style=\"text-align: right;\">\n",
       "      <th></th>\n",
       "      <th>bc</th>\n",
       "      <th>ac</th>\n",
       "      <th>ab</th>\n",
       "    </tr>\n",
       "  </thead>\n",
       "  <tbody>\n",
       "    <tr>\n",
       "      <th>pairs</th>\n",
       "      <td>2</td>\n",
       "      <td>2</td>\n",
       "      <td>2</td>\n",
       "    </tr>\n",
       "  </tbody>\n",
       "</table>\n",
       "</div>"
      ],
      "text/plain": [
       "       bc  ac  ab\n",
       "pairs   2   2   2"
      ]
     },
     "execution_count": 16,
     "metadata": {},
     "output_type": "execute_result"
    }
   ],
   "source": [
    "pairs = pairs_in_trace(T)\n",
    "P=pd.DataFrame.from_dict( { a[0]+a[1]:b for a,b in pairs.items() }, orient='index', columns=['pairs'] )\n",
    "\n",
    "# Show only pairs with n_T >= 0 \n",
    "P[ P['pairs'] >= 0 ].T"
   ]
  },
  {
   "cell_type": "code",
   "execution_count": 17,
   "id": "virgin-renaissance",
   "metadata": {},
   "outputs": [
    {
     "data": {
      "text/html": [
       "<div>\n",
       "<style scoped>\n",
       "    .dataframe tbody tr th:only-of-type {\n",
       "        vertical-align: middle;\n",
       "    }\n",
       "\n",
       "    .dataframe tbody tr th {\n",
       "        vertical-align: top;\n",
       "    }\n",
       "\n",
       "    .dataframe thead th {\n",
       "        text-align: right;\n",
       "    }\n",
       "</style>\n",
       "<table border=\"1\" class=\"dataframe\">\n",
       "  <thead>\n",
       "    <tr style=\"text-align: right;\">\n",
       "      <th></th>\n",
       "      <th>33</th>\n",
       "      <th>32</th>\n",
       "      <th>23</th>\n",
       "      <th>31</th>\n",
       "      <th>13</th>\n",
       "      <th>34</th>\n",
       "      <th>43</th>\n",
       "      <th>3c</th>\n",
       "      <th>c3</th>\n",
       "      <th>3b</th>\n",
       "      <th>...</th>\n",
       "      <th>4a</th>\n",
       "      <th>a4</th>\n",
       "      <th>cc</th>\n",
       "      <th>cb</th>\n",
       "      <th>bc</th>\n",
       "      <th>ca</th>\n",
       "      <th>ac</th>\n",
       "      <th>bb</th>\n",
       "      <th>ba</th>\n",
       "      <th>ab</th>\n",
       "    </tr>\n",
       "  </thead>\n",
       "  <tbody>\n",
       "    <tr>\n",
       "      <th>pairs</th>\n",
       "      <td>-1</td>\n",
       "      <td>-1</td>\n",
       "      <td>-1</td>\n",
       "      <td>-1</td>\n",
       "      <td>-1</td>\n",
       "      <td>-1</td>\n",
       "      <td>-1</td>\n",
       "      <td>-1</td>\n",
       "      <td>-1</td>\n",
       "      <td>-1</td>\n",
       "      <td>...</td>\n",
       "      <td>-1</td>\n",
       "      <td>-1</td>\n",
       "      <td>-1</td>\n",
       "      <td>-1</td>\n",
       "      <td>2</td>\n",
       "      <td>-1</td>\n",
       "      <td>2</td>\n",
       "      <td>-1</td>\n",
       "      <td>-1</td>\n",
       "      <td>2</td>\n",
       "    </tr>\n",
       "  </tbody>\n",
       "</table>\n",
       "<p>1 rows × 48 columns</p>\n",
       "</div>"
      ],
      "text/plain": [
       "       33  32  23  31  13  34  43  3c  c3  3b  ...  4a  a4  cc  cb  bc  ca  \\\n",
       "pairs  -1  -1  -1  -1  -1  -1  -1  -1  -1  -1  ...  -1  -1  -1  -1   2  -1   \n",
       "\n",
       "       ac  bb  ba  ab  \n",
       "pairs   2  -1  -1   2  \n",
       "\n",
       "[1 rows x 48 columns]"
      ]
     },
     "execution_count": 17,
     "metadata": {},
     "output_type": "execute_result"
    }
   ],
   "source": [
    "P=pairs_in_trace(T)\n",
    "\n",
    "# See how just (a,b) is pair and the rest has n_T=-1\n",
    "\n",
    "pd.DataFrame.from_dict( { a[0]+a[1]:b for a,b in P.items() }, orient='index', columns=['pairs'] ).T"
   ]
  },
  {
   "cell_type": "code",
   "execution_count": 18,
   "id": "subtle-progress",
   "metadata": {},
   "outputs": [
    {
     "data": {
      "text/html": [
       "<div>\n",
       "<style scoped>\n",
       "    .dataframe tbody tr th:only-of-type {\n",
       "        vertical-align: middle;\n",
       "    }\n",
       "\n",
       "    .dataframe tbody tr th {\n",
       "        vertical-align: top;\n",
       "    }\n",
       "\n",
       "    .dataframe thead th {\n",
       "        text-align: right;\n",
       "    }\n",
       "</style>\n",
       "<table border=\"1\" class=\"dataframe\">\n",
       "  <thead>\n",
       "    <tr style=\"text-align: right;\">\n",
       "      <th></th>\n",
       "      <th>23</th>\n",
       "      <th>13</th>\n",
       "      <th>34</th>\n",
       "      <th>12</th>\n",
       "      <th>24</th>\n",
       "      <th>14</th>\n",
       "      <th>bc</th>\n",
       "      <th>ac</th>\n",
       "      <th>ab</th>\n",
       "    </tr>\n",
       "  </thead>\n",
       "  <tbody>\n",
       "    <tr>\n",
       "      <th>pairs</th>\n",
       "      <td>1</td>\n",
       "      <td>1</td>\n",
       "      <td>1</td>\n",
       "      <td>1</td>\n",
       "      <td>1</td>\n",
       "      <td>1</td>\n",
       "      <td>2</td>\n",
       "      <td>2</td>\n",
       "      <td>2</td>\n",
       "    </tr>\n",
       "  </tbody>\n",
       "</table>\n",
       "</div>"
      ],
      "text/plain": [
       "       23  13  34  12  24  14  bc  ac  ab\n",
       "pairs   1   1   1   1   1   1   2   2   2"
      ]
     },
     "execution_count": 18,
     "metadata": {},
     "output_type": "execute_result"
    }
   ],
   "source": [
    "T='123abcabc4'\n",
    "pairs = pairs_in_trace(T)\n",
    "P=pd.DataFrame.from_dict( { a[0]+a[1]:b for a,b in pairs.items() }, orient='index', columns=['pairs'] )\n",
    "\n",
    "# Show only pairs with n_T >= 0 \n",
    "P[ P['pairs'] >= 0 ].T"
   ]
  },
  {
   "cell_type": "markdown",
   "id": "novel-crawford",
   "metadata": {},
   "source": [
    "## Sequences\n",
    "\n",
    "(Write here a discussion about notation, path, simple paths, sequences in literature, and be clear what a \"sequence\" is for us)\n",
    "\n",
    "**Definition**: A sequence $S \\in \\Sigma^*$  is a trace whose symbols are different, $ s_i \\neq s_j \\forall i \\neq j$. Similar to pairs, $S$ is a **sequence in $T$** if exists $n \\ge 0$ such that $T \\cap \\Sigma(S) = n \\times S$, i.e., the trace restricted to symbols of $S$ is a n-repetition of $S$. \n",
    "\n",
    "The cardinality of $S$ in $T$ is defined in the same way than for pairs, and extended to any trace: \n",
    "\n",
    "**Definition**: Let be $S$ any trace in $\\Sigma^*$, then  $n_T(S) = n$ for some suitable $n$ if $S$ is a sequence in $T$, or $- \\infty$ if $S$ is not a sequence in T. For completeness we also define $n_T( S=s_1 ) = n_T( \\emptyset ) = -\\infty$, the cases for one symbol and empty sequence.\n",
    "\n",
    "**Definition**: The set of all sequences in $T$ is denoted as $\\mathcal{S}_T = \\{ S | S \\text{ is sequence in } T \\}$\n",
    "\n",
    "Note that if $abcd$ is a sequence in $T$, then also $ab$, $abc$, $bcd$, $ad$ and all other subtraces are sequences in $T$. \n",
    "\n",
    "**Definition**: A sequence $S$ is called a **maximal sequence in $T$** if is not a combination of other sequences in $T$: $\\nexists R, S' \\in \\mathcal{S}_T; S \\neq R $ such that $\\Sigma(S') = \\Sigma(S) \\cup \\Sigma(R)$. \n",
    "\n",
    "**Definition**: The set of all maximal sequences in T is denoted as $\\overline{ \\mathcal{S}_T } = \\{ S | S \\text{ is maximal sequence in } T \\}$\n",
    "\n",
    "If $S=ab$ we recover the definitions of pairs: $n_T(S) = n_T(ab)$. Also, any sequence in T can be written in terms of its pairs. Therefore, all pairs properties inherits to sequences."
   ]
  },
  {
   "cell_type": "code",
   "execution_count": 19,
   "id": "conceptual-thinking",
   "metadata": {},
   "outputs": [],
   "source": [
    "def sequence_cardinality(S, T):\n",
    "    '''\n",
    "    Returns the cardinality if S=abc...z is a sequence in T, otherwise it returns -1\n",
    "    '''\n",
    "    # Force list\n",
    "    if type(S)==type(''):\n",
    "        S = list(S.strip())\n",
    "        \n",
    "    # two or more symbols only\n",
    "    if len(S) < 2:\n",
    "        return -1\n",
    "\n",
    "    # Check all symbols are different\n",
    "    if len(S) != len(set(S)):\n",
    "        return -1\n",
    "\n",
    "    intersection=[a for a in T if a in S ]\n",
    "    cardinality=int(len(intersection) / len(S)  )\n",
    "    return cardinality if S*cardinality==intersection else -1"
   ]
  },
  {
   "cell_type": "code",
   "execution_count": 20,
   "id": "underlying-champagne",
   "metadata": {},
   "outputs": [],
   "source": [
    "T='123abcabc4'"
   ]
  },
  {
   "cell_type": "code",
   "execution_count": 21,
   "id": "finnish-happening",
   "metadata": {},
   "outputs": [
    {
     "data": {
      "text/plain": [
       "2"
      ]
     },
     "execution_count": 21,
     "metadata": {},
     "output_type": "execute_result"
    }
   ],
   "source": [
    "sequence_cardinality('abc', T)"
   ]
  },
  {
   "cell_type": "code",
   "execution_count": 22,
   "id": "vocational-withdrawal",
   "metadata": {},
   "outputs": [
    {
     "data": {
      "text/plain": [
       "2"
      ]
     },
     "execution_count": 22,
     "metadata": {},
     "output_type": "execute_result"
    }
   ],
   "source": [
    "sequence_cardinality('ab', T)"
   ]
  },
  {
   "cell_type": "code",
   "execution_count": 23,
   "id": "aggressive-basin",
   "metadata": {},
   "outputs": [
    {
     "data": {
      "text/plain": [
       "-1"
      ]
     },
     "execution_count": 23,
     "metadata": {},
     "output_type": "execute_result"
    }
   ],
   "source": [
    "sequence_cardinality('a', T)"
   ]
  },
  {
   "cell_type": "code",
   "execution_count": 24,
   "id": "identified-peripheral",
   "metadata": {},
   "outputs": [
    {
     "data": {
      "text/plain": [
       "-1"
      ]
     },
     "execution_count": 24,
     "metadata": {},
     "output_type": "execute_result"
    }
   ],
   "source": [
    "sequence_cardinality('ba', T)"
   ]
  },
  {
   "cell_type": "code",
   "execution_count": 25,
   "id": "increased-structure",
   "metadata": {},
   "outputs": [
    {
     "data": {
      "text/plain": [
       "0"
      ]
     },
     "execution_count": 25,
     "metadata": {},
     "output_type": "execute_result"
    }
   ],
   "source": [
    "# This sequence has cardinality 0\n",
    "sequence_cardinality('MNO', T)"
   ]
  },
  {
   "cell_type": "markdown",
   "id": "potential-edmonton",
   "metadata": {},
   "source": [
    "This sequence has $n_T(S) < 0$ because one of its symbols is not in T"
   ]
  },
  {
   "cell_type": "code",
   "execution_count": 26,
   "id": "large-input",
   "metadata": {},
   "outputs": [
    {
     "data": {
      "text/plain": [
       "-1"
      ]
     },
     "execution_count": 26,
     "metadata": {},
     "output_type": "execute_result"
    }
   ],
   "source": [
    "sequence_cardinality('abcM', T)"
   ]
  },
  {
   "cell_type": "code",
   "execution_count": 27,
   "id": "measured-execution",
   "metadata": {},
   "outputs": [
    {
     "data": {
      "text/plain": [
       "1"
      ]
     },
     "execution_count": 27,
     "metadata": {},
     "output_type": "execute_result"
    }
   ],
   "source": [
    "sequence_cardinality('1234', T)"
   ]
  },
  {
   "cell_type": "code",
   "execution_count": 28,
   "id": "balanced-ceiling",
   "metadata": {},
   "outputs": [
    {
     "data": {
      "text/plain": [
       "2"
      ]
     },
     "execution_count": 28,
     "metadata": {},
     "output_type": "execute_result"
    }
   ],
   "source": [
    "sequence_cardinality('abc', T)"
   ]
  },
  {
   "cell_type": "code",
   "execution_count": 29,
   "id": "communist-citation",
   "metadata": {},
   "outputs": [
    {
     "data": {
      "text/plain": [
       "1"
      ]
     },
     "execution_count": 29,
     "metadata": {},
     "output_type": "execute_result"
    }
   ],
   "source": [
    "sequence_cardinality('1234', T)"
   ]
  },
  {
   "cell_type": "code",
   "execution_count": 30,
   "id": "impressive-wireless",
   "metadata": {},
   "outputs": [
    {
     "data": {
      "text/plain": [
       "2"
      ]
     },
     "execution_count": 30,
     "metadata": {},
     "output_type": "execute_result"
    }
   ],
   "source": [
    "sequence_cardinality('abc', T)"
   ]
  },
  {
   "cell_type": "markdown",
   "id": "dressed-samba",
   "metadata": {},
   "source": [
    "## Properties of sequences\n",
    "\n",
    "If $S = s_1 ... s_m$ , $m \\ge  2$ is a sequence in $T$, then the following properties can be verified.\n",
    "\n",
    "**Property**: $(s_i, s_j)$ are paired in $T$ for $i \\lt j$ and unpaired for $i \\ge j$.\n",
    "\n",
    "**Property**: the cardinality is equal for the sequence and its pairs. $n_T(S) = n_T(s_i,  s_j)$ for all $i \\lt j$"
   ]
  },
  {
   "cell_type": "code",
   "execution_count": 31,
   "id": "practical-provincial",
   "metadata": {},
   "outputs": [],
   "source": [
    "T='a1b2ca3bc4a5bc'\n",
    "S='abc'"
   ]
  },
  {
   "cell_type": "code",
   "execution_count": 32,
   "id": "understood-telling",
   "metadata": {
    "tags": []
   },
   "outputs": [
    {
     "name": "stdout",
     "output_type": "stream",
     "text": [
      "Cardinality of S in T: 3\n",
      "Cardinality of ab in T: 3\n",
      "Cardinality of bc in T: 3\n",
      "Cardinality of ac in T: 3\n",
      "Cardinality of ba in T: -1 (should be negative)\n"
     ]
    }
   ],
   "source": [
    "print( \"Cardinality of S in T: {}\".format( sequence_cardinality(S,T) ) )\n",
    "print( \"Cardinality of ab in T: {}\".format( pair_cardinality('a', 'b', T) ) )\n",
    "print( \"Cardinality of bc in T: {}\".format( pair_cardinality('b', 'c', T) ) )\n",
    "print( \"Cardinality of ac in T: {}\".format( pair_cardinality('a', 'c', T) ) )\n",
    "print( \"Cardinality of ba in T: {} (should be negative)\".format( pair_cardinality('b', 'a', T) ) )"
   ]
  },
  {
   "cell_type": "markdown",
   "id": "meaningful-senator",
   "metadata": {},
   "source": [
    "## Lemma: Consecutive sequence order"
   ]
  },
  {
   "cell_type": "markdown",
   "id": "legal-politics",
   "metadata": {},
   "source": [
    "When describing a sequence based on the pairs which lies in it, an interesting property emerges. Clearly there are exactly $m$ pairs in $S=s_1 ... s_m$ of the form $(s_i, s_m)$ because all its symbols are different bby definition. And this is applicable to any subtrace of $S$. A stronger claim can be proved, that there are no such pairs ending in $s_m$ in $T$ outside $S$ with the same cardinality.\n",
    "\n",
    "**Lemma**: $s_j$ is the $j$-esim element of a sequence $S$ in $T$ $\\iff$ there are exactly $j-1$ pairs $(x, s_j)$ paired in $T$ where $n_T(S) = n_T(x, s_j)$. All such $x$ lies inside $S$.\n",
    "\n",
    "(proof easy but pending) **however, please study $aXYbaYXb$ before sing and dance**\n",
    "\n",
    "Below are some examples of the lemma."
   ]
  },
  {
   "cell_type": "code",
   "execution_count": 33,
   "id": "mineral-auditor",
   "metadata": {},
   "outputs": [],
   "source": [
    "T='a1b2ca3bc4a5bc'\n",
    "S='abc'\n",
    "\n",
    "pairs = pairs_in_trace(T)"
   ]
  },
  {
   "cell_type": "code",
   "execution_count": 34,
   "id": "aware-colony",
   "metadata": {},
   "outputs": [
    {
     "data": {
      "text/html": [
       "<div>\n",
       "<style scoped>\n",
       "    .dataframe tbody tr th:only-of-type {\n",
       "        vertical-align: middle;\n",
       "    }\n",
       "\n",
       "    .dataframe tbody tr th {\n",
       "        vertical-align: top;\n",
       "    }\n",
       "\n",
       "    .dataframe thead th {\n",
       "        text-align: right;\n",
       "    }\n",
       "</style>\n",
       "<table border=\"1\" class=\"dataframe\">\n",
       "  <thead>\n",
       "    <tr style=\"text-align: right;\">\n",
       "      <th></th>\n",
       "      <th>23</th>\n",
       "      <th>35</th>\n",
       "      <th>13</th>\n",
       "      <th>34</th>\n",
       "      <th>25</th>\n",
       "      <th>12</th>\n",
       "      <th>24</th>\n",
       "      <th>15</th>\n",
       "      <th>45</th>\n",
       "      <th>14</th>\n",
       "      <th>bc</th>\n",
       "      <th>ac</th>\n",
       "      <th>ab</th>\n",
       "    </tr>\n",
       "  </thead>\n",
       "  <tbody>\n",
       "    <tr>\n",
       "      <th>pairs</th>\n",
       "      <td>1</td>\n",
       "      <td>1</td>\n",
       "      <td>1</td>\n",
       "      <td>1</td>\n",
       "      <td>1</td>\n",
       "      <td>1</td>\n",
       "      <td>1</td>\n",
       "      <td>1</td>\n",
       "      <td>1</td>\n",
       "      <td>1</td>\n",
       "      <td>3</td>\n",
       "      <td>3</td>\n",
       "      <td>3</td>\n",
       "    </tr>\n",
       "  </tbody>\n",
       "</table>\n",
       "</div>"
      ],
      "text/plain": [
       "       23  35  13  34  25  12  24  15  45  14  bc  ac  ab\n",
       "pairs   1   1   1   1   1   1   1   1   1   1   3   3   3"
      ]
     },
     "execution_count": 34,
     "metadata": {},
     "output_type": "execute_result"
    }
   ],
   "source": [
    "# Show all pairs in T\n",
    "\n",
    "P=pd.DataFrame.from_dict( { a[0]+a[1]:b for a,b in pairs.items() }, orient='index', columns=['pairs'] )\n",
    "P[ P['pairs'] >= 0 ].T"
   ]
  },
  {
   "cell_type": "code",
   "execution_count": 35,
   "id": "measured-undergraduate",
   "metadata": {},
   "outputs": [
    {
     "name": "stdout",
     "output_type": "stream",
     "text": [
      "Cardinality of S in T: 3\n"
     ]
    }
   ],
   "source": [
    "print( \"Cardinality of S in T: {}\".format( sequence_cardinality(S,T) ) )"
   ]
  },
  {
   "cell_type": "code",
   "execution_count": 36,
   "id": "graduate-appraisal",
   "metadata": {},
   "outputs": [
    {
     "data": {
      "text/plain": [
       "[]"
      ]
     },
     "execution_count": 36,
     "metadata": {},
     "output_type": "execute_result"
    }
   ],
   "source": [
    "# All pairs ending in 'a' for S=abc\n",
    "[ (x,sj,n) for (x,sj), n in pairs.items() \n",
    " if sj == 'a' \n",
    " and sequence_cardinality(S, T) == pair_cardinality(x, sj, T) ] "
   ]
  },
  {
   "cell_type": "code",
   "execution_count": 37,
   "id": "handled-vulnerability",
   "metadata": {},
   "outputs": [
    {
     "data": {
      "text/plain": [
       "[('a', 'b', 3)]"
      ]
     },
     "execution_count": 37,
     "metadata": {},
     "output_type": "execute_result"
    }
   ],
   "source": [
    "# All pairs ending in 'b' for S=abc\n",
    "[ (x,sj,n) for (x,sj), n in pairs.items() \n",
    " if sj == 'b' \n",
    " and sequence_cardinality(S, T) == pair_cardinality(x, sj, T) ] "
   ]
  },
  {
   "cell_type": "code",
   "execution_count": 38,
   "id": "random-hungary",
   "metadata": {},
   "outputs": [
    {
     "data": {
      "text/plain": [
       "[('b', 'c', 3), ('a', 'c', 3)]"
      ]
     },
     "execution_count": 38,
     "metadata": {},
     "output_type": "execute_result"
    }
   ],
   "source": [
    "# All pairs ending in 'c' for S=abc\n",
    "[ (x,sj,n) for (x,sj), n in pairs.items() \n",
    " if sj == 'c' \n",
    " and sequence_cardinality(S, T) == pair_cardinality(x, sj, T) ] "
   ]
  },
  {
   "cell_type": "markdown",
   "id": "front-puppy",
   "metadata": {},
   "source": [
    "## Complexity of getting all pairs in T"
   ]
  },
  {
   "cell_type": "markdown",
   "id": "grand-magnet",
   "metadata": {},
   "source": [
    "The time seems to be bounded by $O( |T|  2^{\\Sigma(T)} )$ , it depends on the size of alphabet instead of the length of the traces."
   ]
  },
  {
   "cell_type": "code",
   "execution_count": 39,
   "id": "unusual-detroit",
   "metadata": {},
   "outputs": [
    {
     "name": "stdout",
     "output_type": "stream",
     "text": [
      "Extract all pairs: fixed length\n",
      "-------\n",
      "\n",
      "length=5000, symbols=100\n",
      "CPU times: user 1.32 s, sys: 7.27 ms, total: 1.33 s\n",
      "Wall time: 1.33 s\n",
      "\n",
      "length=5000, symbols=200\n",
      "CPU times: user 5.2 s, sys: 20.7 ms, total: 5.22 s\n",
      "Wall time: 5.24 s\n",
      "\n",
      "length=4800, symbols=300\n",
      "CPU times: user 11 s, sys: 17.8 ms, total: 11 s\n",
      "Wall time: 11 s\n",
      "\n",
      "length=4800, symbols=400\n",
      "CPU times: user 19.1 s, sys: 22.6 ms, total: 19.1 s\n",
      "Wall time: 19.1 s\n",
      "\n",
      "length=5000, symbols=500\n",
      "CPU times: user 30.8 s, sys: 22.2 ms, total: 30.8 s\n",
      "Wall time: 30.9 s\n"
     ]
    }
   ],
   "source": [
    "print('Extract all pairs: fixed length\\n-------')\n",
    "N=500\n",
    "for i in range(1,6):\n",
    "    T = list(range(100*i)) * int(N/(10*i) )\n",
    "    print( \"\\nlength={}, symbols={}\".format(len(T), 100*i))\n",
    "    %time pairs_in_trace( T  )"
   ]
  },
  {
   "cell_type": "code",
   "execution_count": 40,
   "id": "clear-journal",
   "metadata": {},
   "outputs": [
    {
     "name": "stdout",
     "output_type": "stream",
     "text": [
      "\n",
      "Extract all pairs: fixed symbols\n",
      "-------\n",
      "\n",
      "length=1000, symbols=100\n",
      "CPU times: user 268 ms, sys: 3.57 ms, total: 271 ms\n",
      "Wall time: 269 ms\n",
      "\n",
      "length=2000, symbols=100\n",
      "CPU times: user 503 ms, sys: 1.99 ms, total: 504 ms\n",
      "Wall time: 504 ms\n",
      "\n",
      "length=3000, symbols=100\n",
      "CPU times: user 752 ms, sys: 1.54 ms, total: 754 ms\n",
      "Wall time: 753 ms\n",
      "\n",
      "length=4000, symbols=100\n",
      "CPU times: user 1.02 s, sys: 2.78 ms, total: 1.03 s\n",
      "Wall time: 1.03 s\n",
      "\n",
      "length=5000, symbols=100\n",
      "CPU times: user 1.29 s, sys: 4.45 ms, total: 1.3 s\n",
      "Wall time: 1.3 s\n",
      "\n",
      "length=6000, symbols=100\n",
      "CPU times: user 1.54 s, sys: 4.27 ms, total: 1.54 s\n",
      "Wall time: 1.54 s\n",
      "\n",
      "length=7000, symbols=100\n",
      "CPU times: user 1.87 s, sys: 10.2 ms, total: 1.88 s\n",
      "Wall time: 1.89 s\n",
      "\n",
      "length=8000, symbols=100\n",
      "CPU times: user 2.07 s, sys: 6.73 ms, total: 2.08 s\n",
      "Wall time: 2.08 s\n",
      "\n",
      "length=9000, symbols=100\n",
      "CPU times: user 2.29 s, sys: 5.83 ms, total: 2.29 s\n",
      "Wall time: 2.3 s\n",
      "\n",
      "length=10000, symbols=100\n",
      "CPU times: user 2.51 s, sys: 3.94 ms, total: 2.52 s\n",
      "Wall time: 2.52 s\n"
     ]
    }
   ],
   "source": [
    "print('\\nExtract all pairs: fixed symbols\\n-------')\n",
    "S=100\n",
    "for N in range(1,11):\n",
    "    T = list(range(S)) * (N*10) \n",
    "    print( \"\\nlength={}, symbols={}\".format(len(T), S))\n",
    "    %time pairs_in_trace( T  )"
   ]
  },
  {
   "cell_type": "code",
   "execution_count": null,
   "id": "major-zealand",
   "metadata": {},
   "outputs": [],
   "source": []
  }
 ],
 "metadata": {
  "kernelspec": {
   "display_name": "Python 3",
   "language": "python",
   "name": "python3"
  },
  "language_info": {
   "codemirror_mode": {
    "name": "ipython",
    "version": 3
   },
   "file_extension": ".py",
   "mimetype": "text/x-python",
   "name": "python",
   "nbconvert_exporter": "python",
   "pygments_lexer": "ipython3",
   "version": "3.9.1"
  }
 },
 "nbformat": 4,
 "nbformat_minor": 5
}
