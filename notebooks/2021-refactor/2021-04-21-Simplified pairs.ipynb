{
 "cells": [
  {
   "cell_type": "markdown",
   "id": "signal-platform",
   "metadata": {},
   "source": [
    "# Pairs in a trace\n",
    "\n",
    "Progress done between 2021-04-17 and 2021-04-22 by jgil@eso.org\n",
    "\n",
    "## Some definitions\n",
    "\n",
    "An *alphabet* $\\Sigma$ is any finite set, and its elements are called *symbols*. A *trace* $T$ is any concatenation of symbols in $\\Sigma$, written as $T \\in \\Sigma^{*}$. The symbols in $\\Sigma$ that are also in a trace $T$ are written as $\\Sigma(T)$"
   ]
  },
  {
   "cell_type": "markdown",
   "id": "plain-plaza",
   "metadata": {},
   "source": [
    "## Notion of a pair\n",
    "\n",
    "In any trace we can precisely determine which of them appears in pairs by rewritting the trace as repetitions. For example in $T=ababab$, $T$ can be written as a repetition of the subtrace $ab$: $T= (ab)(ab)(ab) = 3 \\times (ab)$. Note that if any other symbols exists in the trace, the pairing condition of $ab$ remains, for example $(ab)$ is paired in both $T_1=ababab$ and $T_2=abXabYab$.\n",
    "\n",
    "Let be the set $\\Sigma$ an alphabet, $T \\in \\Sigma^{*}$ a trace, and $a,b \\in \\Sigma; a \\neq b$ a disjoint ordered pair. We say that $(a,b)$ is **paired in $T$** if exists $n \\ge 0$ such that $T \\cap \\{a,b\\} = n \\times (ab)$, i.e. the symbols in $T$ restricted to $a$ and $b$ can be written as a repetition of the trace $(ab)$, possibly with $n=0$.\n",
    "\n"
   ]
  },
  {
   "cell_type": "markdown",
   "id": "sixth-violin",
   "metadata": {},
   "source": [
    "## Pair-cardinality\n",
    "\n",
    "The pair-cardinality captures the repetitions of $ab$ in $T$. \n",
    "\n",
    "**Definition**: Given $T \\in \\Sigma^{*}$ and $a,b \\in \\Sigma$ we define the function $n_T(ab)$ as:\n",
    "\n",
    "$$ \n",
    "\\begin{align}\n",
    "n_T: & \\Sigma^2 \\rightarrow \\mathbb{N} \\cup \\{- \\infty \\} \\\\\n",
    "n_T(ab) & = \\left\\{ \n",
    "  \\begin{array}{rcl} n & \\text{ if } a \\neq b \\text{ and } T \\cap \\{a,b\\} = n \\times (ab)   \\\\ \n",
    "  -\\infty & \\text{ otherwise } \\end{array}\\right. \n",
    "\\end{align}\n",
    "$$\n",
    "\n",
    "Now we can define more precisely the notion of pairs. \n",
    "\n",
    "**Definition**: A pair $(a,b)$ is **paired in T** if $n_T(ab) \\ge 0$, and $(a,b)$ is **unpaired in T** if $n_T(ab) \\lt 0$.\n",
    "\n",
    "**Definition**: The set of all pairs in $T$ is defined as $\\mathcal{P}_T = \\{ (ab) | (a,b) \\text{ is paired in } T \\}$"
   ]
  },
  {
   "cell_type": "markdown",
   "id": "fluid-orleans",
   "metadata": {},
   "source": [
    "### Examples"
   ]
  },
  {
   "cell_type": "code",
   "execution_count": 26,
   "id": "electoral-privilege",
   "metadata": {},
   "outputs": [],
   "source": [
    "def pair_cardinality(x, y, T):\n",
    "    '''\n",
    "    Returns the cardinality if (x,y) is pair in T, otherwise it returns -1\n",
    "    '''\n",
    "    if x==y:\n",
    "        return -1\n",
    "    intersection=[a for a in T if a==x or a==y ]\n",
    "    cardinality=int(len(intersection) / 2)\n",
    "    return cardinality if [x,y]*cardinality==intersection else -1"
   ]
  },
  {
   "cell_type": "markdown",
   "id": "appreciated-remark",
   "metadata": {},
   "source": [
    "Let be $\\Sigma = \\{a,b,x,y,m,n\\}$ and $T=axbabyabyx$."
   ]
  },
  {
   "cell_type": "code",
   "execution_count": 27,
   "id": "christian-friendly",
   "metadata": {},
   "outputs": [],
   "source": [
    "T='axbabyabyx'"
   ]
  },
  {
   "cell_type": "markdown",
   "id": "thrown-possession",
   "metadata": {},
   "source": [
    "$(x,y)$ is unpaired in T because $T \\cap \\{x,y\\} = xyyx$ cannot be written as repetitions of $(xy)$. Its cardinality $n_T(xy) = - \\infty $"
   ]
  },
  {
   "cell_type": "code",
   "execution_count": 28,
   "id": "adopted-profit",
   "metadata": {},
   "outputs": [
    {
     "data": {
      "text/plain": [
       "['x', 'y', 'y', 'x']"
      ]
     },
     "execution_count": 28,
     "metadata": {},
     "output_type": "execute_result"
    }
   ],
   "source": [
    "[i for i in T if i in ('x', 'y')]"
   ]
  },
  {
   "cell_type": "code",
   "execution_count": 29,
   "id": "dynamic-capability",
   "metadata": {},
   "outputs": [
    {
     "data": {
      "text/plain": [
       "-1"
      ]
     },
     "execution_count": 29,
     "metadata": {},
     "output_type": "execute_result"
    }
   ],
   "source": [
    "pair_cardinality('x', 'y', T)"
   ]
  },
  {
   "cell_type": "markdown",
   "id": "intensive-residence",
   "metadata": {},
   "source": [
    "The pair $(a,b)$ is paired in $T$ and $n_T(ab)=3$, because $T \\cap \\{a,b\\} = ababab = 3 \\times (ab)$. "
   ]
  },
  {
   "cell_type": "code",
   "execution_count": 30,
   "id": "looking-mission",
   "metadata": {},
   "outputs": [
    {
     "data": {
      "text/plain": [
       "['a', 'b', 'a', 'b', 'a', 'b']"
      ]
     },
     "execution_count": 30,
     "metadata": {},
     "output_type": "execute_result"
    }
   ],
   "source": [
    "[i for i in T if i in ('a', 'b')]"
   ]
  },
  {
   "cell_type": "code",
   "execution_count": 31,
   "id": "adopted-intention",
   "metadata": {},
   "outputs": [
    {
     "data": {
      "text/plain": [
       "3"
      ]
     },
     "execution_count": 31,
     "metadata": {},
     "output_type": "execute_result"
    }
   ],
   "source": [
    "pair_cardinality('a', 'b', T)"
   ]
  },
  {
   "cell_type": "markdown",
   "id": "japanese-dublin",
   "metadata": {},
   "source": [
    "## Properties of pairs"
   ]
  },
  {
   "cell_type": "markdown",
   "id": "interstate-doctrine",
   "metadata": {},
   "source": [
    "**Property**: If $(a,b)$ is paired in $T$ then it is easy to prove that $(b,a)$ is unpaired in $T$ because there not exists any $n$ that verifies $T \\cap \\{b,a\\} = n \\times (ba)$"
   ]
  },
  {
   "cell_type": "code",
   "execution_count": 32,
   "id": "fifteen-religious",
   "metadata": {},
   "outputs": [
    {
     "data": {
      "text/plain": [
       "-1"
      ]
     },
     "execution_count": 32,
     "metadata": {},
     "output_type": "execute_result"
    }
   ],
   "source": [
    "pair_cardinality('b', 'a', T)"
   ]
  },
  {
   "cell_type": "markdown",
   "id": "imported-beach",
   "metadata": {},
   "source": [
    "**Property**: If both $m$, $n$ are not in $\\Sigma(T)$, then $T \\cap \\{m,n\\} = 0 \\times (mn)$ and its cardinality is equal to 0 which means that there is no evidence that $(m,n)$ be unpaired in T."
   ]
  },
  {
   "cell_type": "code",
   "execution_count": 33,
   "id": "toxic-upgrade",
   "metadata": {},
   "outputs": [
    {
     "data": {
      "text/plain": [
       "0"
      ]
     },
     "execution_count": 33,
     "metadata": {},
     "output_type": "execute_result"
    }
   ],
   "source": [
    "pair_cardinality('m', 'n', T)"
   ]
  },
  {
   "cell_type": "markdown",
   "id": "arabic-candy",
   "metadata": {},
   "source": [
    "**Property**: If $a \\in \\Sigma(T); x \\in \\Sigma \\setminus \\Sigma(T)$ i.e. the first symbol is in $T$ and the second not in $T$, then both $(a,x)$ and $(x,a)$ are unpaired in $T$."
   ]
  },
  {
   "cell_type": "code",
   "execution_count": 34,
   "id": "processed-disney",
   "metadata": {},
   "outputs": [
    {
     "data": {
      "text/plain": [
       "-1"
      ]
     },
     "execution_count": 34,
     "metadata": {},
     "output_type": "execute_result"
    }
   ],
   "source": [
    "pair_cardinality('a', 'm', T)"
   ]
  },
  {
   "cell_type": "code",
   "execution_count": 35,
   "id": "cooperative-patio",
   "metadata": {},
   "outputs": [
    {
     "data": {
      "text/plain": [
       "-1"
      ]
     },
     "execution_count": 35,
     "metadata": {},
     "output_type": "execute_result"
    }
   ],
   "source": [
    "\n",
    "pair_cardinality('m', 'a', T)"
   ]
  },
  {
   "cell_type": "markdown",
   "id": "forty-choir",
   "metadata": {},
   "source": [
    "## All pairs in T"
   ]
  },
  {
   "cell_type": "markdown",
   "id": "local-criterion",
   "metadata": {},
   "source": [
    "Strategy: $\\forall a,b \\in \\Sigma(T); a \\neq b$ test if $n_T(ab) \\ge 0$"
   ]
  },
  {
   "cell_type": "code",
   "execution_count": 36,
   "id": "premium-handy",
   "metadata": {},
   "outputs": [],
   "source": [
    "T='axbabyabyx'"
   ]
  },
  {
   "cell_type": "code",
   "execution_count": 37,
   "id": "grateful-triumph",
   "metadata": {},
   "outputs": [
    {
     "data": {
      "text/plain": [
       "['b', 'y', 'x', 'a']"
      ]
     },
     "execution_count": 37,
     "metadata": {},
     "output_type": "execute_result"
    }
   ],
   "source": [
    "list( set( [x for x in T] ) )"
   ]
  },
  {
   "cell_type": "code",
   "execution_count": 38,
   "id": "cardiovascular-identity",
   "metadata": {},
   "outputs": [],
   "source": [
    "import pandas as pd"
   ]
  },
  {
   "cell_type": "code",
   "execution_count": 39,
   "id": "european-pledge",
   "metadata": {},
   "outputs": [],
   "source": [
    "def pairs_in_trace(T):\n",
    "    Pairs_in_T = {}\n",
    "\n",
    "    # The alphabet in T\n",
    "    Sigma_T = list( set( [x for x in T] ) )\n",
    "    for i in range( len(Sigma_T) -1 ):\n",
    "        a = Sigma_T[i]\n",
    "        # By def (a,a) is not paired in T\n",
    "        Pairs_in_T[ (a,a) ] = -1 \n",
    "        for b in Sigma_T[i+1:]:\n",
    "            Pairs_in_T[ (a,b) ] = pair_cardinality(a, b, T)\n",
    "            # asymmetric paired property: if (a,b) is paired in T the (b,a) is not\n",
    "            if Pairs_in_T[ (a,b) ]>=0:\n",
    "                Pairs_in_T[ (b,a) ] = -1  \n",
    "            else: \n",
    "                Pairs_in_T[ (b,a) ] = pair_cardinality(b, a, T)\n",
    "    return Pairs_in_T"
   ]
  },
  {
   "cell_type": "code",
   "execution_count": 40,
   "id": "optional-shift",
   "metadata": {},
   "outputs": [
    {
     "data": {
      "text/html": [
       "<div>\n",
       "<style scoped>\n",
       "    .dataframe tbody tr th:only-of-type {\n",
       "        vertical-align: middle;\n",
       "    }\n",
       "\n",
       "    .dataframe tbody tr th {\n",
       "        vertical-align: top;\n",
       "    }\n",
       "\n",
       "    .dataframe thead th {\n",
       "        text-align: right;\n",
       "    }\n",
       "</style>\n",
       "<table border=\"1\" class=\"dataframe\">\n",
       "  <thead>\n",
       "    <tr style=\"text-align: right;\">\n",
       "      <th></th>\n",
       "      <th>bb</th>\n",
       "      <th>by</th>\n",
       "      <th>yb</th>\n",
       "      <th>bx</th>\n",
       "      <th>xb</th>\n",
       "      <th>ba</th>\n",
       "      <th>ab</th>\n",
       "      <th>yy</th>\n",
       "      <th>yx</th>\n",
       "      <th>xy</th>\n",
       "      <th>ya</th>\n",
       "      <th>ay</th>\n",
       "      <th>xx</th>\n",
       "      <th>xa</th>\n",
       "      <th>ax</th>\n",
       "    </tr>\n",
       "  </thead>\n",
       "  <tbody>\n",
       "    <tr>\n",
       "      <th>pairs</th>\n",
       "      <td>-1</td>\n",
       "      <td>-1</td>\n",
       "      <td>-1</td>\n",
       "      <td>-1</td>\n",
       "      <td>-1</td>\n",
       "      <td>-1</td>\n",
       "      <td>3</td>\n",
       "      <td>-1</td>\n",
       "      <td>-1</td>\n",
       "      <td>-1</td>\n",
       "      <td>-1</td>\n",
       "      <td>-1</td>\n",
       "      <td>-1</td>\n",
       "      <td>-1</td>\n",
       "      <td>-1</td>\n",
       "    </tr>\n",
       "  </tbody>\n",
       "</table>\n",
       "</div>"
      ],
      "text/plain": [
       "       bb  by  yb  bx  xb  ba  ab  yy  yx  xy  ya  ay  xx  xa  ax\n",
       "pairs  -1  -1  -1  -1  -1  -1   3  -1  -1  -1  -1  -1  -1  -1  -1"
      ]
     },
     "execution_count": 40,
     "metadata": {},
     "output_type": "execute_result"
    }
   ],
   "source": [
    "P=pairs_in_trace(T)\n",
    "\n",
    "# See how just (a,b) is pair and the rest has n_T=-1\n",
    "\n",
    "pd.DataFrame.from_dict( { a[0]+a[1]:b for a,b in P.items() }, orient='index', columns=['pairs'] ).T"
   ]
  },
  {
   "cell_type": "code",
   "execution_count": 41,
   "id": "according-research",
   "metadata": {},
   "outputs": [
    {
     "data": {
      "text/html": [
       "<div>\n",
       "<style scoped>\n",
       "    .dataframe tbody tr th:only-of-type {\n",
       "        vertical-align: middle;\n",
       "    }\n",
       "\n",
       "    .dataframe tbody tr th {\n",
       "        vertical-align: top;\n",
       "    }\n",
       "\n",
       "    .dataframe thead th {\n",
       "        text-align: right;\n",
       "    }\n",
       "</style>\n",
       "<table border=\"1\" class=\"dataframe\">\n",
       "  <thead>\n",
       "    <tr style=\"text-align: right;\">\n",
       "      <th></th>\n",
       "      <th>24</th>\n",
       "      <th>23</th>\n",
       "      <th>12</th>\n",
       "      <th>34</th>\n",
       "      <th>14</th>\n",
       "      <th>ab</th>\n",
       "      <th>ac</th>\n",
       "      <th>13</th>\n",
       "      <th>bc</th>\n",
       "    </tr>\n",
       "  </thead>\n",
       "  <tbody>\n",
       "    <tr>\n",
       "      <th>pairs</th>\n",
       "      <td>1</td>\n",
       "      <td>1</td>\n",
       "      <td>1</td>\n",
       "      <td>1</td>\n",
       "      <td>1</td>\n",
       "      <td>2</td>\n",
       "      <td>2</td>\n",
       "      <td>1</td>\n",
       "      <td>2</td>\n",
       "    </tr>\n",
       "  </tbody>\n",
       "</table>\n",
       "</div>"
      ],
      "text/plain": [
       "       24  23  12  34  14  ab  ac  13  bc\n",
       "pairs   1   1   1   1   1   2   2   1   2"
      ]
     },
     "execution_count": 41,
     "metadata": {},
     "output_type": "execute_result"
    }
   ],
   "source": [
    "T='123abcabc4'\n",
    "pairs = pairs_in_trace(T)\n",
    "P=pd.DataFrame.from_dict( { a[0]+a[1]:b for a,b in pairs.items() }, orient='index', columns=['pairs'] )\n",
    "\n",
    "# Show only pairs with n_T >= 0 \n",
    "P[ P['pairs'] >= 0 ].T"
   ]
  },
  {
   "cell_type": "code",
   "execution_count": 42,
   "id": "electoral-missouri",
   "metadata": {},
   "outputs": [
    {
     "data": {
      "text/plain": [
       "1"
      ]
     },
     "execution_count": 42,
     "metadata": {},
     "output_type": "execute_result"
    }
   ],
   "source": [
    "sequence_cardinality('1234', T)"
   ]
  },
  {
   "cell_type": "code",
   "execution_count": 43,
   "id": "dimensional-giving",
   "metadata": {},
   "outputs": [
    {
     "data": {
      "text/plain": [
       "2"
      ]
     },
     "execution_count": 43,
     "metadata": {},
     "output_type": "execute_result"
    }
   ],
   "source": [
    "sequence_cardinality('abc', T)"
   ]
  },
  {
   "cell_type": "code",
   "execution_count": 44,
   "id": "continuous-passion",
   "metadata": {},
   "outputs": [],
   "source": [
    "# Note that the sequence 1234 can be destroyed if a 4321 is added.\n",
    "T='123abcabc44321'"
   ]
  },
  {
   "cell_type": "code",
   "execution_count": 44,
   "id": "fitting-juice",
   "metadata": {},
   "outputs": [
    {
     "data": {
      "text/html": [
       "<div>\n",
       "<style scoped>\n",
       "    .dataframe tbody tr th:only-of-type {\n",
       "        vertical-align: middle;\n",
       "    }\n",
       "\n",
       "    .dataframe tbody tr th {\n",
       "        vertical-align: top;\n",
       "    }\n",
       "\n",
       "    .dataframe thead th {\n",
       "        text-align: right;\n",
       "    }\n",
       "</style>\n",
       "<table border=\"1\" class=\"dataframe\">\n",
       "  <thead>\n",
       "    <tr style=\"text-align: right;\">\n",
       "      <th></th>\n",
       "      <th>ab</th>\n",
       "      <th>ac</th>\n",
       "      <th>bc</th>\n",
       "    </tr>\n",
       "  </thead>\n",
       "  <tbody>\n",
       "    <tr>\n",
       "      <th>pairs</th>\n",
       "      <td>2</td>\n",
       "      <td>2</td>\n",
       "      <td>2</td>\n",
       "    </tr>\n",
       "  </tbody>\n",
       "</table>\n",
       "</div>"
      ],
      "text/plain": [
       "       ab  ac  bc\n",
       "pairs   2   2   2"
      ]
     },
     "execution_count": 44,
     "metadata": {},
     "output_type": "execute_result"
    }
   ],
   "source": [
    "pairs = pairs_in_trace(T)\n",
    "P=pd.DataFrame.from_dict( { a[0]+a[1]:b for a,b in pairs.items() }, orient='index', columns=['pairs'] )\n",
    "\n",
    "# Show only pairs with n_T >= 0 \n",
    "P[ P['pairs'] >= 0 ].T"
   ]
  },
  {
   "cell_type": "code",
   "execution_count": 45,
   "id": "alternate-mystery",
   "metadata": {},
   "outputs": [
    {
     "data": {
      "text/plain": [
       "-1"
      ]
     },
     "execution_count": 45,
     "metadata": {},
     "output_type": "execute_result"
    }
   ],
   "source": [
    "sequence_cardinality('1234', T)"
   ]
  },
  {
   "cell_type": "code",
   "execution_count": 46,
   "id": "genetic-budget",
   "metadata": {},
   "outputs": [
    {
     "data": {
      "text/plain": [
       "2"
      ]
     },
     "execution_count": 46,
     "metadata": {},
     "output_type": "execute_result"
    }
   ],
   "source": [
    "sequence_cardinality('abc', T)"
   ]
  },
  {
   "cell_type": "markdown",
   "id": "fundamental-massage",
   "metadata": {},
   "source": [
    "## Sequences\n",
    "\n",
    "(Write here a discussion about notation, path, simple paths, sequences in literature, and be clear what a \"sequence\" is for us)\n",
    "\n",
    "**Definition**: A sequence $S \\in \\Sigma^*$  is a trace whose symbols are different, $ s_i \\neq s_j \\forall i \\neq j$. Similar to pairs, $S$ is a **sequence in $T$** if exists $n \\ge 0$ such that $T \\cap \\Sigma(S) = n \\times S$, i.e., the trace restricted to symbols of $S$ is a n-repetition of $S$. \n",
    "\n",
    "The cardinality of $S$ in $T$ is defined in the same way than for pairs, and extended to any trace: \n",
    "\n",
    "**Definition**: Let be $S$ any trace in $\\Sigma^*$, then  $n_T(S) = n$ for some suitable $n$ if $S$ is a sequence in $T$, or $- \\infty$ if $S$ is not a sequence in T. For completeness we also define $n_T( S=s_1 ) = n_T( \\emptyset ) = -\\infty$, the cases for one symbol and empty sequence.\n",
    "\n",
    "**Definition**: The set of all sequences in $T$ is denoted as $\\mathcal{S}_T = \\{ S | S \\text{ is sequence in } T \\}$\n",
    "\n",
    "Note that if $abcd$ is a sequence in $T$, then also $ab$, $abc$, $bcd$, $ad$ and all other subtraces are sequences in $T$. \n",
    "\n",
    "**Definition**: A sequence $S$ is called a **maximal sequence in $T$** if is not a combination of other sequences in $T$: $\\nexists R, S' \\in \\mathcal{S}_T; S \\neq R $ such that $\\Sigma(S') = \\Sigma(S) \\cup \\Sigma(R)$. \n",
    "\n",
    "**Definition**: The set of all maximal sequences in T is denoted as $\\overline{ \\mathcal{S}_T } = \\{ S | S \\text{ is maximal sequence in } T \\}$\n",
    "\n",
    "If $S=ab$ we recover the definitions of pairs: $n_T(S) = n_T(ab)$. Also, any sequence in T can be written in terms of its pairs. Therefore, all pairs properties inherits to sequences."
   ]
  },
  {
   "cell_type": "code",
   "execution_count": 14,
   "id": "trying-quality",
   "metadata": {},
   "outputs": [],
   "source": [
    "def sequence_cardinality(S, T):\n",
    "    '''\n",
    "    Returns the cardinality if S=abc...z is a sequence in T, otherwise it returns -1\n",
    "    '''\n",
    "    # Force list\n",
    "    if type(S)==type(''):\n",
    "        S = list(S.strip())\n",
    "        \n",
    "    # two or more symbols only\n",
    "    if len(S) < 2:\n",
    "        return -1\n",
    "\n",
    "    # Check all symbols are different\n",
    "    if len(S) != len(set(S)):\n",
    "        return -1\n",
    "\n",
    "    intersection=[a for a in T if a in S ]\n",
    "    cardinality=int(len(intersection) / len(S)  )\n",
    "    return cardinality if S*cardinality==intersection else -1"
   ]
  },
  {
   "cell_type": "code",
   "execution_count": 15,
   "id": "uniform-participant",
   "metadata": {},
   "outputs": [],
   "source": [
    "T='123abcabc4'"
   ]
  },
  {
   "cell_type": "code",
   "execution_count": 16,
   "id": "formal-brave",
   "metadata": {},
   "outputs": [
    {
     "data": {
      "text/plain": [
       "2"
      ]
     },
     "execution_count": 16,
     "metadata": {},
     "output_type": "execute_result"
    }
   ],
   "source": [
    "sequence_cardinality('abc', T)"
   ]
  },
  {
   "cell_type": "code",
   "execution_count": 17,
   "id": "forbidden-weekly",
   "metadata": {},
   "outputs": [
    {
     "data": {
      "text/plain": [
       "2"
      ]
     },
     "execution_count": 17,
     "metadata": {},
     "output_type": "execute_result"
    }
   ],
   "source": [
    "sequence_cardinality('ab', T)"
   ]
  },
  {
   "cell_type": "code",
   "execution_count": 18,
   "id": "hired-banner",
   "metadata": {},
   "outputs": [
    {
     "data": {
      "text/plain": [
       "-1"
      ]
     },
     "execution_count": 18,
     "metadata": {},
     "output_type": "execute_result"
    }
   ],
   "source": [
    "sequence_cardinality('a', T)"
   ]
  },
  {
   "cell_type": "code",
   "execution_count": 19,
   "id": "premier-reform",
   "metadata": {},
   "outputs": [
    {
     "data": {
      "text/plain": [
       "-1"
      ]
     },
     "execution_count": 19,
     "metadata": {},
     "output_type": "execute_result"
    }
   ],
   "source": [
    "sequence_cardinality('ba', T)"
   ]
  },
  {
   "cell_type": "code",
   "execution_count": 20,
   "id": "awful-holmes",
   "metadata": {},
   "outputs": [
    {
     "data": {
      "text/plain": [
       "0"
      ]
     },
     "execution_count": 20,
     "metadata": {},
     "output_type": "execute_result"
    }
   ],
   "source": [
    "# This sequence has cardinality 0\n",
    "sequence_cardinality('MNO', T)"
   ]
  },
  {
   "cell_type": "markdown",
   "id": "freelance-density",
   "metadata": {},
   "source": [
    "This sequence has $n_T(S) < 0$ because one of its symbols is not in T"
   ]
  },
  {
   "cell_type": "code",
   "execution_count": 21,
   "id": "acquired-yacht",
   "metadata": {},
   "outputs": [
    {
     "data": {
      "text/plain": [
       "-1"
      ]
     },
     "execution_count": 21,
     "metadata": {},
     "output_type": "execute_result"
    }
   ],
   "source": [
    "sequence_cardinality('abcM', T)"
   ]
  },
  {
   "cell_type": "markdown",
   "id": "modular-header",
   "metadata": {},
   "source": [
    "## Properties of sequences\n",
    "\n",
    "If $S = s_1 ... s_m$ , $m \\ge  2$ is a sequence in $T$, then the following properties can be verified.\n",
    "\n",
    "**Property**: $(s_i, s_j)$ are paired in $T$ for $i \\lt j$ and unpaired for $i \\ge j$.\n",
    "\n",
    "**Property**: the cardinality is equal for the sequence and its pairs. $n_T(S) = n_T(s_i,  s_j)$ for all $i \\lt j$"
   ]
  },
  {
   "cell_type": "code",
   "execution_count": 22,
   "id": "distinguished-treasure",
   "metadata": {},
   "outputs": [],
   "source": [
    "T='a1b2ca3bc4a5bc'\n",
    "S='abc'"
   ]
  },
  {
   "cell_type": "code",
   "execution_count": 48,
   "id": "first-fabric",
   "metadata": {
    "tags": []
   },
   "outputs": [
    {
     "name": "stdout",
     "output_type": "stream",
     "text": [
      "Cardinality of S in T: 2\n",
      "Cardinality of ab in T: 2\n",
      "Cardinality of bc in T: 2\n",
      "Cardinality of ac in T: 2\n",
      "Cardinality of ba in T: -1 (should be negative)\n"
     ]
    }
   ],
   "source": [
    "print( \"Cardinality of S in T: {}\".format( sequence_cardinality(S,T) ) )\n",
    "print( \"Cardinality of ab in T: {}\".format( pair_cardinality('a', 'b', T) ) )\n",
    "print( \"Cardinality of bc in T: {}\".format( pair_cardinality('b', 'c', T) ) )\n",
    "print( \"Cardinality of ac in T: {}\".format( pair_cardinality('a', 'c', T) ) )\n",
    "print( \"Cardinality of ba in T: {} (should be negative)\".format( pair_cardinality('b', 'a', T) ) )"
   ]
  },
  {
   "cell_type": "markdown",
   "id": "engaging-marketing",
   "metadata": {},
   "source": [
    "## Lemma: Consecutive sequence order"
   ]
  },
  {
   "cell_type": "markdown",
   "id": "medical-youth",
   "metadata": {},
   "source": [
    "When describing a sequence based on the pairs which lies in it, an interesting property emerges. Clearly there are exactly $m$ pairs in $S=s_1 ... s_m$ of the form $(s_i, s_m)$ because all its symbols are different bby definition. And this is applicable to any subtrace of $S$. A stronger claim can be proved, that there are no such pairs ending in $s_m$ in $T$ outside $S$ with the same cardinality.\n",
    "\n",
    "**Lemma**: $s_j$ is the $j$-esim element of a sequence $S$ in $T$ $\\iff$ there are exactly $j-1$ pairs $(x, s_j)$ paired in $T$ where $n_T(S) = n_T(x, s_j)$. All such $x$ lies inside $S$.\n",
    "\n",
    "(proof easy but pending)\n",
    "\n",
    "Below are some examples of the lemma."
   ]
  },
  {
   "cell_type": "code",
   "execution_count": 49,
   "id": "oriental-glossary",
   "metadata": {},
   "outputs": [],
   "source": [
    "T='a1b2ca3bc4a5bc'\n",
    "S='abc'\n",
    "\n",
    "pairs = pairs_in_trace(T)"
   ]
  },
  {
   "cell_type": "code",
   "execution_count": 54,
   "id": "preliminary-underwear",
   "metadata": {},
   "outputs": [
    {
     "data": {
      "text/html": [
       "<div>\n",
       "<style scoped>\n",
       "    .dataframe tbody tr th:only-of-type {\n",
       "        vertical-align: middle;\n",
       "    }\n",
       "\n",
       "    .dataframe tbody tr th {\n",
       "        vertical-align: top;\n",
       "    }\n",
       "\n",
       "    .dataframe thead th {\n",
       "        text-align: right;\n",
       "    }\n",
       "</style>\n",
       "<table border=\"1\" class=\"dataframe\">\n",
       "  <thead>\n",
       "    <tr style=\"text-align: right;\">\n",
       "      <th></th>\n",
       "      <th>24</th>\n",
       "      <th>23</th>\n",
       "      <th>25</th>\n",
       "      <th>12</th>\n",
       "      <th>34</th>\n",
       "      <th>45</th>\n",
       "      <th>14</th>\n",
       "      <th>ac</th>\n",
       "      <th>ab</th>\n",
       "      <th>35</th>\n",
       "      <th>13</th>\n",
       "      <th>15</th>\n",
       "      <th>bc</th>\n",
       "    </tr>\n",
       "  </thead>\n",
       "  <tbody>\n",
       "    <tr>\n",
       "      <th>pairs</th>\n",
       "      <td>1</td>\n",
       "      <td>1</td>\n",
       "      <td>1</td>\n",
       "      <td>1</td>\n",
       "      <td>1</td>\n",
       "      <td>1</td>\n",
       "      <td>1</td>\n",
       "      <td>3</td>\n",
       "      <td>3</td>\n",
       "      <td>1</td>\n",
       "      <td>1</td>\n",
       "      <td>1</td>\n",
       "      <td>3</td>\n",
       "    </tr>\n",
       "  </tbody>\n",
       "</table>\n",
       "</div>"
      ],
      "text/plain": [
       "       24  23  25  12  34  45  14  ac  ab  35  13  15  bc\n",
       "pairs   1   1   1   1   1   1   1   3   3   1   1   1   3"
      ]
     },
     "execution_count": 54,
     "metadata": {},
     "output_type": "execute_result"
    }
   ],
   "source": [
    "# Show all pairs in T\n",
    "\n",
    "P=pd.DataFrame.from_dict( { a[0]+a[1]:b for a,b in pairs.items() }, orient='index', columns=['pairs'] )\n",
    "P[ P['pairs'] >= 0 ].T"
   ]
  },
  {
   "cell_type": "code",
   "execution_count": 61,
   "id": "ignored-reflection",
   "metadata": {},
   "outputs": [
    {
     "name": "stdout",
     "output_type": "stream",
     "text": [
      "Cardinality of S in T: 3\n"
     ]
    }
   ],
   "source": [
    "print( \"Cardinality of S in T: {}\".format( sequence_cardinality(S,T) ) )"
   ]
  },
  {
   "cell_type": "code",
   "execution_count": 62,
   "id": "future-party",
   "metadata": {},
   "outputs": [
    {
     "data": {
      "text/plain": [
       "[]"
      ]
     },
     "execution_count": 62,
     "metadata": {},
     "output_type": "execute_result"
    }
   ],
   "source": [
    "# All pairs ending in 'a' for S=abc\n",
    "[ (x,sj,n) for (x,sj), n in pairs.items() \n",
    " if sj == 'a' \n",
    " and sequence_cardinality(S, T) == pair_cardinality(x, sj, T) ] "
   ]
  },
  {
   "cell_type": "code",
   "execution_count": 63,
   "id": "occupational-portland",
   "metadata": {},
   "outputs": [
    {
     "data": {
      "text/plain": [
       "[('a', 'b', 3)]"
      ]
     },
     "execution_count": 63,
     "metadata": {},
     "output_type": "execute_result"
    }
   ],
   "source": [
    "# All pairs ending in 'b' for S=abc\n",
    "[ (x,sj,n) for (x,sj), n in pairs.items() \n",
    " if sj == 'b' \n",
    " and sequence_cardinality(S, T) == pair_cardinality(x, sj, T) ] "
   ]
  },
  {
   "cell_type": "code",
   "execution_count": 64,
   "id": "periodic-legislature",
   "metadata": {},
   "outputs": [
    {
     "data": {
      "text/plain": [
       "[('a', 'c', 3), ('b', 'c', 3)]"
      ]
     },
     "execution_count": 64,
     "metadata": {},
     "output_type": "execute_result"
    }
   ],
   "source": [
    "# All pairs ending in 'c' for S=abc\n",
    "[ (x,sj,n) for (x,sj), n in pairs.items() \n",
    " if sj == 'c' \n",
    " and sequence_cardinality(S, T) == pair_cardinality(x, sj, T) ] "
   ]
  },
  {
   "cell_type": "markdown",
   "id": "right-canadian",
   "metadata": {},
   "source": [
    "## Complexity of getting all pairs in T"
   ]
  },
  {
   "cell_type": "markdown",
   "id": "antique-upper",
   "metadata": {},
   "source": [
    "The time seems to be bounded by $O( |T|  2^{\\Sigma(T)} )$ , it depends on the size of alphabet instead of the length of the traces."
   ]
  },
  {
   "cell_type": "code",
   "execution_count": 30,
   "id": "optical-library",
   "metadata": {},
   "outputs": [
    {
     "name": "stdout",
     "output_type": "stream",
     "text": [
      "Extract all pairs: fixed length\n",
      "-------\n",
      "\n",
      "length=10000, symbols=10\n",
      "CPU times: user 27.3 ms, sys: 972 µs, total: 28.2 ms\n",
      "Wall time: 28 ms\n",
      "\n",
      "length=10000, symbols=20\n",
      "CPU times: user 109 ms, sys: 2.53 ms, total: 111 ms\n",
      "Wall time: 111 ms\n",
      "\n",
      "length=9990, symbols=30\n",
      "CPU times: user 230 ms, sys: 1.63 ms, total: 232 ms\n",
      "Wall time: 232 ms\n",
      "\n",
      "length=10000, symbols=40\n",
      "CPU times: user 398 ms, sys: 1.52 ms, total: 400 ms\n",
      "Wall time: 399 ms\n",
      "\n",
      "length=10000, symbols=50\n",
      "CPU times: user 632 ms, sys: 1.57 ms, total: 633 ms\n",
      "Wall time: 633 ms\n",
      "\n",
      "length=9960, symbols=60\n",
      "CPU times: user 926 ms, sys: 3.96 ms, total: 930 ms\n",
      "Wall time: 933 ms\n",
      "\n",
      "length=9940, symbols=70\n",
      "CPU times: user 1.3 s, sys: 7 ms, total: 1.31 s\n",
      "Wall time: 1.31 s\n",
      "\n",
      "length=10000, symbols=80\n",
      "CPU times: user 1.69 s, sys: 7.96 ms, total: 1.7 s\n",
      "Wall time: 1.71 s\n",
      "\n",
      "length=9990, symbols=90\n",
      "CPU times: user 2.14 s, sys: 8.44 ms, total: 2.15 s\n",
      "Wall time: 2.16 s\n",
      "\n",
      "length=10000, symbols=100\n",
      "CPU times: user 2.57 s, sys: 6.54 ms, total: 2.58 s\n",
      "Wall time: 2.58 s\n",
      "\n",
      "Extract all pairs: fixed symbols\n",
      "-------\n",
      "\n",
      "length=1000, symbols=100\n",
      "CPU times: user 283 ms, sys: 3.09 ms, total: 286 ms\n",
      "Wall time: 288 ms\n",
      "\n",
      "length=2000, symbols=100\n",
      "CPU times: user 554 ms, sys: 4.09 ms, total: 558 ms\n",
      "Wall time: 561 ms\n",
      "\n",
      "length=3000, symbols=100\n",
      "CPU times: user 821 ms, sys: 5.93 ms, total: 827 ms\n",
      "Wall time: 832 ms\n",
      "\n",
      "length=4000, symbols=100\n",
      "CPU times: user 1.07 s, sys: 5.49 ms, total: 1.07 s\n",
      "Wall time: 1.08 s\n",
      "\n",
      "length=5000, symbols=100\n",
      "CPU times: user 1.34 s, sys: 6.37 ms, total: 1.34 s\n",
      "Wall time: 1.35 s\n",
      "\n",
      "length=6000, symbols=100\n",
      "CPU times: user 1.52 s, sys: 2.95 ms, total: 1.52 s\n",
      "Wall time: 1.52 s\n",
      "\n",
      "length=7000, symbols=100\n",
      "CPU times: user 1.76 s, sys: 2.61 ms, total: 1.76 s\n",
      "Wall time: 1.76 s\n",
      "\n",
      "length=8000, symbols=100\n",
      "CPU times: user 2.06 s, sys: 4.47 ms, total: 2.06 s\n",
      "Wall time: 2.07 s\n",
      "\n",
      "length=9000, symbols=100\n",
      "CPU times: user 2.34 s, sys: 6.25 ms, total: 2.34 s\n",
      "Wall time: 2.35 s\n",
      "\n",
      "length=10000, symbols=100\n",
      "CPU times: user 2.71 s, sys: 13.4 ms, total: 2.72 s\n",
      "Wall time: 2.73 s\n"
     ]
    }
   ],
   "source": [
    "print('Extract all pairs: fixed length\\n-------')\n",
    "N=10000\n",
    "for i in range(1,11):\n",
    "    T = list(range(10*i)) * int(N/(10*i) )\n",
    "    print( \"\\nlength={}, symbols={}\".format(len(T), 10*i))\n",
    "    %time pairs_in_trace( T  )\n",
    "    \n",
    "print('\\nExtract all pairs: fixed symbols\\n-------')\n",
    "S=100\n",
    "for N in range(1,11):\n",
    "    T = list(range(S)) * (N*10) \n",
    "    print( \"\\nlength={}, symbols={}\".format(len(T), S))\n",
    "    %time pairs_in_trace( T  )"
   ]
  },
  {
   "cell_type": "code",
   "execution_count": null,
   "id": "selective-richards",
   "metadata": {},
   "outputs": [],
   "source": []
  }
 ],
 "metadata": {
  "kernelspec": {
   "display_name": "Python 3",
   "language": "python",
   "name": "python3"
  },
  "language_info": {
   "codemirror_mode": {
    "name": "ipython",
    "version": 3
   },
   "file_extension": ".py",
   "mimetype": "text/x-python",
   "name": "python",
   "nbconvert_exporter": "python",
   "pygments_lexer": "ipython3",
   "version": "3.9.1"
  }
 },
 "nbformat": 4,
 "nbformat_minor": 5
}
