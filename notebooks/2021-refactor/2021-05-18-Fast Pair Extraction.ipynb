{
 "cells": [
  {
   "cell_type": "markdown",
   "id": "extra-classics",
   "metadata": {},
   "source": [
    "# Fast Pair Extraction"
   ]
  },
  {
   "cell_type": "markdown",
   "id": "deluxe-madagascar",
   "metadata": {},
   "source": [
    "In *theory202104* the pair extraction is done in a extensive way using just one property (if $ab$ is pair in $T$ then $ba$ is not a pair). For an alphabet $\\Sigma$ this implies a number of operations $O( |\\Sigma|^2 )$. This complexity can be lowered by observing that for pair $(a,b)$, the frecuencies of $a$ and $b$ should be the same."
   ]
  },
  {
   "cell_type": "markdown",
   "id": "removable-bruce",
   "metadata": {},
   "source": [
    "## Python Preamble"
   ]
  },
  {
   "cell_type": "code",
   "execution_count": 1,
   "id": "corporate-paradise",
   "metadata": {},
   "outputs": [],
   "source": [
    "import random\n",
    "import sys\n",
    "sys.path.append(\"../../src\")\n",
    "%reload_ext autoreload\n",
    "%autoreload 2\n",
    "\n",
    "from theory202105 import *\n",
    "# from helpers import graph\n",
    "import theory202104"
   ]
  },
  {
   "cell_type": "code",
   "execution_count": 2,
   "id": "dedicated-mexican",
   "metadata": {},
   "outputs": [],
   "source": [
    "import logging, logging.config, sys\n",
    "\n",
    "# Disable other loggers\n",
    "logging.config.dictConfig({\n",
    "    'version': 1,\n",
    "    'disable_existing_loggers': True,\n",
    "})\n",
    "\n",
    "# Set logging for this notebook only\n",
    "logging.basicConfig(\n",
    "    format='[%(asctime)s] %(levelname)s: %(message)s',\n",
    "    level=logging.INFO,\n",
    "    handlers=[\n",
    "        logging.StreamHandler(stream=sys.stderr),\n",
    "    ]\n",
    ")"
   ]
  },
  {
   "cell_type": "markdown",
   "id": "unsigned-little",
   "metadata": {},
   "source": [
    "## 202104 all pair extraction"
   ]
  },
  {
   "cell_type": "code",
   "execution_count": 3,
   "id": "lesser-harassment",
   "metadata": {},
   "outputs": [
    {
     "name": "stdout",
     "output_type": "stream",
     "text": [
      "\n",
      "Extract pairs in a random trace of length 1000, with 100 symbols\n",
      "CPU times: user 542 ms, sys: 3.71 ms, total: 546 ms\n",
      "Wall time: 547 ms\n",
      "\n",
      "Extract pairs in a random trace of length 1000, with 200 symbols\n",
      "CPU times: user 2.1 s, sys: 8.45 ms, total: 2.11 s\n",
      "Wall time: 2.12 s\n",
      "\n",
      "Extract pairs in a random trace of length 1000, with 300 symbols\n",
      "CPU times: user 4.35 s, sys: 13.9 ms, total: 4.36 s\n",
      "Wall time: 4.38 s\n",
      "\n",
      "Extract pairs in a random trace of length 1000, with 400 symbols\n",
      "CPU times: user 6.89 s, sys: 15.7 ms, total: 6.9 s\n",
      "Wall time: 6.91 s\n",
      "\n",
      "Extract pairs in a random trace of length 1000, with 500 symbols\n",
      "CPU times: user 9.59 s, sys: 22.1 ms, total: 9.62 s\n",
      "Wall time: 9.63 s\n"
     ]
    }
   ],
   "source": [
    "N=[1000]; Sigma=[100,200,300, 400, 500]\n",
    "for n in N:\n",
    "    for s in Sigma:\n",
    "        print(f'\\nExtract pairs in a random trace of length {n}, with {s} symbols')\n",
    "        %time theory202104.pairs_in_trace( [random.randint(1,s) for _ in range(n)] )"
   ]
  },
  {
   "cell_type": "markdown",
   "id": "oriental-moment",
   "metadata": {},
   "source": [
    "## New pairs in trace"
   ]
  },
  {
   "cell_type": "markdown",
   "id": "capital-thing",
   "metadata": {},
   "source": [
    "In the previous version the full adjacency matrix is returned, mostly with -1. In this version, subtraces made of same frequency symbols are considered."
   ]
  },
  {
   "cell_type": "markdown",
   "id": "third-fraud",
   "metadata": {},
   "source": [
    "```python\n",
    "def pairs_in_trace(Trace, cardinality=pair_cardinality):\n",
    "    Pairs_in_T = {}\n",
    "\n",
    "    # Fill freq table\n",
    "    \n",
    "    freq_of_char = {}\n",
    "    for a in Trace:\n",
    "        freq_of_char[a] = freq_of_char.get(a, 0) + 1    \n",
    "        \n",
    "    # split the trace in a hash table, identified by frequency. \n",
    "    # This step preserves order but reduces trace size.\n",
    "    \n",
    "    hashTrace = {}\n",
    "    for a in Trace:\n",
    "        f = freq_of_char[a]\n",
    "        hashTrace[f] = hashTrace.get(f, []) + [a] if type(a)!=type([]) else a\n",
    "        \n",
    "    # For each sliced trace compute all positive pairs\n",
    "    for f, T in hashTrace.items():\n",
    "\n",
    "        # The alphabet in T\n",
    "        Sigma = list(set( [x for x in T] ))\n",
    "    \n",
    "        for i in range( len(Sigma) ):\n",
    "            a = Sigma[i]\n",
    "\n",
    "            Pairs_in_T[ (a,a) ] = cardinality(a, a, T)\n",
    "            for b in Sigma[i+1:]:\n",
    "                Pairs_in_T[ (a,b) ] = cardinality(a, b, T)\n",
    "                # asymmetric paired property: if (a,b) is paired in T the (b,a) is not\n",
    "                if Pairs_in_T[ (a,b) ]>=0:\n",
    "                    Pairs_in_T[ (b,a) ] = -1  \n",
    "                else: \n",
    "                    Pairs_in_T[ (b,a) ] = cardinality(b, a, T)\n",
    "                    \n",
    "    return Pairs_in_T\n",
    "```"
   ]
  },
  {
   "cell_type": "code",
   "execution_count": 8,
   "id": "white-galaxy",
   "metadata": {
    "tags": []
   },
   "outputs": [
    {
     "name": "stdout",
     "output_type": "stream",
     "text": [
      "Sequences inferred from 202104 theory: {2: [['a', 'b', 'c']]}\n",
      "Sequences inferred from 202105 theory: {2: [['a', 'b', 'c']]}\n"
     ]
    }
   ],
   "source": [
    "# Note that the sequence 1234 can be destroyed if a 4321 is added.\n",
    "T='123abcabc44321'\n",
    "# pairs = pairs_in_trace(T)\n",
    "# pandasPair(pairs)\n",
    "print('Sequences inferred from 202104 theory: {}'.format(theory202104.sequences_from_log([T]))) \n",
    "print('Sequences inferred from 202105 theory: {}'.format(sequences_from_log([T]))) "
   ]
  },
  {
   "cell_type": "code",
   "execution_count": 5,
   "id": "elder-chaos",
   "metadata": {},
   "outputs": [
    {
     "name": "stdout",
     "output_type": "stream",
     "text": [
      "For trace aXYbaYXb the positive pair graph is:\n",
      "Sequences inferred from 202104 theory: {2: [['a', 'X', 'b'], ['a', 'Y', 'b']]}\n",
      "Sequences inferred from 202105 theory: {2: [['a', 'X', 'b'], ['a', 'Y', 'b']]}\n"
     ]
    }
   ],
   "source": [
    "L=['aXYbaYXb']\n",
    "for X in L:\n",
    "    print('For trace {} the positive pair graph is:'.format(X))\n",
    "#     graph(positive_graph(X))\n",
    "\n",
    "print('Sequences inferred from 202104 theory: {}'.format(theory202104.sequences_from_log(L))) \n",
    "print('Sequences inferred from 202105 theory: {}'.format(sequences_from_log(L))) \n",
    "# pairs = pairs_in_trace(L[0])\n",
    "# pandasPair(pairs)"
   ]
  },
  {
   "cell_type": "code",
   "execution_count": 6,
   "id": "controversial-summer",
   "metadata": {},
   "outputs": [
    {
     "name": "stdout",
     "output_type": "stream",
     "text": [
      "\n",
      "Extract pairs in a random trace of length 1000, with 500 symbols\n",
      "I found 46616 pairs in the random trace\n",
      "CPU times: user 673 ms, sys: 6.68 ms, total: 680 ms\n",
      "Wall time: 678 ms\n"
     ]
    },
    {
     "data": {
      "text/html": [
       "<div>\n",
       "<style scoped>\n",
       "    .dataframe tbody tr th:only-of-type {\n",
       "        vertical-align: middle;\n",
       "    }\n",
       "\n",
       "    .dataframe tbody tr th {\n",
       "        vertical-align: top;\n",
       "    }\n",
       "\n",
       "    .dataframe thead th {\n",
       "        text-align: right;\n",
       "    }\n",
       "</style>\n",
       "<table border=\"1\" class=\"dataframe\">\n",
       "  <thead>\n",
       "    <tr style=\"text-align: right;\">\n",
       "      <th></th>\n",
       "      <th>pairs</th>\n",
       "    </tr>\n",
       "  </thead>\n",
       "  <tbody>\n",
       "    <tr>\n",
       "      <th>(x408, x408)</th>\n",
       "      <td>-1</td>\n",
       "    </tr>\n",
       "    <tr>\n",
       "      <th>(x408, x360)</th>\n",
       "      <td>-1</td>\n",
       "    </tr>\n",
       "    <tr>\n",
       "      <th>(x360, x408)</th>\n",
       "      <td>-1</td>\n",
       "    </tr>\n",
       "    <tr>\n",
       "      <th>(x408, x291)</th>\n",
       "      <td>-1</td>\n",
       "    </tr>\n",
       "    <tr>\n",
       "      <th>(x291, x408)</th>\n",
       "      <td>-1</td>\n",
       "    </tr>\n",
       "    <tr>\n",
       "      <th>...</th>\n",
       "      <td>...</td>\n",
       "    </tr>\n",
       "    <tr>\n",
       "      <th>(x127, x127)</th>\n",
       "      <td>-1</td>\n",
       "    </tr>\n",
       "    <tr>\n",
       "      <th>(x127, x401)</th>\n",
       "      <td>-1</td>\n",
       "    </tr>\n",
       "    <tr>\n",
       "      <th>(x401, x127)</th>\n",
       "      <td>-1</td>\n",
       "    </tr>\n",
       "    <tr>\n",
       "      <th>(x401, x401)</th>\n",
       "      <td>-1</td>\n",
       "    </tr>\n",
       "    <tr>\n",
       "      <th>(x255, x255)</th>\n",
       "      <td>-1</td>\n",
       "    </tr>\n",
       "  </tbody>\n",
       "</table>\n",
       "<p>46616 rows × 1 columns</p>\n",
       "</div>"
      ],
      "text/plain": [
       "              pairs\n",
       "(x408, x408)     -1\n",
       "(x408, x360)     -1\n",
       "(x360, x408)     -1\n",
       "(x408, x291)     -1\n",
       "(x291, x408)     -1\n",
       "...             ...\n",
       "(x127, x127)     -1\n",
       "(x127, x401)     -1\n",
       "(x401, x127)     -1\n",
       "(x401, x401)     -1\n",
       "(x255, x255)     -1\n",
       "\n",
       "[46616 rows x 1 columns]"
      ]
     },
     "execution_count": 6,
     "metadata": {},
     "output_type": "execute_result"
    }
   ],
   "source": [
    "%%time\n",
    "N=[1000]; Sigma=[500]\n",
    "for n in N:\n",
    "    for s in Sigma:\n",
    "        print(f'\\nExtract pairs in a random trace of length {n}, with {s} symbols')\n",
    "        P = pairs_in_trace( [ f'x{random.randint(1,s)}' for _ in range(n)] )\n",
    "        \n",
    "print(f'I found {len(P)} pairs in the random trace')\n",
    "pandasPair(P)"
   ]
  },
  {
   "cell_type": "markdown",
   "id": "centered-difference",
   "metadata": {},
   "source": [
    "For $N=1000$, $|\\Sigma|=500$ there is an x20 improvement in time. Not bad. Let's try with bigger values."
   ]
  },
  {
   "cell_type": "code",
   "execution_count": 7,
   "id": "different-panama",
   "metadata": {},
   "outputs": [
    {
     "name": "stdout",
     "output_type": "stream",
     "text": [
      "\n",
      "Extract pairs in a random trace of length 1000, with 500 symbols\n",
      "CPU times: user 535 ms, sys: 3.77 ms, total: 539 ms\n",
      "Wall time: 538 ms\n",
      "\n",
      "Extract pairs in a random trace of length 1000, with 1000 symbols\n",
      "CPU times: user 2.72 s, sys: 11 ms, total: 2.73 s\n",
      "Wall time: 2.73 s\n",
      "\n",
      "Extract pairs in a random trace of length 1000, with 2000 symbols\n",
      "CPU times: user 7.62 s, sys: 25.4 ms, total: 7.64 s\n",
      "Wall time: 7.66 s\n",
      "\n",
      "Extract pairs in a random trace of length 5000, with 500 symbols\n",
      "CPU times: user 611 ms, sys: 2.01 ms, total: 613 ms\n",
      "Wall time: 613 ms\n",
      "\n",
      "Extract pairs in a random trace of length 5000, with 1000 symbols\n",
      "CPU times: user 4.56 s, sys: 6.65 ms, total: 4.57 s\n",
      "Wall time: 4.57 s\n",
      "\n",
      "Extract pairs in a random trace of length 5000, with 2000 symbols\n",
      "CPU times: user 34.6 s, sys: 88.7 ms, total: 34.7 s\n",
      "Wall time: 34.7 s\n",
      "\n",
      "Extract pairs in a random trace of length 10000, with 500 symbols\n",
      "CPU times: user 681 ms, sys: 4.63 ms, total: 685 ms\n",
      "Wall time: 689 ms\n",
      "\n",
      "Extract pairs in a random trace of length 10000, with 1000 symbols\n",
      "CPU times: user 4.61 s, sys: 17.4 ms, total: 4.63 s\n",
      "Wall time: 4.64 s\n",
      "\n",
      "Extract pairs in a random trace of length 10000, with 2000 symbols\n",
      "CPU times: user 38.4 s, sys: 107 ms, total: 38.5 s\n",
      "Wall time: 38.6 s\n"
     ]
    }
   ],
   "source": [
    "N=[1000, 5000, 10000]; Sigma=[500, 1000, 2000]\n",
    "for n in N:\n",
    "    for s in Sigma:\n",
    "        print(f'\\nExtract pairs in a random trace of length {n}, with {s} symbols')\n",
    "        %time pairs_in_trace( [random.randint(1,s) for _ in range(n)] )"
   ]
  }
 ],
 "metadata": {
  "kernelspec": {
   "display_name": "Python 3",
   "language": "python",
   "name": "python3"
  },
  "language_info": {
   "codemirror_mode": {
    "name": "ipython",
    "version": 3
   },
   "file_extension": ".py",
   "mimetype": "text/x-python",
   "name": "python",
   "nbconvert_exporter": "python",
   "pygments_lexer": "ipython3",
   "version": "3.9.1"
  }
 },
 "nbformat": 4,
 "nbformat_minor": 5
}
