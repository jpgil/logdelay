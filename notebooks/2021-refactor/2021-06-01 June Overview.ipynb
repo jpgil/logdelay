{
 "cells": [
  {
   "cell_type": "markdown",
   "id": "selected-quality",
   "metadata": {},
   "source": [
    "# Trace Graphs Theory\n",
    "June 1, 2021 - jgil@eso.org"
   ]
  },
  {
   "cell_type": "markdown",
   "id": "behind-meaning",
   "metadata": {},
   "source": [
    "## Definitions\n",
    "\n",
    "An alphabet $\\Sigma$ is a finite set of symbols. \n",
    "\n",
    "A **trace** $T \\in \\Sigma^*$ is a finite sequence of symbols $e \\in \\Sigma$ and can b written as $T=(e_i)_{i=N}$, where the length of $T$ is $|T|=N$. An empty trace where $|T|=0$ is denoted as $\\varepsilon$. A **log** is a set of traces.\n",
    "\n",
    "**Symbols in a trace**: The set of symbols that appears in a trace $T$ are denoted by  $\\|T\\|$, where $\\|T\\| \\in \\Sigma^*$. We say that two traces are disjoint if $\\|X\\| \\cap \\|Y\\| = \\emptyset$\n",
    "\n",
    "Note: In formal languages, a trace is a *word* and a log is a *language*. See Ref 1."
   ]
  },
  {
   "cell_type": "markdown",
   "id": "confident-preference",
   "metadata": {},
   "source": [
    "## Trace operations\n",
    "\n",
    "**Concatenation**: The concatenation of $T(s_i)_{i=N}$ after $S=(s_i)_{i=M}$ is simply append $S$ after $T$:  $U = ST = (s_i)_{i=M}(t_i)_{i=N}$. The n-concatenation of a sequence $S$ with itself is denoted as $S^n=SS...SS$, $n \\ge 0$. The 0-concatenation of any trace is $T^0=\\varepsilon$.\n",
    "\n",
    "**Restriction to symbols**: If $T$ is a trace and $P \\in \\Sigma^*$,  $T \\sqcap P$ is the restriction of trace $T$ to symbols $P$.\n",
    "From notation it follows that if $X$ is a trace, $T \\sqcap \\|X\\|$ is the restriction of trace $T$ to symbols in trace $X$.\n",
    "\n",
    "Examples:\n",
    "\n",
    "$\\begin{split}\n",
    "T=(bc)^n &, P=\\{c, b\\} &, T \\sqcap P = (bc)^n \\\\\n",
    "T=(bc)^n &, X=bc &, T \\sqcap \\|X\\| = (bc)^n \\\\\n",
    "T=cbd &, X=bc &, T \\sqcap \\|X\\| = cb \\\\\n",
    "T=bdc &, X=bce &, T \\sqcap \\|X\\| = bc \\\\\n",
    "T=bc &, X=de &, T \\sqcap \\|X\\| =  \\varepsilon \\\\\n",
    "\\end{split}$\n",
    "\n",
    "**Remotion**: $T / Y$ is the **remotion** of symbols in trace $Y$ from the trace $T$, it removes $Y$ from $T$.\n",
    "\n",
    "Examples:\n",
    "\n",
    "$\\begin{split}\n",
    "T=aBCde &, Y=BC &, T \\setminus Y=ade \\\\\n",
    "T=aBCde &, Y=BCxyz &, T \\setminus Y=ade \\\\\n",
    "T=(abc)^n &, Y=abc &, T \\setminus Y=\\varepsilon \\\\\n",
    "\\end{split}$\n",
    "\n",
    "**Mixes of traces**: The mixes of a set of traces is the set of all finite random concatenation of arbitrary repetitions in each trace. For $ab$ and $cd$, the mixes are all the permutations of $\\{a, b, c, d\\}$.\n",
    "\n",
    "**Ordered mixes of traces**: The ordered mixes of a set of $n$ traces is their mixes where the original order in each trace is preserved. It is denoted as $T_1 * ... * T_n $.\n",
    "\n",
    "Examples of ordered mixes with $T_1=ade$, $T_2=BC$\n",
    "\n",
    "$\\begin{split}\n",
    "\\varepsilon& \\in T_1 * T_2 \\\\\n",
    "BC         & \\in T_1 * T_2 \\\\\n",
    "CB         & \\notin T_1 * T_2 \\\\\n",
    "BCBC         & \\in T_1 * T_2 \\\\\n",
    "adeBC      & \\in T_1 * T_2 \\\\\n",
    "CBeda      & \\notin T_1 * T_2 \\\\\n",
    "aBdCeadeBC & \\in T_1 * T_2\n",
    "\\end{split}$\n",
    "\n",
    "**Properties of ordered mixes**\n",
    "\n",
    "1. $\\varepsilon * T = \\{\\varepsilon, T, T^2, T^3, ... \\}$\n",
    "1. $T \\in \\varepsilon * T$\n",
    "1. $X * Y = Y * X$\n",
    "\n",
    "**Trace generation** If $T$, $X$, $Y$ are traces, we say that $\\{X, Y\\}$ generates $T$ if $X*Y = \\varepsilon*T$.\n",
    "\n",
    "If $X$, $Y$ are disjoint and generates $T$, then the following properties appears: \n",
    "\n",
    "1. $\\{\\|X\\|, \\|Y\\|\\}$ is a partition of $\\|T\\|$\n",
    "1. $\\exists n\\ge0$ such that $X^n = T \\sqcap \\|X\\| = T \\setminus Y $\n",
    "1. $\\exists m\\ge0$ such that $Y^m = T \\sqcap \\|Y\\| = T \\setminus X $\n",
    "1. $ (T \\sqcap \\|X\\|) * (T \\sqcap \\|Y\\|) = (T \\setminus X) * (T \\setminus Y) = X*Y = \\varepsilon*T$"
   ]
  },
  {
   "cell_type": "markdown",
   "id": "widespread-bumper",
   "metadata": {},
   "source": [
    "## Sequences in a Trace\n",
    "\n",
    "A **sequence** $S=(e_i)_{i=N}$ is a trace where $|S|>0$ and all its symbols are different, $e_i \\neq e_j$, $i \\neq j$. A n-sequence $S$ has $|S|=n$.\n",
    "\n",
    "$S$ **is a sequence in a trace** $T$ if it is contained in the trace: $\\exists m \\ge 0$ such that $T \\sqcap S = S^m$.\n",
    "\n",
    "For example, if $T=abcXYabc$, the following are sequences in $T$: $abc$, $ab$, $ac$, $XY$, $X$, $Y$. Note that all singleton traces $a, b, c, X, Y$ are also sequences in $T$.\n",
    "\n",
    "A sequence in $T$ is **maximal** if it is not a subsequence of other sequences in $T$. \n",
    "\n",
    "The set of **maximal sequences** of a trace is denoted as $\\mathcal{S}(T)$.\n",
    "\n",
    "The **base** of $T$, denoted as $\\mathcal{B}(T)$ is the set of maximal sequences of $T$ where its elements of $S_i$ induces a partition of $T$: the sequences $S_i \\neq S_j, \\forall i \\neq j$ and $\\|T\\| = \\bigcup_{S_i \\in \\mathcal{S}(T)} {\\|S_i\\|}$\n",
    "\n",
    "If all maximal sequences of $S(T)$ are disjoint then $T$ is a **serial trace**. Otherwise, $T$ is a **concurrent trace**. This implies that if $T$ is serial, then its base are its maximal sequences: $\\mathcal{B}(T) = \\mathcal{S}(T)$"
   ]
  },
  {
   "cell_type": "markdown",
   "id": "italian-armor",
   "metadata": {},
   "source": [
    "### Maximal sequences example\n",
    "\n",
    "In the examples below, all $T$ are serial.\n",
    "\n",
    "1. No sequences\n",
    "    * $T=\\varepsilon$, $\\mathcal{S}(T)=\\mathcal{B}(T)= \\{ \\emptyset \\}$\n",
    "1. Singleton\n",
    "    * $T=a$, $\\mathcal{S}(T)=\\mathcal{B}(T)= \\{a\\}$\n",
    "    * $T=aaa$, $\\mathcal{S}(T)=\\mathcal{B}(T)= \\{a\\}$\n",
    "1. Repetitions\n",
    "    * $T=ab$, $\\mathcal{S}(T)=\\mathcal{B}(T)= \\{ab\\}$\n",
    "    * $T=ababX$, $\\mathcal{S}(T)=\\mathcal{B}(T)= \\{ab, X\\}$\n",
    "    * $T=abcXYabc$, $\\mathcal{S}(T)=\\mathcal{B}(T)= \\{abc, XY\\}$\n",
    "1. Destructive sequences:\n",
    "    * $T=abba$, $\\mathcal{S}(T)=\\mathcal{B}(T)= \\{a, b\\}$\n",
    "\n",
    "The following trace is concurrent, note that the base is not their maximal sequences:\n",
    "* $T=aXYbaYXb$\n",
    "* $\\mathcal{S}(T)= \\{aXb, aYb\\}$\n",
    "* $\\mathcal{B}(T)= \\{ab, X, Y\\}$"
   ]
  },
  {
   "cell_type": "markdown",
   "id": "prerequisite-satisfaction",
   "metadata": {},
   "source": [
    "**Property / Lemma** A trace can be generated by mixing its maximal sequences: if $S_i \\in \\mathcal{S}(T)$, then $S_1 * ...* S_i * ... * S_N = \\varepsilon * T$"
   ]
  },
  {
   "cell_type": "markdown",
   "id": "interior-numbers",
   "metadata": {},
   "source": [
    "## Serializarion of a concurrent trace\n",
    "\n",
    ".. this is a technique, I'm not sure if it can be applied to any kind of concurrent trace ..."
   ]
  },
  {
   "cell_type": "markdown",
   "id": "binding-jefferson",
   "metadata": {},
   "source": [
    "## Sequences in a Log"
   ]
  },
  {
   "cell_type": "markdown",
   "id": "decreased-blind",
   "metadata": {},
   "source": [
    "## En proceso de escritura...\n",
    "\n",
    "- Grafo de pares\n",
    "\t- Un par es una secuencia de largo dos\n",
    "\t- Suma de grafos de pares usando matriz de adyacencia\n",
    "\t- Secuencias desde grafos de pares \n",
    "\t- Base de la traza utilizando cliques \n",
    "\t- Serializacion en traza equivalente\n",
    "\t- Base de traza equivalente\n",
    "- Chequeo de conformancia\n",
    "\t- Con la base de la traza\n",
    "\t- Con la base de la traza equivalente\n",
    "\t- Smoothing\n",
    "\t\t- Secuencias recortadas\n",
    "\t\t- Inferir concurrencia\n",
    "\t\t- Simplificación de conjuntos contiguos en la base\n",
    "- Experimentos\n",
    "\t- Logs sintéticos\n",
    "\t- Datos de observatorio\n",
    "- trabajos futuros\n",
    "\t- Grafos antecesores y grafos sucesores\n",
    "\t\t- Usar la base de la traza para simplificar esos grafos\n",
    "\t- Incluir cada nodo de frecuencia uno\n",
    "\t- Asignar probabilidades a cada nodo\n",
    "\t- Inferir un modelo de markov \n",
    "    \n",
    "Ideas principales\n",
    "\n",
    "- Una secuencia es una traza no vacía con todos sus elementos distintos entre sí\n",
    "- Las secuencias de una traza pueden generar esa traza\n",
    "- La secuencias disjuntos de una traza son una base\n",
    "- Una traza es serial si sus secuencias maximales son una base. De lo contrario es concurrente.\n",
    "- Lo anterior aplica a un Log de trazas\n",
    "- La base de una base es el mismo conjunto. Por lo tanto es una invariante.\n",
    "- Forma canónica de un Log\n",
    "- Todas estas propiedades se mantienen en un grafo de Pares.\n",
    "- En un grafo serial no se necesitan cliques, basta ordenar por grados\n",
    "-  así  escribir  que "
   ]
  },
  {
   "cell_type": "markdown",
   "id": "universal-carnival",
   "metadata": {},
   "source": [
    "# References\n",
    "\n",
    "1. https://en.wikipedia.org/wiki/Formal_language"
   ]
  },
  {
   "cell_type": "code",
   "execution_count": null,
   "id": "artificial-registration",
   "metadata": {},
   "outputs": [],
   "source": []
  }
 ],
 "metadata": {
  "kernelspec": {
   "display_name": "Python 3",
   "language": "python",
   "name": "python3"
  },
  "language_info": {
   "codemirror_mode": {
    "name": "ipython",
    "version": 3
   },
   "file_extension": ".py",
   "mimetype": "text/x-python",
   "name": "python",
   "nbconvert_exporter": "python",
   "pygments_lexer": "ipython3",
   "version": "3.9.1"
  }
 },
 "nbformat": 4,
 "nbformat_minor": 5
}
