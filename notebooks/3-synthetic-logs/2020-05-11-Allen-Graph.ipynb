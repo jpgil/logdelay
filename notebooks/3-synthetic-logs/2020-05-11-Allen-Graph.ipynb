{
 "cells": [
  {
   "cell_type": "markdown",
   "metadata": {},
   "source": [
    "# Allen Graph for synthetic logs"
   ]
  },
  {
   "cell_type": "code",
   "execution_count": 288,
   "metadata": {},
   "outputs": [],
   "source": [
    "%reload_ext autoreload\n",
    "%autoreload 2\n",
    "\n",
    "import sys\n",
    "sys.path.append(\"../../src\")\n",
    "import networkx as nx\n",
    "from helpers import graph\n"
   ]
  },
  {
   "cell_type": "markdown",
   "metadata": {},
   "source": [
    "## Allen Graph"
   ]
  },
  {
   "cell_type": "markdown",
   "metadata": {},
   "source": [
    "I will stick to a given control flow, the first example given by 1970-Allen. Oldy but goody."
   ]
  },
  {
   "cell_type": "markdown",
   "metadata": {},
   "source": [
    "To easily define a flow I need the longest paths and the loop info. Note the 425 524 apparent redundancy, but it will be used later to generate the traces. "
   ]
  },
  {
   "cell_type": "code",
   "execution_count": 289,
   "metadata": {},
   "outputs": [],
   "source": [
    "# Allen Graph Data\n",
    "L_serials=['12356', '12456', '12476']\n",
    "L_loops  =['452', '524', '523', '53', '7']\n",
    "L = L_serials + L_loops"
   ]
  },
  {
   "cell_type": "code",
   "execution_count": 290,
   "metadata": {},
   "outputs": [],
   "source": [
    "Ag=nx.DiGraph()\n",
    "for T in L:\n",
    "    for u, v in zip(T[:-1], T[1:]):\n",
    "        Ag.add_edge(u, v)"
   ]
  },
  {
   "cell_type": "code",
   "execution_count": 291,
   "metadata": {},
   "outputs": [
    {
     "data": {
      "image/png": "[encoded data removed]",
      "text/plain": [
       "<IPython.core.display.Image object>"
      ]
     },
     "metadata": {},
     "output_type": "display_data"
    }
   ],
   "source": [
    "graph(Ag)"
   ]
  },
  {
   "cell_type": "markdown",
   "metadata": {},
   "source": [
    "## Random traces from Allen Graph"
   ]
  },
  {
   "cell_type": "markdown",
   "metadata": {},
   "source": [
    "The *Allen Log* is a set of *Allen Traces*, a trace that can replayed in an Allen graph. To write a trace I already have the longest paths, I assume that the head/tail are the start/end. I choose one arbitrary serial and make a walk following the each symbol $s$. But if $s$ overlaps with an arbitrary loop, I insert R repetitions jut before adding $s$. \n",
    "\n",
    "I stopped there, but to be really complete I should have had the \"$s$ overlaps with an arbitrary loop\" also inside the loops. For the sake of brevity, what I built is enough to have different traces.\n",
    "\n",
    "\n",
    "Is it clear?"
   ]
  },
  {
   "cell_type": "code",
   "execution_count": 292,
   "metadata": {},
   "outputs": [],
   "source": [
    "from random import *\n",
    "\n",
    "def create_allen_trace(L_serials, L_loops, max_repetitions=4):\n",
    "    arbitrary_serial = L_serials[randint(0, len(L_serials)-1)]\n",
    "    \n",
    "    walk = []\n",
    "    for s in arbitrary_serial:\n",
    "        \n",
    "        loops = [ list(a) for a in L_loops if a[0] == s]\n",
    "        if loops:\n",
    "            arbitrary_loop = loops[randint(0, len(loops)-1)]\n",
    "            walk += (arbitrary_loop * randint(1, max_repetitions) + [s])\n",
    "        else:\n",
    "            walk.append(s)\n",
    "    return walk\n",
    "\n",
    "def allen_log(N):\n",
    "    L = []\n",
    "    for i in range(N):\n",
    "        T = \"\".join(create_allen_trace(L_serials, L_loops))\n",
    "        L.append(T)\n",
    "    return L"
   ]
  },
  {
   "cell_type": "code",
   "execution_count": 293,
   "metadata": {},
   "outputs": [
    {
     "data": {
      "text/plain": [
       "['124524524524524776',\n",
       " '12352352352356',\n",
       " '12353535356',\n",
       " '12352352356',\n",
       " '1245245245245353535356',\n",
       " '1235353535356',\n",
       " '12352352356',\n",
       " '124524524524776',\n",
       " '12452452477776',\n",
       " '124524524524524776']"
      ]
     },
     "execution_count": 293,
     "metadata": {},
     "output_type": "execute_result"
    }
   ],
   "source": [
    "Alog=allen_log(30)\n",
    "\n",
    "# First traces\n",
    "Alog[:10]"
   ]
  },
  {
   "cell_type": "markdown",
   "metadata": {},
   "source": [
    "All symbols in Allen Graph $A_G$ are in some element of $A_{log}$:"
   ]
  },
  {
   "cell_type": "code",
   "execution_count": 294,
   "metadata": {},
   "outputs": [
    {
     "name": "stdout",
     "output_type": "stream",
     "text": [
      "Is symbol '1' in any T in Alog? : True\n",
      "Is symbol '2' in any T in Alog? : True\n",
      "Is symbol '3' in any T in Alog? : True\n",
      "Is symbol '5' in any T in Alog? : True\n",
      "Is symbol '6' in any T in Alog? : True\n",
      "Is symbol '4' in any T in Alog? : True\n",
      "Is symbol '7' in any T in Alog? : True\n"
     ]
    }
   ],
   "source": [
    "for s in Ag.nodes:\n",
    "    s_in_any_T = any([ s in T for T in Alog ])\n",
    "    print( \"Is symbol '%s' in any T in Alog? : %s\" % (s, s_in_any_T) )"
   ]
  },
  {
   "cell_type": "markdown",
   "metadata": {},
   "source": [
    "In my method with max_repetitions=4, The length is bounded one of the worst case path+loop is len( 12 r(452) 4 r(523) 5 6 ) = 29"
   ]
  },
  {
   "cell_type": "code",
   "execution_count": 295,
   "metadata": {},
   "outputs": [
    {
     "data": {
      "text/plain": [
       "['12452452452452352352352356',\n",
       " '12452452452452452452452456',\n",
       " '12452452452452452452452456',\n",
       " '12452452452452352352356',\n",
       " '1245245245245353535356']"
      ]
     },
     "execution_count": 295,
     "metadata": {},
     "output_type": "execute_result"
    }
   ],
   "source": [
    "sorted(Alog, key=lambda T: -len(T))[:5]"
   ]
  },
  {
   "cell_type": "code",
   "execution_count": 296,
   "metadata": {},
   "outputs": [
    {
     "data": {
      "text/plain": [
       "29"
      ]
     },
     "execution_count": 296,
     "metadata": {},
     "output_type": "execute_result"
    }
   ],
   "source": [
    "len(\"12452452452452452352352352356\")"
   ]
  },
  {
   "cell_type": "markdown",
   "metadata": {},
   "source": [
    "## Expanding basic blocks in Allen Graphs"
   ]
  },
  {
   "cell_type": "markdown",
   "metadata": {},
   "source": [
    "Allen defines *basic blocks* in the same we define *paths* as any trace $T \\in \\Sigma^*$ where symbols are all different. Thus, we need to define a mapping between Allen nodes and paths."
   ]
  },
  {
   "cell_type": "code",
   "execution_count": 297,
   "metadata": {},
   "outputs": [],
   "source": [
    "path = {\n",
    "    \"1\": \"abc\",\n",
    "    \"2\": \"efg\",\n",
    "    \"3\": \"hij\",\n",
    "    \"4\": \"klm\",\n",
    "    \"5\": \"nop\",\n",
    "    \"6\": \"qrs\",\n",
    "    \"7\": \"tuv\"\n",
    "}"
   ]
  },
  {
   "cell_type": "markdown",
   "metadata": {},
   "source": [
    "and for each Allen trace we apply the mapping, for example"
   ]
  },
  {
   "cell_type": "code",
   "execution_count": 298,
   "metadata": {},
   "outputs": [
    {
     "data": {
      "text/plain": [
       "('124524524524524776',\n",
       " ['abc',\n",
       "  'efg',\n",
       "  'klm',\n",
       "  'nop',\n",
       "  'efg',\n",
       "  'klm',\n",
       "  'nop',\n",
       "  'efg',\n",
       "  'klm',\n",
       "  'nop',\n",
       "  'efg',\n",
       "  'klm',\n",
       "  'nop',\n",
       "  'efg',\n",
       "  'klm',\n",
       "  'tuv',\n",
       "  'tuv',\n",
       "  'qrs'])"
      ]
     },
     "execution_count": 298,
     "metadata": {},
     "output_type": "execute_result"
    }
   ],
   "source": [
    "T = Alog[0]\n",
    "mapped_T = [ path[s] for s in T ]\n",
    "T, mapped_T"
   ]
  },
  {
   "cell_type": "markdown",
   "metadata": {},
   "source": [
    "The mapped_T will be converted in a single string, and applied to every Allen traces in log"
   ]
  },
  {
   "cell_type": "code",
   "execution_count": 299,
   "metadata": {},
   "outputs": [
    {
     "data": {
      "text/plain": [
       "('124524524524524776',\n",
       " 'abcefgklmnopefgklmnopefgklmnopefgklmnopefgklmtuvtuvqrs')"
      ]
     },
     "execution_count": 299,
     "metadata": {},
     "output_type": "execute_result"
    }
   ],
   "source": [
    "mapped_Alog = []\n",
    "for T in Alog:\n",
    "    mapped_Alog.append( \"\".join([ path[s] for s in T ]) )\n",
    "    \n",
    "Alog[0], mapped_Alog[0]"
   ]
  },
  {
   "cell_type": "markdown",
   "metadata": {},
   "source": [
    "## Test path_invariants"
   ]
  },
  {
   "cell_type": "code",
   "execution_count": 300,
   "metadata": {},
   "outputs": [],
   "source": [
    "from path_invariants import *"
   ]
  },
  {
   "cell_type": "code",
   "execution_count": 301,
   "metadata": {},
   "outputs": [],
   "source": [
    "by_loops = infer_paths_by_combining_loops(mapped_Alog)"
   ]
  },
  {
   "cell_type": "code",
   "execution_count": 302,
   "metadata": {},
   "outputs": [],
   "source": [
    "by_graphs = infer_paths_by_adding_graphs(mapped_Alog)"
   ]
  },
  {
   "cell_type": "code",
   "execution_count": 303,
   "metadata": {},
   "outputs": [
    {
     "data": {
      "text/plain": [
       "[(42, ['h', 'i', 'j']),\n",
       " (42, ['t', 'u', 'v']),\n",
       " (115, ['n', 'o', 'p']),\n",
       " (115, ['e', 'f', 'g']),\n",
       " (88, ['k', 'l', 'm']),\n",
       " (30, ['a', 'b', 'c', 'q', 'r', 's'])]"
      ]
     },
     "execution_count": 303,
     "metadata": {},
     "output_type": "execute_result"
    }
   ],
   "source": [
    "by_loops"
   ]
  },
  {
   "cell_type": "code",
   "execution_count": 304,
   "metadata": {},
   "outputs": [
    {
     "data": {
      "text/plain": [
       "[(1283, ['n', 'o', 'p']),\n",
       " (912, ['k', 'l', 'm']),\n",
       " (406, ['t', 'u', 'v']),\n",
       " (1225, ['e', 'f', 'g']),\n",
       " (90, ['a', 'b', 'c', 'q', 'r', 's']),\n",
       " (350, ['h', 'i', 'j'])]"
      ]
     },
     "execution_count": 304,
     "metadata": {},
     "output_type": "execute_result"
    }
   ],
   "source": [
    "by_graphs"
   ]
  },
  {
   "cell_type": "markdown",
   "metadata": {},
   "source": [
    "This exactly what we expected. Because \"abc\" \"qrs\" are two paths that appears in every trace, then they become a unique path. "
   ]
  },
  {
   "cell_type": "markdown",
   "metadata": {},
   "source": [
    "## Allen Class"
   ]
  },
  {
   "cell_type": "markdown",
   "metadata": {},
   "source": [
    "I assume equal path length for simplicity. $\\Sigma$ will be a common alphabet."
   ]
  },
  {
   "cell_type": "code",
   "execution_count": 305,
   "metadata": {},
   "outputs": [],
   "source": [
    "from allen_logs import *"
   ]
  },
  {
   "cell_type": "code",
   "execution_count": 306,
   "metadata": {},
   "outputs": [
    {
     "data": {
      "text/plain": [
       "(['a', 'b', 'c', 'd', 'e'], [',', '.', '/', ';', \"'\"])"
      ]
     },
     "execution_count": 306,
     "metadata": {},
     "output_type": "execute_result"
    }
   ],
   "source": [
    "toy = Alphabet()\n",
    "\n",
    "# Example of the alphabet and noise\n",
    "toy.next(5), toy.noise(5)"
   ]
  },
  {
   "cell_type": "code",
   "execution_count": 353,
   "metadata": {},
   "outputs": [],
   "source": [
    "# Common alphabet to have several Allen machines\n",
    "sigma = Alphabet()\n",
    "\n",
    "# Allen Machine creation\n",
    "allen = AllenLog( path_length=3, N=100, loop_repeats=2, alphabet=sigma )"
   ]
  },
  {
   "cell_type": "code",
   "execution_count": 354,
   "metadata": {},
   "outputs": [
    {
     "data": {
      "text/plain": [
       "['12356', '124524535356', '12352356', '12456', '1245247776']"
      ]
     },
     "execution_count": 354,
     "metadata": {},
     "output_type": "execute_result"
    }
   ],
   "source": [
    "# A log of pure Allen traces, from the canonical Allen graph:\n",
    "allen.log[:5]"
   ]
  },
  {
   "cell_type": "code",
   "execution_count": 355,
   "metadata": {},
   "outputs": [
    {
     "data": {
      "text/plain": [
       "['a', 'b', 'c', 'd', 'e', 'f', 'g', 'h', 'i', 'm', 'n', 'o', 'p', 'q', 'r']"
      ]
     },
     "execution_count": 355,
     "metadata": {},
     "output_type": "execute_result"
    }
   ],
   "source": [
    "# Nodes (123...) replaced by the mapping into full paths (abcd...)\n",
    "allen.mapped_log[0][:15]"
   ]
  },
  {
   "cell_type": "code",
   "execution_count": 356,
   "metadata": {},
   "outputs": [
    {
     "data": {
      "text/plain": [
       "{'log': {'length': 100, 'loop_repeats': 2, 'path length': 3},\n",
       " 'allen trace': {'min length': 5, 'median length': 8.0, 'max length': 17},\n",
       " 'mapped trace': {'min length': 15, 'median length': 24.0, 'max length': 51},\n",
       " 'symbol': {'number': 21,\n",
       "  'frecuency': {'min': 0, 'mean': 1.2557142857142858, 'max': 5}}}"
      ]
     },
     "execution_count": 356,
     "metadata": {},
     "output_type": "execute_result"
    }
   ],
   "source": [
    "# Some statistics on generated log\n",
    "allen.stats"
   ]
  },
  {
   "cell_type": "markdown",
   "metadata": {},
   "source": [
    "## Simple Test with Allen"
   ]
  },
  {
   "cell_type": "code",
   "execution_count": 361,
   "metadata": {},
   "outputs": [
    {
     "name": "stdout",
     "output_type": "stream",
     "text": [
      "CPU times: user 5.28 s, sys: 24.8 ms, total: 5.31 s\n",
      "Wall time: 5.33 s\n"
     ]
    }
   ],
   "source": [
    "%time inferred_paths = infer_paths_by_adding_graphs(allen.mapped_log)"
   ]
  },
  {
   "cell_type": "code",
   "execution_count": 363,
   "metadata": {},
   "outputs": [
    {
     "data": {
      "text/plain": [
       "True"
      ]
     },
     "execution_count": 363,
     "metadata": {},
     "output_type": "execute_result"
    }
   ],
   "source": [
    "# Are each allen.paths in any of the inferred paths?  True is happiness\n",
    "all( [ any( [ \n",
    "        set(A).issubset( set(P[1]) ) for A in allen.paths \n",
    "    ] )  for P in inferred_paths\n",
    "] )"
   ]
  },
  {
   "cell_type": "code",
   "execution_count": 364,
   "metadata": {},
   "outputs": [
    {
     "data": {
      "text/plain": [
       "[(1280, ['d', 'e', 'f']),\n",
       " (1188, ['m', 'n', 'o']),\n",
       " (300, ['a', 'b', 'c', 'p', 'q', 'r']),\n",
       " (327, ['g', 'h', 'i']),\n",
       " (858, ['j', 'k', 'l']),\n",
       " (380, ['s', 't', 'u'])]"
      ]
     },
     "execution_count": 364,
     "metadata": {},
     "output_type": "execute_result"
    }
   ],
   "source": [
    "inferred_paths"
   ]
  },
  {
   "cell_type": "code",
   "execution_count": 365,
   "metadata": {},
   "outputs": [
    {
     "data": {
      "text/plain": [
       "[['a', 'b', 'c'],\n",
       " ['d', 'e', 'f'],\n",
       " ['g', 'h', 'i'],\n",
       " ['j', 'k', 'l'],\n",
       " ['m', 'n', 'o'],\n",
       " ['p', 'q', 'r'],\n",
       " ['s', 't', 'u']]"
      ]
     },
     "execution_count": 365,
     "metadata": {},
     "output_type": "execute_result"
    }
   ],
   "source": [
    "allen.paths"
   ]
  },
  {
   "cell_type": "code",
   "execution_count": null,
   "metadata": {},
   "outputs": [],
   "source": []
  }
 ],
 "metadata": {
  "kernelspec": {
   "display_name": "Python 3",
   "language": "python",
   "name": "python3"
  },
  "language_info": {
   "codemirror_mode": {
    "name": "ipython",
    "version": 3
   },
   "file_extension": ".py",
   "mimetype": "text/x-python",
   "name": "python",
   "nbconvert_exporter": "python",
   "pygments_lexer": "ipython3",
   "version": "3.7.5"
  }
 },
 "nbformat": 4,
 "nbformat_minor": 4
}
