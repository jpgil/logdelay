{
 "cells": [
  {
   "cell_type": "code",
   "execution_count": 8,
   "metadata": {},
   "outputs": [],
   "source": [
    "#%matplot inline"
   ]
  },
  {
   "cell_type": "markdown",
   "metadata": {},
   "source": [
    "# Color functions\n",
    "The field logtext in events comes with parameters which must be discarded in order to have clusters of logs."
   ]
  },
  {
   "cell_type": "code",
   "execution_count": 9,
   "metadata": {},
   "outputs": [],
   "source": [
    "# Imports and defines\n",
    "import pandas as pd"
   ]
  },
  {
   "cell_type": "code",
   "execution_count": 167,
   "metadata": {},
   "outputs": [],
   "source": [
    "import re\n",
    "\n",
    "regex_symbols = re.compile(r\"\\W+\")\n",
    "regex_numbers = re.compile(r\"('|:|\\,|^| |\\t|\\.|\\()\\-*\\d+(\\-\\d\\d\\-\\d\\dT\\d\\d)?\")\n",
    "regex_stopwords = re.compile(r\"(\\W)(at|to|for|s|with|by|is|the|of)(\\W)\")\n",
    "regex_UTCdate = re.compile(r\"\\d{4}-\\d{2}-\\d{2}T\\d{2}:\\d{2}:\\d{2}(\\.\\d{0,3})?\")\n",
    "\n",
    "def colorize(l):\n",
    "    l = regex_UTCdate.sub( r\"_date_\", l )\n",
    "    l = regex_symbols.sub( r\" \", l )\n",
    "    l = regex_stopwords.sub( r\"\\1\\3\", l )\n",
    "    l = regex_numbers.sub( r\"\\1{}\", l)\n",
    "    l = re.sub(' {2,}', ' ', l) \n",
    "    return l.strip()"
   ]
  },
  {
   "cell_type": "code",
   "execution_count": 168,
   "metadata": {},
   "outputs": [],
   "source": [
    "regex_antname = re.compile(r\"(\\W)(DA|DV|CM|PM)\\d{2}\")\n",
    "def color_alma(l):\n",
    "    l = regex_antname.sub(r\"\\1ANTxx\", l)\n",
    "    return colorize(l)    "
   ]
  },
  {
   "cell_type": "code",
   "execution_count": 182,
   "metadata": {},
   "outputs": [],
   "source": [
    "regex_telescope_prefix = re.compile(r\"([lw][au]t)[0-9]([a-z]+)\")\n",
    "regex_cmd = re.compile(r\"cmd[0-9]+\")\n",
    "regex_fits = re.compile(r\"([A-Za-z\\d_])+\\.fits\")\n",
    "regex_procname = re.compile(r\"([a-z]+)_\\d{4,}\")\n",
    "regex_obs_param = re.compile(r\"((OBS|SEQ|INS)\\.[A-Z:\\._]+ )[A-Za-z\\d_]+\")\n",
    "\n",
    "def color_paranal(l):\n",
    "    l = regex_obs_param.sub(r\"\\1 000\", l)\n",
    "    l = regex_procname.sub(r\"\\1_X\", l)\n",
    "    l = regex_fits.sub(r\"0_fits\", l)\n",
    "    l = regex_telescope_prefix.sub(r\"\\1X\\2\", l)\n",
    "    l = regex_cmd.sub(r\"cmdX\", l)\n",
    "    return colorize(l)"
   ]
  },
  {
   "cell_type": "code",
   "execution_count": 183,
   "metadata": {},
   "outputs": [
    {
     "data": {
      "text/plain": [
       "'wgv bob_X CAL_HD75063_A OBS OBSERVER {} OBS PI COI ID {} OBS PI COI NAME UNKNOWN OBS PROG ID {} D {} A OBS STREHLRATIO {} {} OBS TARG NAME {}'"
      ]
     },
     "execution_count": 183,
     "metadata": {},
     "output_type": "execute_result"
    }
   ],
   "source": [
    "color_paranal(\"wgv/bob_9247, ... CAL_HD75063_A OBS.OBSERVER UNKNOWN OBS.PI-COI.ID 85837 OBS.PI-COI.NAME UNKNOWN OBS.PROG.ID 0102.D-0760(A) OBS.STREHLRATIO 0.0 OBS.TARG.NAME HD75063\")"
   ]
  },
  {
   "cell_type": "markdown",
   "metadata": {},
   "source": [
    "## Tests with Paranal"
   ]
  },
  {
   "cell_type": "code",
   "execution_count": 102,
   "metadata": {},
   "outputs": [
    {
     "data": {
      "text/html": [
       "<div>\n",
       "<style scoped>\n",
       "    .dataframe tbody tr th:only-of-type {\n",
       "        vertical-align: middle;\n",
       "    }\n",
       "\n",
       "    .dataframe tbody tr th {\n",
       "        vertical-align: top;\n",
       "    }\n",
       "\n",
       "    .dataframe thead th {\n",
       "        text-align: right;\n",
       "    }\n",
       "</style>\n",
       "<table border=\"1\" class=\"dataframe\">\n",
       "  <thead>\n",
       "    <tr style=\"text-align: right;\">\n",
       "      <th></th>\n",
       "      <th>logtext</th>\n",
       "      <th>color</th>\n",
       "    </tr>\n",
       "  </thead>\n",
       "  <tbody>\n",
       "    <tr>\n",
       "      <th>0</th>\n",
       "      <td>TIF   : Received command: SETGVCM, Buffer: 0,...</td>\n",
       "      <td>TIF Received command SETGVCM Buffer {} {} {} {...</td>\n",
       "    </tr>\n",
       "    <tr>\n",
       "      <th>1</th>\n",
       "      <td>TIF   : Succesfully completed command: SETGVC...</td>\n",
       "      <td>TIF Succesfully completed command SETGVCM Buff...</td>\n",
       "    </tr>\n",
       "    <tr>\n",
       "      <th>2</th>\n",
       "      <td>TIF   : Received command: SETGFSM, Buffer: 0,...</td>\n",
       "      <td>TIF Received command SETGFSM Buffer {} {} {} {...</td>\n",
       "    </tr>\n",
       "    <tr>\n",
       "      <th>3</th>\n",
       "      <td>TIF   : Succesfully completed command: SETGFS...</td>\n",
       "      <td>TIF Succesfully completed command SETGFSM Buff...</td>\n",
       "    </tr>\n",
       "    <tr>\n",
       "      <th>4</th>\n",
       "      <td>PRESET: Received command: CLRSTP, Buffer:</td>\n",
       "      <td>PRESET Received command CLRSTP Buffer</td>\n",
       "    </tr>\n",
       "    <tr>\n",
       "      <th>...</th>\n",
       "      <td>...</td>\n",
       "      <td>...</td>\n",
       "    </tr>\n",
       "    <tr>\n",
       "      <th>444</th>\n",
       "      <td>0 - ic0fbiDevDrvDiscreteMotor.C:1953: NAOMI: ...</td>\n",
       "      <td>{} ic0fbiDevDrvDiscreteMotor C {} NAOMI Axis s...</td>\n",
       "    </tr>\n",
       "    <tr>\n",
       "      <th>445</th>\n",
       "      <td>INS.OPTI2.MOVEDONE Motor offset done.</td>\n",
       "      <td>INS OPTI2 MOVEDONE Motor offset done</td>\n",
       "    </tr>\n",
       "    <tr>\n",
       "      <th>446</th>\n",
       "      <td>0 - ic0fbiDevDrvDiscreteMotor.C:1953: NAOMI: ...</td>\n",
       "      <td>{} ic0fbiDevDrvDiscreteMotor C {} NAOMI Axis s...</td>\n",
       "    </tr>\n",
       "    <tr>\n",
       "      <th>447</th>\n",
       "      <td>WD: checking scheduler's health</td>\n",
       "      <td>WD checking scheduler health</td>\n",
       "    </tr>\n",
       "    <tr>\n",
       "      <th>448</th>\n",
       "      <td>WD: scheduler is OK</td>\n",
       "      <td>WD scheduler OK</td>\n",
       "    </tr>\n",
       "  </tbody>\n",
       "</table>\n",
       "<p>449 rows × 2 columns</p>\n",
       "</div>"
      ],
      "text/plain": [
       "                                               logtext  \\\n",
       "0     TIF   : Received command: SETGVCM, Buffer: 0,...   \n",
       "1     TIF   : Succesfully completed command: SETGVC...   \n",
       "2     TIF   : Received command: SETGFSM, Buffer: 0,...   \n",
       "3     TIF   : Succesfully completed command: SETGFS...   \n",
       "4            PRESET: Received command: CLRSTP, Buffer:   \n",
       "..                                                 ...   \n",
       "444   0 - ic0fbiDevDrvDiscreteMotor.C:1953: NAOMI: ...   \n",
       "445              INS.OPTI2.MOVEDONE Motor offset done.   \n",
       "446   0 - ic0fbiDevDrvDiscreteMotor.C:1953: NAOMI: ...   \n",
       "447                    WD: checking scheduler's health   \n",
       "448                                WD: scheduler is OK   \n",
       "\n",
       "                                                 color  \n",
       "0    TIF Received command SETGVCM Buffer {} {} {} {...  \n",
       "1    TIF Succesfully completed command SETGVCM Buff...  \n",
       "2    TIF Received command SETGFSM Buffer {} {} {} {...  \n",
       "3    TIF Succesfully completed command SETGFSM Buff...  \n",
       "4                PRESET Received command CLRSTP Buffer  \n",
       "..                                                 ...  \n",
       "444  {} ic0fbiDevDrvDiscreteMotor C {} NAOMI Axis s...  \n",
       "445               INS OPTI2 MOVEDONE Motor offset done  \n",
       "446  {} ic0fbiDevDrvDiscreteMotor C {} NAOMI Axis s...  \n",
       "447                       WD checking scheduler health  \n",
       "448                                    WD scheduler OK  \n",
       "\n",
       "[449 rows x 2 columns]"
      ]
     },
     "execution_count": 102,
     "metadata": {},
     "output_type": "execute_result"
    }
   ],
   "source": [
    "interim_paranal=\"../../data/interim/PARANAL/\"\n",
    "\n",
    "somefile=!ls $interim_paranal | grep -v OBS | head -n 1\n",
    "\n",
    "instance=pd.read_csv(interim_paranal + somefile[0])\n",
    "\n",
    "instance['color'] = instance['logtext'].apply(color_paranal)\n",
    "\n",
    "instance[[\"logtext\", \"color\"]]"
   ]
  },
  {
   "cell_type": "code",
   "execution_count": 174,
   "metadata": {},
   "outputs": [
    {
     "name": "stdout",
     "output_type": "stream",
     "text": [
      "../../data/interim/PARANAL///GRAVITY-2018-12-23T04:35:10.285Z.OBS.csv:2018-12-23T04:35:10.286Z,wgv/bob_9247, (OBS.NAME: CAL_HD75063_A // OBS.ID: 2067014)\n",
      "../../data/interim/PARANAL///GRAVITY-2018-12-23T04:35:10.285Z.OBS.csv:2018-12-23T04:35:10.578Z,wgv/bob_9247, SEQ INS SOBJ NAME = 'HD75063'\n",
      "../../data/interim/PARANAL///GRAVITY-2018-12-23T04:35:10.285Z.OBS.csv:2018-12-23T04:39:12.785Z,wgv/bob_9247, ... CAL_HD75063_A OBS.OBSERVER UNKNOWN OBS.PI-COI.ID 85837 OBS.PI-COI.NAME UNKNOWN OBS.PROG.ID 0102.D-0760(A) OBS.STREHLRATIO 0.0 OBS.TARG.NAME HD75063\n",
      "../../data/interim/PARANAL///GRAVITY-2018-12-23T04:35:10.285Z.OBS.csv:2018-12-23T04:39:13.103Z,wgv/bob_9247,\" ... FILEINFO no_comment FT.ROBJ.NAME HD75063 FT.MODE 3 INS.SOBJ.Y 0 FT.ROBJ.DELTA -460229.500 INS.SOBJ.NAME HD75063 DPR.TYPE STD,SINGLE INS.SOBJ.VIS 1 FT.ROBJ.PMA -0.0107\"\n",
      "../../data/interim/PARANAL///GRAVITY-2018-12-23T04:35:10.285Z.OBS.csv:2018-12-23T04:39:13.109Z,wgv/bob_9247, ... CAL_HD75063_A OBS.OBSERVER UNKNOWN OBS.PI-COI.ID 85837 OBS.PI-COI.NAME UNKNOWN OBS.PROG.ID 0102.D-0760(A) OBS.STREHLRATIO 0.0 OBS.TARG.NAME HD75063\n",
      "../../data/interim/PARANAL///GRAVITY-2018-12-23T04:35:10.285Z.OBS.csv:2018-12-23T04:39:13.532Z,wgv/bob_9247, ... CAL_HD75063_A OBS.OBSERVER UNKNOWN OBS.PI-COI.ID 85837 OBS.PI-COI.NAME UNKNOWN OBS.PROG.ID 0102.D-0760(A) OBS.STREHLRATIO 0.0 OBS.TARG.NAME HD75063\n",
      "../../data/interim/PARANAL///GRAVITY-2018-12-23T04:35:10.285Z.OBS.csv:2018-12-23T04:44:46.854Z,wgv/bob_9247, ... CAL_HD75063_A OBS.OBSERVER UNKNOWN OBS.PI-COI.ID 85837 OBS.PI-COI.NAME UNKNOWN OBS.PROG.ID 0102.D-0760(A) OBS.STREHLRATIO 0.0 OBS.TARG.NAME HD75063\n",
      "../../data/interim/PARANAL///GRAVITY-2018-12-23T04:35:10.285Z.OBS.csv:2018-12-23T04:44:47.175Z,wgv/bob_9247,\" ... no_comment FT.ROBJ.NAME HD75063 FT.MODE 3 INS.SOBJ.Y 0 INS.SOBJ.NAME HD75063 FT.ROBJ.DELTA -460229.500 DPR.TYPE SKY,SINGLE INS.SOBJ.VIS 1 FT.ROBJ.PMA -0.0107\"\n",
      "../../data/interim/PARANAL///GRAVITY-2018-12-23T04:35:10.285Z.OBS.csv:2018-12-23T04:44:47.188Z,wgv/bob_9247, ... CAL_HD75063_A OBS.OBSERVER UNKNOWN OBS.PI-COI.ID 85837 OBS.PI-COI.NAME UNKNOWN OBS.PROG.ID 0102.D-0760(A) OBS.STREHLRATIO 0.0 OBS.TARG.NAME HD75063\n",
      "../../data/interim/PARANAL///GRAVITY-2018-12-23T04:35:10.285Z.OBS.csv:2018-12-23T04:44:47.738Z,wgv/bob_9247, ... CAL_HD75063_A OBS.OBSERVER UNKNOWN OBS.PI-COI.ID 85837 OBS.PI-COI.NAME UNKNOWN OBS.PROG.ID 0102.D-0760(A) OBS.STREHLRATIO 0.0 OBS.TARG.NAME HD75063\n",
      "../../data/interim/PARANAL///GRAVITY-2018-12-23T04:35:10.285Z.OBS.csv:2018-12-23T04:50:26.009Z,wgv/bob_9247, ... CAL_HD75063_A OBS.OBSERVER UNKNOWN OBS.PI-COI.ID 85837 OBS.PI-COI.NAME UNKNOWN OBS.PROG.ID 0102.D-0760(A) OBS.STREHLRATIO 0.0 OBS.TARG.NAME HD75063\n",
      "../../data/interim/PARANAL///GRAVITY-2018-12-23T04:35:10.285Z.OBS.csv:2018-12-23T04:50:26.392Z,wgv/bob_9247,\" ... FILEINFO no_comment FT.ROBJ.NAME HD75063 FT.MODE 3 INS.SOBJ.Y 0 FT.ROBJ.DELTA -460229.500 INS.SOBJ.NAME HD75063 DPR.TYPE STD,SINGLE INS.SOBJ.VIS 1 FT.ROBJ.PMA -0.0107\"\n",
      "../../data/interim/PARANAL///GRAVITY-2018-12-23T04:35:10.285Z.OBS.csv:2018-12-23T04:50:26.396Z,wgv/bob_9247, ... CAL_HD75063_A OBS.OBSERVER UNKNOWN OBS.PI-COI.ID 85837 OBS.PI-COI.NAME UNKNOWN OBS.PROG.ID 0102.D-0760(A) OBS.STREHLRATIO 0.0 OBS.TARG.NAME HD75063\n",
      "../../data/interim/PARANAL///GRAVITY-2018-12-23T04:35:10.285Z.OBS.csv:2018-12-23T04:50:26.889Z,wgv/bob_9247, ... CAL_HD75063_A OBS.OBSERVER UNKNOWN OBS.PI-COI.ID 85837 OBS.PI-COI.NAME UNKNOWN OBS.PROG.ID 0102.D-0760(A) OBS.STREHLRATIO 0.0 OBS.TARG.NAME HD75063\n"
     ]
    }
   ],
   "source": [
    "!grep -r \"HD75063\" $interim_paranal/ | head -n 20"
   ]
  },
  {
   "cell_type": "code",
   "execution_count": 99,
   "metadata": {},
   "outputs": [
    {
     "data": {
      "text/plain": [
       "'{} {} {}T06 {} {} {}Z wgv bob_X GRAVITY_single_obs_calibrator ORIGFILE {}_fits INS FDDL WINDOW {} INS FDDL DELAY {} {} INS DET2 GAIN {} {} INS DET3 GAIN {} {}'"
      ]
     },
     "execution_count": 99,
     "metadata": {},
     "output_type": "execute_result"
    }
   ],
   "source": [
    "color_paranal(\"2018-12-24T06:23:06.168Z,wgv/bob_25546, ... GRAVITY_single_obs_calibrator ORIGFILE GRAVITY_PARALLEL_STD358_0056.fits INS.FDDL.WINDOW 0 INS.FDDL.DELAY 10.2530052 INS.DET2.GAIN 1.984 INS.DET3.GAIN 0.555555555556\")"
   ]
  },
  {
   "cell_type": "markdown",
   "metadata": {},
   "source": [
    "## Tests with ALMA"
   ]
  },
  {
   "cell_type": "code",
   "execution_count": 301,
   "metadata": {},
   "outputs": [
    {
     "data": {
      "text/html": [
       "<div>\n",
       "<style scoped>\n",
       "    .dataframe tbody tr th:only-of-type {\n",
       "        vertical-align: middle;\n",
       "    }\n",
       "\n",
       "    .dataframe tbody tr th {\n",
       "        vertical-align: top;\n",
       "    }\n",
       "\n",
       "    .dataframe thead th {\n",
       "        text-align: right;\n",
       "    }\n",
       "</style>\n",
       "<table border=\"1\" class=\"dataframe\">\n",
       "  <thead>\n",
       "    <tr style=\"text-align: right;\">\n",
       "      <th></th>\n",
       "      <th>logtext</th>\n",
       "      <th>color</th>\n",
       "    </tr>\n",
       "  </thead>\n",
       "  <tbody>\n",
       "    <tr>\n",
       "      <th>0</th>\n",
       "      <td>Request to load 'AntInterferometryController'.</td>\n",
       "      <td>Request load AntInterferometryController</td>\n",
       "    </tr>\n",
       "    <tr>\n",
       "      <th>1</th>\n",
       "      <td>Full path '/alma/ACS-DEC2016/ACSSW/lib/libAntI...</td>\n",
       "      <td>Full path alma ACS DEC2016 ACSSW lib libAntInt...</td>\n",
       "    </tr>\n",
       "    <tr>\n",
       "      <th>2</th>\n",
       "      <td>Loaded '/alma/ACS-DEC2016/ACSSW/lib/libAntInte...</td>\n",
       "      <td>Loaded alma ACS DEC2016 ACSSW lib libAntInterf...</td>\n",
       "    </tr>\n",
       "    <tr>\n",
       "      <th>3</th>\n",
       "      <td>Switched state of component CONTROL/DA62/AntIn...</td>\n",
       "      <td>Switched state component CONTROL ANTxx AntInte...</td>\n",
       "    </tr>\n",
       "    <tr>\n",
       "      <th>4</th>\n",
       "      <td>Switched state of component CONTROL/DA62/AntIn...</td>\n",
       "      <td>Switched state component CONTROL ANTxx AntInte...</td>\n",
       "    </tr>\n",
       "    <tr>\n",
       "      <th>...</th>\n",
       "      <td>...</td>\n",
       "      <td>...</td>\n",
       "    </tr>\n",
       "    <tr>\n",
       "      <th>85</th>\n",
       "      <td>Component 'CONTROL/DA62/TOTALPOWER' deactivated.</td>\n",
       "      <td>Component CONTROL ANTxx TOTALPOWER deactivated</td>\n",
       "    </tr>\n",
       "    <tr>\n",
       "      <th>86</th>\n",
       "      <td>ContainerServices::getComponentNonSticky(CONTR...</td>\n",
       "      <td>ContainerServices getComponentNonSticky CONTRO...</td>\n",
       "    </tr>\n",
       "    <tr>\n",
       "      <th>87</th>\n",
       "      <td>Switched state of component CONTROL/DA62/AntIn...</td>\n",
       "      <td>Switched state component CONTROL ANTxx AntInte...</td>\n",
       "    </tr>\n",
       "    <tr>\n",
       "      <th>88</th>\n",
       "      <td>Switched state of component CONTROL/DA62/AntIn...</td>\n",
       "      <td>Switched state component CONTROL ANTxx AntInte...</td>\n",
       "    </tr>\n",
       "    <tr>\n",
       "      <th>89</th>\n",
       "      <td>Component 'CONTROL/DA62/AntInterferometryContr...</td>\n",
       "      <td>Component CONTROL ANTxx AntInterferometryContr...</td>\n",
       "    </tr>\n",
       "  </tbody>\n",
       "</table>\n",
       "<p>90 rows × 2 columns</p>\n",
       "</div>"
      ],
      "text/plain": [
       "                                              logtext  \\\n",
       "0      Request to load 'AntInterferometryController'.   \n",
       "1   Full path '/alma/ACS-DEC2016/ACSSW/lib/libAntI...   \n",
       "2   Loaded '/alma/ACS-DEC2016/ACSSW/lib/libAntInte...   \n",
       "3   Switched state of component CONTROL/DA62/AntIn...   \n",
       "4   Switched state of component CONTROL/DA62/AntIn...   \n",
       "..                                                ...   \n",
       "85   Component 'CONTROL/DA62/TOTALPOWER' deactivated.   \n",
       "86  ContainerServices::getComponentNonSticky(CONTR...   \n",
       "87  Switched state of component CONTROL/DA62/AntIn...   \n",
       "88  Switched state of component CONTROL/DA62/AntIn...   \n",
       "89  Component 'CONTROL/DA62/AntInterferometryContr...   \n",
       "\n",
       "                                                color  \n",
       "0            Request load AntInterferometryController  \n",
       "1   Full path alma ACS DEC2016 ACSSW lib libAntInt...  \n",
       "2   Loaded alma ACS DEC2016 ACSSW lib libAntInterf...  \n",
       "3   Switched state component CONTROL ANTxx AntInte...  \n",
       "4   Switched state component CONTROL ANTxx AntInte...  \n",
       "..                                                ...  \n",
       "85     Component CONTROL ANTxx TOTALPOWER deactivated  \n",
       "86  ContainerServices getComponentNonSticky CONTRO...  \n",
       "87  Switched state component CONTROL ANTxx AntInte...  \n",
       "88  Switched state component CONTROL ANTxx AntInte...  \n",
       "89  Component CONTROL ANTxx AntInterferometryContr...  \n",
       "\n",
       "[90 rows x 2 columns]"
      ]
     },
     "execution_count": 301,
     "metadata": {},
     "output_type": "execute_result"
    }
   ],
   "source": [
    "interim_alma=\"../../data/interim/ALMA/\"\n",
    "\n",
    "somefile=!ls $interim_alma | head -n 1\n",
    "\n",
    "instance=pd.read_csv(interim_alma + somefile[0])\n",
    "\n",
    "instance['color'] = instance['logtext'].apply(color_alma)\n",
    "instance[[\"logtext\", \"color\"]]"
   ]
  },
  {
   "cell_type": "markdown",
   "metadata": {},
   "source": [
    "## Conclusion\n",
    "The file src/colors.py was created after this experiment"
   ]
  },
  {
   "cell_type": "code",
   "execution_count": null,
   "metadata": {},
   "outputs": [],
   "source": []
  }
 ],
 "metadata": {
  "kernelspec": {
   "display_name": "Python 3",
   "language": "python",
   "name": "python3"
  },
  "language_info": {
   "codemirror_mode": {
    "name": "ipython",
    "version": 3
   },
   "file_extension": ".py",
   "mimetype": "text/x-python",
   "name": "python",
   "nbconvert_exporter": "python",
   "pygments_lexer": "ipython3",
   "version": "3.7.5"
  }
 },
 "nbformat": 4,
 "nbformat_minor": 4
}
