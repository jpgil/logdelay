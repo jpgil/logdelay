{
 "cells": [
  {
   "cell_type": "markdown",
   "metadata": {},
   "source": [
    "# Study colors in Paranal OBS"
   ]
  },
  {
   "cell_type": "code",
   "execution_count": 28,
   "metadata": {},
   "outputs": [],
   "source": [
    "import sys\n",
    "sys.path.append(\"../../\")\n",
    "\n",
    "import pandas as pd\n",
    "from src.colors import color_paranal as color\n",
    "\n",
    "import matplotlib.pyplot as plt\n",
    "import numpy as np\n",
    "\n",
    "\n",
    "path=\"../../data/interim/PARANAL/\""
   ]
  },
  {
   "cell_type": "markdown",
   "metadata": {},
   "source": [
    "## Collect colors by instance\n",
    "For all OBS csv, the unique colors are extracted and merged in the single pandas ```colors_by_instance```."
   ]
  },
  {
   "cell_type": "code",
   "execution_count": 3,
   "metadata": {},
   "outputs": [],
   "source": [
    "FILES=!ls $path | grep OBS"
   ]
  },
  {
   "cell_type": "code",
   "execution_count": 4,
   "metadata": {},
   "outputs": [],
   "source": [
    "acc=[]\n",
    "\n",
    "for f in FILES:\n",
    "    temp_dict={}\n",
    "    instance=pd.read_csv(path+f)\n",
    "    instance['color'] = instance['logtext'].apply(color)\n",
    "    for i, r in instance.iterrows():\n",
    "        if r['color'] not in temp_dict.keys():\n",
    "            temp_dict[r['color']] = 1\n",
    "        else:\n",
    "            temp_dict[r['color']] += 1\n",
    "    for k in temp_dict.keys():\n",
    "        acc.append( {'file': f, 'color': k, 'count': temp_dict[k]} )\n",
    "\n",
    "colors_by_instance = pd.DataFrame(acc)"
   ]
  },
  {
   "cell_type": "markdown",
   "metadata": {},
   "source": [
    "## Colors statistics"
   ]
  },
  {
   "cell_type": "code",
   "execution_count": 11,
   "metadata": {},
   "outputs": [
    {
     "data": {
      "text/html": [
       "<div>\n",
       "<style scoped>\n",
       "    .dataframe tbody tr th:only-of-type {\n",
       "        vertical-align: middle;\n",
       "    }\n",
       "\n",
       "    .dataframe tbody tr th {\n",
       "        vertical-align: top;\n",
       "    }\n",
       "\n",
       "    .dataframe thead th {\n",
       "        text-align: right;\n",
       "    }\n",
       "</style>\n",
       "<table border=\"1\" class=\"dataframe\">\n",
       "  <thead>\n",
       "    <tr style=\"text-align: right;\">\n",
       "      <th></th>\n",
       "      <th>file</th>\n",
       "      <th>color</th>\n",
       "      <th>count</th>\n",
       "      <th>count-norm</th>\n",
       "    </tr>\n",
       "  </thead>\n",
       "  <tbody>\n",
       "    <tr>\n",
       "      <th>0</th>\n",
       "      <td>GRAVITY-2018-12-15T23:55:02.289Z.OBS.csv</td>\n",
       "      <td>OB started {} {} {}T23 {} {}</td>\n",
       "      <td>1</td>\n",
       "      <td>0.007042</td>\n",
       "    </tr>\n",
       "    <tr>\n",
       "      <th>1</th>\n",
       "      <td>GRAVITY-2018-12-15T23:55:02.289Z.OBS.csv</td>\n",
       "      <td>OBS NAME GJ65_Dec16 OBS ID {}</td>\n",
       "      <td>1</td>\n",
       "      <td>0.007042</td>\n",
       "    </tr>\n",
       "    <tr>\n",
       "      <th>2</th>\n",
       "      <td>GRAVITY-2018-12-15T23:55:02.289Z.OBS.csv</td>\n",
       "      <td>GRAVITY_dual_acq GRAVITY Dual Mode Acquisition...</td>\n",
       "      <td>1</td>\n",
       "      <td>0.007042</td>\n",
       "    </tr>\n",
       "    <tr>\n",
       "      <th>3</th>\n",
       "      <td>GRAVITY-2018-12-15T23:55:02.289Z.OBS.csv</td>\n",
       "      <td>Started {} {} {}T23 {} {} underlined</td>\n",
       "      <td>1</td>\n",
       "      <td>0.007042</td>\n",
       "    </tr>\n",
       "    <tr>\n",
       "      <th>4</th>\n",
       "      <td>GRAVITY-2018-12-15T23:55:02.289Z.OBS.csv</td>\n",
       "      <td>COU AG START F</td>\n",
       "      <td>1</td>\n",
       "      <td>0.007042</td>\n",
       "    </tr>\n",
       "    <tr>\n",
       "      <th>...</th>\n",
       "      <td>...</td>\n",
       "      <td>...</td>\n",
       "      <td>...</td>\n",
       "      <td>...</td>\n",
       "    </tr>\n",
       "    <tr>\n",
       "      <th>56898</th>\n",
       "      <td>GRAVITY-2018-12-30T00:37:09.554Z.OBS.csv</td>\n",
       "      <td>SETUP expoId {} noExposure function DET1 SEQ1 ...</td>\n",
       "      <td>1</td>\n",
       "      <td>0.007042</td>\n",
       "    </tr>\n",
       "    <tr>\n",
       "      <th>56899</th>\n",
       "      <td>GRAVITY-2018-12-30T00:37:09.554Z.OBS.csv</td>\n",
       "      <td>Send command PASTOP process issifControl env w...</td>\n",
       "      <td>1</td>\n",
       "      <td>0.007042</td>\n",
       "    </tr>\n",
       "    <tr>\n",
       "      <th>56900</th>\n",
       "      <td>GRAVITY-2018-12-30T00:37:09.554Z.OBS.csv</td>\n",
       "      <td>Waiting timeout {} pending replies command PAS...</td>\n",
       "      <td>1</td>\n",
       "      <td>0.007042</td>\n",
       "    </tr>\n",
       "    <tr>\n",
       "      <th>56901</th>\n",
       "      <td>GRAVITY-2018-12-30T00:37:09.554Z.OBS.csv</td>\n",
       "      <td>ACK ABORT red</td>\n",
       "      <td>1</td>\n",
       "      <td>0.007042</td>\n",
       "    </tr>\n",
       "    <tr>\n",
       "      <th>56902</th>\n",
       "      <td>GRAVITY-2018-12-30T00:37:09.554Z.OBS.csv</td>\n",
       "      <td>OB aborted after {} seconds {} {} {}T01 {} {}</td>\n",
       "      <td>1</td>\n",
       "      <td>0.007042</td>\n",
       "    </tr>\n",
       "  </tbody>\n",
       "</table>\n",
       "<p>56903 rows × 4 columns</p>\n",
       "</div>"
      ],
      "text/plain": [
       "                                           file  \\\n",
       "0      GRAVITY-2018-12-15T23:55:02.289Z.OBS.csv   \n",
       "1      GRAVITY-2018-12-15T23:55:02.289Z.OBS.csv   \n",
       "2      GRAVITY-2018-12-15T23:55:02.289Z.OBS.csv   \n",
       "3      GRAVITY-2018-12-15T23:55:02.289Z.OBS.csv   \n",
       "4      GRAVITY-2018-12-15T23:55:02.289Z.OBS.csv   \n",
       "...                                         ...   \n",
       "56898  GRAVITY-2018-12-30T00:37:09.554Z.OBS.csv   \n",
       "56899  GRAVITY-2018-12-30T00:37:09.554Z.OBS.csv   \n",
       "56900  GRAVITY-2018-12-30T00:37:09.554Z.OBS.csv   \n",
       "56901  GRAVITY-2018-12-30T00:37:09.554Z.OBS.csv   \n",
       "56902  GRAVITY-2018-12-30T00:37:09.554Z.OBS.csv   \n",
       "\n",
       "                                                   color  count  count-norm  \n",
       "0                           OB started {} {} {}T23 {} {}      1    0.007042  \n",
       "1                          OBS NAME GJ65_Dec16 OBS ID {}      1    0.007042  \n",
       "2      GRAVITY_dual_acq GRAVITY Dual Mode Acquisition...      1    0.007042  \n",
       "3                   Started {} {} {}T23 {} {} underlined      1    0.007042  \n",
       "4                                         COU AG START F      1    0.007042  \n",
       "...                                                  ...    ...         ...  \n",
       "56898  SETUP expoId {} noExposure function DET1 SEQ1 ...      1    0.007042  \n",
       "56899  Send command PASTOP process issifControl env w...      1    0.007042  \n",
       "56900  Waiting timeout {} pending replies command PAS...      1    0.007042  \n",
       "56901                                      ACK ABORT red      1    0.007042  \n",
       "56902      OB aborted after {} seconds {} {} {}T01 {} {}      1    0.007042  \n",
       "\n",
       "[56903 rows x 4 columns]"
      ]
     },
     "execution_count": 11,
     "metadata": {},
     "output_type": "execute_result"
    }
   ],
   "source": [
    "colors_by_instance"
   ]
  },
  {
   "cell_type": "code",
   "execution_count": 5,
   "metadata": {},
   "outputs": [
    {
     "data": {
      "text/plain": [
       "142"
      ]
     },
     "execution_count": 5,
     "metadata": {},
     "output_type": "execute_result"
    }
   ],
   "source": [
    "# of instances:\n",
    "len(FILES)"
   ]
  },
  {
   "cell_type": "code",
   "execution_count": 6,
   "metadata": {},
   "outputs": [
    {
     "data": {
      "text/plain": [
       "1632"
      ]
     },
     "execution_count": 6,
     "metadata": {},
     "output_type": "execute_result"
    }
   ],
   "source": [
    "# of colors\n",
    "len(colors_by_instance[\"color\"].unique())"
   ]
  },
  {
   "cell_type": "code",
   "execution_count": 7,
   "metadata": {},
   "outputs": [],
   "source": [
    "# Normalize by # of instaces\n",
    "colors_by_instance['count-norm'] = colors_by_instance['count'] / len(FILES)"
   ]
  },
  {
   "cell_type": "code",
   "execution_count": 8,
   "metadata": {},
   "outputs": [
    {
     "data": {
      "text/html": [
       "<div>\n",
       "<style scoped>\n",
       "    .dataframe tbody tr th:only-of-type {\n",
       "        vertical-align: middle;\n",
       "    }\n",
       "\n",
       "    .dataframe tbody tr th {\n",
       "        vertical-align: top;\n",
       "    }\n",
       "\n",
       "    .dataframe thead th {\n",
       "        text-align: right;\n",
       "    }\n",
       "</style>\n",
       "<table border=\"1\" class=\"dataframe\">\n",
       "  <thead>\n",
       "    <tr style=\"text-align: right;\">\n",
       "      <th></th>\n",
       "      <th>count-norm</th>\n",
       "    </tr>\n",
       "    <tr>\n",
       "      <th>color</th>\n",
       "      <th></th>\n",
       "    </tr>\n",
       "  </thead>\n",
       "  <tbody>\n",
       "    <tr>\n",
       "      <th>{} SpringGreen4</th>\n",
       "      <td>55.176056</td>\n",
       "    </tr>\n",
       "    <tr>\n",
       "      <th>Time {} {}</th>\n",
       "      <td>47.915493</td>\n",
       "    </tr>\n",
       "    <tr>\n",
       "      <th>Send command SETFIW {} {} {} {} process gvacqControl wgv</th>\n",
       "      <td>15.253521</td>\n",
       "    </tr>\n",
       "    <tr>\n",
       "      <th>OK SpringGreen4</th>\n",
       "      <td>14.788732</td>\n",
       "    </tr>\n",
       "    <tr>\n",
       "      <th>Send command CONVREL {} Sky AcqCam {} {} {} {} process gvctuControl wgv</th>\n",
       "      <td>12.669014</td>\n",
       "    </tr>\n",
       "    <tr>\n",
       "      <th>...</th>\n",
       "      <td>...</td>\n",
       "    </tr>\n",
       "    <tr>\n",
       "      <th>GRAVITY_single_obs_exp ORIGFILE GRAVITY_PARALLEL_SKY358_0039 fits INS FDDL WINDOW {} INS FDDL DELAY {} {} INS DET2 GAIN {} {} INS DET3 GAIN {} {} INS DET2 QE</th>\n",
       "      <td>0.007042</td>\n",
       "    </tr>\n",
       "    <tr>\n",
       "      <th>GRAVITY_single_obs_exp ORIGFILE GRAVITY_PARALLEL_SKY358_0052 fits INS FDDL WINDOW {} INS FDDL DELAY {} {} INS DET2 GAIN {} {} INS DET3 GAIN {} {} INS DET2 QE</th>\n",
       "      <td>0.007042</td>\n",
       "    </tr>\n",
       "    <tr>\n",
       "      <th>GRAVITY_single_obs_exp ORIGFILE GRAVITY_PARALLEL_SKY358_0054 fits INS FDDL WINDOW {} INS FDDL DELAY {} {} INS DET2 GAIN {} {} INS DET3 GAIN {} {} INS DET2 QE</th>\n",
       "      <td>0.007042</td>\n",
       "    </tr>\n",
       "    <tr>\n",
       "      <th>GRAVITY_single_obs_exp ORIGFILE GRAVITY_PARALLEL_SKY358_0066 fits INS FDDL WINDOW {} INS FDDL DELAY {} {} INS DET2 GAIN {} {} INS DET3 GAIN {} {} INS DET2 QE</th>\n",
       "      <td>0.007042</td>\n",
       "    </tr>\n",
       "    <tr>\n",
       "      <th>GRAVITY_dual_obs_exp ORIGFILE GRAVITY_PARALLEL_OBS358_0025 fits INS FDDL WINDOW {} INS FDDL DELAY {} {} INS DET2 GAIN {} {} INS DET3 GAIN {} {} INS DET2 QE</th>\n",
       "      <td>0.007042</td>\n",
       "    </tr>\n",
       "  </tbody>\n",
       "</table>\n",
       "<p>1632 rows × 1 columns</p>\n",
       "</div>"
      ],
      "text/plain": [
       "                                                    count-norm\n",
       "color                                                         \n",
       "{} SpringGreen4                                      55.176056\n",
       "Time {} {}                                           47.915493\n",
       "Send command SETFIW {} {} {} {} process gvacqCo...   15.253521\n",
       "OK SpringGreen4                                      14.788732\n",
       "Send command CONVREL {} Sky AcqCam {} {} {} {} ...   12.669014\n",
       "...                                                        ...\n",
       "GRAVITY_single_obs_exp ORIGFILE GRAVITY_PARALLE...    0.007042\n",
       "GRAVITY_single_obs_exp ORIGFILE GRAVITY_PARALLE...    0.007042\n",
       "GRAVITY_single_obs_exp ORIGFILE GRAVITY_PARALLE...    0.007042\n",
       "GRAVITY_single_obs_exp ORIGFILE GRAVITY_PARALLE...    0.007042\n",
       "GRAVITY_dual_obs_exp ORIGFILE GRAVITY_PARALLEL_...    0.007042\n",
       "\n",
       "[1632 rows x 1 columns]"
      ]
     },
     "execution_count": 8,
     "metadata": {},
     "output_type": "execute_result"
    }
   ],
   "source": [
    "# Normalized totals by color (AVERAGE!)\n",
    "norm_total = colors_by_instance[[\"color\", \"count-norm\"]].groupby([\"color\"]).sum().sort_values('count-norm', ascending=False)\n",
    "norm_total"
   ]
  },
  {
   "cell_type": "code",
   "execution_count": 9,
   "metadata": {},
   "outputs": [
    {
     "data": {
      "text/html": [
       "<div>\n",
       "<style scoped>\n",
       "    .dataframe tbody tr th:only-of-type {\n",
       "        vertical-align: middle;\n",
       "    }\n",
       "\n",
       "    .dataframe tbody tr th {\n",
       "        vertical-align: top;\n",
       "    }\n",
       "\n",
       "    .dataframe thead th {\n",
       "        text-align: right;\n",
       "    }\n",
       "</style>\n",
       "<table border=\"1\" class=\"dataframe\">\n",
       "  <thead>\n",
       "    <tr style=\"text-align: right;\">\n",
       "      <th></th>\n",
       "      <th>count-norm</th>\n",
       "    </tr>\n",
       "    <tr>\n",
       "      <th>color</th>\n",
       "      <th></th>\n",
       "    </tr>\n",
       "  </thead>\n",
       "  <tbody>\n",
       "    <tr>\n",
       "      <th>{} SpringGreen4</th>\n",
       "      <td>55.176056</td>\n",
       "    </tr>\n",
       "    <tr>\n",
       "      <th>Time {} {}</th>\n",
       "      <td>47.915493</td>\n",
       "    </tr>\n",
       "    <tr>\n",
       "      <th>Send command SETFIW {} {} {} {} process gvacqControl wgv</th>\n",
       "      <td>15.253521</td>\n",
       "    </tr>\n",
       "    <tr>\n",
       "      <th>OK SpringGreen4</th>\n",
       "      <td>14.788732</td>\n",
       "    </tr>\n",
       "    <tr>\n",
       "      <th>Send command CONVREL {} Sky AcqCam {} {} {} {} process gvctuControl wgv</th>\n",
       "      <td>12.669014</td>\n",
       "    </tr>\n",
       "    <tr>\n",
       "      <th>...</th>\n",
       "      <td>...</td>\n",
       "    </tr>\n",
       "    <tr>\n",
       "      <th>SCI_SOri_2 OBS OBSERVER UNKNOWN OBS PI COI ID {} OBS PI COI NAME UNKNOWN OBS PROG ID {} D {} A OBS STREHLRATIO {} {} OBS TARG NAME SOri OBS TWILIGHT</th>\n",
       "      <td>0.105634</td>\n",
       "    </tr>\n",
       "    <tr>\n",
       "      <th>SepTracking ON blue</th>\n",
       "      <td>0.105634</td>\n",
       "    </tr>\n",
       "    <tr>\n",
       "      <th>ADDFITS expoId {} detId NGCIR1 info INS POLA MODE SPLIT FT POLA MODE SPLIT INS SPEC RES MEDIUM FT RATE {} {} EXPTIME {} DATE OBS {} {} {}T01 {} {} TPL NAME</th>\n",
       "      <td>0.105634</td>\n",
       "    </tr>\n",
       "    <tr>\n",
       "      <th>GRAVITY_dual_obs_exp Dual Field Science yellow</th>\n",
       "      <td>0.105634</td>\n",
       "    </tr>\n",
       "    <tr>\n",
       "      <th>Parallel Start NGCIR2 {} {} {}T00 {} {}</th>\n",
       "      <td>0.105634</td>\n",
       "    </tr>\n",
       "  </tbody>\n",
       "</table>\n",
       "<p>744 rows × 1 columns</p>\n",
       "</div>"
      ],
      "text/plain": [
       "                                                    count-norm\n",
       "color                                                         \n",
       "{} SpringGreen4                                      55.176056\n",
       "Time {} {}                                           47.915493\n",
       "Send command SETFIW {} {} {} {} process gvacqCo...   15.253521\n",
       "OK SpringGreen4                                      14.788732\n",
       "Send command CONVREL {} Sky AcqCam {} {} {} {} ...   12.669014\n",
       "...                                                        ...\n",
       "SCI_SOri_2 OBS OBSERVER UNKNOWN OBS PI COI ID {...    0.105634\n",
       "SepTracking ON blue                                   0.105634\n",
       "ADDFITS expoId {} detId NGCIR1 info INS POLA MO...    0.105634\n",
       "GRAVITY_dual_obs_exp Dual Field Science yellow        0.105634\n",
       "Parallel Start NGCIR2 {} {} {}T00 {} {}               0.105634\n",
       "\n",
       "[744 rows x 1 columns]"
      ]
     },
     "execution_count": 9,
     "metadata": {},
     "output_type": "execute_result"
    }
   ],
   "source": [
    "# Filtering total above THRESHOLD_MIN_AVG_COUNT\n",
    "THRESHOLD_MIN_AVG_COUNT = 0.1\n",
    "norm_total[ norm_total['count-norm'] >= THRESHOLD_MIN_AVG_COUNT ]"
   ]
  },
  {
   "cell_type": "code",
   "execution_count": 10,
   "metadata": {},
   "outputs": [],
   "source": [
    "#colors_by_instance[[\"color\", \"count\"]].groupby([\"color\"]).median().sort_values('count', ascending=False)[:50]"
   ]
  },
  {
   "cell_type": "markdown",
   "metadata": {},
   "source": [
    "## Plots"
   ]
  },
  {
   "cell_type": "code",
   "execution_count": 29,
   "metadata": {},
   "outputs": [
    {
     "name": "stderr",
     "output_type": "stream",
     "text": [
      "/Users/jgil/logdelay/venv/lib/python3.7/site-packages/ipykernel_launcher.py:2: FutureWarning: The 'get_values' method is deprecated and will be removed in a future version. Use '.values' or 'np.asarray(..)' instead.\n",
      "  \n"
     ]
    },
    {
     "data": {
      "image/png": "[encoded data removed]",
      "text/plain": [
       "<Figure size 432x288 with 1 Axes>"
      ]
     },
     "metadata": {
      "needs_background": "light"
     },
     "output_type": "display_data"
    }
   ],
   "source": [
    "fig, ax = plt.subplots()\n",
    "ax.plot( np.log(norm_total).get_values())\n",
    "\n",
    "ax.set(xlabel='Color#', ylabel='Normalized count',\n",
    "       title='About as simple as it gets, folks')\n",
    "ax.grid()\n",
    "\n",
    "#fig.savefig(\"test.png\")\n",
    "plt.show()\n"
   ]
  },
  {
   "cell_type": "code",
   "execution_count": null,
   "metadata": {},
   "outputs": [],
   "source": []
  }
 ],
 "metadata": {
  "kernelspec": {
   "display_name": "Python 3",
   "language": "python",
   "name": "python3"
  },
  "language_info": {
   "codemirror_mode": {
    "name": "ipython",
    "version": 3
   },
   "file_extension": ".py",
   "mimetype": "text/x-python",
   "name": "python",
   "nbconvert_exporter": "python",
   "pygments_lexer": "ipython3",
   "version": "3.7.5"
  }
 },
 "nbformat": 4,
 "nbformat_minor": 4
}
