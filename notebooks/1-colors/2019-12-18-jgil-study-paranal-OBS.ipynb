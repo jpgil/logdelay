{
 "cells": [
  {
   "cell_type": "markdown",
   "metadata": {},
   "source": [
    "# Study colors in Paranal OBS"
   ]
  },
  {
   "cell_type": "code",
   "execution_count": 1,
   "metadata": {},
   "outputs": [],
   "source": [
    "import sys\n",
    "sys.path.append(\"../../\")\n",
    "\n",
    "import pandas as pd\n",
    "from src.colors import color_paranal as color\n",
    "\n",
    "path=\"../../data/interim/PARANAL/\""
   ]
  },
  {
   "cell_type": "markdown",
   "metadata": {},
   "source": [
    "## Collect colors by instance"
   ]
  },
  {
   "cell_type": "code",
   "execution_count": 2,
   "metadata": {},
   "outputs": [],
   "source": [
    "FILES=!ls $path | grep OBS"
   ]
  },
  {
   "cell_type": "code",
   "execution_count": 3,
   "metadata": {},
   "outputs": [],
   "source": [
    "acc=[]\n",
    "\n",
    "for f in FILES:\n",
    "    temp_dict={}\n",
    "    instance=pd.read_csv(path+f)\n",
    "    instance['color'] = instance['logtext'].apply(color)\n",
    "    for i, r in instance.iterrows():\n",
    "        if r['color'] not in temp_dict.keys():\n",
    "            temp_dict[r['color']] = 1\n",
    "        else:\n",
    "            temp_dict[r['color']] += 1\n",
    "    for k in temp_dict.keys():\n",
    "        acc.append( {'file': f, 'color': k, 'count': temp_dict[k]} )\n",
    "\n",
    "colors_by_instance = pd.DataFrame(acc)"
   ]
  },
  {
   "cell_type": "markdown",
   "metadata": {},
   "source": [
    "## Colors statistics"
   ]
  },
  {
   "cell_type": "code",
   "execution_count": 4,
   "metadata": {},
   "outputs": [
    {
     "data": {
      "text/plain": [
       "142"
      ]
     },
     "execution_count": 4,
     "metadata": {},
     "output_type": "execute_result"
    }
   ],
   "source": [
    "# of instances:\n",
    "len(FILES)"
   ]
  },
  {
   "cell_type": "code",
   "execution_count": 5,
   "metadata": {},
   "outputs": [
    {
     "data": {
      "text/plain": [
       "1632"
      ]
     },
     "execution_count": 5,
     "metadata": {},
     "output_type": "execute_result"
    }
   ],
   "source": [
    "# of colors\n",
    "len(colors_by_instance[\"color\"].unique())"
   ]
  },
  {
   "cell_type": "code",
   "execution_count": 6,
   "metadata": {},
   "outputs": [],
   "source": [
    "# Normalize by # of instaces\n",
    "colors_by_instance['count-norm'] = colors_by_instance['count'] / len(FILES)"
   ]
  },
  {
   "cell_type": "code",
   "execution_count": 7,
   "metadata": {},
   "outputs": [
    {
     "data": {
      "text/html": [
       "<div>\n",
       "<style scoped>\n",
       "    .dataframe tbody tr th:only-of-type {\n",
       "        vertical-align: middle;\n",
       "    }\n",
       "\n",
       "    .dataframe tbody tr th {\n",
       "        vertical-align: top;\n",
       "    }\n",
       "\n",
       "    .dataframe thead th {\n",
       "        text-align: right;\n",
       "    }\n",
       "</style>\n",
       "<table border=\"1\" class=\"dataframe\">\n",
       "  <thead>\n",
       "    <tr style=\"text-align: right;\">\n",
       "      <th></th>\n",
       "      <th>count-norm</th>\n",
       "    </tr>\n",
       "    <tr>\n",
       "      <th>color</th>\n",
       "      <th></th>\n",
       "    </tr>\n",
       "  </thead>\n",
       "  <tbody>\n",
       "    <tr>\n",
       "      <th>{} SpringGreen4</th>\n",
       "      <td>55.176056</td>\n",
       "    </tr>\n",
       "    <tr>\n",
       "      <th>Time {} {}</th>\n",
       "      <td>47.915493</td>\n",
       "    </tr>\n",
       "    <tr>\n",
       "      <th>Send command SETFIW {} {} {} {} process gvacqControl wgv</th>\n",
       "      <td>15.253521</td>\n",
       "    </tr>\n",
       "    <tr>\n",
       "      <th>OK SpringGreen4</th>\n",
       "      <td>14.788732</td>\n",
       "    </tr>\n",
       "    <tr>\n",
       "      <th>Send command CONVREL {} Sky AcqCam {} {} {} {} process gvctuControl wgv</th>\n",
       "      <td>12.669014</td>\n",
       "    </tr>\n",
       "    <tr>\n",
       "      <th>...</th>\n",
       "      <td>...</td>\n",
       "    </tr>\n",
       "    <tr>\n",
       "      <th>GRAVITY_single_obs_exp ORIGFILE GRAVITY_PARALLEL_SKY358_0039 fits INS FDDL WINDOW {} INS FDDL DELAY {} {} INS DET2 GAIN {} {} INS DET3 GAIN {} {} INS DET2 QE</th>\n",
       "      <td>0.007042</td>\n",
       "    </tr>\n",
       "    <tr>\n",
       "      <th>GRAVITY_single_obs_exp ORIGFILE GRAVITY_PARALLEL_SKY358_0052 fits INS FDDL WINDOW {} INS FDDL DELAY {} {} INS DET2 GAIN {} {} INS DET3 GAIN {} {} INS DET2 QE</th>\n",
       "      <td>0.007042</td>\n",
       "    </tr>\n",
       "    <tr>\n",
       "      <th>GRAVITY_single_obs_exp ORIGFILE GRAVITY_PARALLEL_SKY358_0054 fits INS FDDL WINDOW {} INS FDDL DELAY {} {} INS DET2 GAIN {} {} INS DET3 GAIN {} {} INS DET2 QE</th>\n",
       "      <td>0.007042</td>\n",
       "    </tr>\n",
       "    <tr>\n",
       "      <th>GRAVITY_single_obs_exp ORIGFILE GRAVITY_PARALLEL_SKY358_0066 fits INS FDDL WINDOW {} INS FDDL DELAY {} {} INS DET2 GAIN {} {} INS DET3 GAIN {} {} INS DET2 QE</th>\n",
       "      <td>0.007042</td>\n",
       "    </tr>\n",
       "    <tr>\n",
       "      <th>GRAVITY_dual_obs_exp ORIGFILE GRAVITY_PARALLEL_OBS358_0025 fits INS FDDL WINDOW {} INS FDDL DELAY {} {} INS DET2 GAIN {} {} INS DET3 GAIN {} {} INS DET2 QE</th>\n",
       "      <td>0.007042</td>\n",
       "    </tr>\n",
       "  </tbody>\n",
       "</table>\n",
       "<p>1632 rows × 1 columns</p>\n",
       "</div>"
      ],
      "text/plain": [
       "                                                    count-norm\n",
       "color                                                         \n",
       "{} SpringGreen4                                      55.176056\n",
       "Time {} {}                                           47.915493\n",
       "Send command SETFIW {} {} {} {} process gvacqCo...   15.253521\n",
       "OK SpringGreen4                                      14.788732\n",
       "Send command CONVREL {} Sky AcqCam {} {} {} {} ...   12.669014\n",
       "...                                                        ...\n",
       "GRAVITY_single_obs_exp ORIGFILE GRAVITY_PARALLE...    0.007042\n",
       "GRAVITY_single_obs_exp ORIGFILE GRAVITY_PARALLE...    0.007042\n",
       "GRAVITY_single_obs_exp ORIGFILE GRAVITY_PARALLE...    0.007042\n",
       "GRAVITY_single_obs_exp ORIGFILE GRAVITY_PARALLE...    0.007042\n",
       "GRAVITY_dual_obs_exp ORIGFILE GRAVITY_PARALLEL_...    0.007042\n",
       "\n",
       "[1632 rows x 1 columns]"
      ]
     },
     "execution_count": 7,
     "metadata": {},
     "output_type": "execute_result"
    }
   ],
   "source": [
    "# Normalized totals by color (AVERAGE!)\n",
    "norm_total = colors_by_instance[[\"color\", \"count-norm\"]].groupby([\"color\"]).sum().sort_values('count-norm', ascending=False)\n",
    "norm_total"
   ]
  },
  {
   "cell_type": "code",
   "execution_count": 8,
   "metadata": {},
   "outputs": [
    {
     "data": {
      "text/html": [
       "<div>\n",
       "<style scoped>\n",
       "    .dataframe tbody tr th:only-of-type {\n",
       "        vertical-align: middle;\n",
       "    }\n",
       "\n",
       "    .dataframe tbody tr th {\n",
       "        vertical-align: top;\n",
       "    }\n",
       "\n",
       "    .dataframe thead th {\n",
       "        text-align: right;\n",
       "    }\n",
       "</style>\n",
       "<table border=\"1\" class=\"dataframe\">\n",
       "  <thead>\n",
       "    <tr style=\"text-align: right;\">\n",
       "      <th></th>\n",
       "      <th>count-norm</th>\n",
       "    </tr>\n",
       "    <tr>\n",
       "      <th>color</th>\n",
       "      <th></th>\n",
       "    </tr>\n",
       "  </thead>\n",
       "  <tbody>\n",
       "    <tr>\n",
       "      <th>{} SpringGreen4</th>\n",
       "      <td>55.176056</td>\n",
       "    </tr>\n",
       "    <tr>\n",
       "      <th>Time {} {}</th>\n",
       "      <td>47.915493</td>\n",
       "    </tr>\n",
       "    <tr>\n",
       "      <th>Send command SETFIW {} {} {} {} process gvacqControl wgv</th>\n",
       "      <td>15.253521</td>\n",
       "    </tr>\n",
       "    <tr>\n",
       "      <th>OK SpringGreen4</th>\n",
       "      <td>14.788732</td>\n",
       "    </tr>\n",
       "    <tr>\n",
       "      <th>Send command CONVREL {} Sky AcqCam {} {} {} {} process gvctuControl wgv</th>\n",
       "      <td>12.669014</td>\n",
       "    </tr>\n",
       "    <tr>\n",
       "      <th>...</th>\n",
       "      <td>...</td>\n",
       "    </tr>\n",
       "    <tr>\n",
       "      <th>SCI_SOri_2 OBS OBSERVER UNKNOWN OBS PI COI ID {} OBS PI COI NAME UNKNOWN OBS PROG ID {} D {} A OBS STREHLRATIO {} {} OBS TARG NAME SOri OBS TWILIGHT</th>\n",
       "      <td>0.105634</td>\n",
       "    </tr>\n",
       "    <tr>\n",
       "      <th>SepTracking ON blue</th>\n",
       "      <td>0.105634</td>\n",
       "    </tr>\n",
       "    <tr>\n",
       "      <th>ADDFITS expoId {} detId NGCIR1 info INS POLA MODE SPLIT FT POLA MODE SPLIT INS SPEC RES MEDIUM FT RATE {} {} EXPTIME {} DATE OBS {} {} {}T01 {} {} TPL NAME</th>\n",
       "      <td>0.105634</td>\n",
       "    </tr>\n",
       "    <tr>\n",
       "      <th>GRAVITY_dual_obs_exp Dual Field Science yellow</th>\n",
       "      <td>0.105634</td>\n",
       "    </tr>\n",
       "    <tr>\n",
       "      <th>Parallel Start NGCIR2 {} {} {}T00 {} {}</th>\n",
       "      <td>0.105634</td>\n",
       "    </tr>\n",
       "  </tbody>\n",
       "</table>\n",
       "<p>744 rows × 1 columns</p>\n",
       "</div>"
      ],
      "text/plain": [
       "                                                    count-norm\n",
       "color                                                         \n",
       "{} SpringGreen4                                      55.176056\n",
       "Time {} {}                                           47.915493\n",
       "Send command SETFIW {} {} {} {} process gvacqCo...   15.253521\n",
       "OK SpringGreen4                                      14.788732\n",
       "Send command CONVREL {} Sky AcqCam {} {} {} {} ...   12.669014\n",
       "...                                                        ...\n",
       "SCI_SOri_2 OBS OBSERVER UNKNOWN OBS PI COI ID {...    0.105634\n",
       "SepTracking ON blue                                   0.105634\n",
       "ADDFITS expoId {} detId NGCIR1 info INS POLA MO...    0.105634\n",
       "GRAVITY_dual_obs_exp Dual Field Science yellow        0.105634\n",
       "Parallel Start NGCIR2 {} {} {}T00 {} {}               0.105634\n",
       "\n",
       "[744 rows x 1 columns]"
      ]
     },
     "execution_count": 8,
     "metadata": {},
     "output_type": "execute_result"
    }
   ],
   "source": [
    "# Filtering total above THRESHOLD_MIN_AVG_COUNT\n",
    "THRESHOLD_MIN_AVG_COUNT = 0.1\n",
    "norm_total[ norm_total['count-norm'] >= THRESHOLD_MIN_AVG_COUNT ]"
   ]
  },
  {
   "cell_type": "code",
   "execution_count": 76,
   "metadata": {},
   "outputs": [],
   "source": [
    "#colors_by_instance[[\"color\", \"count\"]].groupby([\"color\"]).median().sort_values('count', ascending=False)[:50]"
   ]
  },
  {
   "cell_type": "code",
   "execution_count": null,
   "metadata": {},
   "outputs": [],
   "source": []
  }
 ],
 "metadata": {
  "kernelspec": {
   "display_name": "Python 3",
   "language": "python",
   "name": "python3"
  },
  "language_info": {
   "codemirror_mode": {
    "name": "ipython",
    "version": 3
   },
   "file_extension": ".py",
   "mimetype": "text/x-python",
   "name": "python",
   "nbconvert_exporter": "python",
   "pygments_lexer": "ipython3",
   "version": "3.7.5"
  }
 },
 "nbformat": 4,
 "nbformat_minor": 4
}
