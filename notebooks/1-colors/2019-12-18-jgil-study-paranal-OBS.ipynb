{
 "cells": [
  {
   "cell_type": "markdown",
   "metadata": {},
   "source": [
    "# Study colors in Paranal OBS"
   ]
  },
  {
   "cell_type": "code",
   "execution_count": 1,
   "metadata": {},
   "outputs": [],
   "source": [
    "import sys\n",
    "sys.path.append(\"../../\")\n",
    "\n",
    "import pandas as pd\n",
    "from src.colors import color_paranal as color\n",
    "from src import config\n",
    "\n",
    "import matplotlib.pyplot as plt\n",
    "import numpy as np\n",
    "\n",
    "\n",
    "path=\"../../data/interim/PARANAL/\""
   ]
  },
  {
   "cell_type": "markdown",
   "metadata": {},
   "source": [
    "## Collect colors by instance\n",
    "For all OBS csv, the unique colors are extracted and merged in the single pandas ```colors_by_instance```."
   ]
  },
  {
   "cell_type": "code",
   "execution_count": 2,
   "metadata": {},
   "outputs": [],
   "source": [
    "FILES=!ls $path | grep OBS"
   ]
  },
  {
   "cell_type": "code",
   "execution_count": 3,
   "metadata": {},
   "outputs": [],
   "source": [
    "acc=[]\n",
    "\n",
    "for f in FILES:\n",
    "    temp_dict={}\n",
    "    instance=pd.read_csv(path+f)\n",
    "    instance['color'] = instance['logtext'].apply(color)\n",
    "    for i, r in instance.iterrows():\n",
    "        if r['color'] not in temp_dict.keys():\n",
    "            temp_dict[r['color']] = 1\n",
    "        else:\n",
    "            temp_dict[r['color']] += 1\n",
    "    for k in temp_dict.keys():\n",
    "        acc.append( {'file': f, 'color': k, 'count': temp_dict[k]} )\n",
    "\n",
    "colors_by_instance = pd.DataFrame(acc)"
   ]
  },
  {
   "cell_type": "markdown",
   "metadata": {},
   "source": [
    "## Colors statistics"
   ]
  },
  {
   "cell_type": "code",
   "execution_count": 4,
   "metadata": {},
   "outputs": [
    {
     "data": {
      "text/html": [
       "<div>\n",
       "<style scoped>\n",
       "    .dataframe tbody tr th:only-of-type {\n",
       "        vertical-align: middle;\n",
       "    }\n",
       "\n",
       "    .dataframe tbody tr th {\n",
       "        vertical-align: top;\n",
       "    }\n",
       "\n",
       "    .dataframe thead th {\n",
       "        text-align: right;\n",
       "    }\n",
       "</style>\n",
       "<table border=\"1\" class=\"dataframe\">\n",
       "  <thead>\n",
       "    <tr style=\"text-align: right;\">\n",
       "      <th></th>\n",
       "      <th>file</th>\n",
       "      <th>color</th>\n",
       "      <th>count</th>\n",
       "    </tr>\n",
       "  </thead>\n",
       "  <tbody>\n",
       "    <tr>\n",
       "      <th>1626</th>\n",
       "      <td>GRAVITY-2018-12-16T02:46:41.104Z.OBS.csv</td>\n",
       "      <td>{} springgreen4</td>\n",
       "      <td>167</td>\n",
       "    </tr>\n",
       "    <tr>\n",
       "      <th>1834</th>\n",
       "      <td>GRAVITY-2018-12-16T02:46:41.104Z.OBS.csv</td>\n",
       "      <td>time {} {}</td>\n",
       "      <td>161</td>\n",
       "    </tr>\n",
       "    <tr>\n",
       "      <th>44734</th>\n",
       "      <td>GRAVITY-2018-12-25T03:37:00.482Z.OBS.csv</td>\n",
       "      <td>time {} {}</td>\n",
       "      <td>161</td>\n",
       "    </tr>\n",
       "    <tr>\n",
       "      <th>44548</th>\n",
       "      <td>GRAVITY-2018-12-25T03:37:00.482Z.OBS.csv</td>\n",
       "      <td>{} springgreen4</td>\n",
       "      <td>142</td>\n",
       "    </tr>\n",
       "    <tr>\n",
       "      <th>45685</th>\n",
       "      <td>GRAVITY-2018-12-25T04:58:44.937Z.OBS.csv</td>\n",
       "      <td>time {} {}</td>\n",
       "      <td>138</td>\n",
       "    </tr>\n",
       "    <tr>\n",
       "      <th>...</th>\n",
       "      <td>...</td>\n",
       "      <td>...</td>\n",
       "      <td>...</td>\n",
       "    </tr>\n",
       "    <tr>\n",
       "      <th>22806</th>\n",
       "      <td>GRAVITY-2018-12-22T06:38:30.422Z.OBS.csv</td>\n",
       "      <td>seq z trackfi t</td>\n",
       "      <td>1</td>\n",
       "    </tr>\n",
       "    <tr>\n",
       "      <th>22807</th>\n",
       "      <td>GRAVITY-2018-12-22T06:38:30.422Z.OBS.csv</td>\n",
       "      <td>seq z takesky t</td>\n",
       "      <td>1</td>\n",
       "    </tr>\n",
       "    <tr>\n",
       "      <th>22808</th>\n",
       "      <td>GRAVITY-2018-12-22T06:38:30.422Z.OBS.csv</td>\n",
       "      <td>seq z preset t</td>\n",
       "      <td>1</td>\n",
       "    </tr>\n",
       "    <tr>\n",
       "      <th>22809</th>\n",
       "      <td>GRAVITY-2018-12-22T06:38:30.422Z.OBS.csv</td>\n",
       "      <td>seq z trackrot t</td>\n",
       "      <td>1</td>\n",
       "    </tr>\n",
       "    <tr>\n",
       "      <th>56545</th>\n",
       "      <td>GRAVITY-2018-12-30T00:37:09.554Z.OBS.csv</td>\n",
       "      <td>ob aborted after {} seconds _date_</td>\n",
       "      <td>1</td>\n",
       "    </tr>\n",
       "  </tbody>\n",
       "</table>\n",
       "<p>56546 rows × 3 columns</p>\n",
       "</div>"
      ],
      "text/plain": [
       "                                           file  \\\n",
       "1626   GRAVITY-2018-12-16T02:46:41.104Z.OBS.csv   \n",
       "1834   GRAVITY-2018-12-16T02:46:41.104Z.OBS.csv   \n",
       "44734  GRAVITY-2018-12-25T03:37:00.482Z.OBS.csv   \n",
       "44548  GRAVITY-2018-12-25T03:37:00.482Z.OBS.csv   \n",
       "45685  GRAVITY-2018-12-25T04:58:44.937Z.OBS.csv   \n",
       "...                                         ...   \n",
       "22806  GRAVITY-2018-12-22T06:38:30.422Z.OBS.csv   \n",
       "22807  GRAVITY-2018-12-22T06:38:30.422Z.OBS.csv   \n",
       "22808  GRAVITY-2018-12-22T06:38:30.422Z.OBS.csv   \n",
       "22809  GRAVITY-2018-12-22T06:38:30.422Z.OBS.csv   \n",
       "56545  GRAVITY-2018-12-30T00:37:09.554Z.OBS.csv   \n",
       "\n",
       "                                    color  count  \n",
       "1626                      {} springgreen4    167  \n",
       "1834                           time {} {}    161  \n",
       "44734                          time {} {}    161  \n",
       "44548                     {} springgreen4    142  \n",
       "45685                          time {} {}    138  \n",
       "...                                   ...    ...  \n",
       "22806                     seq z trackfi t      1  \n",
       "22807                     seq z takesky t      1  \n",
       "22808                      seq z preset t      1  \n",
       "22809                    seq z trackrot t      1  \n",
       "56545  ob aborted after {} seconds _date_      1  \n",
       "\n",
       "[56546 rows x 3 columns]"
      ]
     },
     "execution_count": 4,
     "metadata": {},
     "output_type": "execute_result"
    }
   ],
   "source": [
    "colors_by_instance.sort_values('count', ascending=False)"
   ]
  },
  {
   "cell_type": "code",
   "execution_count": 5,
   "metadata": {},
   "outputs": [
    {
     "data": {
      "text/plain": [
       "142"
      ]
     },
     "execution_count": 5,
     "metadata": {},
     "output_type": "execute_result"
    }
   ],
   "source": [
    "# of instances:\n",
    "len(FILES)"
   ]
  },
  {
   "cell_type": "code",
   "execution_count": 6,
   "metadata": {},
   "outputs": [
    {
     "data": {
      "text/plain": [
       "1058"
      ]
     },
     "execution_count": 6,
     "metadata": {},
     "output_type": "execute_result"
    }
   ],
   "source": [
    "# of colors\n",
    "len(colors_by_instance[\"color\"].unique())"
   ]
  },
  {
   "cell_type": "code",
   "execution_count": 7,
   "metadata": {},
   "outputs": [],
   "source": [
    "# Normalize by # of instaces\n",
    "colors_by_instance['count-norm'] = colors_by_instance['count'] / len(FILES)"
   ]
  },
  {
   "cell_type": "code",
   "execution_count": 8,
   "metadata": {},
   "outputs": [
    {
     "data": {
      "text/html": [
       "<div>\n",
       "<style scoped>\n",
       "    .dataframe tbody tr th:only-of-type {\n",
       "        vertical-align: middle;\n",
       "    }\n",
       "\n",
       "    .dataframe tbody tr th {\n",
       "        vertical-align: top;\n",
       "    }\n",
       "\n",
       "    .dataframe thead th {\n",
       "        text-align: right;\n",
       "    }\n",
       "</style>\n",
       "<table border=\"1\" class=\"dataframe\">\n",
       "  <thead>\n",
       "    <tr style=\"text-align: right;\">\n",
       "      <th></th>\n",
       "      <th>count-norm</th>\n",
       "    </tr>\n",
       "    <tr>\n",
       "      <th>color</th>\n",
       "      <th></th>\n",
       "    </tr>\n",
       "  </thead>\n",
       "  <tbody>\n",
       "    <tr>\n",
       "      <th>{} springgreen4</th>\n",
       "      <td>55.176056</td>\n",
       "    </tr>\n",
       "    <tr>\n",
       "      <th>time {} {}</th>\n",
       "      <td>47.915493</td>\n",
       "    </tr>\n",
       "    <tr>\n",
       "      <th>send command setfiw {} {} {} {} process gvacqcontrol wgv</th>\n",
       "      <td>15.253521</td>\n",
       "    </tr>\n",
       "    <tr>\n",
       "      <th>ok springgreen4</th>\n",
       "      <td>14.788732</td>\n",
       "    </tr>\n",
       "    <tr>\n",
       "      <th>send command convrel {} sky acqcam {} {} {} {} process gvctucontrol wgv</th>\n",
       "      <td>12.669014</td>\n",
       "    </tr>\n",
       "    <tr>\n",
       "      <th>...</th>\n",
       "      <td>...</td>\n",
       "    </tr>\n",
       "    <tr>\n",
       "      <th>no_comment ft robj name hd104237 ft mode {} ins sobj y {} ins sobj name {} ft robj delta {} {} dpr type sky single ins sobj vis {} {} ft robj pma {} {}</th>\n",
       "      <td>0.007042</td>\n",
       "    </tr>\n",
       "    <tr>\n",
       "      <th>ft robj alpha {} {} ins sobj mag {} {} fi hmag {} {} dpr catg science ft robj pmd {} {} tpl start {} ins sky x {} {} ft robj vis {} {} ft robj diameter {}</th>\n",
       "      <td>0.007042</td>\n",
       "    </tr>\n",
       "    <tr>\n",
       "      <th>no_comment ft robj name hd105514 ft mode {} ins sobj y {} ins sobj name {} ft robj delta {} {} dpr type sky single ins sobj vis {} {} ft robj pma {} {}</th>\n",
       "      <td>0.007042</td>\n",
       "    </tr>\n",
       "    <tr>\n",
       "      <th>desired motion ttp2 unreasonable not executing motion</th>\n",
       "      <td>0.007042</td>\n",
       "    </tr>\n",
       "    <tr>\n",
       "      <th>seq ins sobj name hip16739</th>\n",
       "      <td>0.007042</td>\n",
       "    </tr>\n",
       "  </tbody>\n",
       "</table>\n",
       "<p>1058 rows × 1 columns</p>\n",
       "</div>"
      ],
      "text/plain": [
       "                                                    count-norm\n",
       "color                                                         \n",
       "{} springgreen4                                      55.176056\n",
       "time {} {}                                           47.915493\n",
       "send command setfiw {} {} {} {} process gvacqco...   15.253521\n",
       "ok springgreen4                                      14.788732\n",
       "send command convrel {} sky acqcam {} {} {} {} ...   12.669014\n",
       "...                                                        ...\n",
       "no_comment ft robj name hd104237 ft mode {} ins...    0.007042\n",
       "ft robj alpha {} {} ins sobj mag {} {} fi hmag ...    0.007042\n",
       "no_comment ft robj name hd105514 ft mode {} ins...    0.007042\n",
       "desired motion ttp2 unreasonable not executing ...    0.007042\n",
       "seq ins sobj name hip16739                            0.007042\n",
       "\n",
       "[1058 rows x 1 columns]"
      ]
     },
     "execution_count": 8,
     "metadata": {},
     "output_type": "execute_result"
    }
   ],
   "source": [
    "# Normalized totals by color (AVERAGE!)\n",
    "norm_total = colors_by_instance[[\"color\", \"count-norm\"]].groupby([\"color\"]).sum().sort_values('count-norm', ascending=False)\n",
    "norm_total"
   ]
  },
  {
   "cell_type": "code",
   "execution_count": 13,
   "metadata": {},
   "outputs": [
    {
     "data": {
      "text/html": [
       "<div>\n",
       "<style scoped>\n",
       "    .dataframe tbody tr th:only-of-type {\n",
       "        vertical-align: middle;\n",
       "    }\n",
       "\n",
       "    .dataframe tbody tr th {\n",
       "        vertical-align: top;\n",
       "    }\n",
       "\n",
       "    .dataframe thead th {\n",
       "        text-align: right;\n",
       "    }\n",
       "</style>\n",
       "<table border=\"1\" class=\"dataframe\">\n",
       "  <thead>\n",
       "    <tr style=\"text-align: right;\">\n",
       "      <th></th>\n",
       "      <th>count-norm</th>\n",
       "    </tr>\n",
       "    <tr>\n",
       "      <th>color</th>\n",
       "      <th></th>\n",
       "    </tr>\n",
       "  </thead>\n",
       "  <tbody>\n",
       "    <tr>\n",
       "      <th></th>\n",
       "      <td>0.816901</td>\n",
       "    </tr>\n",
       "    <tr>\n",
       "      <th>_date_ blue</th>\n",
       "      <td>0.042254</td>\n",
       "    </tr>\n",
       "    <tr>\n",
       "      <th>abort</th>\n",
       "      <td>0.007042</td>\n",
       "    </tr>\n",
       "    <tr>\n",
       "      <th>abort exposure blue</th>\n",
       "      <td>0.838028</td>\n",
       "    </tr>\n",
       "    <tr>\n",
       "      <th>abort pending skipping end all</th>\n",
       "      <td>0.014085</td>\n",
       "    </tr>\n",
       "    <tr>\n",
       "      <th>...</th>\n",
       "      <td>...</td>\n",
       "    </tr>\n",
       "    <tr>\n",
       "      <th>{} {} {} flag {}</th>\n",
       "      <td>0.112676</td>\n",
       "    </tr>\n",
       "    <tr>\n",
       "      <th>{} {} {} {}</th>\n",
       "      <td>0.084507</td>\n",
       "    </tr>\n",
       "    <tr>\n",
       "      <th>{} {} {} {} flag {}</th>\n",
       "      <td>1.302817</td>\n",
       "    </tr>\n",
       "    <tr>\n",
       "      <th>{} {} {} {} {} {} {} {}</th>\n",
       "      <td>0.676056</td>\n",
       "    </tr>\n",
       "    <tr>\n",
       "      <th>{} {} {}e {} {} {}e {} {} {} {} process issifcontrol env wvgvlti</th>\n",
       "      <td>3.000000</td>\n",
       "    </tr>\n",
       "  </tbody>\n",
       "</table>\n",
       "<p>1058 rows × 1 columns</p>\n",
       "</div>"
      ],
      "text/plain": [
       "                                                    count-norm\n",
       "color                                                         \n",
       "                                                      0.816901\n",
       "_date_ blue                                           0.042254\n",
       "abort                                                 0.007042\n",
       "abort exposure blue                                   0.838028\n",
       "abort pending skipping end all                        0.014085\n",
       "...                                                        ...\n",
       "{} {} {} flag {}                                      0.112676\n",
       "{} {} {} {}                                           0.084507\n",
       "{} {} {} {} flag {}                                   1.302817\n",
       "{} {} {} {} {} {} {} {}                               0.676056\n",
       "{} {} {}e {} {} {}e {} {} {} {} process issifco...    3.000000\n",
       "\n",
       "[1058 rows x 1 columns]"
      ]
     },
     "execution_count": 13,
     "metadata": {},
     "output_type": "execute_result"
    }
   ],
   "source": [
    "norm_total.sort_values(\"color\")"
   ]
  },
  {
   "cell_type": "code",
   "execution_count": 10,
   "metadata": {},
   "outputs": [
    {
     "data": {
      "text/html": [
       "<div>\n",
       "<style scoped>\n",
       "    .dataframe tbody tr th:only-of-type {\n",
       "        vertical-align: middle;\n",
       "    }\n",
       "\n",
       "    .dataframe tbody tr th {\n",
       "        vertical-align: top;\n",
       "    }\n",
       "\n",
       "    .dataframe thead th {\n",
       "        text-align: right;\n",
       "    }\n",
       "</style>\n",
       "<table border=\"1\" class=\"dataframe\">\n",
       "  <thead>\n",
       "    <tr style=\"text-align: right;\">\n",
       "      <th></th>\n",
       "      <th>count-norm</th>\n",
       "    </tr>\n",
       "    <tr>\n",
       "      <th>color</th>\n",
       "      <th></th>\n",
       "    </tr>\n",
       "  </thead>\n",
       "  <tbody>\n",
       "    <tr>\n",
       "      <th>{} springgreen4</th>\n",
       "      <td>55.176056</td>\n",
       "    </tr>\n",
       "    <tr>\n",
       "      <th>time {} {}</th>\n",
       "      <td>47.915493</td>\n",
       "    </tr>\n",
       "    <tr>\n",
       "      <th>send command setfiw {} {} {} {} process gvacqcontrol wgv</th>\n",
       "      <td>15.253521</td>\n",
       "    </tr>\n",
       "    <tr>\n",
       "      <th>ok springgreen4</th>\n",
       "      <td>14.788732</td>\n",
       "    </tr>\n",
       "    <tr>\n",
       "      <th>send command convrel {} sky acqcam {} {} {} {} process gvctucontrol wgv</th>\n",
       "      <td>12.669014</td>\n",
       "    </tr>\n",
       "    <tr>\n",
       "      <th>...</th>\n",
       "      <td>...</td>\n",
       "    </tr>\n",
       "    <tr>\n",
       "      <th>{} obs watervapour {} {} obs start {} {} {}t04 {} {} obs ntpl {} obs tplno {} dpr catg science tpl did eso vlt dic tpl {} {} tpl id gravity_single_obs_exp</th>\n",
       "      <td>0.105634</td>\n",
       "    </tr>\n",
       "    <tr>\n",
       "      <th>obs twilight {} obs watervapour {} {} obs start {} {} {}t01 {} {} obs ntpl {} obs tplno {} dpr catg calib tpl did eso vlt dic tpl {} {} tpl id</th>\n",
       "      <td>0.105634</td>\n",
       "    </tr>\n",
       "    <tr>\n",
       "      <th>sci_sori obs observer {} obs pi coi id {} obs pi coi name unknown obs prog id {} d {} a obs strehlratio {} {} obs targ name {} obs twilight {}</th>\n",
       "      <td>0.105634</td>\n",
       "    </tr>\n",
       "    <tr>\n",
       "      <th>sci_hr3126_hr obs observer {} obs pi coi id {} obs pi coi name unknown obs prog id {} d {} c obs strehlratio {} {} obs targ name {}</th>\n",
       "      <td>0.105634</td>\n",
       "    </tr>\n",
       "    <tr>\n",
       "      <th>gravity_dual_obs_exp dual field science yellow</th>\n",
       "      <td>0.105634</td>\n",
       "    </tr>\n",
       "  </tbody>\n",
       "</table>\n",
       "<p>643 rows × 1 columns</p>\n",
       "</div>"
      ],
      "text/plain": [
       "                                                    count-norm\n",
       "color                                                         \n",
       "{} springgreen4                                      55.176056\n",
       "time {} {}                                           47.915493\n",
       "send command setfiw {} {} {} {} process gvacqco...   15.253521\n",
       "ok springgreen4                                      14.788732\n",
       "send command convrel {} sky acqcam {} {} {} {} ...   12.669014\n",
       "...                                                        ...\n",
       "{} obs watervapour {} {} obs start {} {} {}t04 ...    0.105634\n",
       "obs twilight {} obs watervapour {} {} obs start...    0.105634\n",
       "sci_sori obs observer {} obs pi coi id {} obs p...    0.105634\n",
       "sci_hr3126_hr obs observer {} obs pi coi id {} ...    0.105634\n",
       "gravity_dual_obs_exp dual field science yellow        0.105634\n",
       "\n",
       "[643 rows x 1 columns]"
      ]
     },
     "execution_count": 10,
     "metadata": {},
     "output_type": "execute_result"
    }
   ],
   "source": [
    "# Filtering total above THRESHOLD_MIN_AVG_COUNT\n",
    "THRESHOLD_MIN_AVG_COUNT = 0.1\n",
    "norm_total[ norm_total['count-norm'] >= THRESHOLD_MIN_AVG_COUNT ]"
   ]
  },
  {
   "cell_type": "code",
   "execution_count": 11,
   "metadata": {},
   "outputs": [],
   "source": [
    "#colors_by_instance[[\"color\", \"count\"]].groupby([\"color\"]).median().sort_values('count', ascending=False)[:50]"
   ]
  },
  {
   "cell_type": "markdown",
   "metadata": {},
   "source": [
    "## Plots"
   ]
  },
  {
   "cell_type": "code",
   "execution_count": 12,
   "metadata": {},
   "outputs": [
    {
     "name": "stderr",
     "output_type": "stream",
     "text": [
      "/Users/jgil/logdelay/venv/lib/python3.7/site-packages/ipykernel_launcher.py:2: FutureWarning: The 'get_values' method is deprecated and will be removed in a future version. Use '.values' or 'np.asarray(..)' instead.\n",
      "  \n"
     ]
    },
    {
     "data": {
      "image/png": "[encoded data removed]",
      "text/plain": [
       "<Figure size 432x288 with 1 Axes>"
      ]
     },
     "metadata": {
      "needs_background": "light"
     },
     "output_type": "display_data"
    }
   ],
   "source": [
    "fig, ax = plt.subplots()\n",
    "ax.plot( np.log(norm_total).get_values())\n",
    "\n",
    "ax.set(xlabel='Color#', ylabel='Normalized count',\n",
    "       title='About as simple as it gets, folks')\n",
    "ax.grid()\n",
    "\n",
    "#fig.savefig(\"test.png\")\n",
    "plt.show()\n"
   ]
  },
  {
   "cell_type": "code",
   "execution_count": null,
   "metadata": {},
   "outputs": [],
   "source": []
  }
 ],
 "metadata": {
  "kernelspec": {
   "display_name": "Python 3",
   "language": "python",
   "name": "python3"
  },
  "language_info": {
   "codemirror_mode": {
    "name": "ipython",
    "version": 3
   },
   "file_extension": ".py",
   "mimetype": "text/x-python",
   "name": "python",
   "nbconvert_exporter": "python",
   "pygments_lexer": "ipython3",
   "version": "3.7.5"
  }
 },
 "nbformat": 4,
 "nbformat_minor": 4
}
