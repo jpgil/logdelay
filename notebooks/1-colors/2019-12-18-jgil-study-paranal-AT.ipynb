{
 "cells": [
  {
   "cell_type": "markdown",
   "metadata": {},
   "source": [
    "# Study colors in Paranal AT"
   ]
  },
  {
   "cell_type": "code",
   "execution_count": 1,
   "metadata": {},
   "outputs": [],
   "source": [
    "import sys\n",
    "sys.path.append(\"../../\")\n",
    "\n",
    "import pandas as pd\n",
    "from src.colors import color_paranal as color\n",
    "\n",
    "import matplotlib.pyplot as plt\n",
    "import numpy as np\n",
    "\n",
    "\n",
    "path=\"../../data/interim/PARANAL/\""
   ]
  },
  {
   "cell_type": "markdown",
   "metadata": {},
   "source": [
    "## Collect colors by instance"
   ]
  },
  {
   "cell_type": "code",
   "execution_count": 2,
   "metadata": {},
   "outputs": [],
   "source": [
    "FILES=!ls $path | grep AT"
   ]
  },
  {
   "cell_type": "code",
   "execution_count": 3,
   "metadata": {},
   "outputs": [],
   "source": [
    "acc=[]\n",
    "\n",
    "for f in FILES:\n",
    "    temp_dict={}\n",
    "    instance=pd.read_csv(path+f)\n",
    "    instance['color'] = instance['logtext'].apply(color)\n",
    "    for i, r in instance.iterrows():\n",
    "        if r['color'] not in temp_dict.keys():\n",
    "            temp_dict[r['color']] = 1\n",
    "        else:\n",
    "            temp_dict[r['color']] += 1\n",
    "    for k in temp_dict.keys():\n",
    "        acc.append( {'file': f, 'color': k, 'count': temp_dict[k]} )\n",
    "\n",
    "colors_by_instance = pd.DataFrame(acc)"
   ]
  },
  {
   "cell_type": "markdown",
   "metadata": {},
   "source": [
    "## Colors statistics"
   ]
  },
  {
   "cell_type": "code",
   "execution_count": 4,
   "metadata": {},
   "outputs": [
    {
     "data": {
      "text/plain": [
       "568"
      ]
     },
     "execution_count": 4,
     "metadata": {},
     "output_type": "execute_result"
    }
   ],
   "source": [
    "# of instances:\n",
    "len(FILES)"
   ]
  },
  {
   "cell_type": "code",
   "execution_count": 5,
   "metadata": {},
   "outputs": [
    {
     "data": {
      "text/plain": [
       "1438"
      ]
     },
     "execution_count": 5,
     "metadata": {},
     "output_type": "execute_result"
    }
   ],
   "source": [
    "# of colors\n",
    "len(colors_by_instance[\"color\"].unique())"
   ]
  },
  {
   "cell_type": "code",
   "execution_count": 6,
   "metadata": {},
   "outputs": [],
   "source": [
    "# Normalize by # of instaces\n",
    "colors_by_instance['count-norm'] = colors_by_instance['count'] / len(FILES)"
   ]
  },
  {
   "cell_type": "code",
   "execution_count": 7,
   "metadata": {},
   "outputs": [
    {
     "data": {
      "text/html": [
       "<div>\n",
       "<style scoped>\n",
       "    .dataframe tbody tr th:only-of-type {\n",
       "        vertical-align: middle;\n",
       "    }\n",
       "\n",
       "    .dataframe tbody tr th {\n",
       "        vertical-align: top;\n",
       "    }\n",
       "\n",
       "    .dataframe thead th {\n",
       "        text-align: right;\n",
       "    }\n",
       "</style>\n",
       "<table border=\"1\" class=\"dataframe\">\n",
       "  <thead>\n",
       "    <tr style=\"text-align: right;\">\n",
       "      <th></th>\n",
       "      <th>count-norm</th>\n",
       "    </tr>\n",
       "    <tr>\n",
       "      <th>color</th>\n",
       "      <th></th>\n",
       "    </tr>\n",
       "  </thead>\n",
       "  <tbody>\n",
       "    <tr>\n",
       "      <th>INS OPTI1 MOVE Motion execution</th>\n",
       "      <td>32.815141</td>\n",
       "    </tr>\n",
       "    <tr>\n",
       "      <th>INS OPTI2 MOVEDONE Motor offset done</th>\n",
       "      <td>32.811620</td>\n",
       "    </tr>\n",
       "    <tr>\n",
       "      <th>INS OPTI1 MOVEDONE Motor offset done</th>\n",
       "      <td>32.808099</td>\n",
       "    </tr>\n",
       "    <tr>\n",
       "      <th>INS OPTI2 MOVE Motion execution</th>\n",
       "      <td>32.808099</td>\n",
       "    </tr>\n",
       "    <tr>\n",
       "      <th>WARNING new header block added the FITS file</th>\n",
       "      <td>30.713028</td>\n",
       "    </tr>\n",
       "    <tr>\n",
       "      <th>...</th>\n",
       "      <td>...</td>\n",
       "    </tr>\n",
       "    <tr>\n",
       "      <th>DEBUG nmmgrACTION_DETGS C {} Current time _date_953</th>\n",
       "      <td>0.001761</td>\n",
       "    </tr>\n",
       "    <tr>\n",
       "      <th>DEBUG nmmgrACTION_DETGS C {} Current time _date_951</th>\n",
       "      <td>0.001761</td>\n",
       "    </tr>\n",
       "    <tr>\n",
       "      <th>DEBUG nmmgrACTION_DETGS C {} Current time _date_947</th>\n",
       "      <td>0.001761</td>\n",
       "    </tr>\n",
       "    <tr>\n",
       "      <th>DEBUG nmmgrACTION_DETGS C {} Current time _date_943</th>\n",
       "      <td>0.001761</td>\n",
       "    </tr>\n",
       "    <tr>\n",
       "      <th>Data Quality gvar alias atauxsrv data claStatus BAD</th>\n",
       "      <td>0.001761</td>\n",
       "    </tr>\n",
       "  </tbody>\n",
       "</table>\n",
       "<p>1438 rows × 1 columns</p>\n",
       "</div>"
      ],
      "text/plain": [
       "                                                    count-norm\n",
       "color                                                         \n",
       "INS OPTI1 MOVE Motion execution                      32.815141\n",
       "INS OPTI2 MOVEDONE Motor offset done                 32.811620\n",
       "INS OPTI1 MOVEDONE Motor offset done                 32.808099\n",
       "INS OPTI2 MOVE Motion execution                      32.808099\n",
       "WARNING new header block added the FITS file         30.713028\n",
       "...                                                        ...\n",
       "DEBUG nmmgrACTION_DETGS C {} Current time _date...    0.001761\n",
       "DEBUG nmmgrACTION_DETGS C {} Current time _date...    0.001761\n",
       "DEBUG nmmgrACTION_DETGS C {} Current time _date...    0.001761\n",
       "DEBUG nmmgrACTION_DETGS C {} Current time _date...    0.001761\n",
       "Data Quality gvar alias atauxsrv data claStatus...    0.001761\n",
       "\n",
       "[1438 rows x 1 columns]"
      ]
     },
     "execution_count": 7,
     "metadata": {},
     "output_type": "execute_result"
    }
   ],
   "source": [
    "# Normalized totals by color (AVERAGE!)\n",
    "norm_total = colors_by_instance[[\"color\", \"count-norm\"]].groupby([\"color\"]).sum().sort_values('count-norm', ascending=False)\n",
    "norm_total"
   ]
  },
  {
   "cell_type": "code",
   "execution_count": 8,
   "metadata": {},
   "outputs": [
    {
     "data": {
      "text/html": [
       "<div>\n",
       "<style scoped>\n",
       "    .dataframe tbody tr th:only-of-type {\n",
       "        vertical-align: middle;\n",
       "    }\n",
       "\n",
       "    .dataframe tbody tr th {\n",
       "        vertical-align: top;\n",
       "    }\n",
       "\n",
       "    .dataframe thead th {\n",
       "        text-align: right;\n",
       "    }\n",
       "</style>\n",
       "<table border=\"1\" class=\"dataframe\">\n",
       "  <thead>\n",
       "    <tr style=\"text-align: right;\">\n",
       "      <th></th>\n",
       "      <th>count-norm</th>\n",
       "    </tr>\n",
       "    <tr>\n",
       "      <th>color</th>\n",
       "      <th></th>\n",
       "    </tr>\n",
       "  </thead>\n",
       "  <tbody>\n",
       "    <tr>\n",
       "      <th>INS OPTI1 MOVE Motion execution</th>\n",
       "      <td>32.815141</td>\n",
       "    </tr>\n",
       "    <tr>\n",
       "      <th>INS OPTI2 MOVEDONE Motor offset done</th>\n",
       "      <td>32.811620</td>\n",
       "    </tr>\n",
       "    <tr>\n",
       "      <th>INS OPTI1 MOVEDONE Motor offset done</th>\n",
       "      <td>32.808099</td>\n",
       "    </tr>\n",
       "    <tr>\n",
       "      <th>INS OPTI2 MOVE Motion execution</th>\n",
       "      <td>32.808099</td>\n",
       "    </tr>\n",
       "    <tr>\n",
       "      <th>WARNING new header block added the FITS file</th>\n",
       "      <td>30.713028</td>\n",
       "    </tr>\n",
       "    <tr>\n",
       "      <th>...</th>\n",
       "      <td>...</td>\n",
       "    </tr>\n",
       "    <tr>\n",
       "      <th>G OBJCNT F TEL AG COUNT {} TEL AG CYCLETIME {} {} TEL AG INTTIME {} {} TEL AG MAXMOVE {} {} TEL AG PROBEPATH F TEL AG MINMAG {} {} TEL AG MAXMAG {} {} TEL AG MINRAD {} {} TEL A</th>\n",
       "      <td>0.102113</td>\n",
       "    </tr>\n",
       "    <tr>\n",
       "      <th>W {} {} TEL CHOP POSOPTIM OFF TEL CHOP PVRATIO {} {} TEL CHOP TPAXIS OFF TEL CHOP POSANG {} {} TEL CHOP OFFSCHOP {} {} TEL CHOP GUIDE A COU AG COUNT {} COU AG CYCLETIME {} {}</th>\n",
       "      <td>0.102113</td>\n",
       "    </tr>\n",
       "    <tr>\n",
       "      <th>COU GS WAVELEN {} {} COU AG OBJCNT F COU AO START T ISS PRI PRESET TYPE MEASUREMENT_SWAP TEL AG TYPE FIELD_STAB TEL AG START F TEL AG GUIDESTAR CATALOGUE TEL A</th>\n",
       "      <td>0.102113</td>\n",
       "    </tr>\n",
       "    <tr>\n",
       "      <th>G MAXRAD {} {} TEL AG TAKE_ACT_POS F TEL AG VIGLIM NONE TEL GS1 ALPHA {} {} TEL GS1 DELTA {} {} TEL GS1 MAG {} {} TEL GS1 PPOS POS TEL GS2 ALPHA {} {} TEL GS2 DELTA {} {} T</th>\n",
       "      <td>0.102113</td>\n",
       "    </tr>\n",
       "    <tr>\n",
       "      <th>EL GS2 MAG {} {} TEL GS2 PPOS POS TEL GS3 ALPHA {} {} TEL GS3 DELTA {} {} TEL GS3 MAG {} {} TEL GS3 PPOS POS TEL GS4 ALPHA {} {} TEL GS4 DELTA {} {} TEL GS4 MAG {} {} TEL GS4 PP</th>\n",
       "      <td>0.102113</td>\n",
       "    </tr>\n",
       "  </tbody>\n",
       "</table>\n",
       "<p>386 rows × 1 columns</p>\n",
       "</div>"
      ],
      "text/plain": [
       "                                                    count-norm\n",
       "color                                                         \n",
       "INS OPTI1 MOVE Motion execution                      32.815141\n",
       "INS OPTI2 MOVEDONE Motor offset done                 32.811620\n",
       "INS OPTI1 MOVEDONE Motor offset done                 32.808099\n",
       "INS OPTI2 MOVE Motion execution                      32.808099\n",
       "WARNING new header block added the FITS file         30.713028\n",
       "...                                                        ...\n",
       "G OBJCNT F TEL AG COUNT {} TEL AG CYCLETIME {} ...    0.102113\n",
       "W {} {} TEL CHOP POSOPTIM OFF TEL CHOP PVRATIO ...    0.102113\n",
       "COU GS WAVELEN {} {} COU AG OBJCNT F COU AO STA...    0.102113\n",
       "G MAXRAD {} {} TEL AG TAKE_ACT_POS F TEL AG VIG...    0.102113\n",
       "EL GS2 MAG {} {} TEL GS2 PPOS POS TEL GS3 ALPHA...    0.102113\n",
       "\n",
       "[386 rows x 1 columns]"
      ]
     },
     "execution_count": 8,
     "metadata": {},
     "output_type": "execute_result"
    }
   ],
   "source": [
    "# Filtering total above THRESHOLD_MIN_AVG_COUNT\n",
    "THRESHOLD_MIN_AVG_COUNT = 0.1\n",
    "norm_total[ norm_total['count-norm'] >= THRESHOLD_MIN_AVG_COUNT ]"
   ]
  },
  {
   "cell_type": "code",
   "execution_count": 9,
   "metadata": {},
   "outputs": [],
   "source": [
    "#colors_by_instance[[\"color\", \"count\"]].groupby([\"color\"]).median().sort_values('count', ascending=False)[:50]"
   ]
  },
  {
   "cell_type": "markdown",
   "metadata": {},
   "source": [
    "## Plots"
   ]
  },
  {
   "cell_type": "code",
   "execution_count": 13,
   "metadata": {},
   "outputs": [
    {
     "name": "stderr",
     "output_type": "stream",
     "text": [
      "/Users/jgil/logdelay/venv/lib/python3.7/site-packages/ipykernel_launcher.py:2: FutureWarning: The 'get_values' method is deprecated and will be removed in a future version. Use '.values' or 'np.asarray(..)' instead.\n",
      "  \n"
     ]
    },
    {
     "data": {
      "image/png": "[encoded data removed]",
      "text/plain": [
       "<Figure size 432x288 with 1 Axes>"
      ]
     },
     "metadata": {
      "needs_background": "light"
     },
     "output_type": "display_data"
    }
   ],
   "source": [
    "fig, ax = plt.subplots()\n",
    "ax.plot( np.log(norm_total).get_values())\n",
    "\n",
    "ax.set(xlabel='Color#', ylabel='Normalized count',\n",
    "       title='About as simple as it gets, folks')\n",
    "ax.grid()\n",
    "\n",
    "#fig.savefig(\"test.png\")\n",
    "plt.show()\n",
    "\n"
   ]
  },
  {
   "cell_type": "code",
   "execution_count": null,
   "metadata": {},
   "outputs": [],
   "source": []
  }
 ],
 "metadata": {
  "kernelspec": {
   "display_name": "Python 3",
   "language": "python",
   "name": "python3"
  },
  "language_info": {
   "codemirror_mode": {
    "name": "ipython",
    "version": 3
   },
   "file_extension": ".py",
   "mimetype": "text/x-python",
   "name": "python",
   "nbconvert_exporter": "python",
   "pygments_lexer": "ipython3",
   "version": "3.7.5"
  }
 },
 "nbformat": 4,
 "nbformat_minor": 4
}
