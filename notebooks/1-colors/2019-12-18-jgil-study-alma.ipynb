{
 "cells": [
  {
   "cell_type": "markdown",
   "metadata": {},
   "source": [
    "# Study colors in ALMA"
   ]
  },
  {
   "cell_type": "code",
   "execution_count": 10,
   "metadata": {},
   "outputs": [],
   "source": [
    "import sys\n",
    "sys.path.append(\"../../\")\n",
    "\n",
    "import pandas as pd\n",
    "from src.colors import color_alma as color\n",
    "\n",
    "path=\"../../data/interim/ALMA/\""
   ]
  },
  {
   "cell_type": "markdown",
   "metadata": {},
   "source": [
    "## Collect colors by instance"
   ]
  },
  {
   "cell_type": "code",
   "execution_count": 13,
   "metadata": {},
   "outputs": [],
   "source": [
    "FILES=!ls $path | grep -v count"
   ]
  },
  {
   "cell_type": "code",
   "execution_count": 14,
   "metadata": {},
   "outputs": [],
   "source": [
    "acc=[]\n",
    "\n",
    "for f in FILES:\n",
    "    temp_dict={}\n",
    "    instance=pd.read_csv(path+f)\n",
    "    instance['color'] = instance['logtext'].apply(color)\n",
    "    for i, r in instance.iterrows():\n",
    "        if r['color'] not in temp_dict.keys():\n",
    "            temp_dict[r['color']] = 1\n",
    "        else:\n",
    "            temp_dict[r['color']] += 1\n",
    "    for k in temp_dict.keys():\n",
    "        acc.append( {'file': f, 'color': k, 'count': temp_dict[k]} )\n",
    "\n",
    "colors_by_instance = pd.DataFrame(acc)"
   ]
  },
  {
   "cell_type": "markdown",
   "metadata": {},
   "source": [
    "## Colors statistics"
   ]
  },
  {
   "cell_type": "code",
   "execution_count": 15,
   "metadata": {},
   "outputs": [
    {
     "data": {
      "text/plain": [
       "630"
      ]
     },
     "execution_count": 15,
     "metadata": {},
     "output_type": "execute_result"
    }
   ],
   "source": [
    "# of instances:\n",
    "len(FILES)"
   ]
  },
  {
   "cell_type": "code",
   "execution_count": 16,
   "metadata": {},
   "outputs": [
    {
     "data": {
      "text/plain": [
       "171"
      ]
     },
     "execution_count": 16,
     "metadata": {},
     "output_type": "execute_result"
    }
   ],
   "source": [
    "# of colors\n",
    "len(colors_by_instance[\"color\"].unique())"
   ]
  },
  {
   "cell_type": "code",
   "execution_count": 17,
   "metadata": {},
   "outputs": [],
   "source": [
    "# Normalize by # of instaces\n",
    "colors_by_instance['count-norm'] = colors_by_instance['count'] / len(FILES)"
   ]
  },
  {
   "cell_type": "code",
   "execution_count": 18,
   "metadata": {},
   "outputs": [
    {
     "data": {
      "text/html": [
       "<div>\n",
       "<style scoped>\n",
       "    .dataframe tbody tr th:only-of-type {\n",
       "        vertical-align: middle;\n",
       "    }\n",
       "\n",
       "    .dataframe tbody tr th {\n",
       "        vertical-align: top;\n",
       "    }\n",
       "\n",
       "    .dataframe thead th {\n",
       "        text-align: right;\n",
       "    }\n",
       "</style>\n",
       "<table border=\"1\" class=\"dataframe\">\n",
       "  <thead>\n",
       "    <tr style=\"text-align: right;\">\n",
       "      <th></th>\n",
       "      <th>count-norm</th>\n",
       "    </tr>\n",
       "    <tr>\n",
       "      <th>color</th>\n",
       "      <th></th>\n",
       "    </tr>\n",
       "  </thead>\n",
       "  <tbody>\n",
       "    <tr>\n",
       "      <th>Receiver band was already locked {} {}e {}</th>\n",
       "      <td>43.012698</td>\n",
       "    </tr>\n",
       "    <tr>\n",
       "      <th>Parking Calibration Device</th>\n",
       "      <td>41.933333</td>\n",
       "    </tr>\n",
       "    <tr>\n",
       "      <th>Set coarse tune {} High IFTP {} {}</th>\n",
       "      <td>30.473016</td>\n",
       "    </tr>\n",
       "    <tr>\n",
       "      <th>Modulation voltage {} {} IFTotal Power {} {} LPR power {} {} Photomixer Current {} {}</th>\n",
       "      <td>29.682540</td>\n",
       "    </tr>\n",
       "    <tr>\n",
       "      <th>Loop ongoing j {}</th>\n",
       "      <td>28.814286</td>\n",
       "    </tr>\n",
       "    <tr>\n",
       "      <th>...</th>\n",
       "      <td>...</td>\n",
       "    </tr>\n",
       "    <tr>\n",
       "      <th>Field alma CONTROL ANTxx LORR TE_LENGTH archive_delta_percent does not exist</th>\n",
       "      <td>0.001587</td>\n",
       "    </tr>\n",
       "    <tr>\n",
       "      <th>Field alma CONTROL ANTxx LORR CAN_ERROR_COUNT archive_delta_percent does not exist</th>\n",
       "      <td>0.001587</td>\n",
       "    </tr>\n",
       "    <tr>\n",
       "      <th>Field alma CONTROL ANTxx LORR CAN_ERROR archive_delta_percent does not exist</th>\n",
       "      <td>0.001587</td>\n",
       "    </tr>\n",
       "    <tr>\n",
       "      <th>The SET_SUBREF_ABS_POSN control point was not executed between {} and {}ms after timing event Requested execution time {} {} {} {} Actual execution time {} {} {} {} Time after TE {} {} ms</th>\n",
       "      <td>0.001587</td>\n",
       "    </tr>\n",
       "    <tr>\n",
       "      <th>Field alma CONTROL ANTxx LORR TE_OFFSET_COUNTER archive_delta_percent does not exist</th>\n",
       "      <td>0.001587</td>\n",
       "    </tr>\n",
       "  </tbody>\n",
       "</table>\n",
       "<p>171 rows × 1 columns</p>\n",
       "</div>"
      ],
      "text/plain": [
       "                                                    count-norm\n",
       "color                                                         \n",
       "Receiver band was already locked {} {}e {}           43.012698\n",
       "Parking Calibration Device                           41.933333\n",
       "Set coarse tune {} High IFTP {} {}                   30.473016\n",
       "Modulation voltage {} {} IFTotal Power {} {} LP...   29.682540\n",
       "Loop ongoing j {}                                    28.814286\n",
       "...                                                        ...\n",
       "Field alma CONTROL ANTxx LORR TE_LENGTH archive...    0.001587\n",
       "Field alma CONTROL ANTxx LORR CAN_ERROR_COUNT a...    0.001587\n",
       "Field alma CONTROL ANTxx LORR CAN_ERROR archive...    0.001587\n",
       "The SET_SUBREF_ABS_POSN control point was not e...    0.001587\n",
       "Field alma CONTROL ANTxx LORR TE_OFFSET_COUNTER...    0.001587\n",
       "\n",
       "[171 rows x 1 columns]"
      ]
     },
     "execution_count": 18,
     "metadata": {},
     "output_type": "execute_result"
    }
   ],
   "source": [
    "# Normalized totals by color (AVERAGE!)\n",
    "norm_total = colors_by_instance[[\"color\", \"count-norm\"]].groupby([\"color\"]).sum().sort_values('count-norm', ascending=False)\n",
    "norm_total"
   ]
  },
  {
   "cell_type": "code",
   "execution_count": 24,
   "metadata": {},
   "outputs": [
    {
     "data": {
      "text/html": [
       "<div>\n",
       "<style scoped>\n",
       "    .dataframe tbody tr th:only-of-type {\n",
       "        vertical-align: middle;\n",
       "    }\n",
       "\n",
       "    .dataframe tbody tr th {\n",
       "        vertical-align: top;\n",
       "    }\n",
       "\n",
       "    .dataframe thead th {\n",
       "        text-align: right;\n",
       "    }\n",
       "</style>\n",
       "<table border=\"1\" class=\"dataframe\">\n",
       "  <thead>\n",
       "    <tr style=\"text-align: right;\">\n",
       "      <th></th>\n",
       "      <th>count-norm</th>\n",
       "    </tr>\n",
       "    <tr>\n",
       "      <th>color</th>\n",
       "      <th></th>\n",
       "    </tr>\n",
       "  </thead>\n",
       "  <tbody>\n",
       "    <tr>\n",
       "      <th>Receiver band was already locked {} {}e {}</th>\n",
       "      <td>43.012698</td>\n",
       "    </tr>\n",
       "    <tr>\n",
       "      <th>Parking Calibration Device</th>\n",
       "      <td>41.933333</td>\n",
       "    </tr>\n",
       "    <tr>\n",
       "      <th>Set coarse tune {} High IFTP {} {}</th>\n",
       "      <td>30.473016</td>\n",
       "    </tr>\n",
       "    <tr>\n",
       "      <th>Modulation voltage {} {} IFTotal Power {} {} LPR power {} {} Photomixer Current {} {}</th>\n",
       "      <td>29.682540</td>\n",
       "    </tr>\n",
       "    <tr>\n",
       "      <th>Loop ongoing j {}</th>\n",
       "      <td>28.814286</td>\n",
       "    </tr>\n",
       "    <tr>\n",
       "      <th>...</th>\n",
       "      <td>...</td>\n",
       "    </tr>\n",
       "    <tr>\n",
       "      <th>Limiting subreflector position {} {} {} {} {} mm ensure it does not exceed limits {} {} {} mm</th>\n",
       "      <td>0.233333</td>\n",
       "    </tr>\n",
       "    <tr>\n",
       "      <th>Aborting data collection that started {} {} {} {} and was due stop {} {} {} {} Time now {} {} {} {}</th>\n",
       "      <td>0.160317</td>\n",
       "    </tr>\n",
       "    <tr>\n",
       "      <th>Data acquisition aborted</th>\n",
       "      <td>0.155556</td>\n",
       "    </tr>\n",
       "    <tr>\n",
       "      <th>Cannot publish following WVR event Its being discarded Antenna ANTxx Mid point data {} {} {} {} Temperatures {} {} {} {} {} {} {} {} deg K Sampled every {} {} seconds Event valid Data monitored {} {} {} {}</th>\n",
       "      <td>0.146032</td>\n",
       "    </tr>\n",
       "    <tr>\n",
       "      <th>CORBA Problem type {} code {} Info system exception ID IDL omg org CORBA OBJECT_NOT_EXIST {} {}</th>\n",
       "      <td>0.146032</td>\n",
       "    </tr>\n",
       "  </tbody>\n",
       "</table>\n",
       "<p>74 rows × 1 columns</p>\n",
       "</div>"
      ],
      "text/plain": [
       "                                                    count-norm\n",
       "color                                                         \n",
       "Receiver band was already locked {} {}e {}           43.012698\n",
       "Parking Calibration Device                           41.933333\n",
       "Set coarse tune {} High IFTP {} {}                   30.473016\n",
       "Modulation voltage {} {} IFTotal Power {} {} LP...   29.682540\n",
       "Loop ongoing j {}                                    28.814286\n",
       "...                                                        ...\n",
       "Limiting subreflector position {} {} {} {} {} m...    0.233333\n",
       "Aborting data collection that started {} {} {} ...    0.160317\n",
       "Data acquisition aborted                              0.155556\n",
       "Cannot publish following WVR event Its being di...    0.146032\n",
       "CORBA Problem type {} code {} Info system excep...    0.146032\n",
       "\n",
       "[74 rows x 1 columns]"
      ]
     },
     "execution_count": 24,
     "metadata": {},
     "output_type": "execute_result"
    }
   ],
   "source": [
    "# Filtering total above THRESHOLD_MIN_AVG_COUNT\n",
    "THRESHOLD_MIN_AVG_COUNT = 0.1\n",
    "norm_total[ norm_total['count-norm'] >= THRESHOLD_MIN_AVG_COUNT ]"
   ]
  },
  {
   "cell_type": "code",
   "execution_count": null,
   "metadata": {},
   "outputs": [],
   "source": [
    "#colors_by_instance[[\"color\", \"count\"]].groupby([\"color\"]).median().sort_values('count', ascending=False)[:50]"
   ]
  },
  {
   "cell_type": "code",
   "execution_count": null,
   "metadata": {},
   "outputs": [],
   "source": []
  }
 ],
 "metadata": {
  "kernelspec": {
   "display_name": "Python 3",
   "language": "python",
   "name": "python3"
  },
  "language_info": {
   "codemirror_mode": {
    "name": "ipython",
    "version": 3
   },
   "file_extension": ".py",
   "mimetype": "text/x-python",
   "name": "python",
   "nbconvert_exporter": "python",
   "pygments_lexer": "ipython3",
   "version": "3.7.5"
  }
 },
 "nbformat": 4,
 "nbformat_minor": 4
}
