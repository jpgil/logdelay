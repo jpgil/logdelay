{
 "cells": [
  {
   "cell_type": "markdown",
   "metadata": {},
   "source": [
    "# Study colors in ALMA"
   ]
  },
  {
   "cell_type": "code",
   "execution_count": 1,
   "metadata": {},
   "outputs": [],
   "source": [
    "import sys\n",
    "sys.path.append(\"../../\")\n",
    "\n",
    "import pandas as pd\n",
    "from src.colors import color_alma as color\n",
    "\n",
    "path=\"../../data/interim/ALMA/\""
   ]
  },
  {
   "cell_type": "markdown",
   "metadata": {},
   "source": [
    "## Collect colors by instance"
   ]
  },
  {
   "cell_type": "code",
   "execution_count": 2,
   "metadata": {},
   "outputs": [],
   "source": [
    "FILES=!ls $path | grep -v count"
   ]
  },
  {
   "cell_type": "code",
   "execution_count": 3,
   "metadata": {},
   "outputs": [],
   "source": [
    "acc=[]\n",
    "\n",
    "for f in FILES:\n",
    "    temp_dict={}\n",
    "    instance=pd.read_csv(path+f)\n",
    "    instance['color'] = instance['logtext'].apply(color)\n",
    "    for i, r in instance.iterrows():\n",
    "        if r['color'] not in temp_dict.keys():\n",
    "            temp_dict[r['color']] = 1\n",
    "        else:\n",
    "            temp_dict[r['color']] += 1\n",
    "    for k in temp_dict.keys():\n",
    "        acc.append( {'file': f, 'color': k, 'count': temp_dict[k]} )\n",
    "\n",
    "colors_by_instance = pd.DataFrame(acc)"
   ]
  },
  {
   "cell_type": "markdown",
   "metadata": {},
   "source": [
    "## Colors statistics"
   ]
  },
  {
   "cell_type": "code",
   "execution_count": 20,
   "metadata": {},
   "outputs": [
    {
     "data": {
      "text/html": [
       "<div>\n",
       "<style scoped>\n",
       "    .dataframe tbody tr th:only-of-type {\n",
       "        vertical-align: middle;\n",
       "    }\n",
       "\n",
       "    .dataframe tbody tr th {\n",
       "        vertical-align: top;\n",
       "    }\n",
       "\n",
       "    .dataframe thead th {\n",
       "        text-align: right;\n",
       "    }\n",
       "</style>\n",
       "<table border=\"1\" class=\"dataframe\">\n",
       "  <thead>\n",
       "    <tr style=\"text-align: right;\">\n",
       "      <th></th>\n",
       "      <th>file</th>\n",
       "      <th>color</th>\n",
       "      <th>count</th>\n",
       "      <th>count-norm</th>\n",
       "    </tr>\n",
       "  </thead>\n",
       "  <tbody>\n",
       "    <tr>\n",
       "      <th>0</th>\n",
       "      <td>2017-07-01T19:07:07.456-da62-AntObs.csv</td>\n",
       "      <td>Request load AntInterferometryController</td>\n",
       "      <td>1</td>\n",
       "      <td>0.001587</td>\n",
       "    </tr>\n",
       "    <tr>\n",
       "      <th>1</th>\n",
       "      <td>2017-07-01T19:07:07.456-da62-AntObs.csv</td>\n",
       "      <td>Full path alma ACS DEC2016 ACSSW lib libAntInt...</td>\n",
       "      <td>1</td>\n",
       "      <td>0.001587</td>\n",
       "    </tr>\n",
       "    <tr>\n",
       "      <th>2</th>\n",
       "      <td>2017-07-01T19:07:07.456-da62-AntObs.csv</td>\n",
       "      <td>Loaded alma ACS DEC2016 ACSSW lib libAntInterf...</td>\n",
       "      <td>1</td>\n",
       "      <td>0.001587</td>\n",
       "    </tr>\n",
       "    <tr>\n",
       "      <th>3</th>\n",
       "      <td>2017-07-01T19:07:07.456-da62-AntObs.csv</td>\n",
       "      <td>Switched state component CONTROL ANTxx AntInte...</td>\n",
       "      <td>1</td>\n",
       "      <td>0.001587</td>\n",
       "    </tr>\n",
       "    <tr>\n",
       "      <th>4</th>\n",
       "      <td>2017-07-01T19:07:07.456-da62-AntObs.csv</td>\n",
       "      <td>Switched state component CONTROL ANTxx AntInte...</td>\n",
       "      <td>1</td>\n",
       "      <td>0.001587</td>\n",
       "    </tr>\n",
       "    <tr>\n",
       "      <th>...</th>\n",
       "      <td>...</td>\n",
       "      <td>...</td>\n",
       "      <td>...</td>\n",
       "      <td>...</td>\n",
       "    </tr>\n",
       "    <tr>\n",
       "      <th>31224</th>\n",
       "      <td>2017-07-12T16:09:50.075-da43-AntObs.csv</td>\n",
       "      <td>Operation Timeout type {} code {}</td>\n",
       "      <td>2</td>\n",
       "      <td>0.003175</td>\n",
       "    </tr>\n",
       "    <tr>\n",
       "      <th>31225</th>\n",
       "      <td>2017-07-12T16:09:50.075-da43-AntObs.csv</td>\n",
       "      <td>Problem manipulating hardware type {} code {} ...</td>\n",
       "      <td>2</td>\n",
       "      <td>0.003175</td>\n",
       "    </tr>\n",
       "    <tr>\n",
       "      <th>31226</th>\n",
       "      <td>2017-07-12T16:09:50.075-da43-AntObs.csv</td>\n",
       "      <td>More events came in from NC than receiver proc...</td>\n",
       "      <td>1</td>\n",
       "      <td>0.001587</td>\n",
       "    </tr>\n",
       "    <tr>\n",
       "      <th>31227</th>\n",
       "      <td>2017-07-12T16:09:50.075-da43-AntObs.csv</td>\n",
       "      <td>Switched state component CONTROL ANTxx AntInte...</td>\n",
       "      <td>1</td>\n",
       "      <td>0.001587</td>\n",
       "    </tr>\n",
       "    <tr>\n",
       "      <th>31228</th>\n",
       "      <td>2017-07-12T16:09:50.075-da43-AntObs.csv</td>\n",
       "      <td>Switched state component CONTROL ANTxx AntInte...</td>\n",
       "      <td>1</td>\n",
       "      <td>0.001587</td>\n",
       "    </tr>\n",
       "  </tbody>\n",
       "</table>\n",
       "<p>31229 rows × 4 columns</p>\n",
       "</div>"
      ],
      "text/plain": [
       "                                          file  \\\n",
       "0      2017-07-01T19:07:07.456-da62-AntObs.csv   \n",
       "1      2017-07-01T19:07:07.456-da62-AntObs.csv   \n",
       "2      2017-07-01T19:07:07.456-da62-AntObs.csv   \n",
       "3      2017-07-01T19:07:07.456-da62-AntObs.csv   \n",
       "4      2017-07-01T19:07:07.456-da62-AntObs.csv   \n",
       "...                                        ...   \n",
       "31224  2017-07-12T16:09:50.075-da43-AntObs.csv   \n",
       "31225  2017-07-12T16:09:50.075-da43-AntObs.csv   \n",
       "31226  2017-07-12T16:09:50.075-da43-AntObs.csv   \n",
       "31227  2017-07-12T16:09:50.075-da43-AntObs.csv   \n",
       "31228  2017-07-12T16:09:50.075-da43-AntObs.csv   \n",
       "\n",
       "                                                   color  count  count-norm  \n",
       "0               Request load AntInterferometryController      1    0.001587  \n",
       "1      Full path alma ACS DEC2016 ACSSW lib libAntInt...      1    0.001587  \n",
       "2      Loaded alma ACS DEC2016 ACSSW lib libAntInterf...      1    0.001587  \n",
       "3      Switched state component CONTROL ANTxx AntInte...      1    0.001587  \n",
       "4      Switched state component CONTROL ANTxx AntInte...      1    0.001587  \n",
       "...                                                  ...    ...         ...  \n",
       "31224                  Operation Timeout type {} code {}      2    0.003175  \n",
       "31225  Problem manipulating hardware type {} code {} ...      2    0.003175  \n",
       "31226  More events came in from NC than receiver proc...      1    0.001587  \n",
       "31227  Switched state component CONTROL ANTxx AntInte...      1    0.001587  \n",
       "31228  Switched state component CONTROL ANTxx AntInte...      1    0.001587  \n",
       "\n",
       "[31229 rows x 4 columns]"
      ]
     },
     "execution_count": 20,
     "metadata": {},
     "output_type": "execute_result"
    }
   ],
   "source": [
    "colors_by_instance"
   ]
  },
  {
   "cell_type": "code",
   "execution_count": 4,
   "metadata": {},
   "outputs": [
    {
     "data": {
      "text/plain": [
       "630"
      ]
     },
     "execution_count": 4,
     "metadata": {},
     "output_type": "execute_result"
    }
   ],
   "source": [
    "# of instances:\n",
    "len(FILES)"
   ]
  },
  {
   "cell_type": "code",
   "execution_count": 5,
   "metadata": {},
   "outputs": [
    {
     "data": {
      "text/plain": [
       "171"
      ]
     },
     "execution_count": 5,
     "metadata": {},
     "output_type": "execute_result"
    }
   ],
   "source": [
    "# of colors\n",
    "len(colors_by_instance[\"color\"].unique())"
   ]
  },
  {
   "cell_type": "code",
   "execution_count": 6,
   "metadata": {},
   "outputs": [],
   "source": [
    "# Normalize by # of instaces\n",
    "colors_by_instance['count-norm'] = colors_by_instance['count'] / len(FILES)"
   ]
  },
  {
   "cell_type": "code",
   "execution_count": 7,
   "metadata": {},
   "outputs": [
    {
     "data": {
      "text/html": [
       "<div>\n",
       "<style scoped>\n",
       "    .dataframe tbody tr th:only-of-type {\n",
       "        vertical-align: middle;\n",
       "    }\n",
       "\n",
       "    .dataframe tbody tr th {\n",
       "        vertical-align: top;\n",
       "    }\n",
       "\n",
       "    .dataframe thead th {\n",
       "        text-align: right;\n",
       "    }\n",
       "</style>\n",
       "<table border=\"1\" class=\"dataframe\">\n",
       "  <thead>\n",
       "    <tr style=\"text-align: right;\">\n",
       "      <th></th>\n",
       "      <th>count-norm</th>\n",
       "    </tr>\n",
       "    <tr>\n",
       "      <th>color</th>\n",
       "      <th></th>\n",
       "    </tr>\n",
       "  </thead>\n",
       "  <tbody>\n",
       "    <tr>\n",
       "      <th>Receiver band was already locked {} {}e {}</th>\n",
       "      <td>43.012698</td>\n",
       "    </tr>\n",
       "    <tr>\n",
       "      <th>Parking Calibration Device</th>\n",
       "      <td>41.933333</td>\n",
       "    </tr>\n",
       "    <tr>\n",
       "      <th>Set coarse tune {} High IFTP {} {}</th>\n",
       "      <td>30.473016</td>\n",
       "    </tr>\n",
       "    <tr>\n",
       "      <th>Modulation voltage {} {} IFTotal Power {} {} LPR power {} {} Photomixer Current {} {}</th>\n",
       "      <td>29.682540</td>\n",
       "    </tr>\n",
       "    <tr>\n",
       "      <th>Loop ongoing j {}</th>\n",
       "      <td>28.814286</td>\n",
       "    </tr>\n",
       "    <tr>\n",
       "      <th>...</th>\n",
       "      <td>...</td>\n",
       "    </tr>\n",
       "    <tr>\n",
       "      <th>Field alma CONTROL ANTxx LORR TE_LENGTH archive_delta_percent does not exist</th>\n",
       "      <td>0.001587</td>\n",
       "    </tr>\n",
       "    <tr>\n",
       "      <th>Field alma CONTROL ANTxx LORR CAN_ERROR_COUNT archive_delta_percent does not exist</th>\n",
       "      <td>0.001587</td>\n",
       "    </tr>\n",
       "    <tr>\n",
       "      <th>Field alma CONTROL ANTxx LORR CAN_ERROR archive_delta_percent does not exist</th>\n",
       "      <td>0.001587</td>\n",
       "    </tr>\n",
       "    <tr>\n",
       "      <th>The SET_SUBREF_ABS_POSN control point was not executed between {} and {}ms after timing event Requested execution time {} {} {} {} Actual execution time {} {} {} {} Time after TE {} {} ms</th>\n",
       "      <td>0.001587</td>\n",
       "    </tr>\n",
       "    <tr>\n",
       "      <th>Field alma CONTROL ANTxx LORR TE_OFFSET_COUNTER archive_delta_percent does not exist</th>\n",
       "      <td>0.001587</td>\n",
       "    </tr>\n",
       "  </tbody>\n",
       "</table>\n",
       "<p>171 rows × 1 columns</p>\n",
       "</div>"
      ],
      "text/plain": [
       "                                                    count-norm\n",
       "color                                                         \n",
       "Receiver band was already locked {} {}e {}           43.012698\n",
       "Parking Calibration Device                           41.933333\n",
       "Set coarse tune {} High IFTP {} {}                   30.473016\n",
       "Modulation voltage {} {} IFTotal Power {} {} LP...   29.682540\n",
       "Loop ongoing j {}                                    28.814286\n",
       "...                                                        ...\n",
       "Field alma CONTROL ANTxx LORR TE_LENGTH archive...    0.001587\n",
       "Field alma CONTROL ANTxx LORR CAN_ERROR_COUNT a...    0.001587\n",
       "Field alma CONTROL ANTxx LORR CAN_ERROR archive...    0.001587\n",
       "The SET_SUBREF_ABS_POSN control point was not e...    0.001587\n",
       "Field alma CONTROL ANTxx LORR TE_OFFSET_COUNTER...    0.001587\n",
       "\n",
       "[171 rows x 1 columns]"
      ]
     },
     "execution_count": 7,
     "metadata": {},
     "output_type": "execute_result"
    }
   ],
   "source": [
    "# Normalized totals by color (AVERAGE!)\n",
    "norm_total = colors_by_instance[[\"color\", \"count-norm\"]].groupby([\"color\"]).sum().sort_values('count-norm', ascending=False)\n",
    "norm_total"
   ]
  },
  {
   "cell_type": "code",
   "execution_count": 19,
   "metadata": {},
   "outputs": [
    {
     "data": {
      "text/html": [
       "<div>\n",
       "<style scoped>\n",
       "    .dataframe tbody tr th:only-of-type {\n",
       "        vertical-align: middle;\n",
       "    }\n",
       "\n",
       "    .dataframe tbody tr th {\n",
       "        vertical-align: top;\n",
       "    }\n",
       "\n",
       "    .dataframe thead th {\n",
       "        text-align: right;\n",
       "    }\n",
       "</style>\n",
       "<table border=\"1\" class=\"dataframe\">\n",
       "  <thead>\n",
       "    <tr style=\"text-align: right;\">\n",
       "      <th></th>\n",
       "      <th>count-norm</th>\n",
       "    </tr>\n",
       "    <tr>\n",
       "      <th>color</th>\n",
       "      <th></th>\n",
       "    </tr>\n",
       "  </thead>\n",
       "  <tbody>\n",
       "    <tr>\n",
       "      <th>Receiver band was already locked {} {}e {}</th>\n",
       "      <td>43.012698</td>\n",
       "    </tr>\n",
       "    <tr>\n",
       "      <th>Parking Calibration Device</th>\n",
       "      <td>41.933333</td>\n",
       "    </tr>\n",
       "    <tr>\n",
       "      <th>Set coarse tune {} High IFTP {} {}</th>\n",
       "      <td>30.473016</td>\n",
       "    </tr>\n",
       "    <tr>\n",
       "      <th>Modulation voltage {} {} IFTotal Power {} {} LPR power {} {} Photomixer Current {} {}</th>\n",
       "      <td>29.682540</td>\n",
       "    </tr>\n",
       "    <tr>\n",
       "      <th>Loop ongoing j {}</th>\n",
       "      <td>28.814286</td>\n",
       "    </tr>\n",
       "    <tr>\n",
       "      <th>...</th>\n",
       "      <td>...</td>\n",
       "    </tr>\n",
       "    <tr>\n",
       "      <th>Limiting subreflector position {} {} {} {} {} mm ensure it does not exceed limits {} {} {} mm</th>\n",
       "      <td>0.233333</td>\n",
       "    </tr>\n",
       "    <tr>\n",
       "      <th>Aborting data collection that started {} {} {} {} and was due stop {} {} {} {} Time now {} {} {} {}</th>\n",
       "      <td>0.160317</td>\n",
       "    </tr>\n",
       "    <tr>\n",
       "      <th>Data acquisition aborted</th>\n",
       "      <td>0.155556</td>\n",
       "    </tr>\n",
       "    <tr>\n",
       "      <th>Cannot publish following WVR event Its being discarded Antenna ANTxx Mid point data {} {} {} {} Temperatures {} {} {} {} {} {} {} {} deg K Sampled every {} {} seconds Event valid Data monitored {} {} {} {}</th>\n",
       "      <td>0.146032</td>\n",
       "    </tr>\n",
       "    <tr>\n",
       "      <th>CORBA Problem type {} code {} Info system exception ID IDL omg org CORBA OBJECT_NOT_EXIST {} {}</th>\n",
       "      <td>0.146032</td>\n",
       "    </tr>\n",
       "  </tbody>\n",
       "</table>\n",
       "<p>74 rows × 1 columns</p>\n",
       "</div>"
      ],
      "text/plain": [
       "                                                    count-norm\n",
       "color                                                         \n",
       "Receiver band was already locked {} {}e {}           43.012698\n",
       "Parking Calibration Device                           41.933333\n",
       "Set coarse tune {} High IFTP {} {}                   30.473016\n",
       "Modulation voltage {} {} IFTotal Power {} {} LP...   29.682540\n",
       "Loop ongoing j {}                                    28.814286\n",
       "...                                                        ...\n",
       "Limiting subreflector position {} {} {} {} {} m...    0.233333\n",
       "Aborting data collection that started {} {} {} ...    0.160317\n",
       "Data acquisition aborted                              0.155556\n",
       "Cannot publish following WVR event Its being di...    0.146032\n",
       "CORBA Problem type {} code {} Info system excep...    0.146032\n",
       "\n",
       "[74 rows x 1 columns]"
      ]
     },
     "execution_count": 19,
     "metadata": {},
     "output_type": "execute_result"
    }
   ],
   "source": [
    "# Filtering total above THRESHOLD_MIN_AVG_COUNT\n",
    "THRESHOLD_MIN_AVG_COUNT = 0.1\n",
    "norm_total[ norm_total['count-norm'] >= THRESHOLD_MIN_AVG_COUNT ]"
   ]
  },
  {
   "cell_type": "code",
   "execution_count": 9,
   "metadata": {},
   "outputs": [],
   "source": [
    "#colors_by_instance[[\"color\", \"count\"]].groupby([\"color\"]).median().sort_values('count', ascending=False)[:50]"
   ]
  },
  {
   "cell_type": "code",
   "execution_count": null,
   "metadata": {},
   "outputs": [],
   "source": []
  }
 ],
 "metadata": {
  "kernelspec": {
   "display_name": "Python 3",
   "language": "python",
   "name": "python3"
  },
  "language_info": {
   "codemirror_mode": {
    "name": "ipython",
    "version": 3
   },
   "file_extension": ".py",
   "mimetype": "text/x-python",
   "name": "python",
   "nbconvert_exporter": "python",
   "pygments_lexer": "ipython3",
   "version": "3.7.5"
  }
 },
 "nbformat": 4,
 "nbformat_minor": 4
}
