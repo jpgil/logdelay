{
 "cells": [
  {
   "cell_type": "markdown",
   "metadata": {},
   "source": [
    "# Generate the Paranal Colorized Dataset"
   ]
  },
  {
   "cell_type": "markdown",
   "metadata": {},
   "source": [
    "* The dataset is composed by merging all individual cases\n",
    "* The color or clustering of logtext is applied on every row of the dataset\n",
    "* The variable ```config.THRESHOLD_MIN_AVG_COUNT``` is set to discard those very rare events.\n",
    "\n",
    "\n"
   ]
  },
  {
   "cell_type": "code",
   "execution_count": 38,
   "metadata": {},
   "outputs": [],
   "source": [
    "import sys\n",
    "sys.path.append(\"../../\")\n",
    "\n",
    "import pandas as pd\n",
    "from src.colors import color_paranal as color\n",
    "from src import config\n",
    "\n",
    "path=\"../../data/interim/PARANAL/\""
   ]
  },
  {
   "cell_type": "code",
   "execution_count": 61,
   "metadata": {},
   "outputs": [],
   "source": [
    "def merge_datasets(FILES, origin=\"\"):\n",
    "    dataset=[]\n",
    "    for f in FILES:\n",
    "        instance=pd.read_csv(path+f)\n",
    "        instance['instance_id'] = f\n",
    "        if len(dataset) == 0:\n",
    "            dataset = instance\n",
    "        else:\n",
    "            dataset = pd.concat([instance, dataset])\n",
    "    dataset['color'] = dataset['logtext'].apply(color)\n",
    "    dataset['source'] = origin + dataset['source']\n",
    "    \n",
    "    return dataset\n"
   ]
  },
  {
   "cell_type": "markdown",
   "metadata": {},
   "source": [
    "## Collect OBS"
   ]
  },
  {
   "cell_type": "code",
   "execution_count": 62,
   "metadata": {},
   "outputs": [],
   "source": [
    "FILES=!ls $path | grep OBS"
   ]
  },
  {
   "cell_type": "code",
   "execution_count": 83,
   "metadata": {},
   "outputs": [],
   "source": [
    "# Merge all FILES in one\n",
    "obs_df = merge_datasets(FILES, \"OBS-\")\n",
    "\n",
    "# Extract unique colors and count/total\n",
    "num_instances = obs_df['instance_id'].nunique()\n",
    "obs_colors = obs_df.groupby(\"color\")[\"@timestamp\"].count() / num_instances\n",
    "\n",
    "# Add this new column to the dataset\n",
    "obs_df['color_count'] = obs_df.color.apply( lambda r:obs_colors[r] )\n",
    "\n",
    "# Filter by Threshold THRESHOLD_MIN_AVG_COUNT\n",
    "obs_df_filtered = obs_df[ obs_df['color_count'] > config.THRESHOLD_MIN_AVG_COUNT ]"
   ]
  },
  {
   "cell_type": "code",
   "execution_count": 84,
   "metadata": {},
   "outputs": [
    {
     "data": {
      "text/html": [
       "<div>\n",
       "<style scoped>\n",
       "    .dataframe tbody tr th:only-of-type {\n",
       "        vertical-align: middle;\n",
       "    }\n",
       "\n",
       "    .dataframe tbody tr th {\n",
       "        vertical-align: top;\n",
       "    }\n",
       "\n",
       "    .dataframe thead th {\n",
       "        text-align: right;\n",
       "    }\n",
       "</style>\n",
       "<table border=\"1\" class=\"dataframe\">\n",
       "  <thead>\n",
       "    <tr style=\"text-align: right;\">\n",
       "      <th></th>\n",
       "      <th>color</th>\n",
       "      <th>source</th>\n",
       "      <th>instance_id</th>\n",
       "    </tr>\n",
       "  </thead>\n",
       "  <tbody>\n",
       "    <tr>\n",
       "      <th>count</th>\n",
       "      <td>125800</td>\n",
       "      <td>125800</td>\n",
       "      <td>125800</td>\n",
       "    </tr>\n",
       "    <tr>\n",
       "      <th>unique</th>\n",
       "      <td>1058</td>\n",
       "      <td>14</td>\n",
       "      <td>142</td>\n",
       "    </tr>\n",
       "    <tr>\n",
       "      <th>top</th>\n",
       "      <td>{} springgreen4</td>\n",
       "      <td>OBS-wgv/bob_42025</td>\n",
       "      <td>GRAVITY-2018-12-16T02:46:41.104Z.OBS.csv</td>\n",
       "    </tr>\n",
       "    <tr>\n",
       "      <th>freq</th>\n",
       "      <td>7835</td>\n",
       "      <td>23754</td>\n",
       "      <td>2168</td>\n",
       "    </tr>\n",
       "  </tbody>\n",
       "</table>\n",
       "</div>"
      ],
      "text/plain": [
       "                  color             source  \\\n",
       "count            125800             125800   \n",
       "unique             1058                 14   \n",
       "top     {} springgreen4  OBS-wgv/bob_42025   \n",
       "freq               7835              23754   \n",
       "\n",
       "                                     instance_id  \n",
       "count                                     125800  \n",
       "unique                                       142  \n",
       "top     GRAVITY-2018-12-16T02:46:41.104Z.OBS.csv  \n",
       "freq                                        2168  "
      ]
     },
     "execution_count": 84,
     "metadata": {},
     "output_type": "execute_result"
    }
   ],
   "source": [
    "obs_df[['color', 'source', 'instance_id']].describe()"
   ]
  },
  {
   "cell_type": "code",
   "execution_count": 85,
   "metadata": {},
   "outputs": [
    {
     "data": {
      "text/html": [
       "<div>\n",
       "<style scoped>\n",
       "    .dataframe tbody tr th:only-of-type {\n",
       "        vertical-align: middle;\n",
       "    }\n",
       "\n",
       "    .dataframe tbody tr th {\n",
       "        vertical-align: top;\n",
       "    }\n",
       "\n",
       "    .dataframe thead th {\n",
       "        text-align: right;\n",
       "    }\n",
       "</style>\n",
       "<table border=\"1\" class=\"dataframe\">\n",
       "  <thead>\n",
       "    <tr style=\"text-align: right;\">\n",
       "      <th></th>\n",
       "      <th>color</th>\n",
       "      <th>source</th>\n",
       "      <th>instance_id</th>\n",
       "    </tr>\n",
       "  </thead>\n",
       "  <tbody>\n",
       "    <tr>\n",
       "      <th>count</th>\n",
       "      <td>123789</td>\n",
       "      <td>123789</td>\n",
       "      <td>123789</td>\n",
       "    </tr>\n",
       "    <tr>\n",
       "      <th>unique</th>\n",
       "      <td>643</td>\n",
       "      <td>14</td>\n",
       "      <td>142</td>\n",
       "    </tr>\n",
       "    <tr>\n",
       "      <th>top</th>\n",
       "      <td>{} springgreen4</td>\n",
       "      <td>OBS-wgv/bob_42025</td>\n",
       "      <td>GRAVITY-2018-12-16T02:46:41.104Z.OBS.csv</td>\n",
       "    </tr>\n",
       "    <tr>\n",
       "      <th>freq</th>\n",
       "      <td>7835</td>\n",
       "      <td>23550</td>\n",
       "      <td>2045</td>\n",
       "    </tr>\n",
       "  </tbody>\n",
       "</table>\n",
       "</div>"
      ],
      "text/plain": [
       "                  color             source  \\\n",
       "count            123789             123789   \n",
       "unique              643                 14   \n",
       "top     {} springgreen4  OBS-wgv/bob_42025   \n",
       "freq               7835              23550   \n",
       "\n",
       "                                     instance_id  \n",
       "count                                     123789  \n",
       "unique                                       142  \n",
       "top     GRAVITY-2018-12-16T02:46:41.104Z.OBS.csv  \n",
       "freq                                        2045  "
      ]
     },
     "execution_count": 85,
     "metadata": {},
     "output_type": "execute_result"
    }
   ],
   "source": [
    "obs_df_filtered[['color', 'source', 'instance_id']].describe()"
   ]
  },
  {
   "cell_type": "code",
   "execution_count": 112,
   "metadata": {},
   "outputs": [
    {
     "data": {
      "text/html": [
       "<div>\n",
       "<style scoped>\n",
       "    .dataframe tbody tr th:only-of-type {\n",
       "        vertical-align: middle;\n",
       "    }\n",
       "\n",
       "    .dataframe tbody tr th {\n",
       "        vertical-align: top;\n",
       "    }\n",
       "\n",
       "    .dataframe thead th {\n",
       "        text-align: right;\n",
       "    }\n",
       "</style>\n",
       "<table border=\"1\" class=\"dataframe\">\n",
       "  <thead>\n",
       "    <tr style=\"text-align: right;\">\n",
       "      <th></th>\n",
       "      <th>@timestamp</th>\n",
       "      <th>source</th>\n",
       "      <th>logtext</th>\n",
       "      <th>instance_id</th>\n",
       "      <th>color</th>\n",
       "      <th>color_count</th>\n",
       "    </tr>\n",
       "  </thead>\n",
       "  <tbody>\n",
       "    <tr>\n",
       "      <th>0</th>\n",
       "      <td>2018-12-30T00:37:09.554Z</td>\n",
       "      <td>OBS-wgv/bob_884</td>\n",
       "      <td>OB started at 2018-12-30T00:37:09</td>\n",
       "      <td>GRAVITY-2018-12-30T00:37:09.554Z.OBS.csv</td>\n",
       "      <td>ob started _date_</td>\n",
       "      <td>1.000000</td>\n",
       "    </tr>\n",
       "    <tr>\n",
       "      <th>1</th>\n",
       "      <td>2018-12-30T00:37:09.554Z</td>\n",
       "      <td>OBS-wgv/bob_884</td>\n",
       "      <td>(OBS.NAME: M05_HD15875_MED_SPLIT // OBS.ID: 2...</td>\n",
       "      <td>GRAVITY-2018-12-30T00:37:09.554Z.OBS.csv</td>\n",
       "      <td>obs name {} obs id {}</td>\n",
       "      <td>0.964789</td>\n",
       "    </tr>\n",
       "    <tr>\n",
       "      <th>2</th>\n",
       "      <td>2018-12-30T00:37:09.571Z</td>\n",
       "      <td>OBS-wgv/bob_884</td>\n",
       "      <td>GRAVITY_single_acq -- GRAVITY Single Mode Acq...</td>\n",
       "      <td>GRAVITY-2018-12-30T00:37:09.554Z.OBS.csv</td>\n",
       "      <td>gravity_single_acq gravity single mode acquisi...</td>\n",
       "      <td>0.908451</td>\n",
       "    </tr>\n",
       "    <tr>\n",
       "      <th>3</th>\n",
       "      <td>2018-12-30T00:37:09.572Z</td>\n",
       "      <td>OBS-wgv/bob_884</td>\n",
       "      <td>Started at 2018-12-30T00:37:09 (underlined)</td>\n",
       "      <td>GRAVITY-2018-12-30T00:37:09.554Z.OBS.csv</td>\n",
       "      <td>started _date_ underlined</td>\n",
       "      <td>1.767606</td>\n",
       "    </tr>\n",
       "    <tr>\n",
       "      <th>4</th>\n",
       "      <td>2018-12-30T00:37:09.834Z</td>\n",
       "      <td>OBS-wgv/bob_884</td>\n",
       "      <td>COU AG START = 'F'</td>\n",
       "      <td>GRAVITY-2018-12-30T00:37:09.554Z.OBS.csv</td>\n",
       "      <td>cou ag start f</td>\n",
       "      <td>0.901408</td>\n",
       "    </tr>\n",
       "  </tbody>\n",
       "</table>\n",
       "</div>"
      ],
      "text/plain": [
       "                 @timestamp           source  \\\n",
       "0  2018-12-30T00:37:09.554Z  OBS-wgv/bob_884   \n",
       "1  2018-12-30T00:37:09.554Z  OBS-wgv/bob_884   \n",
       "2  2018-12-30T00:37:09.571Z  OBS-wgv/bob_884   \n",
       "3  2018-12-30T00:37:09.572Z  OBS-wgv/bob_884   \n",
       "4  2018-12-30T00:37:09.834Z  OBS-wgv/bob_884   \n",
       "\n",
       "                                             logtext  \\\n",
       "0                  OB started at 2018-12-30T00:37:09   \n",
       "1   (OBS.NAME: M05_HD15875_MED_SPLIT // OBS.ID: 2...   \n",
       "2   GRAVITY_single_acq -- GRAVITY Single Mode Acq...   \n",
       "3        Started at 2018-12-30T00:37:09 (underlined)   \n",
       "4                                 COU AG START = 'F'   \n",
       "\n",
       "                                instance_id  \\\n",
       "0  GRAVITY-2018-12-30T00:37:09.554Z.OBS.csv   \n",
       "1  GRAVITY-2018-12-30T00:37:09.554Z.OBS.csv   \n",
       "2  GRAVITY-2018-12-30T00:37:09.554Z.OBS.csv   \n",
       "3  GRAVITY-2018-12-30T00:37:09.554Z.OBS.csv   \n",
       "4  GRAVITY-2018-12-30T00:37:09.554Z.OBS.csv   \n",
       "\n",
       "                                               color  color_count  \n",
       "0                                  ob started _date_     1.000000  \n",
       "1                              obs name {} obs id {}     0.964789  \n",
       "2  gravity_single_acq gravity single mode acquisi...     0.908451  \n",
       "3                          started _date_ underlined     1.767606  \n",
       "4                                     cou ag start f     0.901408  "
      ]
     },
     "execution_count": 112,
     "metadata": {},
     "output_type": "execute_result"
    }
   ],
   "source": [
    "obs_df_filtered.head(5)"
   ]
  },
  {
   "cell_type": "markdown",
   "metadata": {},
   "source": [
    "## Collect ATs"
   ]
  },
  {
   "cell_type": "code",
   "execution_count": 87,
   "metadata": {},
   "outputs": [],
   "source": [
    "at_x=[]\n",
    "for telescope in [\"AT1\", \"AT2\", \"AT3\", \"AT4\"]:\n",
    "    # Merge all FILES in one\n",
    "    FILES=!ls $path | grep $telescope\n",
    "    at_x.append( merge_datasets(FILES, \"%s-\" % telescope) )\n",
    "\n",
    "at_df = pd.concat(at_x)\n",
    "del(at_x)\n",
    "\n",
    "# Extract unique colors and count/total\n",
    "num_instances = at_df['instance_id'].nunique()\n",
    "at_colors = at_df.groupby(\"color\")[\"@timestamp\"].count() / num_instances\n",
    "\n",
    "# Add this new column to the dataset\n",
    "at_df['color_count'] = at_df.color.apply( lambda r:at_colors[r] )\n",
    "\n",
    "# Filter by Threshold THRESHOLD_MIN_AVG_COUNT\n",
    "at_df_filtered = at_df[ at_df['color_count'] > config.THRESHOLD_MIN_AVG_COUNT ]"
   ]
  },
  {
   "cell_type": "code",
   "execution_count": 88,
   "metadata": {},
   "outputs": [
    {
     "data": {
      "text/html": [
       "<div>\n",
       "<style scoped>\n",
       "    .dataframe tbody tr th:only-of-type {\n",
       "        vertical-align: middle;\n",
       "    }\n",
       "\n",
       "    .dataframe tbody tr th {\n",
       "        vertical-align: top;\n",
       "    }\n",
       "\n",
       "    .dataframe thead th {\n",
       "        text-align: right;\n",
       "    }\n",
       "</style>\n",
       "<table border=\"1\" class=\"dataframe\">\n",
       "  <thead>\n",
       "    <tr style=\"text-align: right;\">\n",
       "      <th></th>\n",
       "      <th>color</th>\n",
       "      <th>source</th>\n",
       "      <th>instance_id</th>\n",
       "    </tr>\n",
       "  </thead>\n",
       "  <tbody>\n",
       "    <tr>\n",
       "      <th>count</th>\n",
       "      <td>348629</td>\n",
       "      <td>348629</td>\n",
       "      <td>348629</td>\n",
       "    </tr>\n",
       "    <tr>\n",
       "      <th>unique</th>\n",
       "      <td>1438</td>\n",
       "      <td>236</td>\n",
       "      <td>568</td>\n",
       "    </tr>\n",
       "    <tr>\n",
       "      <th>top</th>\n",
       "      <td>ins opti1 move motion execution</td>\n",
       "      <td>AT1-wat1tcs/nmmgrControl</td>\n",
       "      <td>GRAVITY-2018-12-16T04:07:59.099Z.AT3.csv</td>\n",
       "    </tr>\n",
       "    <tr>\n",
       "      <th>freq</th>\n",
       "      <td>18639</td>\n",
       "      <td>99375</td>\n",
       "      <td>6284</td>\n",
       "    </tr>\n",
       "  </tbody>\n",
       "</table>\n",
       "</div>"
      ],
      "text/plain": [
       "                                  color                    source  \\\n",
       "count                            348629                    348629   \n",
       "unique                             1438                       236   \n",
       "top     ins opti1 move motion execution  AT1-wat1tcs/nmmgrControl   \n",
       "freq                              18639                     99375   \n",
       "\n",
       "                                     instance_id  \n",
       "count                                     348629  \n",
       "unique                                       568  \n",
       "top     GRAVITY-2018-12-16T04:07:59.099Z.AT3.csv  \n",
       "freq                                        6284  "
      ]
     },
     "execution_count": 88,
     "metadata": {},
     "output_type": "execute_result"
    }
   ],
   "source": [
    "at_df[['color', 'source', 'instance_id']].describe()"
   ]
  },
  {
   "cell_type": "code",
   "execution_count": 89,
   "metadata": {},
   "outputs": [
    {
     "data": {
      "text/html": [
       "<div>\n",
       "<style scoped>\n",
       "    .dataframe tbody tr th:only-of-type {\n",
       "        vertical-align: middle;\n",
       "    }\n",
       "\n",
       "    .dataframe tbody tr th {\n",
       "        vertical-align: top;\n",
       "    }\n",
       "\n",
       "    .dataframe thead th {\n",
       "        text-align: right;\n",
       "    }\n",
       "</style>\n",
       "<table border=\"1\" class=\"dataframe\">\n",
       "  <thead>\n",
       "    <tr style=\"text-align: right;\">\n",
       "      <th></th>\n",
       "      <th>color</th>\n",
       "      <th>source</th>\n",
       "      <th>instance_id</th>\n",
       "    </tr>\n",
       "  </thead>\n",
       "  <tbody>\n",
       "    <tr>\n",
       "      <th>count</th>\n",
       "      <td>342788</td>\n",
       "      <td>342788</td>\n",
       "      <td>342788</td>\n",
       "    </tr>\n",
       "    <tr>\n",
       "      <th>unique</th>\n",
       "      <td>386</td>\n",
       "      <td>155</td>\n",
       "      <td>568</td>\n",
       "    </tr>\n",
       "    <tr>\n",
       "      <th>top</th>\n",
       "      <td>ins opti1 move motion execution</td>\n",
       "      <td>AT1-wat1tcs/nmmgrControl</td>\n",
       "      <td>GRAVITY-2018-12-16T04:07:59.099Z.AT3.csv</td>\n",
       "    </tr>\n",
       "    <tr>\n",
       "      <th>freq</th>\n",
       "      <td>18639</td>\n",
       "      <td>98274</td>\n",
       "      <td>5490</td>\n",
       "    </tr>\n",
       "  </tbody>\n",
       "</table>\n",
       "</div>"
      ],
      "text/plain": [
       "                                  color                    source  \\\n",
       "count                            342788                    342788   \n",
       "unique                              386                       155   \n",
       "top     ins opti1 move motion execution  AT1-wat1tcs/nmmgrControl   \n",
       "freq                              18639                     98274   \n",
       "\n",
       "                                     instance_id  \n",
       "count                                     342788  \n",
       "unique                                       568  \n",
       "top     GRAVITY-2018-12-16T04:07:59.099Z.AT3.csv  \n",
       "freq                                        5490  "
      ]
     },
     "execution_count": 89,
     "metadata": {},
     "output_type": "execute_result"
    }
   ],
   "source": [
    "at_df_filtered[['color', 'source', 'instance_id']].describe()"
   ]
  },
  {
   "cell_type": "code",
   "execution_count": 113,
   "metadata": {},
   "outputs": [
    {
     "data": {
      "text/html": [
       "<div>\n",
       "<style scoped>\n",
       "    .dataframe tbody tr th:only-of-type {\n",
       "        vertical-align: middle;\n",
       "    }\n",
       "\n",
       "    .dataframe tbody tr th {\n",
       "        vertical-align: top;\n",
       "    }\n",
       "\n",
       "    .dataframe thead th {\n",
       "        text-align: right;\n",
       "    }\n",
       "</style>\n",
       "<table border=\"1\" class=\"dataframe\">\n",
       "  <thead>\n",
       "    <tr style=\"text-align: right;\">\n",
       "      <th></th>\n",
       "      <th>@timestamp</th>\n",
       "      <th>source</th>\n",
       "      <th>logtext</th>\n",
       "      <th>instance_id</th>\n",
       "      <th>color</th>\n",
       "      <th>color_count</th>\n",
       "    </tr>\n",
       "  </thead>\n",
       "  <tbody>\n",
       "    <tr>\n",
       "      <th>0</th>\n",
       "      <td>2018-12-30T00:37:10.000Z</td>\n",
       "      <td>AT1-wat1tcs/logManager</td>\n",
       "      <td>INS.OPTI1.MOVE Motion execution.</td>\n",
       "      <td>GRAVITY-2018-12-30T00:37:09.554Z.AT1.csv</td>\n",
       "      <td>ins opti1 move motion execution</td>\n",
       "      <td>32.815141</td>\n",
       "    </tr>\n",
       "    <tr>\n",
       "      <th>1</th>\n",
       "      <td>2018-12-30T00:37:13.000Z</td>\n",
       "      <td>AT1-wat1tcs/logManager</td>\n",
       "      <td>INS.OPTI2.MOVE Motion execution.</td>\n",
       "      <td>GRAVITY-2018-12-30T00:37:09.554Z.AT1.csv</td>\n",
       "      <td>ins opti2 move motion execution</td>\n",
       "      <td>32.808099</td>\n",
       "    </tr>\n",
       "    <tr>\n",
       "      <th>2</th>\n",
       "      <td>2018-12-30T00:37:13.000Z</td>\n",
       "      <td>AT1-wat1tcs/logManager</td>\n",
       "      <td>INS.OPTI1.MOVEDONE Motor offset done.</td>\n",
       "      <td>GRAVITY-2018-12-30T00:37:09.554Z.AT1.csv</td>\n",
       "      <td>ins opti1 movedone motor offset done</td>\n",
       "      <td>32.808099</td>\n",
       "    </tr>\n",
       "    <tr>\n",
       "      <th>3</th>\n",
       "      <td>2018-12-30T00:37:13.466Z</td>\n",
       "      <td>AT1-wat1tcs/atifControl</td>\n",
       "      <td>TIF   : Received command: SETGVCM, Buffer: 0,...</td>\n",
       "      <td>GRAVITY-2018-12-30T00:37:09.554Z.AT1.csv</td>\n",
       "      <td>tif received command setgvcm buffer {} {} {} {...</td>\n",
       "      <td>1.603873</td>\n",
       "    </tr>\n",
       "    <tr>\n",
       "      <th>4</th>\n",
       "      <td>2018-12-30T00:37:13.468Z</td>\n",
       "      <td>AT1-wat1tcs/atifControl</td>\n",
       "      <td>TIF   : Succesfully completed command: SETGVC...</td>\n",
       "      <td>GRAVITY-2018-12-30T00:37:09.554Z.AT1.csv</td>\n",
       "      <td>tif succesfully completed command setgvcm buff...</td>\n",
       "      <td>1.603873</td>\n",
       "    </tr>\n",
       "  </tbody>\n",
       "</table>\n",
       "</div>"
      ],
      "text/plain": [
       "                 @timestamp                   source  \\\n",
       "0  2018-12-30T00:37:10.000Z   AT1-wat1tcs/logManager   \n",
       "1  2018-12-30T00:37:13.000Z   AT1-wat1tcs/logManager   \n",
       "2  2018-12-30T00:37:13.000Z   AT1-wat1tcs/logManager   \n",
       "3  2018-12-30T00:37:13.466Z  AT1-wat1tcs/atifControl   \n",
       "4  2018-12-30T00:37:13.468Z  AT1-wat1tcs/atifControl   \n",
       "\n",
       "                                             logtext  \\\n",
       "0                   INS.OPTI1.MOVE Motion execution.   \n",
       "1                   INS.OPTI2.MOVE Motion execution.   \n",
       "2              INS.OPTI1.MOVEDONE Motor offset done.   \n",
       "3   TIF   : Received command: SETGVCM, Buffer: 0,...   \n",
       "4   TIF   : Succesfully completed command: SETGVC...   \n",
       "\n",
       "                                instance_id  \\\n",
       "0  GRAVITY-2018-12-30T00:37:09.554Z.AT1.csv   \n",
       "1  GRAVITY-2018-12-30T00:37:09.554Z.AT1.csv   \n",
       "2  GRAVITY-2018-12-30T00:37:09.554Z.AT1.csv   \n",
       "3  GRAVITY-2018-12-30T00:37:09.554Z.AT1.csv   \n",
       "4  GRAVITY-2018-12-30T00:37:09.554Z.AT1.csv   \n",
       "\n",
       "                                               color  color_count  \n",
       "0                    ins opti1 move motion execution    32.815141  \n",
       "1                    ins opti2 move motion execution    32.808099  \n",
       "2               ins opti1 movedone motor offset done    32.808099  \n",
       "3  tif received command setgvcm buffer {} {} {} {...     1.603873  \n",
       "4  tif succesfully completed command setgvcm buff...     1.603873  "
      ]
     },
     "execution_count": 113,
     "metadata": {},
     "output_type": "execute_result"
    }
   ],
   "source": [
    "at_df_filtered.head()"
   ]
  },
  {
   "cell_type": "markdown",
   "metadata": {},
   "source": [
    "## Save into CSV"
   ]
  },
  {
   "cell_type": "code",
   "execution_count": 91,
   "metadata": {},
   "outputs": [],
   "source": [
    "path = \"../../data/processed/PARANAL/\"\n",
    "!mkdir -p $path"
   ]
  },
  {
   "cell_type": "code",
   "execution_count": 108,
   "metadata": {},
   "outputs": [],
   "source": [
    "at_df_filtered[[\n",
    "    \"@timestamp\", \"source\", \"logtext\", \"instance_id\", \"color\"\n",
    "]].to_csv(path+'dataset_at_filtered.csv', index=False)"
   ]
  },
  {
   "cell_type": "code",
   "execution_count": 105,
   "metadata": {},
   "outputs": [],
   "source": [
    "at_colors.to_csv(path+'dataset_at_colors.csv', header=False, index=True)"
   ]
  },
  {
   "cell_type": "code",
   "execution_count": 109,
   "metadata": {},
   "outputs": [],
   "source": [
    "obs_df_filtered[[\n",
    "    \"@timestamp\", \"source\", \"logtext\", \"instance_id\", \"color\"\n",
    "]].to_csv(path+'dataset_obs_filtered.csv', index=False)"
   ]
  },
  {
   "cell_type": "code",
   "execution_count": 110,
   "metadata": {},
   "outputs": [],
   "source": [
    "obs_colors.to_csv(path+'dataset_obs_colors.csv', header=False, index=True)"
   ]
  },
  {
   "cell_type": "code",
   "execution_count": 111,
   "metadata": {},
   "outputs": [
    {
     "name": "stdout",
     "output_type": "stream",
     "text": [
      "-rw-r--r--  1 jgil  5000   135K Jan 12 22:04 dataset_at_colors.csv\n",
      "-rw-r--r--  1 jgil  5000    68M Jan 12 22:04 dataset_at_filtered.csv\n",
      "-rw-r--r--  1 jgil  5000    22M Jan 12 22:05 dataset_obs_filtered.csv\n",
      "-rw-r--r--  1 jgil  5000    91K Jan 12 22:05 dataset_obs_colors.csv\n"
     ]
    }
   ],
   "source": [
    "!ls -ltrh $path | grep dataset"
   ]
  },
  {
   "cell_type": "code",
   "execution_count": null,
   "metadata": {},
   "outputs": [],
   "source": []
  }
 ],
 "metadata": {
  "kernelspec": {
   "display_name": "Python 3",
   "language": "python",
   "name": "python3"
  },
  "language_info": {
   "codemirror_mode": {
    "name": "ipython",
    "version": 3
   },
   "file_extension": ".py",
   "mimetype": "text/x-python",
   "name": "python",
   "nbconvert_exporter": "python",
   "pygments_lexer": "ipython3",
   "version": "3.7.5"
  }
 },
 "nbformat": 4,
 "nbformat_minor": 4
}
