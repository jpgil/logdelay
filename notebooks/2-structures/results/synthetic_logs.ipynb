{
 "cells": [
  {
   "cell_type": "markdown",
   "metadata": {},
   "source": [
    "# Synthetic Logs"
   ]
  },
  {
   "cell_type": "markdown",
   "metadata": {},
   "source": [
    "One class was generated"
   ]
  },
  {
   "cell_type": "code",
   "execution_count": 20,
   "metadata": {},
   "outputs": [],
   "source": [
    "import pandas as pd\n",
    "\n",
    "import sys\n",
    "sys.path.append(\"../../../\")\n",
    "from src.models.synthetic_logs import *"
   ]
  },
  {
   "cell_type": "code",
   "execution_count": 21,
   "metadata": {},
   "outputs": [
    {
     "name": "stdout",
     "output_type": "stream",
     "text": [
      "  1 : [o A H h ak B I ab al z C J ah j D v K r ad E au L ag F ac m h G aa o ad k al j u am au y am c au an]\n",
      "  2 : [f A H x n B I x ae J au C t f D K aa au aw E L c l F av ao ai G y n t v l t l s av ac a ak f av]\n",
      "  3 : [x A H q z B I x c al C J j w D K t r aq E L af o F ab ax e G y d i aw m ao x y ad ag v c as aa]\n",
      "  4 : [ao A H al ag B e I aq t C J ah ae D q K ap ah E L h h F o b ax G ao p e ah t ao t e c ab o ax ak p]\n",
      "  5 : [ao A aj u B ae av aq C am as D u ak ae E an aa F z h j G q y q l ac ac ah z h l as ax b j]\n",
      "  6 : [au A H aq c B k I aw aw C J t m D K v c h E L ar q F ad a x G u l p f q an b f ap l au ai a ac]\n",
      "  7 : [an A ap ad B al o l C i aq D d ah t E e ax F u r as G m c ao o am m m as ao ac ao o ak an]\n",
      "  8 : [l A p y B av an ap C aq ax D a x au E aa f F ax t ah G p x ad ad x e q am as n y al w ap]\n",
      "  9 : [t A ap ai B aa t v C b e D al m an E ad e F am aj ai G a c y f ae t am ax t aj b d r ac]\n",
      " 10 : [aa A H ag ah B I o i J c C af au D K ao aj y E L t o F p aq at G af l q c af f ab i ac x ar aw ar ah]\n"
     ]
    }
   ],
   "source": [
    "logs = synthetic_logs()\n",
    "logs.add( noisy_path( every=10, num_symbols=50, count=30)  )\n",
    "logs.add( serial_path( size=7, every=25, error=0, probability=1)  )\n",
    "logs.add( serial_path( size=5, every=25, error=5, probability=0.5)  )\n",
    "\n",
    "logs.generate_instances(100)\n",
    "\n",
    "logs.show_instances()"
   ]
  },
  {
   "cell_type": "code",
   "execution_count": 22,
   "metadata": {},
   "outputs": [
    {
     "data": {
      "text/html": [
       "<div>\n",
       "<style scoped>\n",
       "    .dataframe tbody tr th:only-of-type {\n",
       "        vertical-align: middle;\n",
       "    }\n",
       "\n",
       "    .dataframe tbody tr th {\n",
       "        vertical-align: top;\n",
       "    }\n",
       "\n",
       "    .dataframe thead th {\n",
       "        text-align: right;\n",
       "    }\n",
       "</style>\n",
       "<table border=\"1\" class=\"dataframe\">\n",
       "  <thead>\n",
       "    <tr style=\"text-align: right;\">\n",
       "      <th></th>\n",
       "      <th>class</th>\n",
       "      <th>#symbols</th>\n",
       "      <th>example</th>\n",
       "      <th>error</th>\n",
       "      <th>probability</th>\n",
       "    </tr>\n",
       "  </thead>\n",
       "  <tbody>\n",
       "    <tr>\n",
       "      <th>0</th>\n",
       "      <td>noisy_path</td>\n",
       "      <td>50</td>\n",
       "      <td>j r at an af i ak al ai af</td>\n",
       "      <td>NaN</td>\n",
       "      <td>NaN</td>\n",
       "    </tr>\n",
       "    <tr>\n",
       "      <th>1</th>\n",
       "      <td>serial_path</td>\n",
       "      <td>7</td>\n",
       "      <td>A B C D E F G</td>\n",
       "      <td>0.0</td>\n",
       "      <td>1.0</td>\n",
       "    </tr>\n",
       "    <tr>\n",
       "      <th>2</th>\n",
       "      <td>serial_path</td>\n",
       "      <td>5</td>\n",
       "      <td>H I J K L</td>\n",
       "      <td>5.0</td>\n",
       "      <td>0.5</td>\n",
       "    </tr>\n",
       "  </tbody>\n",
       "</table>\n",
       "</div>"
      ],
      "text/plain": [
       "         class  #symbols                     example  error  probability\n",
       "0   noisy_path        50  j r at an af i ak al ai af    NaN          NaN\n",
       "1  serial_path         7               A B C D E F G    0.0          1.0\n",
       "2  serial_path         5                   H I J K L    5.0          0.5"
      ]
     },
     "execution_count": 22,
     "metadata": {},
     "output_type": "execute_result"
    }
   ],
   "source": [
    "pd.DataFrame (logs.describe()['generators'])"
   ]
  },
  {
   "cell_type": "markdown",
   "metadata": {},
   "source": [
    "## Status"
   ]
  },
  {
   "cell_type": "markdown",
   "metadata": {},
   "source": [
    "2020-02-26. There are more results in synthetic generators, like the \"-\" or \"*\" operators. Also, loops are pending. "
   ]
  },
  {
   "cell_type": "code",
   "execution_count": null,
   "metadata": {},
   "outputs": [],
   "source": []
  }
 ],
 "metadata": {
  "kernelspec": {
   "display_name": "Python 3",
   "language": "python",
   "name": "python3"
  },
  "language_info": {
   "codemirror_mode": {
    "name": "ipython",
    "version": 3
   },
   "file_extension": ".py",
   "mimetype": "text/x-python",
   "name": "python",
   "nbconvert_exporter": "python",
   "pygments_lexer": "ipython3",
   "version": "3.7.5"
  }
 },
 "nbformat": 4,
 "nbformat_minor": 4
}
