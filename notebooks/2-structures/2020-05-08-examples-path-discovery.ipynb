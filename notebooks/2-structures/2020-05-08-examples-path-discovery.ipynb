{
 "cells": [
  {
   "cell_type": "markdown",
   "metadata": {},
   "source": [
    "# Examples for the Path Discovery"
   ]
  },
  {
   "cell_type": "markdown",
   "metadata": {},
   "source": [
    "Including rewritting of the functions"
   ]
  },
  {
   "cell_type": "markdown",
   "metadata": {},
   "source": [
    "Entities:\n",
    "------\n",
    "* $G^S_T$ successor graph\n",
    "* $G^{S^+}_T$ path equivalent graph\n",
    "* $G^1 + G^2$ graph combination\n",
    "* $S_{ \\cap \\Sigma }$ intersection \n",
    "* $f$-cut\n",
    "* upper cut\n",
    "* loop removal\n",
    "* clique decomposition\n",
    "* path-condition"
   ]
  },
  {
   "cell_type": "code",
   "execution_count": 1,
   "metadata": {},
   "outputs": [],
   "source": [
    "import sys\n",
    "import logging\n",
    "logging.basicConfig(format='%(funcName)s:%(levelname)s:%(message)s', level=logging.INFO, stream=sys.stdout)\n",
    "\n",
    "from helpers import *"
   ]
  },
  {
   "cell_type": "code",
   "execution_count": 2,
   "metadata": {},
   "outputs": [],
   "source": [
    "# Functions\n",
    "import networkx as nx\n",
    "from networkx.drawing.nx_agraph import write_dot\n",
    "import logging\n",
    "\n",
    "logger = logging.getLogger()\n",
    "\n",
    "def successor_graph(T):\n",
    "    partial_subtrace = T[:]\n",
    "    G=nx.DiGraph()\n",
    "    \n",
    "    while len(partial_subtrace):\n",
    "        s_i = partial_subtrace.pop(0)\n",
    "        for s_j in [ s_i ] + partial_subtrace:\n",
    "            if s_i in G and s_j in G[s_i]:\n",
    "                G[s_i][s_j]['weight'] += 1\n",
    "            else:\n",
    "                G.add_edge(s_i, s_j, weight=1)\n",
    "\n",
    "    return G"
   ]
  },
  {
   "cell_type": "code",
   "execution_count": 3,
   "metadata": {},
   "outputs": [],
   "source": [
    "def graph(G, color=\"#cccccc\", with_weigths=True):\n",
    "    G.write_dot(G,'graph.dot')\n",
    "#     pos = nx.circular_layout(G)\n",
    "#     plt.rcParams['figure.figsize'] = [10, 6]\n",
    "#     plt.subplot(111)\n",
    "\n",
    "#     nx.draw_networkx (G, pos, width=1, node_color=color, with_labels=True, connectionstyle='arc3, rad=0.1' )\n",
    "#     if with_weigths:\n",
    "#         weights = { (str(u), str(v)): G[u][v]['weight'] for u,v in G.edges() }\n",
    "#         nx.draw_networkx_edge_labels(G, pos=pos, edge_labels=weights, connectionstyle='arc3, rad=0.1')\n",
    "#     plt.show()\n",
    "    \n",
    "def count_successor_pairs( T ):\n",
    "    \n",
    "    logger.debug(\"Extracting pairs for %d elements in T=%s\" % ( len(T), T[:20]) ) \n",
    "    pairs = []\n",
    "    partial_subtrace = T[:]\n",
    "    \n",
    "    while len(partial_subtrace):\n",
    "        s_i = partial_subtrace.pop(0)\n",
    "        pairs += [ (s_i, s_i) ] + [ (s_i, s_j) for s_j in partial_subtrace ]\n",
    "\n",
    "    logger.debug(\"Pairs for found = %d\" % ( len(pairs) ) ) \n",
    "    return pairs"
   ]
  },
  {
   "cell_type": "markdown",
   "metadata": {},
   "source": [
    "## Successor Graph"
   ]
  },
  {
   "cell_type": "code",
   "execution_count": 5,
   "metadata": {},
   "outputs": [
    {
     "ename": "ImportError",
     "evalue": "('requires pygraphviz ', 'http://pygraphviz.github.io/')",
     "output_type": "error",
     "traceback": [
      "\u001b[0;31m---------------------------------------------------------------------------\u001b[0m",
      "\u001b[0;31mModuleNotFoundError\u001b[0m                       Traceback (most recent call last)",
      "\u001b[0;32m~/logdelay/venv/lib/python3.7/site-packages/networkx/drawing/nx_agraph.py\u001b[0m in \u001b[0;36mwrite_dot\u001b[0;34m(G, path)\u001b[0m\n\u001b[1;32m    187\u001b[0m     \u001b[0;32mtry\u001b[0m\u001b[0;34m:\u001b[0m\u001b[0;34m\u001b[0m\u001b[0;34m\u001b[0m\u001b[0m\n\u001b[0;32m--> 188\u001b[0;31m         \u001b[0;32mimport\u001b[0m \u001b[0mpygraphviz\u001b[0m\u001b[0;34m\u001b[0m\u001b[0;34m\u001b[0m\u001b[0m\n\u001b[0m\u001b[1;32m    189\u001b[0m     \u001b[0;32mexcept\u001b[0m \u001b[0mImportError\u001b[0m\u001b[0;34m:\u001b[0m\u001b[0;34m\u001b[0m\u001b[0;34m\u001b[0m\u001b[0m\n",
      "\u001b[0;31mModuleNotFoundError\u001b[0m: No module named 'pygraphviz'",
      "\nDuring handling of the above exception, another exception occurred:\n",
      "\u001b[0;31mImportError\u001b[0m                               Traceback (most recent call last)",
      "\u001b[0;32m<ipython-input-5-21cb8d254c06>\u001b[0m in \u001b[0;36m<module>\u001b[0;34m\u001b[0m\n\u001b[1;32m      4\u001b[0m \u001b[0;31m# graph( Gs_T )\u001b[0m\u001b[0;34m\u001b[0m\u001b[0;34m\u001b[0m\u001b[0;34m\u001b[0m\u001b[0m\n\u001b[1;32m      5\u001b[0m \u001b[0;34m\u001b[0m\u001b[0m\n\u001b[0;32m----> 6\u001b[0;31m \u001b[0mwrite_dot\u001b[0m\u001b[0;34m(\u001b[0m\u001b[0mGs_T\u001b[0m\u001b[0;34m,\u001b[0m\u001b[0;34m'graph.dot'\u001b[0m\u001b[0;34m)\u001b[0m\u001b[0;34m\u001b[0m\u001b[0;34m\u001b[0m\u001b[0m\n\u001b[0m",
      "\u001b[0;32m~/logdelay/venv/lib/python3.7/site-packages/networkx/drawing/nx_agraph.py\u001b[0m in \u001b[0;36mwrite_dot\u001b[0;34m(G, path)\u001b[0m\n\u001b[1;32m    189\u001b[0m     \u001b[0;32mexcept\u001b[0m \u001b[0mImportError\u001b[0m\u001b[0;34m:\u001b[0m\u001b[0;34m\u001b[0m\u001b[0;34m\u001b[0m\u001b[0m\n\u001b[1;32m    190\u001b[0m         raise ImportError('requires pygraphviz ',\n\u001b[0;32m--> 191\u001b[0;31m                           'http://pygraphviz.github.io/')\n\u001b[0m\u001b[1;32m    192\u001b[0m     \u001b[0mA\u001b[0m \u001b[0;34m=\u001b[0m \u001b[0mto_agraph\u001b[0m\u001b[0;34m(\u001b[0m\u001b[0mG\u001b[0m\u001b[0;34m)\u001b[0m\u001b[0;34m\u001b[0m\u001b[0;34m\u001b[0m\u001b[0m\n\u001b[1;32m    193\u001b[0m     \u001b[0mA\u001b[0m\u001b[0;34m.\u001b[0m\u001b[0mwrite\u001b[0m\u001b[0;34m(\u001b[0m\u001b[0mpath\u001b[0m\u001b[0;34m)\u001b[0m\u001b[0;34m\u001b[0m\u001b[0;34m\u001b[0m\u001b[0m\n",
      "\u001b[0;31mImportError\u001b[0m: ('requires pygraphviz ', 'http://pygraphviz.github.io/')"
     ]
    }
   ],
   "source": [
    "T=list(\"abca\")\n",
    "Gs_T = successor_graph(T)\n",
    "# [ (u, v, Gs_T[u][v][\"weight\"]) for u, v in Gs_T.edges]\n",
    "# graph( Gs_T )\n",
    "\n",
    "write_dot(Gs_T,'graph.dot')"
   ]
  },
  {
   "cell_type": "code",
   "execution_count": null,
   "metadata": {},
   "outputs": [],
   "source": [
    "G=nx.DiGraph()\n",
    "G.add_edge(1,2)\n",
    "G[1][2]['weight'] = 1\n",
    "G[1][2]"
   ]
  },
  {
   "cell_type": "code",
   "execution_count": null,
   "metadata": {},
   "outputs": [],
   "source": [
    "%timeit count_successor_pairs( list(\"a\"*1000) )\n",
    "%timeit count_successor_pairs( list(\"a\"*2000) )\n",
    "%timeit count_successor_pairs( list(\"a\"*3000) )\n",
    "# %timeit count_successor_pairs( list(\"a\"*4000) )\n",
    "# %timeit count_successor_pairs( list(\"a\"*5000) )\n",
    "print()"
   ]
  },
  {
   "cell_type": "code",
   "execution_count": null,
   "metadata": {},
   "outputs": [],
   "source": [
    "import pygraphviz"
   ]
  },
  {
   "cell_type": "code",
   "execution_count": null,
   "metadata": {},
   "outputs": [],
   "source": []
  }
 ],
 "metadata": {
  "kernelspec": {
   "display_name": "Python 3",
   "language": "python",
   "name": "python3"
  },
  "language_info": {
   "codemirror_mode": {
    "name": "ipython",
    "version": 3
   },
   "file_extension": ".py",
   "mimetype": "text/x-python",
   "name": "python",
   "nbconvert_exporter": "python",
   "pygments_lexer": "ipython3",
   "version": "3.7.5"
  }
 },
 "nbformat": 4,
 "nbformat_minor": 4
}
