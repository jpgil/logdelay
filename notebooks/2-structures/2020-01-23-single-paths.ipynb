{
 "cells": [
  {
   "cell_type": "markdown",
   "metadata": {},
   "source": [
    "# Back to the basics: Single Path discovery"
   ]
  },
  {
   "cell_type": "code",
   "execution_count": null,
   "metadata": {
    "jupyter": {
     "source_hidden": true
    }
   },
   "outputs": [],
   "source": [
    "%load_ext autoreload\n",
    "%autoreload 2\n",
    "\n",
    "import networkx as nx\n",
    "# import scipy\n",
    "import matplotlib.pyplot as plt\n",
    "\n",
    "\n",
    "# import clique_discovery \n",
    "# from helpers import *"
   ]
  },
  {
   "cell_type": "markdown",
   "metadata": {},
   "source": [
    "My specific goal is to isolate all single paths in the traces, i.e. find the longest sequences of symbols that appears consequtively in a set of traces.. For that, I need to identify the loops and remove it. One significative fact is that loops must be identified in one single Trace. \n",
    "\n",
    "In this notebook and all the nexts the function will be inline."
   ]
  },
  {
   "cell_type": "code",
   "execution_count": null,
   "metadata": {
    "jupyter": {
     "source_hidden": true
    }
   },
   "outputs": [],
   "source": [
    "def graph(G, color=\"#cccccc\", with_weigths=True):\n",
    "    pos = nx.circular_layout(G)\n",
    "    plt.rcParams['figure.figsize'] = [10, 6]\n",
    "    plt.subplot(111)\n",
    "\n",
    "    nx.draw_networkx (G, pos, width=1, node_color=color, with_labels=True, connectionstyle='arc3, rad=0.03' )\n",
    "    if with_weigths:\n",
    "        weights = { (str(u), str(v)): G[u][v]['weight'] for u,v in G.edges() }\n",
    "        nx.draw_networkx_edge_labels(G, pos=pos, edge_labels=weights)\n",
    "    plt.show()"
   ]
  },
  {
   "cell_type": "code",
   "execution_count": null,
   "metadata": {
    "jupyter": {
     "source_hidden": true
    }
   },
   "outputs": [],
   "source": [
    "def naive_graph( T, with_weigths=False ):\n",
    "    NAIVE=nx.DiGraph()\n",
    "    NAIVE.add_edges_from( [ (a,b) for t in T for a,b in zip( t[:-1], t[1:] )  ] )\n",
    "    graph( NAIVE, with_weigths=with_weigths )"
   ]
  },
  {
   "cell_type": "markdown",
   "metadata": {},
   "source": [
    "## Simple example"
   ]
  },
  {
   "cell_type": "code",
   "execution_count": null,
   "metadata": {},
   "outputs": [],
   "source": [
    "def get_successor_by_freq( traces ):\n",
    "    \"\"\"\n",
    "    Get successor pairs in every T in traces, and combine them by frequency of appearance.\n",
    "    \n",
    "    >>> T = [ list(\"ABC\"), list(\"ABCABC\") ]\n",
    "    >>> get_successor_pairs_by_freq(T)\n",
    "    {('A', 'B'): 3, ('A', 'C'): 3, ('B', 'C'): 3, ('B', 'A'): 1, ('C', 'A'): 1, ('C', 'B'): 1}\n",
    "    \"\"\"\n",
    "    pairs_with_freq = {}\n",
    "    L = float(len(traces))\n",
    "\n",
    "    for trace in traces:\n",
    "        for pair in get_successor_pairs(trace):\n",
    "            if pair in pairs_with_freq.keys():\n",
    "                pairs_with_freq[pair] = pairs_with_freq[pair] + 1.0/L\n",
    "            else:\n",
    "                pairs_with_freq[pair] = 1.0/L\n",
    "            \n",
    "    By_freq = {}\n",
    "    for (u, v), freq in pairs_with_freq.items():\n",
    "        f = round(freq,2)\n",
    "        if f in By_freq.keys():\n",
    "            By_freq[f].append( (u,v) )\n",
    "        else:\n",
    "            By_freq[f] =[ (u,v) ]\n",
    "    return By_freq"
   ]
  },
  {
   "cell_type": "code",
   "execution_count": null,
   "metadata": {},
   "outputs": [],
   "source": [
    "def get_successor_pairs( T_prime ):\n",
    "    \"\"\"\n",
    "    Get near successor pairs\n",
    "    \n",
    "    Given the trace $T' = s_1 ... s_L$\n",
    "    For every $1 <= i <= L$ find the maximal subtrace starting at $i$\n",
    "    $T_i_j = s_i ... s_j$ such that $s_i \\ne s_k$ for all $i < k <= j$\n",
    "    \n",
    "    Return the concatenation for all $T_i_j$\n",
    "    [ (s_i, s_k) ] for all s_i \\in T_i_j, s_k \\in T_i_j for all i < k <= j\n",
    "    \n",
    "    ADDED 2020-01-23:\n",
    "    Que no se repitan!\n",
    "\n",
    "    \n",
    "    >>> get_successor_pairs(list(\"ABCD\"))\n",
    "    [('A', 'B'), ('A', 'C'), ('A', 'D'), ('B', 'C'), ('B', 'D'), ('C', 'D')]\n",
    "    \"\"\"\n",
    "    pairs = []\n",
    "    for i in range(0, len(T_prime)-1):\n",
    "\n",
    "\n",
    "        partial_subtrace = T_prime[i:]\n",
    "\n",
    "        s_i = partial_subtrace.pop(0)\n",
    "        L = len(partial_subtrace)\n",
    "\n",
    "        # Find first first j such s_i == s_j, or L if not exists\n",
    "        if s_i in partial_subtrace:\n",
    "            j = partial_subtrace.index(s_i)\n",
    "        else:\n",
    "            j = L\n",
    "\n",
    "        # This is the subtrace T_i_j, the maximal that not contains s1\n",
    "        # (Actually, it not contains s_i)\n",
    "        T_i_j=partial_subtrace[:j]\n",
    "        T_i_j_pairs = [] # 2020-01-23 BEHAVIOR\n",
    "\n",
    "        # Construct all s_i, s_k , i < k <= j\n",
    "        for s_k in T_i_j:\n",
    "            e = (s_i, s_k)\n",
    "\n",
    "#             pairs.append(e)       # 2020-01-20 BEHAVIOR\n",
    "            \n",
    "            if e not in T_i_j_pairs:  # 2020-01-23 BEHAVIOR\n",
    "                T_i_j_pairs.append(e) # 2020-01-23 BEHAVIOR\n",
    "        pairs += T_i_j_pairs          # 2020-01-23 BEHAVIOR\n",
    "            \n",
    "            # Added 2020-01-18: global star / end\n",
    "#             if ADD_START_END:\n",
    "#                 pairs.append( (\"_START_\", s_i) )\n",
    "#                 pairs.append(( s_k, \"_END_\") )\n",
    "\n",
    "\n",
    "    return pairs"
   ]
  },
  {
   "cell_type": "code",
   "execution_count": null,
   "metadata": {},
   "outputs": [],
   "source": [
    "# A single path is shown as a complete graph \n",
    "get_successor_by_freq([list(\"ABC\")])"
   ]
  },
  {
   "cell_type": "code",
   "execution_count": null,
   "metadata": {},
   "outputs": [],
   "source": [
    "# Note that in a loop the path appears inverted\n",
    "get_successor_by_freq([list(\"ABCABC\")])"
   ]
  },
  {
   "cell_type": "code",
   "execution_count": null,
   "metadata": {},
   "outputs": [],
   "source": [
    "# Note what happens when noise is introduced\n",
    "get_successor_by_freq([list(\".ABAB\")]), \\\n",
    "get_successor_by_freq([list(\"AB.AB\")]), \\\n",
    "get_successor_by_freq([list(\"ABAB.\")])"
   ]
  },
  {
   "cell_type": "code",
   "execution_count": null,
   "metadata": {},
   "outputs": [],
   "source": [
    "# Here the symbols are merged simulating parallel execution, when no order is guaranteed between processes\n",
    "get_successor_by_freq([list(\"1A2BA1B2\")])"
   ]
  },
  {
   "cell_type": "markdown",
   "metadata": {},
   "source": [
    "## Simple Loop"
   ]
  },
  {
   "cell_type": "code",
   "execution_count": null,
   "metadata": {},
   "outputs": [],
   "source": [
    "T = [\n",
    "    list(\"ABCDABCD\"),\n",
    "]"
   ]
  },
  {
   "cell_type": "code",
   "execution_count": null,
   "metadata": {},
   "outputs": [],
   "source": [
    "# This graph is a simple loop.\n",
    "naive_graph(T)"
   ]
  },
  {
   "cell_type": "code",
   "execution_count": null,
   "metadata": {},
   "outputs": [],
   "source": [
    "# Build an auxiliary graph for one frequency\n",
    "def successors_in_one_freq( successor_pairs_f ):\n",
    "    G={}\n",
    "    for f, pairs in successor_pairs_f.items():\n",
    "        G[f] = nx.DiGraph()\n",
    "        for p in pairs:\n",
    "            G[f].add_edge(p[0], p[1], weight=f )\n",
    "    return G"
   ]
  },
  {
   "cell_type": "code",
   "execution_count": null,
   "metadata": {},
   "outputs": [],
   "source": [
    "# Build the graph of successors for one frequency\n",
    "for f, G in successors_in_one_freq(get_successor_by_freq( T )).items():\n",
    "    graph(G)"
   ]
  },
  {
   "cell_type": "code",
   "execution_count": null,
   "metadata": {},
   "outputs": [],
   "source": [
    "# The list T has only one item, then the pairs below represents that single path.\n",
    "succ_of_T = get_successor_by_freq(T)"
   ]
  },
  {
   "cell_type": "code",
   "execution_count": null,
   "metadata": {},
   "outputs": [],
   "source": [
    "def successorsGraph(successor_by_freq):\n",
    "    G=nx.DiGraph()\n",
    "    for f, pairs in successor_by_freq.items():\n",
    "        for u, v in pairs:\n",
    "            G.add_edge(u, v, weight=f)\n",
    "    return G"
   ]
  },
  {
   "cell_type": "code",
   "execution_count": null,
   "metadata": {},
   "outputs": [],
   "source": [
    "# Let's build the graph of all (u,v) in successor_by_freq\n",
    "\n",
    "bigG = successorsGraph(succ_of_T)\n",
    "graph(bigG)"
   ]
  },
  {
   "cell_type": "markdown",
   "metadata": {},
   "source": [
    "Now back to previous ideas I had weeks ago: Search cliques in the same frequency. But now, extracting the loops in each trace. Let's build a list of G_freq[f]"
   ]
  },
  {
   "cell_type": "code",
   "execution_count": null,
   "metadata": {},
   "outputs": [],
   "source": [
    "# Now with the complex T\n",
    "G_freq = successors_in_one_freq(succ_of_T) # { f: successors_graph(pairs, f) for f, pairs in succ_of_T.items() }"
   ]
  },
  {
   "cell_type": "markdown",
   "metadata": {},
   "source": [
    "But the cliques appears duplicated in different frequencies."
   ]
  },
  {
   "cell_type": "markdown",
   "metadata": {},
   "source": [
    "Cliques are set of vertex:"
   ]
  },
  {
   "cell_type": "code",
   "execution_count": null,
   "metadata": {},
   "outputs": [],
   "source": [
    "{ f: list(nx.algorithms.clique.find_cliques( G_freq[f].to_undirected() )) for f in G_freq.keys() }"
   ]
  },
  {
   "cell_type": "code",
   "execution_count": null,
   "metadata": {},
   "outputs": [],
   "source": [
    "# Sort the cliques and apply the rules:\n",
    "# 1) The nodes of a single path in their equivalent pair has in_degree=0,1,2,...\n",
    "# 2) A path is composed for at least 2 nodes\n",
    "\n",
    "def infer_paths(G_freq, min_clique_size=2):\n",
    "\n",
    "    paths_f = {}\n",
    "    cliques_f = { f: list(nx.algorithms.clique.find_cliques( G_freq[f].to_undirected() )) for f in G_freq.keys() }\n",
    "    for f, cliques in cliques_f.items():\n",
    "        paths = []\n",
    "        for clique in cliques:\n",
    "            # From the original graph(f),\n",
    "            G_complete = G_freq[f].copy()\n",
    "            \n",
    "            # remove the nodes not in this clique \n",
    "            for node in set(G_complete.nodes).difference( set(clique) ):\n",
    "                G_complete.remove_node(node)\n",
    "                \n",
    "            # Order nodes by inner degree\n",
    "            nodes = sorted( G_complete.in_degree() , key=lambda p: p[1], reverse=False)\n",
    "\n",
    "            # - core - CRITERIA 1 and 2\n",
    "            # Strict checking: in_degree(n) in [0, ... , len(N)-1]\n",
    "            if len(nodes) >=min_clique_size and all( \n",
    "                [in_degree == i for i, (a, in_degree) in zip(range(0, len(nodes)), nodes)]\n",
    "            ):\n",
    "                    paths.append ( [ a for a, in_degree in nodes ] )\n",
    "        if paths:\n",
    "            paths_f[f] = paths\n",
    "    return paths_f"
   ]
  },
  {
   "cell_type": "markdown",
   "metadata": {},
   "source": [
    "Sort the cliques and apply the rule:\n",
    "\n",
    "**Claim (1)**: The nodes of a single path in their equivalent pair graph can be ordered by in_degree, starting at 0. $in\\_degree=0,1,2,...$ "
   ]
  },
  {
   "cell_type": "code",
   "execution_count": null,
   "metadata": {},
   "outputs": [],
   "source": [
    "infer_paths(G_freq)"
   ]
  },
  {
   "cell_type": "code",
   "execution_count": null,
   "metadata": {},
   "outputs": [],
   "source": [
    "def split_in_freqGraph( successorsGraph ):\n",
    "    u_v_f = [ (u, v, successorsGraph[u][v][\"weight\"]) for u, v in successorsGraph.edges]\n",
    "    frqs = set([ f for u, v, f in u_v_f])\n",
    "    G={}\n",
    "    for f in frqs:\n",
    "        G[f] = successorsGraph.copy()\n",
    "        # Get all nodes whose pairs has weight!=f\n",
    "        for u, v, f2 in u_v_f:\n",
    "            if f != f2:\n",
    "                G[f].remove_edge(u,v)\n",
    "        # Remove \n",
    "    return G"
   ]
  },
  {
   "cell_type": "code",
   "execution_count": null,
   "metadata": {},
   "outputs": [],
   "source": [
    "# Now all together:\n",
    "T = [\n",
    "    list(\"ABCDABCD\"),\n",
    "]\n",
    "bigG = successorsGraph(  get_successor_by_freq(T)  )\n",
    "G_freq = split_in_freqGraph( bigG )\n",
    "\n",
    "# for f, G in G_freq.items():\n",
    "#     graph(G)\n",
    "graph(bigG)\n",
    "\n",
    "infer_paths(G_freq)"
   ]
  },
  {
   "cell_type": "code",
   "execution_count": null,
   "metadata": {},
   "outputs": [],
   "source": [
    "# Single path again, using the clique method\n",
    "T = [\n",
    "    list(\"abcde\")\n",
    "]\n",
    "bigG = successorsGraph(  get_successor_by_freq(T)  )\n",
    "\n",
    "naive_graph(T)\n",
    "graph(bigG)\n",
    "infer_paths(  split_in_freqGraph( bigG ) )"
   ]
  },
  {
   "cell_type": "markdown",
   "metadata": {},
   "source": [
    "## Multiple traces , no loop"
   ]
  },
  {
   "cell_type": "code",
   "execution_count": null,
   "metadata": {},
   "outputs": [],
   "source": [
    "# Expected paths: ABC 123\n",
    "T = [\n",
    "    list(\"ABC123\"),\n",
    "    list(\"123ABC\"),    \n",
    "]\n",
    "bigG = successorsGraph(  get_successor_by_freq(T)  )\n",
    "infer_paths( split_in_freqGraph( bigG ) )"
   ]
  },
  {
   "cell_type": "code",
   "execution_count": null,
   "metadata": {},
   "outputs": [],
   "source": [
    "# Expected paths: ABC 123\n",
    "T = [\n",
    "    list(\"ABC123\"), list(\"ABC123\"),\n",
    "    list(\"123ABC\"), list(\"123ABC\"),\n",
    "    list(\"123\"), list(\"123\"), list(\"123\"), list(\"123\"), list(\"123\"), \n",
    "]\n",
    "bigG = successorsGraph(  get_successor_by_freq(T)  )\n",
    "infer_paths( split_in_freqGraph( bigG ) )"
   ]
  },
  {
   "cell_type": "markdown",
   "metadata": {},
   "source": [
    "## Simple Loops"
   ]
  },
  {
   "cell_type": "code",
   "execution_count": null,
   "metadata": {},
   "outputs": [],
   "source": [
    "# Expected Loops: ABC\n",
    "T = [\n",
    "    list(\"ABCABC\")\n",
    "]\n",
    "bigG = successorsGraph(  get_successor_by_freq(T)  )\n",
    "naive_graph(T)\n",
    "paths = infer_paths( split_in_freqGraph( bigG ) )\n",
    "paths"
   ]
  },
  {
   "cell_type": "markdown",
   "metadata": {},
   "source": [
    "Claim (2): If the nodes $V$ makes a loop in a pairs graph $G$ then $| freq(AB) - freq(BA) | = 1$, $\\forall A,B \\in V(G)$ (2)\n",
    "```\n",
    "    ABC ABC ..  ABC ABC = N\n",
    "    \n",
    "    AB  AB  ..  AB  AB  = N\n",
    "     \\  / \\     / \\ / \n",
    "     B--A  B..--A B-A   = N-1\n",
    "\n",
    "    A-C A-C ..  A-C A-C = N\n",
    "      \\ / \\     / \\ /   \n",
    "      C-A C-..--A C-A   = N-1\n",
    "```"
   ]
  },
  {
   "cell_type": "code",
   "execution_count": null,
   "metadata": {
    "jupyter": {
     "source_hidden": true
    }
   },
   "outputs": [],
   "source": [
    "# Nodes part of a loop\n",
    "# Search all n in bigG such that\n",
    "# | freq(AB) - freq(BA) | = 1 \\forall A,B \\in V(G)\n",
    "\n",
    "def is_a_loop_criteria(u, v, bigG):\n",
    "    return \\\n",
    "        (u,v) in bigG.edges \\\n",
    "        and (v,u) in bigG.edges \\\n",
    "        and  1 == abs( bigG.edges[u,v]['weight'] - bigG.edges[v,u]['weight'] )\n",
    "\n",
    "    \n",
    "def loops_from_G( bigG, verbose=False ):\n",
    "    loops = set()\n",
    "    for u in bigG.nodes:\n",
    "        for v in bigG.nodes - u:\n",
    "            if is_a_loop_criteria(u,v,bigG):\n",
    "                loops.add(u)\n",
    "                loops.add(v)\n",
    "    return loops"
   ]
  },
  {
   "cell_type": "code",
   "execution_count": null,
   "metadata": {},
   "outputs": [],
   "source": [
    "# Let's see. \n",
    "loops_from_G(bigG, verbose=True)"
   ]
  },
  {
   "cell_type": "code",
   "execution_count": null,
   "metadata": {},
   "outputs": [],
   "source": [
    "# Expected Loops: ABC 123\n",
    "T = [\n",
    "    list(\"ABCABC123123\")\n",
    "]\n",
    "bigG = successorsGraph(  get_successor_by_freq(T)  )\n",
    "naive_graph(T)\n",
    "paths = infer_paths( split_in_freqGraph( bigG ) )\n",
    "paths"
   ]
  },
  {
   "cell_type": "code",
   "execution_count": null,
   "metadata": {},
   "outputs": [],
   "source": [
    "loops_from_G(bigG, verbose=True)"
   ]
  },
  {
   "cell_type": "markdown",
   "metadata": {},
   "source": [
    "## Anoying Loop Example"
   ]
  },
  {
   "cell_type": "code",
   "execution_count": null,
   "metadata": {},
   "outputs": [],
   "source": [
    "# More interesting serie. Expected Loops: ABC 123\n",
    "T = [\n",
    "#     list(\"A1B23C1A2B3C1ABC23zxcv\"),\n",
    "    list(\"ABCABCABC123123123\")\n",
    "#     list(\"aAb1B2cd3Cefgh1iAjk2Blmnop3qCrst1AuBC2vwxyz3\"),\n",
    "#     list(\".1A.B2.C3..ABC...A1..2B..3C.\")\n",
    "]\n",
    "bigG = successorsGraph(  get_successor_by_freq(T)  )\n",
    "# graph( bigG, with_weigths=False)\n",
    "paths = infer_paths( split_in_freqGraph( bigG ) )\n",
    "# paths"
   ]
  },
  {
   "cell_type": "code",
   "execution_count": null,
   "metadata": {},
   "outputs": [],
   "source": [
    "# for f, pairs in get_successor_by_freq(T).items():\n",
    "#     print(f, [(a,b) for a, b in pairs \\\n",
    "#         if a in list(\"ABC123\") and b in list(\"ABC123\") ] )"
   ]
  },
  {
   "cell_type": "code",
   "execution_count": null,
   "metadata": {},
   "outputs": [],
   "source": [
    "# Let's see. \n",
    "nodes_in_loops = loops_from_G(bigG, verbose=True)"
   ]
  },
  {
   "cell_type": "code",
   "execution_count": null,
   "metadata": {
    "jupyter": {
     "source_hidden": true
    }
   },
   "outputs": [],
   "source": [
    "nodes_in_loops"
   ]
  },
  {
   "cell_type": "code",
   "execution_count": null,
   "metadata": {},
   "outputs": [],
   "source": [
    "bigG.out_degree()"
   ]
  },
  {
   "cell_type": "code",
   "execution_count": null,
   "metadata": {},
   "outputs": [],
   "source": [
    "# Every subclique is a clique, hence, a path in T. Let's search the ordered intersection with the nodes in loop.\n",
    "for f, cliques in paths.items():\n",
    "    for path in cliques:\n",
    "        if all([ p in nodes_in_loops for p in path ]):\n",
    "            print (f, path)"
   ]
  },
  {
   "cell_type": "code",
   "execution_count": null,
   "metadata": {},
   "outputs": [],
   "source": [
    "paths"
   ]
  },
  {
   "cell_type": "markdown",
   "metadata": {},
   "source": [
    "Claim: all paths (cliques) forming a base are loops. Starting from max(f) -> min(f)."
   ]
  },
  {
   "cell_type": "code",
   "execution_count": null,
   "metadata": {},
   "outputs": [],
   "source": []
  },
  {
   "cell_type": "code",
   "execution_count": null,
   "metadata": {},
   "outputs": [],
   "source": []
  }
 ],
 "metadata": {
  "kernelspec": {
   "display_name": "Python 3",
   "language": "python",
   "name": "python3"
  },
  "language_info": {
   "codemirror_mode": {
    "name": "ipython",
    "version": 3
   },
   "file_extension": ".py",
   "mimetype": "text/x-python",
   "name": "python",
   "nbconvert_exporter": "python",
   "pygments_lexer": "ipython3",
   "version": "3.7.5"
  }
 },
 "nbformat": 4,
 "nbformat_minor": 4
}

