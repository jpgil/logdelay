{
 "cells": [
  {
   "cell_type": "code",
   "execution_count": null,
   "metadata": {},
   "outputs": [],
   "source": []
  },
  {
   "cell_type": "code",
   "execution_count": 24,
   "metadata": {},
   "outputs": [],
   "source": [
    "import random\n",
    "import networkx as nx\n",
    "import matplotlib.pyplot as plt\n",
    "\n",
    "import pandas as pd\n",
    "\n",
    "import sys\n",
    "sys.path.append(\"../../\")\n",
    "from src.models.synthetic_logs import *"
   ]
  },
  {
   "cell_type": "code",
   "execution_count": 25,
   "metadata": {},
   "outputs": [],
   "source": [
    "CLIQUE_THRESHOLD=0"
   ]
  },
  {
   "cell_type": "markdown",
   "metadata": {},
   "source": [
    "## Functions"
   ]
  },
  {
   "cell_type": "code",
   "execution_count": 26,
   "metadata": {},
   "outputs": [],
   "source": [
    "def get_successor_pairs( this_trace ):\n",
    "    pairs = []\n",
    "    for idx in range(0, len(this_trace)-1):\n",
    "        partial_subtrace = this_trace[idx:]\n",
    "\n",
    "        # For every s_i in s_0...s_i...partial_subtrace\n",
    "        s_i = partial_subtrace.pop(0)\n",
    "        # Find first K+1 such s_i == s_(k+1)\n",
    "        try:\n",
    "            k_plus_1 = partial_subtrace.index(s_i)\n",
    "        except:\n",
    "            k_plus_1 = len(partial_subtrace)\n",
    "        # This is the subtrace T, the maximal that not contains s0\n",
    "        T=partial_subtrace[:k_plus_1]\n",
    "\n",
    "        # Collect all (s_i, s_k) with i < k < k+1:\n",
    "        # UPDATE 2020-01-16: discard cases ABBBBBBB and condider just AB\n",
    "        unique_pairs = []\n",
    "        for s_k in T:\n",
    "            e = (s_i, s_k)\n",
    "            unique_pairs.append(e)\n",
    "        pairs += list(set(unique_pairs))\n",
    "    return pairs"
   ]
  },
  {
   "cell_type": "code",
   "execution_count": 27,
   "metadata": {},
   "outputs": [],
   "source": [
    "def get_successor_pairs_by_freq( traces, sensitivity=-1 ):\n",
    "    pairs_by_freq = {}\n",
    "\n",
    "    for trace in traces:\n",
    "        for pair in get_successor_pairs(trace):\n",
    "            if pair in pairs_by_freq.keys():\n",
    "                pairs_by_freq[pair] = pairs_by_freq[pair] + 1\n",
    "            else:\n",
    "                pairs_by_freq[pair] = 1\n",
    "    return pairs_by_freq"
   ]
  },
  {
   "cell_type": "code",
   "execution_count": 28,
   "metadata": {},
   "outputs": [],
   "source": [
    "def cluster_same_freq(pairs_dic, threshold=0):\n",
    "    freq = list(set(pairs_dic.values()))\n",
    "    \n",
    "    groups = {}\n",
    "    for pair in pairs_dic.keys():\n",
    "        f  = pairs_dic[pair]\n",
    "        if f in groups.keys():\n",
    "            groups[f].append( pair )\n",
    "        else:\n",
    "            groups[f] = [ pair ]\n",
    "            \n",
    "    return groups"
   ]
  },
  {
   "cell_type": "code",
   "execution_count": 29,
   "metadata": {},
   "outputs": [],
   "source": [
    "# Renamed from get_serial_paths\n",
    "def get_cliques_from_trace( data, minfreq=0, minsymbols=0, merge_freqs=False, debug=False):\n",
    "    def print_debug(s):\n",
    "        if debug:\n",
    "            print(s)\n",
    "    \n",
    "    if len(data) == 0:\n",
    "        return []\n",
    "    \n",
    "    # Case: sequence of pairs\n",
    "    elif type(data[0]) == type((1,1)):\n",
    "        pairs = data\n",
    "        paths = []\n",
    "\n",
    "        G = nx.DiGraph()\n",
    "        G.add_edges_from( pairs )\n",
    "\n",
    "        # Search cliques\n",
    "        G_prime=nx.to_undirected(G) \n",
    "        for V in nx.algorithms.clique.find_cliques(G_prime):\n",
    "            print_debug(\"found this clique: %s\" % ( V ))\n",
    "\n",
    "            if len(V) > CLIQUE_THRESHOLD:\n",
    "\n",
    "                # Create complete graph from clique\n",
    "                G_complete = G.copy()\n",
    "                for node in set(G_complete.nodes).difference( set(V) ):\n",
    "                    G_complete.remove_node(node)\n",
    "\n",
    "                # Order nodes by outer degree\n",
    "                nodes = sorted( G_complete.out_degree() , key=lambda p: p[1], reverse=True)\n",
    "                \n",
    "                # Strict checking of outer_degree\n",
    "                i=len(nodes)\n",
    "                put = True\n",
    "                for a, outdeg in nodes:\n",
    "                    i -= 1\n",
    "                    if outdeg != i:\n",
    "                        put = False\n",
    "                if put:\n",
    "                    paths.append ( [ a for a,b in nodes ] )\n",
    "        return paths\n",
    "\n",
    "    # Case: set of traces\n",
    "    elif type(data[0]) == type([]):\n",
    "        \n",
    "        # This is the working one\n",
    "        cluster = cluster_same_freq( get_successor_pairs_by_freq(data) )\n",
    "        paths = {}\n",
    "        \n",
    "        # Added on 2020-01-16:\n",
    "        # When working witho lower freq clusters, combine the info with those in higher freq\n",
    "        previous_cluster = []\n",
    "        for f in sorted(cluster.keys(), reverse=True):\n",
    "            \n",
    "            print_debug(\"Working in freq=%d\" % f)\n",
    "            if f >= minfreq:\n",
    "                p = []\n",
    "                for X in get_cliques_from_trace( cluster[f] + previous_cluster, debug=debug ):\n",
    "                    if len(X) >= minsymbols:\n",
    "                        p.append(X)\n",
    "\n",
    "                # Remove this line to consider pairs just fromn this freq\n",
    "                if merge_freqs:\n",
    "                    previous_cluster += cluster[f]\n",
    "                if len(p) > 0:\n",
    "                    paths[f] = p\n",
    "        return paths"
   ]
  },
  {
   "cell_type": "markdown",
   "metadata": {},
   "source": [
    "## Basic shapes"
   ]
  },
  {
   "cell_type": "markdown",
   "metadata": {},
   "source": [
    "### Single path"
   ]
  },
  {
   "cell_type": "code",
   "execution_count": 30,
   "metadata": {},
   "outputs": [
    {
     "name": "stdout",
     "output_type": "stream",
     "text": [
      "Working in freq=2\n",
      "found this clique: ['A', 'B', 'C', 'E', 'D']\n"
     ]
    },
    {
     "data": {
      "text/plain": [
       "{2: [['A', 'B', 'C', 'D', 'E']]}"
      ]
     },
     "execution_count": 30,
     "metadata": {},
     "output_type": "execute_result"
    }
   ],
   "source": [
    "single_path_trace = [\n",
    "    list(\"ABCDE\"),\n",
    "    list(\"ABCDE\"),\n",
    "]\n",
    "get_cliques_from_trace( single_path_trace, minfreq=0, minsymbols=0, debug=True )"
   ]
  },
  {
   "cell_type": "markdown",
   "metadata": {},
   "source": [
    "## Loop"
   ]
  },
  {
   "cell_type": "code",
   "execution_count": 31,
   "metadata": {},
   "outputs": [
    {
     "data": {
      "text/plain": [
       "{2: [['A', 'B']], 1: [['B', 'A']]}"
      ]
     },
     "execution_count": 31,
     "metadata": {},
     "output_type": "execute_result"
    }
   ],
   "source": [
    "loop_trace = [\n",
    "    list(\"ABAB\"),\n",
    "]\n",
    "get_cliques_from_trace( loop_trace )"
   ]
  },
  {
   "cell_type": "code",
   "execution_count": 32,
   "metadata": {},
   "outputs": [
    {
     "data": {
      "text/plain": [
       "{3: [['A', 'B']], 2: [['B', 'A']]}"
      ]
     },
     "execution_count": 32,
     "metadata": {},
     "output_type": "execute_result"
    }
   ],
   "source": [
    "loop_trace = [\n",
    "    list(\"ABABAB\"),\n",
    "]\n",
    "get_cliques_from_trace( loop_trace )"
   ]
  },
  {
   "cell_type": "code",
   "execution_count": 33,
   "metadata": {},
   "outputs": [
    {
     "data": {
      "text/plain": [
       "{6: [['A', 'B']], 4: [['B', 'A']]}"
      ]
     },
     "execution_count": 33,
     "metadata": {},
     "output_type": "execute_result"
    }
   ],
   "source": [
    "loop_trace = [\n",
    "    list(\"ABABAB\"),\n",
    "    list(\"ABABAB\"),\n",
    "]\n",
    "get_cliques_from_trace( loop_trace )"
   ]
  },
  {
   "cell_type": "code",
   "execution_count": 34,
   "metadata": {},
   "outputs": [
    {
     "data": {
      "text/plain": [
       "{3: [['A', 'B', 'C', 'D']], 2: [['D', 'C', 'B', 'A']]}"
      ]
     },
     "execution_count": 34,
     "metadata": {},
     "output_type": "execute_result"
    }
   ],
   "source": [
    "loop_trace = [\n",
    "    list(\"ABCDABCDABCD\"),\n",
    "]\n",
    "get_cliques_from_trace( loop_trace )"
   ]
  },
  {
   "cell_type": "markdown",
   "metadata": {},
   "source": [
    "## Tree (if/then/else)"
   ]
  },
  {
   "cell_type": "code",
   "execution_count": 35,
   "metadata": {},
   "outputs": [
    {
     "data": {
      "text/plain": [
       "{3: [['A', 'B']],\n",
       " 1: [['B', 's'], ['B', 'p'], ['B', 'm'], ['A', 's'], ['A', 'p'], ['A', 'm']]}"
      ]
     },
     "execution_count": 35,
     "metadata": {},
     "output_type": "execute_result"
    }
   ],
   "source": [
    "tree_trace = [\n",
    "    list(\"ABm\"),\n",
    "    list(\"ABp\"),\n",
    "    list(\"ABs\"),\n",
    "]\n",
    "get_cliques_from_trace( tree_trace, merge_freqs=False )"
   ]
  },
  {
   "cell_type": "code",
   "execution_count": 36,
   "metadata": {},
   "outputs": [
    {
     "data": {
      "text/plain": [
       "{3: [['A', 'B', 'C']],\n",
       " 1: [['B', 's', 't', 'u'],\n",
       "  ['B', 'p', 'q', 'r'],\n",
       "  ['B', 'm', 'n', 'o'],\n",
       "  ['C', 's', 't', 'u'],\n",
       "  ['C', 'p', 'q', 'r'],\n",
       "  ['C', 'm', 'n', 'o'],\n",
       "  ['A', 's', 't', 'u'],\n",
       "  ['A', 'p', 'q', 'r'],\n",
       "  ['A', 'm', 'n', 'o']]}"
      ]
     },
     "execution_count": 36,
     "metadata": {},
     "output_type": "execute_result"
    }
   ],
   "source": [
    "tree_trace = [\n",
    "    list(\"ABCmno\"),\n",
    "    list(\"ABCpqr\"),\n",
    "    list(\"ABCstu\"),\n",
    "]\n",
    "get_cliques_from_trace( tree_trace, merge_freqs=False  )"
   ]
  },
  {
   "cell_type": "code",
   "execution_count": 37,
   "metadata": {},
   "outputs": [
    {
     "data": {
      "text/plain": [
       "{6: [['A', 'B']],\n",
       " 3: [['A', 'B', '2', '6'], ['A', 'B', '1', '5']],\n",
       " 2: [['A', 'B', '2', '6'],\n",
       "  ['A', 'B', 'p', 'q'],\n",
       "  ['A', 'B', '1', '5'],\n",
       "  ['A', 'B', 's', 't'],\n",
       "  ['A', 'B', 'm', 'n']],\n",
       " 1: [['A', 'B', 'p', 'q', '2', '6'],\n",
       "  ['A', 'B', 's', 't', '2', '6'],\n",
       "  ['A', 'B', 'm', 'n', '2', '6'],\n",
       "  ['A', 'B', 'p', 'q', '1', '5'],\n",
       "  ['A', 'B', 's', 't', '1', '5'],\n",
       "  ['A', 'B', 'm', 'n', '1', '5']]}"
      ]
     },
     "execution_count": 37,
     "metadata": {},
     "output_type": "execute_result"
    }
   ],
   "source": [
    "tree_trace = [\n",
    "    list(\"ABmn15\"),\n",
    "    list(\"ABmn26\"),\n",
    "    list(\"ABpq15\"),\n",
    "    list(\"ABpq26\"),\n",
    "    list(\"ABst15\"),\n",
    "    list(\"ABst26\"),\n",
    "]\n",
    "get_cliques_from_trace( tree_trace, merge_freqs=True  )"
   ]
  },
  {
   "cell_type": "code",
   "execution_count": 38,
   "metadata": {},
   "outputs": [
    {
     "data": {
      "text/plain": [
       "{6: [['A', 'B']],\n",
       " 3: [['B', '2', '6'], ['B', '1', '5'], ['A', '2', '6'], ['A', '1', '5']],\n",
       " 2: [['B', 'p', 'q'],\n",
       "  ['B', 's', 't'],\n",
       "  ['B', 'm', 'n'],\n",
       "  ['A', 'p', 'q'],\n",
       "  ['A', 's', 't'],\n",
       "  ['A', 'm', 'n']],\n",
       " 1: [['p', '2'],\n",
       "  ['q', '2'],\n",
       "  ['s', '2'],\n",
       "  ['t', '2'],\n",
       "  ['m', '2'],\n",
       "  ['n', '2'],\n",
       "  ['p', '6'],\n",
       "  ['q', '6'],\n",
       "  ['s', '6'],\n",
       "  ['t', '6'],\n",
       "  ['m', '6'],\n",
       "  ['n', '6'],\n",
       "  ['p', '5'],\n",
       "  ['q', '5'],\n",
       "  ['s', '5'],\n",
       "  ['t', '5'],\n",
       "  ['m', '5'],\n",
       "  ['n', '5'],\n",
       "  ['p', '1'],\n",
       "  ['q', '1'],\n",
       "  ['s', '1'],\n",
       "  ['t', '1'],\n",
       "  ['m', '1'],\n",
       "  ['n', '1']]}"
      ]
     },
     "execution_count": 38,
     "metadata": {},
     "output_type": "execute_result"
    }
   ],
   "source": [
    "get_cliques_from_trace( tree_trace, merge_freqs=False )"
   ]
  },
  {
   "cell_type": "markdown",
   "metadata": {},
   "source": [
    "## Joins"
   ]
  },
  {
   "cell_type": "code",
   "execution_count": 39,
   "metadata": {},
   "outputs": [
    {
     "data": {
      "text/plain": [
       "{3: [['A', 'B', 'C']],\n",
       " 1: [['s', 't', 'u', 'B'],\n",
       "  ['p', 'q', 'r', 'B'],\n",
       "  ['m', 'n', 'o', 'B'],\n",
       "  ['s', 't', 'u', 'C'],\n",
       "  ['p', 'q', 'r', 'C'],\n",
       "  ['m', 'n', 'o', 'C'],\n",
       "  ['s', 't', 'u', 'A'],\n",
       "  ['p', 'q', 'r', 'A'],\n",
       "  ['m', 'n', 'o', 'A']]}"
      ]
     },
     "execution_count": 39,
     "metadata": {},
     "output_type": "execute_result"
    }
   ],
   "source": [
    "join_trace = [\n",
    "    list(\"mnoABC\"),\n",
    "    list(\"pqrABC\"),\n",
    "    list(\"stuABC\"),\n",
    "]\n",
    "get_cliques_from_trace( join_trace)"
   ]
  },
  {
   "cell_type": "code",
   "execution_count": 40,
   "metadata": {},
   "outputs": [
    {
     "data": {
      "text/plain": [
       "{3: [['A', 'B', 'C']],\n",
       " 1: [['s', 't', 'u', 'A', 'B', 'C'],\n",
       "  ['p', 'q', 'r', 'A', 'B', 'C'],\n",
       "  ['m', 'n', 'o', 'A', 'B', 'C']]}"
      ]
     },
     "execution_count": 40,
     "metadata": {},
     "output_type": "execute_result"
    }
   ],
   "source": [
    "get_cliques_from_trace( join_trace, merge_freqs=True  )"
   ]
  },
  {
   "cell_type": "code",
   "execution_count": 41,
   "metadata": {},
   "outputs": [
    {
     "data": {
      "text/plain": [
       "{3: [['A', 'B', 'C']],\n",
       " 1: [['s', 't', 'u', 'B'],\n",
       "  ['p', 'q', 'r', 'B'],\n",
       "  ['m', 'n', 'o', 'B'],\n",
       "  ['s', 't', 'u', 'C'],\n",
       "  ['p', 'q', 'r', 'C'],\n",
       "  ['m', 'n', 'o', 'C'],\n",
       "  ['s', 't', 'u', 'A'],\n",
       "  ['p', 'q', 'r', 'A'],\n",
       "  ['m', 'n', 'o', 'A']]}"
      ]
     },
     "execution_count": 41,
     "metadata": {},
     "output_type": "execute_result"
    }
   ],
   "source": [
    "get_cliques_from_trace( join_trace, merge_freqs=False )"
   ]
  },
  {
   "cell_type": "code",
   "execution_count": 42,
   "metadata": {},
   "outputs": [
    {
     "data": {
      "text/plain": [
       "{6: [['A', 'B']],\n",
       " 3: [['2', '6', 'A', 'B'], ['1', '5', 'A', 'B']],\n",
       " 2: [['2', '6', 'A', 'B'],\n",
       "  ['p', 'q', 'A', 'B'],\n",
       "  ['1', '5', 'A', 'B'],\n",
       "  ['s', 't', 'A', 'B'],\n",
       "  ['m', 'n', 'A', 'B']],\n",
       " 1: [['2', '6', 'p', 'q', 'A', 'B'],\n",
       "  ['2', '6', 's', 't', 'A', 'B'],\n",
       "  ['2', '6', 'm', 'n', 'A', 'B'],\n",
       "  ['1', '5', 'p', 'q', 'A', 'B'],\n",
       "  ['1', '5', 's', 't', 'A', 'B'],\n",
       "  ['1', '5', 'm', 'n', 'A', 'B']]}"
      ]
     },
     "execution_count": 42,
     "metadata": {},
     "output_type": "execute_result"
    }
   ],
   "source": [
    "join_trace = [\n",
    "    list(\"15mnAB\"),\n",
    "    list(\"26mnAB\"),\n",
    "    list(\"15pqAB\"),\n",
    "    list(\"26pqAB\"),\n",
    "    list(\"15stAB\"),\n",
    "    list(\"26stAB\"),\n",
    "]\n",
    "get_cliques_from_trace( join_trace, merge_freqs=True )"
   ]
  },
  {
   "cell_type": "code",
   "execution_count": 43,
   "metadata": {},
   "outputs": [
    {
     "data": {
      "text/plain": [
       "{6: [['A', 'B']],\n",
       " 3: [['2', '6', 'B'], ['1', '5', 'B'], ['2', '6', 'A'], ['1', '5', 'A']],\n",
       " 2: [['p', 'q', 'B'],\n",
       "  ['s', 't', 'B'],\n",
       "  ['m', 'n', 'B'],\n",
       "  ['p', 'q', 'A'],\n",
       "  ['s', 't', 'A'],\n",
       "  ['m', 'n', 'A']],\n",
       " 1: [['2', 'p'],\n",
       "  ['2', 'q'],\n",
       "  ['2', 's'],\n",
       "  ['2', 't'],\n",
       "  ['2', 'n'],\n",
       "  ['2', 'm'],\n",
       "  ['6', 'p'],\n",
       "  ['6', 'q'],\n",
       "  ['6', 's'],\n",
       "  ['6', 't'],\n",
       "  ['6', 'n'],\n",
       "  ['6', 'm'],\n",
       "  ['5', 'p'],\n",
       "  ['5', 'q'],\n",
       "  ['5', 's'],\n",
       "  ['5', 't'],\n",
       "  ['5', 'n'],\n",
       "  ['5', 'm'],\n",
       "  ['1', 'p'],\n",
       "  ['1', 'q'],\n",
       "  ['1', 's'],\n",
       "  ['1', 't'],\n",
       "  ['1', 'm'],\n",
       "  ['1', 'n']]}"
      ]
     },
     "execution_count": 43,
     "metadata": {},
     "output_type": "execute_result"
    }
   ],
   "source": [
    "get_cliques_from_trace( join_trace, merge_freqs=False )"
   ]
  },
  {
   "cell_type": "markdown",
   "metadata": {},
   "source": [
    "## Loop inside"
   ]
  },
  {
   "cell_type": "code",
   "execution_count": 44,
   "metadata": {},
   "outputs": [
    {
     "data": {
      "text/plain": [
       "{6: [['c', 'd', 'e']], 3: [['A', 'B', 'e', 'd', 'c', 'F', 'G', 'H']]}"
      ]
     },
     "execution_count": 44,
     "metadata": {},
     "output_type": "execute_result"
    }
   ],
   "source": [
    "loop_inside = [\n",
    "#     list(\"ABFG\"),\n",
    "    list(\"ABcdecdeFGH\"),\n",
    "    list(\"ABcdecdecdeFGH\"),\n",
    "    list(\"ABcdeFGH\"),\n",
    "]\n",
    "get_cliques_from_trace( loop_inside, merge_freqs=False )"
   ]
  },
  {
   "cell_type": "code",
   "execution_count": 45,
   "metadata": {},
   "outputs": [
    {
     "data": {
      "text/plain": [
       "{6: [['c', 'd', 'e']]}"
      ]
     },
     "execution_count": 45,
     "metadata": {},
     "output_type": "execute_result"
    }
   ],
   "source": [
    "get_cliques_from_trace( loop_inside, merge_freqs=True )"
   ]
  },
  {
   "cell_type": "code",
   "execution_count": null,
   "metadata": {},
   "outputs": [],
   "source": []
  }
 ],
 "metadata": {
  "kernelspec": {
   "display_name": "Python 3",
   "language": "python",
   "name": "python3"
  },
  "language_info": {
   "codemirror_mode": {
    "name": "ipython",
    "version": 3
   },
   "file_extension": ".py",
   "mimetype": "text/x-python",
   "name": "python",
   "nbconvert_exporter": "python",
   "pygments_lexer": "ipython3",
   "version": "3.7.5"
  }
 },
 "nbformat": 4,
 "nbformat_minor": 4
}
