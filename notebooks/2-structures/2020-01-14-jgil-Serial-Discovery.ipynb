{
 "cells": [
  {
   "cell_type": "markdown",
   "metadata": {},
   "source": [
    "# Ideas on Serial Path Discovering (Jan 14)"
   ]
  },
  {
   "cell_type": "markdown",
   "metadata": {},
   "source": [
    "This is the continuation of 2010-01-12-jgil-Ideas."
   ]
  },
  {
   "cell_type": "code",
   "execution_count": 1,
   "metadata": {},
   "outputs": [],
   "source": [
    "import random\n",
    "import networkx as nx\n",
    "import matplotlib.pyplot as plt\n",
    "\n",
    "import pandas as pd\n",
    "\n",
    "import sys\n",
    "sys.path.append(\"../../\")\n",
    "from src.models.synthetic_logs import *"
   ]
  },
  {
   "cell_type": "markdown",
   "metadata": {},
   "source": [
    "## Functions"
   ]
  },
  {
   "cell_type": "code",
   "execution_count": 2,
   "metadata": {},
   "outputs": [],
   "source": [
    "def get_successor_pairs_by_freq( traces, sensitivity=-1 ):\n",
    "    pairs_by_freq = {}\n",
    "\n",
    "    for trace in traces:\n",
    "        for pair in get_successor_pairs(trace):\n",
    "            if pair in pairs_by_freq.keys():\n",
    "                pairs_by_freq[pair] = pairs_by_freq[pair] + 1\n",
    "            else:\n",
    "                pairs_by_freq[pair] = 1\n",
    "    return pairs_by_freq"
   ]
  },
  {
   "cell_type": "code",
   "execution_count": 3,
   "metadata": {},
   "outputs": [],
   "source": [
    "def get_successor_pairs( this_trace ):\n",
    "    pairs = []\n",
    "    for idx in range(0, len(this_trace)-1):\n",
    "        partial_subtrace = this_trace[idx:]\n",
    "\n",
    "        # For every s_i in s_0...s_i...partial_subtrace\n",
    "        s_i = partial_subtrace.pop(0)\n",
    "        # Find first K+1 such s_i == s_(k+1)\n",
    "        try:\n",
    "            k_plus_1 = partial_subtrace.index(s_i)\n",
    "        except:\n",
    "            k_plus_1 = len(partial_subtrace)\n",
    "        # This is the subtrace T, the maximal that not contains s0\n",
    "        T=partial_subtrace[:k_plus_1]\n",
    "\n",
    "        # Collect all (s_i, s_k) with i < k < k+1:\n",
    "        for s_k in T:\n",
    "            e = (s_i, s_k)\n",
    "            pairs.append(e)\n",
    "    return pairs"
   ]
  },
  {
   "cell_type": "code",
   "execution_count": 4,
   "metadata": {},
   "outputs": [],
   "source": [
    "def cluster_same_freq(pairs_dic, threshold=0):\n",
    "    freq = list(set(pairs_dic.values()))\n",
    "    \n",
    "    groups = {}\n",
    "    for pair in pairs_dic.keys():\n",
    "        f  = pairs_dic[pair]\n",
    "        if f in groups.keys():\n",
    "            groups[f].append( pair )\n",
    "        else:\n",
    "            groups[f] = [ pair ]\n",
    "            \n",
    "    return groups"
   ]
  },
  {
   "cell_type": "code",
   "execution_count": 5,
   "metadata": {},
   "outputs": [],
   "source": [
    "def get_serial_paths( data, minfreq=0, minsymbols=4):\n",
    "    if len(data) == 0:\n",
    "        return []\n",
    "    \n",
    "    # Case: pairs\n",
    "    elif type(data[0]) == type((1,1)):\n",
    "        pairs = data\n",
    "        paths = []\n",
    "\n",
    "        G = nx.DiGraph()\n",
    "        G.add_edges_from( pairs )\n",
    "\n",
    "        # Search cliques\n",
    "        G_prime=nx.to_undirected(G) \n",
    "        for V in nx.algorithms.clique.find_cliques(G_prime):\n",
    "            if len(V) > CLIQUE_THRESHOLD:\n",
    "\n",
    "                # Create complete graph from clique\n",
    "                G_complete = G.copy()\n",
    "                for node in set(G_complete.nodes).difference( set(V) ):\n",
    "                    G_complete.remove_node(node)\n",
    "\n",
    "                # Order nodes by outer degree\n",
    "                nodes = sorted( G_complete.out_degree() , key=lambda p: p[1], reverse=True)\n",
    "                \n",
    "                # Strict checking of outer_degree\n",
    "                i=len(nodes)\n",
    "                put = True\n",
    "                for a, outdeg in nodes:\n",
    "                    i -= 1\n",
    "                    if outdeg != i:\n",
    "                        put = False\n",
    "                if put:\n",
    "                    paths.append ( [ a for a,b in nodes ] )\n",
    "        return paths\n",
    "    \n",
    "    \n",
    "    # Case: set of traces\n",
    "#     elif type(data[0]) == type([]):\n",
    "#         print( len(data))\n",
    "#         combined = []\n",
    "#         for trace in data:\n",
    "#             combined = combined + get_successor_pairs(trace)\n",
    "            \n",
    "#         print(len(combined))\n",
    "#         return get_serial_paths(combined)\n",
    "\n",
    "    elif type(data[0]) == type([]):\n",
    "        cluster = cluster_same_freq( get_successor_pairs_by_freq(data) )\n",
    "        paths = {}\n",
    "        for f in cluster.keys():\n",
    "            if f >= minfreq:\n",
    "                p = []\n",
    "                for X in get_serial_paths( cluster[f] ):\n",
    "                    if len(X) >= minsymbols:\n",
    "                        p.append(X)\n",
    "                if len(p) > 0:\n",
    "                    paths[f] = p\n",
    "        return paths"
   ]
  },
  {
   "cell_type": "markdown",
   "metadata": {},
   "source": [
    "## Succesor pairs"
   ]
  },
  {
   "cell_type": "markdown",
   "metadata": {},
   "source": [
    "Given $ N $ finite integer and a trace $T=s_0 ... s_i ... s_k ... s_j ... s_N$, count $s_i$ get successors pairs with the form $(s_i, s_k)$  such that $0 \\le i < k \\le j \\le N$ and with $j$ maximal such that holds $s_k \\neq s_i$. Those pairs preserves the order of appearance and discards loops by construction."
   ]
  },
  {
   "cell_type": "markdown",
   "metadata": {},
   "source": [
    "### Examples"
   ]
  },
  {
   "cell_type": "code",
   "execution_count": 6,
   "metadata": {},
   "outputs": [
    {
     "data": {
      "text/plain": [
       "[]"
      ]
     },
     "execution_count": 6,
     "metadata": {},
     "output_type": "execute_result"
    }
   ],
   "source": [
    "get_successor_pairs(list(\"A\"))"
   ]
  },
  {
   "cell_type": "code",
   "execution_count": 7,
   "metadata": {},
   "outputs": [
    {
     "data": {
      "text/plain": [
       "[('A', 'B')]"
      ]
     },
     "execution_count": 7,
     "metadata": {},
     "output_type": "execute_result"
    }
   ],
   "source": [
    "get_successor_pairs(list(\"AB\"))"
   ]
  },
  {
   "cell_type": "code",
   "execution_count": 48,
   "metadata": {},
   "outputs": [
    {
     "data": {
      "text/plain": [
       "[('A', 'B'), ('A', 'C'), ('A', 'D'), ('B', 'C'), ('B', 'D'), ('C', 'D')]"
      ]
     },
     "execution_count": 48,
     "metadata": {},
     "output_type": "execute_result"
    }
   ],
   "source": [
    "get_successor_pairs(list(\"ABCD\"))"
   ]
  },
  {
   "cell_type": "code",
   "execution_count": 9,
   "metadata": {},
   "outputs": [
    {
     "data": {
      "text/plain": [
       "[('A', 'B'),\n",
       " ('A', 'C'),\n",
       " ('B', 'C'),\n",
       " ('B', 'A'),\n",
       " ('C', 'A'),\n",
       " ('C', 'B'),\n",
       " ('A', 'B'),\n",
       " ('A', 'C'),\n",
       " ('B', 'C'),\n",
       " ('B', 'A'),\n",
       " ('C', 'A'),\n",
       " ('C', 'B'),\n",
       " ('A', 'B'),\n",
       " ('A', 'C'),\n",
       " ('B', 'C')]"
      ]
     },
     "execution_count": 9,
     "metadata": {},
     "output_type": "execute_result"
    }
   ],
   "source": [
    "get_successor_pairs(list(\"ABCABCABC\"))"
   ]
  },
  {
   "cell_type": "markdown",
   "metadata": {},
   "source": [
    "### Succesors pairs in a trace"
   ]
  },
  {
   "cell_type": "markdown",
   "metadata": {},
   "source": [
    "If given a set of traces $\\overline{T} = \\{T_0, ...., T_M\\}$, is useful to have the successor combining all the traces and separate them by its frequency of apparition.\n",
    "\n",
    "Note that this is *not* equivalent to have all the traces concatenated, because some extra pairs will appear in the concatenation. "
   ]
  },
  {
   "cell_type": "code",
   "execution_count": 52,
   "metadata": {},
   "outputs": [
    {
     "data": {
      "text/plain": [
       "{('A', 'B'): 3,\n",
       " ('A', 'C'): 3,\n",
       " ('B', 'C'): 3,\n",
       " ('B', 'A'): 1,\n",
       " ('C', 'A'): 1,\n",
       " ('C', 'B'): 1}"
      ]
     },
     "execution_count": 52,
     "metadata": {},
     "output_type": "execute_result"
    }
   ],
   "source": [
    "T = [\n",
    "    list(\"ABC\"),\n",
    "    list(\"ABCABC\"),\n",
    "]\n",
    "get_successor_pairs_by_freq(T)"
   ]
  },
  {
   "cell_type": "markdown",
   "metadata": {},
   "source": [
    "Another view of this data is to have the successor pairs grouped by frecuency"
   ]
  },
  {
   "cell_type": "code",
   "execution_count": 11,
   "metadata": {},
   "outputs": [
    {
     "data": {
      "text/plain": [
       "{5: [('A', 'B'), ('A', 'C'), ('B', 'C')],\n",
       " 3: [('B', 'A'), ('C', 'A')],\n",
       " 1: [('B', 'D'), ('C', 'D'), ('A', 'D')],\n",
       " 2: [('C', 'B')]}"
      ]
     },
     "execution_count": 11,
     "metadata": {},
     "output_type": "execute_result"
    }
   ],
   "source": [
    "cluster_same_freq( get_successor_pairs_by_freq(T) )"
   ]
  },
  {
   "cell_type": "markdown",
   "metadata": {},
   "source": [
    "## Equivalent Graph of Serial Path representation"
   ]
  },
  {
   "cell_type": "markdown",
   "metadata": {},
   "source": [
    "If we assume that the traces are complete in the sense that it contains entire serial paths, then a directed graph can be constructed $G_{freq}=(V_{freq},E_{freq})$ with all successor pairs $E_{freq}$ of the same frequency group, and vertex set $v \\in V_{freq}$ iff $ (u, v) \\in E_{freq}$ or $(v, u) \\in E_{freq}$ for some  $u \\in V_{freq}$. By construction of successor pairs it's true that: \n",
    "\n",
    "i) the path $S=s_1...s_L$ of length $L$ exists in $G_{freq}$, \n",
    "\n",
    "ii) if $(s_i, s_{i+1}), (s_j, s_{j+1}) \\in S$ from some $0 \\le i < j \\le L$, then $(s_i, s_j), (s_i, s_{j+1}), (s_{i+1}, s_j), (s_{i+1}, s_{j+1}) \\in E_{freq}$  \n",
    "\n",
    "iii) Any subset of vertex of $S$ is also a valid path, then the goal is to search the **maximal** serial path $S$ sharing the same nodes. \n",
    "\n",
    "From *ii)* it follows that the equivalent undirected graph $G'_{freq}=(V,E)$ is complete. To reconstruct $S$, the *outer degree* of each node (how many edges goes from node) can be used: $outdeg(s_i) < outdeg(s_j)$ for all $0 \\le i < j \\le L$."
   ]
  },
  {
   "cell_type": "markdown",
   "metadata": {},
   "source": [
    "For example, the path ```ABCD``` forms the following pairs"
   ]
  },
  {
   "cell_type": "code",
   "execution_count": 12,
   "metadata": {},
   "outputs": [],
   "source": [
    "G = nx.DiGraph()\n",
    "G.add_edges_from( get_successor_pairs(list(\"ABCD\")) )"
   ]
  },
  {
   "cell_type": "code",
   "execution_count": 13,
   "metadata": {},
   "outputs": [
    {
     "data": {
      "text/plain": [
       "OutEdgeView([('A', 'B'), ('A', 'C'), ('A', 'D'), ('B', 'C'), ('B', 'D'), ('C', 'D')])"
      ]
     },
     "execution_count": 13,
     "metadata": {},
     "output_type": "execute_result"
    }
   ],
   "source": [
    "G.edges()"
   ]
  },
  {
   "cell_type": "markdown",
   "metadata": {},
   "source": [
    "The following images shows a progression of graphs with different size"
   ]
  },
  {
   "cell_type": "code",
   "execution_count": 14,
   "metadata": {},
   "outputs": [
    {
     "data": {
      "image/png": "[encoded data removed]",
      "text/plain": [
       "<Figure size 432x288 with 1 Axes>"
      ]
     },
     "metadata": {},
     "output_type": "display_data"
    }
   ],
   "source": [
    "G = nx.DiGraph()\n",
    "G.add_edges_from( get_successor_pairs(list(\"ABCD\")) )\n",
    "nx.draw_circular(G, with_labels=True)"
   ]
  },
  {
   "cell_type": "code",
   "execution_count": 15,
   "metadata": {},
   "outputs": [
    {
     "data": {
      "image/png": "[encoded data removed]",
      "text/plain": [
       "<Figure size 432x288 with 1 Axes>"
      ]
     },
     "metadata": {},
     "output_type": "display_data"
    }
   ],
   "source": [
    "G = nx.DiGraph()\n",
    "G.add_edges_from( get_successor_pairs(list(\"ABCDEF\")) )\n",
    "nx.draw_circular(G, with_labels=True)"
   ]
  },
  {
   "cell_type": "markdown",
   "metadata": {},
   "source": [
    "## Extending Graph"
   ]
  },
  {
   "cell_type": "markdown",
   "metadata": {},
   "source": [
    "Be $G=(V,E)$ a graph containing $G_{freq}$, i.e. with $V_{freq} \\subset V, E_{freq} \\subset E$. Given the fact that $G'_{freq}$ is complete, it follows that the undirected graph $G'=(V,E)$ has at least one **clique** of size $|V_{freq}|$ made by $V_{freq}$. And from *iii)* above, the cliques must be maximal.\n",
    "\n",
    "(See https://en.wikipedia.org/wiki/Clique_(graph_theory) and https://www.geeksforgeeks.org/operations-on-graph-and-special-graphs-using-networkx-module-python/ )"
   ]
  },
  {
   "cell_type": "markdown",
   "metadata": {},
   "source": [
    "### Example: few extra edges"
   ]
  },
  {
   "cell_type": "markdown",
   "metadata": {},
   "source": [
    "In the examples below, a CLIQUE_THRESHOLD is set to avoid subgraphs composed by a single edge."
   ]
  },
  {
   "cell_type": "code",
   "execution_count": 16,
   "metadata": {},
   "outputs": [],
   "source": [
    "CLIQUE_THRESHOLD=2"
   ]
  },
  {
   "cell_type": "code",
   "execution_count": 17,
   "metadata": {},
   "outputs": [
    {
     "data": {
      "image/png": "[encoded data removed]",
      "text/plain": [
       "<Figure size 432x288 with 1 Axes>"
      ]
     },
     "metadata": {},
     "output_type": "display_data"
    }
   ],
   "source": [
    "S = list(\"ABCDEFGHIJK\")\n",
    "S_pairs = get_successor_pairs(S) + [ (\"w\", \"z\"), (\"B\", \"y\"), (\"z\", \"A\") ] \n",
    "\n",
    "G = nx.DiGraph()\n",
    "G.add_edges_from( S_pairs )\n",
    "nx.draw_circular(G, with_labels=True)"
   ]
  },
  {
   "cell_type": "code",
   "execution_count": 18,
   "metadata": {},
   "outputs": [
    {
     "name": "stdout",
     "output_type": "stream",
     "text": [
      "size= 11: ['A', 'G', 'J', 'C', 'B', 'F', 'K', 'D', 'I', 'E', 'H']\n",
      "[('A', 10), ('B', 9), ('C', 8), ('D', 7), ('E', 6), ('F', 5), ('G', 4), ('H', 3), ('I', 2), ('J', 1), ('K', 0)]\n",
      "ABCDEFGHIJK\n"
     ]
    },
    {
     "data": {
      "image/png": "[encoded data removed]",
      "text/plain": [
       "<Figure size 432x288 with 1 Axes>"
      ]
     },
     "metadata": {},
     "output_type": "display_data"
    }
   ],
   "source": [
    "V_unordered = []\n",
    "\n",
    "# Search cliques\n",
    "G_prime=nx.to_undirected(G) \n",
    "for i in nx.algorithms.clique.find_cliques(G_prime):\n",
    "    if len(i) > CLIQUE_THRESHOLD:\n",
    "        print( \"size=%3d: %s\" %(len(i), i))\n",
    "        V_unordered.append(i)\n",
    "\n",
    "# Iterate over cliques\n",
    "for V in V_unordered:\n",
    "    \n",
    "    # Create complete graph from clique\n",
    "    G_complete = G.copy()\n",
    "    for node in set(G_complete.nodes).difference( set(V) ):\n",
    "        G_complete.remove_node(node)\n",
    "    nodes = sorted( G_complete.out_degree() , key=lambda p: p[1], reverse=True)\n",
    "    print(nodes)\n",
    "    S_reconstructed = [ a for a,b in nodes ]\n",
    "\n",
    "    print( \"\".join(S_reconstructed) )\n",
    "    nx.draw_circular(G_complete, with_labels=True)"
   ]
  },
  {
   "cell_type": "code",
   "execution_count": 19,
   "metadata": {},
   "outputs": [
    {
     "data": {
      "text/plain": [
       "[['A', 'B', 'C', 'D', 'E', 'F', 'G', 'H', 'I', 'J', 'K']]"
      ]
     },
     "execution_count": 19,
     "metadata": {},
     "output_type": "execute_result"
    }
   ],
   "source": [
    "# Same functionality with a function\n",
    "pairs = get_successor_pairs(list(\"ABCDEFGHIJK\")) + [ (\"w\", \"z\"), (\"B\", \"y\"), (\"z\", \"A\") ] \n",
    "get_serial_paths( pairs )"
   ]
  },
  {
   "cell_type": "markdown",
   "metadata": {},
   "source": [
    "### Example: random tails"
   ]
  },
  {
   "cell_type": "code",
   "execution_count": 20,
   "metadata": {},
   "outputs": [
    {
     "data": {
      "text/plain": [
       "{5: [['A', 'B', 'C', 'D']]}"
      ]
     },
     "execution_count": 20,
     "metadata": {},
     "output_type": "execute_result"
    }
   ],
   "source": [
    "T = [\n",
    "    list(\"ABCD1\"),\n",
    "    list(\"ABCD12\"),\n",
    "    list(\"ABCD23\"),\n",
    "    list(\"ABCD1268\"),\n",
    "    list(\"ABCD841\"),\n",
    "]\n",
    "get_serial_paths( T, minfreq=1 )"
   ]
  },
  {
   "cell_type": "markdown",
   "metadata": {},
   "source": [
    "### Example: random noise"
   ]
  },
  {
   "cell_type": "code",
   "execution_count": 21,
   "metadata": {},
   "outputs": [
    {
     "data": {
      "text/plain": [
       "{5: [['A', 'B', 'C', 'D', 'E']],\n",
       " 1: [['3', 'A', '5', '9'],\n",
       "  ['3', '5', 'C', '9'],\n",
       "  ['3', 'B', '5', '9'],\n",
       "  ['3', '5', 'D', '9'],\n",
       "  ['3', '5', '9', 'E']]}"
      ]
     },
     "execution_count": 21,
     "metadata": {},
     "output_type": "execute_result"
    }
   ],
   "source": [
    "T = [\n",
    "    list(\"A1B2CDE\"),\n",
    "    list(\"2AB1CDE\"),\n",
    "    list(\"3AB5CD9E\"),\n",
    "    list(\"ABCDE7\"),\n",
    "    list(\"A1BC8DE1\"),\n",
    "]\n",
    "get_serial_paths( T, minfreq=1 )"
   ]
  },
  {
   "cell_type": "code",
   "execution_count": 22,
   "metadata": {},
   "outputs": [
    {
     "data": {
      "text/plain": [
       "{5: [['A', 'B', 'C', 'D', 'E']]}"
      ]
     },
     "execution_count": 22,
     "metadata": {},
     "output_type": "execute_result"
    }
   ],
   "source": [
    "get_serial_paths( T, minfreq=2 )"
   ]
  },
  {
   "cell_type": "markdown",
   "metadata": {},
   "source": [
    "### Example: similar paths (if then)"
   ]
  },
  {
   "cell_type": "markdown",
   "metadata": {},
   "source": [
    "*Emerging property*... this resembles the if-then cycle"
   ]
  },
  {
   "cell_type": "code",
   "execution_count": 23,
   "metadata": {},
   "outputs": [
    {
     "data": {
      "text/plain": [
       "{2: [['A', 'B', 'C', 'D', 'E']],\n",
       " 1: [['A', '5', '6', '7', '8'],\n",
       "  ['C', '5', '6', '7', '8'],\n",
       "  ['B', '5', '6', '7', '8'],\n",
       "  ['D', '5', '6', '7', '8'],\n",
       "  ['E', '5', '6', '7', '8'],\n",
       "  ['A', '0', '1', '2', '3', '4'],\n",
       "  ['C', '0', '1', '2', '3', '4'],\n",
       "  ['B', '0', '1', '2', '3', '4'],\n",
       "  ['D', '0', '1', '2', '3', '4'],\n",
       "  ['E', '0', '1', '2', '3', '4']]}"
      ]
     },
     "execution_count": 23,
     "metadata": {},
     "output_type": "execute_result"
    }
   ],
   "source": [
    "T = [\n",
    "    list(\"ABCDE01234\"),\n",
    "    \n",
    "    list(\"ABCDE5678\")\n",
    "]\n",
    "get_serial_paths( T, minfreq=1 )"
   ]
  },
  {
   "cell_type": "code",
   "execution_count": 24,
   "metadata": {},
   "outputs": [
    {
     "data": {
      "text/plain": [
       "{4: [['A', 'B', 'C', 'D', 'E']],\n",
       " 2: [['A', '5', '6', '7', '8'],\n",
       "  ['C', '5', '6', '7', '8'],\n",
       "  ['B', '5', '6', '7', '8'],\n",
       "  ['D', '5', '6', '7', '8'],\n",
       "  ['E', '5', '6', '7', '8'],\n",
       "  ['A', '0', '1', '2', '3', '4'],\n",
       "  ['C', '0', '1', '2', '3', '4'],\n",
       "  ['B', '0', '1', '2', '3', '4'],\n",
       "  ['D', '0', '1', '2', '3', '4'],\n",
       "  ['E', '0', '1', '2', '3', '4']]}"
      ]
     },
     "execution_count": 24,
     "metadata": {},
     "output_type": "execute_result"
    }
   ],
   "source": [
    "T = [\n",
    "    list(\"ABCDE01234\"),\n",
    "    list(\"ABCDE01234\"),\n",
    "    \n",
    "    list(\"ABCDE5678\"),\n",
    "    list(\"ABCDE5678\")\n",
    "]\n",
    "get_serial_paths( T, minfreq=1 )"
   ]
  },
  {
   "cell_type": "code",
   "execution_count": 25,
   "metadata": {},
   "outputs": [
    {
     "data": {
      "text/plain": [
       "{6: [['A', 'B', 'C', 'D', 'E']],\n",
       " 3: [['A', '5', '6', '7', '8'],\n",
       "  ['C', '5', '6', '7', '8'],\n",
       "  ['B', '5', '6', '7', '8'],\n",
       "  ['D', '5', '6', '7', '8'],\n",
       "  ['E', '5', '6', '7', '8'],\n",
       "  ['A', '0', '1', '2', '3', '4'],\n",
       "  ['C', '0', '1', '2', '3', '4'],\n",
       "  ['B', '0', '1', '2', '3', '4'],\n",
       "  ['D', '0', '1', '2', '3', '4'],\n",
       "  ['E', '0', '1', '2', '3', '4']]}"
      ]
     },
     "execution_count": 25,
     "metadata": {},
     "output_type": "execute_result"
    }
   ],
   "source": [
    "T = [\n",
    "    list(\"ABCDE01234\"),\n",
    "    list(\"ABCDE01234\"),\n",
    "    list(\"ABCDE01234\"),\n",
    "    \n",
    "    list(\"ABCDE5678\"),\n",
    "    list(\"ABCDE5678\"),\n",
    "    list(\"ABCDE5678\")\n",
    "]\n",
    "get_serial_paths( T, minfreq=1 )"
   ]
  },
  {
   "cell_type": "code",
   "execution_count": 26,
   "metadata": {},
   "outputs": [
    {
     "data": {
      "text/plain": [
       "{6: [['A', 'B', 'C', 'D', 'E']],\n",
       " 4: [['A', '0', '1', '2', '3', '4'],\n",
       "  ['C', '0', '1', '2', '3', '4'],\n",
       "  ['B', '0', '1', '2', '3', '4'],\n",
       "  ['D', '0', '1', '2', '3', '4'],\n",
       "  ['E', '0', '1', '2', '3', '4']],\n",
       " 2: [['A', '5', '6', '7', '8'],\n",
       "  ['C', '5', '6', '7', '8'],\n",
       "  ['B', '5', '6', '7', '8'],\n",
       "  ['D', '5', '6', '7', '8'],\n",
       "  ['E', '5', '6', '7', '8']]}"
      ]
     },
     "execution_count": 26,
     "metadata": {},
     "output_type": "execute_result"
    }
   ],
   "source": [
    "T = [\n",
    "    list(\"ABCDE01234\"),\n",
    "    list(\"ABCDE01234\"),\n",
    "    list(\"ABCDE01234\"),\n",
    "    list(\"ABCDE01234\"),\n",
    "    \n",
    "    list(\"ABCDE5678\"),\n",
    "    list(\"ABCDE5678\")\n",
    "]\n",
    "get_serial_paths( T, minfreq=1 )"
   ]
  },
  {
   "cell_type": "code",
   "execution_count": 27,
   "metadata": {},
   "outputs": [
    {
     "data": {
      "text/plain": [
       "{6: [['A', 'B', 'C', 'D', 'E']],\n",
       " 5: [['A', '0', '1', '2', '3', '4'],\n",
       "  ['C', '0', '1', '2', '3', '4'],\n",
       "  ['B', '0', '1', '2', '3', '4'],\n",
       "  ['D', '0', '1', '2', '3', '4'],\n",
       "  ['E', '0', '1', '2', '3', '4']],\n",
       " 1: [['A', '5', '6', '7', '8'],\n",
       "  ['C', '5', '6', '7', '8'],\n",
       "  ['B', '5', '6', '7', '8'],\n",
       "  ['D', '5', '6', '7', '8'],\n",
       "  ['E', '5', '6', '7', '8']]}"
      ]
     },
     "execution_count": 27,
     "metadata": {},
     "output_type": "execute_result"
    }
   ],
   "source": [
    "T = [\n",
    "    list(\"ABCDE01234\"),\n",
    "    list(\"ABCDE01234\"),\n",
    "    list(\"ABCDE01234\"),\n",
    "    list(\"ABCDE01234\"),\n",
    "    list(\"ABCDE01234\"),\n",
    "\n",
    "    list(\"ABCDE5678\")\n",
    "]\n",
    "get_serial_paths( T, minfreq=1 )"
   ]
  },
  {
   "cell_type": "code",
   "execution_count": 28,
   "metadata": {},
   "outputs": [
    {
     "data": {
      "text/plain": [
       "{4: [['C', '1', '2', '3'], ['B', '1', '2', '3'], ['A', '1', '2', '3']],\n",
       " 2: [['3', '4', '5', '6'],\n",
       "  ['3', '7', '8', '9'],\n",
       "  ['1', '4', '5', '6'],\n",
       "  ['1', '7', '8', '9'],\n",
       "  ['2', '4', '5', '6'],\n",
       "  ['2', '7', '8', '9'],\n",
       "  ['A', '4', '5', '6'],\n",
       "  ['A', 'W', 'X', 'Y', 'Z'],\n",
       "  ['A', '7', '8', '9'],\n",
       "  ['C', '4', '5', '6'],\n",
       "  ['C', 'W', 'X', 'Y', 'Z'],\n",
       "  ['C', '7', '8', '9'],\n",
       "  ['B', '4', '5', '6'],\n",
       "  ['B', 'W', 'X', 'Y', 'Z'],\n",
       "  ['B', '7', '8', '9']]}"
      ]
     },
     "execution_count": 28,
     "metadata": {},
     "output_type": "execute_result"
    }
   ],
   "source": [
    "T = [\n",
    "    list(\"ABC123456\"),\n",
    "    list(\"ABC123456\"),\n",
    "\n",
    "    list(\"ABC123789\"),\n",
    "    list(\"ABC123789\"),\n",
    "\n",
    "    list(\"ABCWXYZ\"),\n",
    "    list(\"ABCWXYZ\"),\n",
    "]\n",
    "get_serial_paths( T, minfreq=1 )"
   ]
  },
  {
   "cell_type": "markdown",
   "metadata": {},
   "source": [
    "### Example: repeated traces (loops)"
   ]
  },
  {
   "cell_type": "markdown",
   "metadata": {},
   "source": [
    "Strange example... with repetitions in the same trace the serial path appears inverted ```DCBA``` ... **did I found loops by mistake??**"
   ]
  },
  {
   "cell_type": "code",
   "execution_count": 29,
   "metadata": {},
   "outputs": [
    {
     "data": {
      "text/plain": [
       "{7: [['A', 'B', 'C', 'D']],\n",
       " 3: [['I', 'H', 'G', 'F', 'E'], ['D', 'C', 'B', 'A']],\n",
       " 6: [['E', 'F', 'G', 'H', 'I']]}"
      ]
     },
     "execution_count": 29,
     "metadata": {},
     "output_type": "execute_result"
    }
   ],
   "source": [
    "T = [\n",
    "    list(\"ABCD\"),\n",
    "    list(\"ABCDABCD\"),\n",
    "    list(\"ABCDABCDABCD\"),\n",
    "    list(\"EFGHI\"),\n",
    "    list(\"EFGHIABCD\"),\n",
    "    list(\"EFGHIEFGHIEFGHIEFGHI\"),\n",
    "]\n",
    "get_serial_paths( T, minfreq=2 )"
   ]
  },
  {
   "cell_type": "markdown",
   "metadata": {},
   "source": [
    "## Dataset play"
   ]
  },
  {
   "cell_type": "markdown",
   "metadata": {},
   "source": [
    "### Serial with some noise"
   ]
  },
  {
   "cell_type": "code",
   "execution_count": 30,
   "metadata": {},
   "outputs": [
    {
     "name": "stdout",
     "output_type": "stream",
     "text": [
      "  1 : [h A e a e B g e C g d j D h g E d f a F c i G a j g f]\n",
      "  2 : [i A i j f B b d f C e e D j e E j c g F h e d G b i a]\n",
      "  3 : [a A g f B f d C f c D a g c E j j F b c e G g d c c j]\n"
     ]
    }
   ],
   "source": [
    "logs = synthetic_logs()\n",
    "logs.add( noisy_path( every=10, num_symbols=10, count=20)  )\n",
    "logs.add( serial_path( size=7, every=25, error=5, probability=1)  )\n",
    "\n",
    "instances = logs.generate_instances(100)\n",
    "logs.show_instances(3)"
   ]
  },
  {
   "cell_type": "code",
   "execution_count": 31,
   "metadata": {},
   "outputs": [
    {
     "data": {
      "text/html": [
       "<div>\n",
       "<style scoped>\n",
       "    .dataframe tbody tr th:only-of-type {\n",
       "        vertical-align: middle;\n",
       "    }\n",
       "\n",
       "    .dataframe tbody tr th {\n",
       "        vertical-align: top;\n",
       "    }\n",
       "\n",
       "    .dataframe thead th {\n",
       "        text-align: right;\n",
       "    }\n",
       "</style>\n",
       "<table border=\"1\" class=\"dataframe\">\n",
       "  <thead>\n",
       "    <tr style=\"text-align: right;\">\n",
       "      <th></th>\n",
       "      <th>class</th>\n",
       "      <th>#symbols</th>\n",
       "      <th>example</th>\n",
       "      <th>error</th>\n",
       "      <th>probability</th>\n",
       "    </tr>\n",
       "  </thead>\n",
       "  <tbody>\n",
       "    <tr>\n",
       "      <th>0</th>\n",
       "      <td>noisy_path</td>\n",
       "      <td>10</td>\n",
       "      <td>f f b e c b d c f j</td>\n",
       "      <td>NaN</td>\n",
       "      <td>NaN</td>\n",
       "    </tr>\n",
       "    <tr>\n",
       "      <th>1</th>\n",
       "      <td>serial_path</td>\n",
       "      <td>7</td>\n",
       "      <td>A B C D E F G</td>\n",
       "      <td>5.0</td>\n",
       "      <td>1.0</td>\n",
       "    </tr>\n",
       "  </tbody>\n",
       "</table>\n",
       "</div>"
      ],
      "text/plain": [
       "         class  #symbols              example  error  probability\n",
       "0   noisy_path        10  f f b e c b d c f j    NaN          NaN\n",
       "1  serial_path         7        A B C D E F G    5.0          1.0"
      ]
     },
     "execution_count": 31,
     "metadata": {},
     "output_type": "execute_result"
    }
   ],
   "source": [
    "pd.DataFrame(logs.describe()['generators'])"
   ]
  },
  {
   "cell_type": "code",
   "execution_count": 32,
   "metadata": {},
   "outputs": [
    {
     "data": {
      "text/plain": [
       "{100: [['A', 'B', 'C', 'D', 'E', 'F', 'G']]}"
      ]
     },
     "execution_count": 32,
     "metadata": {},
     "output_type": "execute_result"
    }
   ],
   "source": [
    "traces = [ [ s for (t, s) in serie ] for serie in instances ]  \n",
    "get_serial_paths( traces, minfreq= 5 )"
   ]
  },
  {
   "cell_type": "markdown",
   "metadata": {},
   "source": [
    "### Shuffled serials, equal appearance"
   ]
  },
  {
   "cell_type": "code",
   "execution_count": 33,
   "metadata": {},
   "outputs": [
    {
     "name": "stdout",
     "output_type": "stream",
     "text": [
      "  1 : [H A I B J C K D L E F M N G]\n",
      "  2 : [H A B I C J K D L M E N F G]\n",
      "  3 : [A H B I C D J K E F L M N G]\n",
      "  4 : [A H B I C D J E K F L G M N]\n",
      "  5 : [A H I B C J K L D M E F N G]\n"
     ]
    }
   ],
   "source": [
    "# Very unordered series has... far better results!!\n",
    "logs = synthetic_logs()\n",
    "logs.add( serial_path( size=7, every=25, error=15, probability=1)  )\n",
    "logs.add( serial_path( size=7, every=25, error=15, probability=1)  )\n",
    "\n",
    "instances = logs.generate_instances(100)\n",
    "logs.show_instances(5)"
   ]
  },
  {
   "cell_type": "code",
   "execution_count": 34,
   "metadata": {},
   "outputs": [
    {
     "data": {
      "text/html": [
       "<div>\n",
       "<style scoped>\n",
       "    .dataframe tbody tr th:only-of-type {\n",
       "        vertical-align: middle;\n",
       "    }\n",
       "\n",
       "    .dataframe tbody tr th {\n",
       "        vertical-align: top;\n",
       "    }\n",
       "\n",
       "    .dataframe thead th {\n",
       "        text-align: right;\n",
       "    }\n",
       "</style>\n",
       "<table border=\"1\" class=\"dataframe\">\n",
       "  <thead>\n",
       "    <tr style=\"text-align: right;\">\n",
       "      <th></th>\n",
       "      <th>class</th>\n",
       "      <th>#symbols</th>\n",
       "      <th>example</th>\n",
       "      <th>error</th>\n",
       "      <th>probability</th>\n",
       "    </tr>\n",
       "  </thead>\n",
       "  <tbody>\n",
       "    <tr>\n",
       "      <th>0</th>\n",
       "      <td>serial_path</td>\n",
       "      <td>7</td>\n",
       "      <td>A B C D E F G</td>\n",
       "      <td>15</td>\n",
       "      <td>1</td>\n",
       "    </tr>\n",
       "    <tr>\n",
       "      <th>1</th>\n",
       "      <td>serial_path</td>\n",
       "      <td>7</td>\n",
       "      <td>H I J K L M N</td>\n",
       "      <td>15</td>\n",
       "      <td>1</td>\n",
       "    </tr>\n",
       "  </tbody>\n",
       "</table>\n",
       "</div>"
      ],
      "text/plain": [
       "         class  #symbols        example  error  probability\n",
       "0  serial_path         7  A B C D E F G     15            1\n",
       "1  serial_path         7  H I J K L M N     15            1"
      ]
     },
     "execution_count": 34,
     "metadata": {},
     "output_type": "execute_result"
    }
   ],
   "source": [
    "pd.DataFrame(logs.describe()['generators'])"
   ]
  },
  {
   "cell_type": "code",
   "execution_count": 35,
   "metadata": {},
   "outputs": [
    {
     "data": {
      "text/plain": [
       "{100: [['H', 'C', 'D', 'M', 'N'],\n",
       "  ['H', 'C', 'D', 'E', 'F', 'G'],\n",
       "  ['H', 'C', 'L', 'M', 'N'],\n",
       "  ['H', 'I', 'J', 'E', 'F', 'G'],\n",
       "  ['H', 'I', 'J', 'K', 'L', 'M', 'N'],\n",
       "  ['H', 'I', 'J', 'K', 'G'],\n",
       "  ['H', 'I', 'D', 'M', 'N'],\n",
       "  ['H', 'I', 'D', 'E', 'F', 'G'],\n",
       "  ['A', 'I', 'J', 'E', 'F', 'G'],\n",
       "  ['A', 'I', 'J', 'K', 'L', 'M', 'N'],\n",
       "  ['A', 'I', 'J', 'K', 'G'],\n",
       "  ['A', 'I', 'D', 'M', 'N'],\n",
       "  ['A', 'I', 'D', 'E', 'F', 'G'],\n",
       "  ['A', 'B', 'C', 'D', 'M', 'N'],\n",
       "  ['A', 'B', 'C', 'D', 'E', 'F', 'G'],\n",
       "  ['A', 'B', 'C', 'L', 'M', 'N'],\n",
       "  ['A', 'B', 'K', 'L', 'M', 'N'],\n",
       "  ['A', 'B', 'K', 'G']]}"
      ]
     },
     "execution_count": 35,
     "metadata": {},
     "output_type": "execute_result"
    }
   ],
   "source": [
    "traces = [ [ s for (t, s) in serie ] for serie in instances ]  \n",
    "get_serial_paths( traces, minfreq=5 )"
   ]
  },
  {
   "cell_type": "markdown",
   "metadata": {},
   "source": [
    "### Merged serials, unbalanced"
   ]
  },
  {
   "cell_type": "code",
   "execution_count": 36,
   "metadata": {},
   "outputs": [
    {
     "name": "stdout",
     "output_type": "stream",
     "text": [
      "  1 : [A H B I C J D K E L F M G N]\n",
      "  2 : [A B C D E F G]\n",
      "  3 : [A H B I C J D K E L F M G N]\n",
      "  4 : [A B C D E F G]\n",
      "  5 : [H I J K L M N]\n"
     ]
    }
   ],
   "source": [
    "logs = synthetic_logs()\n",
    "logs.add( serial_path( size=7, every=25, error=5, probability=0.9)  )\n",
    "logs.add( serial_path( size=7, every=25, error=5, probability=0.9)  )\n",
    "\n",
    "instances = logs.generate_instances(100)\n",
    "logs.show_instances(5)"
   ]
  },
  {
   "cell_type": "code",
   "execution_count": 37,
   "metadata": {},
   "outputs": [
    {
     "data": {
      "text/html": [
       "<div>\n",
       "<style scoped>\n",
       "    .dataframe tbody tr th:only-of-type {\n",
       "        vertical-align: middle;\n",
       "    }\n",
       "\n",
       "    .dataframe tbody tr th {\n",
       "        vertical-align: top;\n",
       "    }\n",
       "\n",
       "    .dataframe thead th {\n",
       "        text-align: right;\n",
       "    }\n",
       "</style>\n",
       "<table border=\"1\" class=\"dataframe\">\n",
       "  <thead>\n",
       "    <tr style=\"text-align: right;\">\n",
       "      <th></th>\n",
       "      <th>class</th>\n",
       "      <th>#symbols</th>\n",
       "      <th>example</th>\n",
       "      <th>error</th>\n",
       "      <th>probability</th>\n",
       "    </tr>\n",
       "  </thead>\n",
       "  <tbody>\n",
       "    <tr>\n",
       "      <th>0</th>\n",
       "      <td>serial_path</td>\n",
       "      <td>7</td>\n",
       "      <td>A B C D E F G</td>\n",
       "      <td>5</td>\n",
       "      <td>0.9</td>\n",
       "    </tr>\n",
       "    <tr>\n",
       "      <th>1</th>\n",
       "      <td>serial_path</td>\n",
       "      <td>7</td>\n",
       "      <td>H I J K L M N</td>\n",
       "      <td>5</td>\n",
       "      <td>0.9</td>\n",
       "    </tr>\n",
       "  </tbody>\n",
       "</table>\n",
       "</div>"
      ],
      "text/plain": [
       "         class  #symbols        example  error  probability\n",
       "0  serial_path         7  A B C D E F G      5          0.9\n",
       "1  serial_path         7  H I J K L M N      5          0.9"
      ]
     },
     "execution_count": 37,
     "metadata": {},
     "output_type": "execute_result"
    }
   ],
   "source": [
    "pd.DataFrame(logs.describe()['generators'])"
   ]
  },
  {
   "cell_type": "code",
   "execution_count": 38,
   "metadata": {},
   "outputs": [
    {
     "data": {
      "text/plain": [
       "{91: [['A', 'B', 'C', 'D', 'E', 'F', 'G']],\n",
       " 92: [['H', 'I', 'J', 'K', 'L', 'M', 'N']]}"
      ]
     },
     "execution_count": 38,
     "metadata": {},
     "output_type": "execute_result"
    }
   ],
   "source": [
    "traces = [ [ s for (t, s) in serie ] for serie in instances ]  \n",
    "get_serial_paths( traces, minfreq=5 )"
   ]
  },
  {
   "cell_type": "markdown",
   "metadata": {},
   "source": [
    "### Merged unbalanced serials plus noise"
   ]
  },
  {
   "cell_type": "code",
   "execution_count": 39,
   "metadata": {},
   "outputs": [
    {
     "name": "stdout",
     "output_type": "stream",
     "text": [
      "  1 : [b A t l g B d t C p t D n i E d a h F h i G r n d i k l i j m m]\n",
      "  2 : [r A H j q B b I h j C l J d t D h K e c E f L o F s M q G p k N r s a c k g p]\n",
      "  3 : [o A H c o B I r d J C o o K d D m L i a E f M h a F N o k n G o j t r f s b b]\n",
      "  4 : [s H k n I g l J j k K j e t L a c M m h i N l m p o r l n a e l]\n",
      "  5 : [t H A f o m B I d h J r C r K f D s L f r E M q p F t N b G i g k r s g m t h]\n"
     ]
    }
   ],
   "source": [
    "logs = synthetic_logs()\n",
    "logs.add( serial_path( size=7, every=25, error=5, probability=0.9)  )\n",
    "logs.add( serial_path( size=7, every=25, error=5, probability=0.9)  )\n",
    "logs.add( noisy_path( every=10, num_symbols=20, count=25)  )\n",
    "\n",
    "instances = logs.generate_instances(100)\n",
    "logs.show_instances(5)"
   ]
  },
  {
   "cell_type": "code",
   "execution_count": 40,
   "metadata": {},
   "outputs": [
    {
     "data": {
      "text/html": [
       "<div>\n",
       "<style scoped>\n",
       "    .dataframe tbody tr th:only-of-type {\n",
       "        vertical-align: middle;\n",
       "    }\n",
       "\n",
       "    .dataframe tbody tr th {\n",
       "        vertical-align: top;\n",
       "    }\n",
       "\n",
       "    .dataframe thead th {\n",
       "        text-align: right;\n",
       "    }\n",
       "</style>\n",
       "<table border=\"1\" class=\"dataframe\">\n",
       "  <thead>\n",
       "    <tr style=\"text-align: right;\">\n",
       "      <th></th>\n",
       "      <th>class</th>\n",
       "      <th>#symbols</th>\n",
       "      <th>example</th>\n",
       "      <th>error</th>\n",
       "      <th>probability</th>\n",
       "    </tr>\n",
       "  </thead>\n",
       "  <tbody>\n",
       "    <tr>\n",
       "      <th>0</th>\n",
       "      <td>serial_path</td>\n",
       "      <td>7</td>\n",
       "      <td>A B C D E F G</td>\n",
       "      <td>5.0</td>\n",
       "      <td>0.9</td>\n",
       "    </tr>\n",
       "    <tr>\n",
       "      <th>1</th>\n",
       "      <td>serial_path</td>\n",
       "      <td>7</td>\n",
       "      <td>H I J K L M N</td>\n",
       "      <td>5.0</td>\n",
       "      <td>0.9</td>\n",
       "    </tr>\n",
       "    <tr>\n",
       "      <th>2</th>\n",
       "      <td>noisy_path</td>\n",
       "      <td>20</td>\n",
       "      <td>l g k e q q j r a b</td>\n",
       "      <td>NaN</td>\n",
       "      <td>NaN</td>\n",
       "    </tr>\n",
       "  </tbody>\n",
       "</table>\n",
       "</div>"
      ],
      "text/plain": [
       "         class  #symbols              example  error  probability\n",
       "0  serial_path         7        A B C D E F G    5.0          0.9\n",
       "1  serial_path         7        H I J K L M N    5.0          0.9\n",
       "2   noisy_path        20  l g k e q q j r a b    NaN          NaN"
      ]
     },
     "execution_count": 40,
     "metadata": {},
     "output_type": "execute_result"
    }
   ],
   "source": [
    "pd.DataFrame(logs.describe()['generators'])"
   ]
  },
  {
   "cell_type": "code",
   "execution_count": 41,
   "metadata": {},
   "outputs": [
    {
     "data": {
      "text/plain": [
       "{91: [['A', 'B', 'C', 'D', 'E', 'F', 'G']],\n",
       " 89: [['H', 'I', 'J', 'K', 'L', 'M', 'N']]}"
      ]
     },
     "execution_count": 41,
     "metadata": {},
     "output_type": "execute_result"
    }
   ],
   "source": [
    "traces = [ [ s for (t, s) in serie ] for serie in instances ]  \n",
    "get_serial_paths( traces, minfreq=5 )"
   ]
  },
  {
   "cell_type": "markdown",
   "metadata": {},
   "source": [
    "### Several unbalanced serials plus noise"
   ]
  },
  {
   "cell_type": "code",
   "execution_count": 42,
   "metadata": {},
   "outputs": [
    {
     "name": "stdout",
     "output_type": "stream",
     "text": [
      "  1 : [c K A U AO AE o e B L AF AP n V i C M AG c W AQ t D l X AH N s AR k E O AI h Y d AS F P p AJ Z a Q AT G l AA AK s R AU n H r AB AL t S AV I j AC AM h T p J AW AD o AN t e AX]\n",
      "  2 : [t U AO A K AE f d V s AP B AF L h e W AQ M i AG C g X AR f D AH N f Y a AS E AI m O a Z AT AJ f F P o AA AK AU m Q e G AL p AB AV R q H j AC AM c AW I S l m AD AN AX b J T k]\n",
      "  3 : [j K U A AO AE n b L r V AF B AP f q W AG AQ M h C k N AH n D X AR k m E O Y AI j AS t F Z P n AT AJ f d Q G AA AK AU f p R H AB e AL AV e m I S AC AW AM s h AX AD T J AN q b]\n",
      "  4 : [h AO U AE K c g AP V AF L h p AQ W M o AG n AR X g N AH f c Y AS t AI O s AT Z f AJ P a AU m AA o AK Q j AV AB g AL R p q AC AW q AM S t AD AX g AN k T l]\n",
      "  5 : [A K c AO U AE j p B V L AF s AP f C t W AG M AQ r D l AH AR b N X r E AI n Y AS O i AJ h F Z e P AT l AK G j Q AA AU g AL p H a AV R AB AM s I o AC AW S g AN J o T AD k AX r]\n"
     ]
    }
   ],
   "source": [
    "logs = synthetic_logs()\n",
    "logs.add( serial_path( size=10, every=25, error=5, probability=0.9)  )\n",
    "logs.add( serial_path( size=10, every=25, error=5, probability=0.9)  )\n",
    "logs.add( serial_path( size=10, every=25, error=5, probability=0.9)  )\n",
    "logs.add( serial_path( size=10, every=25, error=5, probability=0.9)  )\n",
    "logs.add( serial_path( size=10, every=25, error=5, probability=0.9)  )\n",
    "logs.add( noisy_path( every=10, num_symbols=20, count=25)  )\n",
    "\n",
    "instances = logs.generate_instances(100)\n",
    "logs.show_instances(5)"
   ]
  },
  {
   "cell_type": "code",
   "execution_count": 43,
   "metadata": {},
   "outputs": [
    {
     "data": {
      "text/html": [
       "<div>\n",
       "<style scoped>\n",
       "    .dataframe tbody tr th:only-of-type {\n",
       "        vertical-align: middle;\n",
       "    }\n",
       "\n",
       "    .dataframe tbody tr th {\n",
       "        vertical-align: top;\n",
       "    }\n",
       "\n",
       "    .dataframe thead th {\n",
       "        text-align: right;\n",
       "    }\n",
       "</style>\n",
       "<table border=\"1\" class=\"dataframe\">\n",
       "  <thead>\n",
       "    <tr style=\"text-align: right;\">\n",
       "      <th></th>\n",
       "      <th>class</th>\n",
       "      <th>#symbols</th>\n",
       "      <th>example</th>\n",
       "      <th>error</th>\n",
       "      <th>probability</th>\n",
       "    </tr>\n",
       "  </thead>\n",
       "  <tbody>\n",
       "    <tr>\n",
       "      <th>0</th>\n",
       "      <td>serial_path</td>\n",
       "      <td>10</td>\n",
       "      <td>A B C D E F G H I J</td>\n",
       "      <td>5.0</td>\n",
       "      <td>0.9</td>\n",
       "    </tr>\n",
       "    <tr>\n",
       "      <th>1</th>\n",
       "      <td>serial_path</td>\n",
       "      <td>10</td>\n",
       "      <td>K L M N O P Q R S T</td>\n",
       "      <td>5.0</td>\n",
       "      <td>0.9</td>\n",
       "    </tr>\n",
       "    <tr>\n",
       "      <th>2</th>\n",
       "      <td>serial_path</td>\n",
       "      <td>10</td>\n",
       "      <td>U V W X Y Z AA AB AC AD</td>\n",
       "      <td>5.0</td>\n",
       "      <td>0.9</td>\n",
       "    </tr>\n",
       "    <tr>\n",
       "      <th>3</th>\n",
       "      <td>serial_path</td>\n",
       "      <td>10</td>\n",
       "      <td>AE AF AG AH AI AJ AK AL AM AN</td>\n",
       "      <td>5.0</td>\n",
       "      <td>0.9</td>\n",
       "    </tr>\n",
       "    <tr>\n",
       "      <th>4</th>\n",
       "      <td>serial_path</td>\n",
       "      <td>10</td>\n",
       "      <td>AO AP AQ AR AS AT AU AV AW AX</td>\n",
       "      <td>5.0</td>\n",
       "      <td>0.9</td>\n",
       "    </tr>\n",
       "    <tr>\n",
       "      <th>5</th>\n",
       "      <td>noisy_path</td>\n",
       "      <td>20</td>\n",
       "      <td>c o b h r g c k b o</td>\n",
       "      <td>NaN</td>\n",
       "      <td>NaN</td>\n",
       "    </tr>\n",
       "  </tbody>\n",
       "</table>\n",
       "</div>"
      ],
      "text/plain": [
       "         class  #symbols                        example  error  probability\n",
       "0  serial_path        10            A B C D E F G H I J    5.0          0.9\n",
       "1  serial_path        10            K L M N O P Q R S T    5.0          0.9\n",
       "2  serial_path        10        U V W X Y Z AA AB AC AD    5.0          0.9\n",
       "3  serial_path        10  AE AF AG AH AI AJ AK AL AM AN    5.0          0.9\n",
       "4  serial_path        10  AO AP AQ AR AS AT AU AV AW AX    5.0          0.9\n",
       "5   noisy_path        20            c o b h r g c k b o    NaN          NaN"
      ]
     },
     "execution_count": 43,
     "metadata": {},
     "output_type": "execute_result"
    }
   ],
   "source": [
    "pd.DataFrame(logs.describe()['generators'])"
   ]
  },
  {
   "cell_type": "code",
   "execution_count": 44,
   "metadata": {},
   "outputs": [
    {
     "data": {
      "text/plain": [
       "{90: [['K', 'L', 'M', 'N', 'O', 'P', 'Q', 'R', 'S', 'T']],\n",
       " 88: [['A', 'B', 'C', 'D', 'E', 'F', 'G', 'H', 'I', 'J']],\n",
       " 92: [['U', 'V', 'W', 'X', 'Y', 'Z', 'AA', 'AB', 'AC', 'AD']],\n",
       " 93: [['AO', 'AP', 'AQ', 'AR', 'AS', 'AT', 'AU', 'AV', 'AW', 'AX'],\n",
       "  ['AE', 'AF', 'AG', 'AH', 'AI', 'AJ', 'AK', 'AL', 'AM', 'AN']]}"
      ]
     },
     "execution_count": 44,
     "metadata": {},
     "output_type": "execute_result"
    }
   ],
   "source": [
    "traces = [ [ s for (t, s) in serie ] for serie in instances ]  \n",
    "get_serial_paths( traces, minfreq= 5  )"
   ]
  },
  {
   "cell_type": "markdown",
   "metadata": {},
   "source": [
    "### serials plus noise, but one with P=1"
   ]
  },
  {
   "cell_type": "code",
   "execution_count": 45,
   "metadata": {},
   "outputs": [
    {
     "name": "stdout",
     "output_type": "stream",
     "text": [
      "  1 : [f AE K U AO A i q AP L AF V i B b AQ r AG M W c C o AH AR X h N g D j O AI Y AS h E j P d Z AT AJ F t q Q l AA AU AK G c R s AL AB p AV H i S AM o AW AC q I e AN T AX h AD J]\n",
      "  2 : [q K A AE U AO b t V j B L AF AP o W i AG C M l AQ m X AH s D N AR p Y AI p E O m AS t Z AJ h P F k AT AA l Q AK i G AU b AB e R AL H r AV t S AC m I AM AW t T AD o AN J b AX]\n",
      "  3 : [s A K AE U r n AF V B L k g AG W k C M k AH i X k N D AI t Y p O E AJ m Z h P F n AK a AA Q h G p AL t H R AB g AM g I S d AC n AN J a T AD t h]\n",
      "  4 : [AE p K A U AO f p AF L B V AP k p M AG m C AQ W i r AH N D AR s X i AI j O E AS Y i p P AT AJ c F Z q h Q AK AU G h AA c c AL H R AV c AB d AM AW s S I AC c AN AX q T J j AD]\n",
      "  5 : [d AO A K U AE m k AP AF B h L V g AQ AG m W C r M k AH AR b N X D e AI l O AS E Y s AJ d P F AT t Z l AK Q AU q G AA g AL d R AV H d AB r AW AM S b I AC s AN AX p T t J AD r]\n"
     ]
    }
   ],
   "source": [
    "logs = synthetic_logs()\n",
    "logs.add( serial_path( size=10, every=25, error=5, probability=1)  )\n",
    "logs.add( serial_path( size=10, every=25, error=5, probability=0.9)  )\n",
    "logs.add( serial_path( size=10, every=25, error=5, probability=0.9)  )\n",
    "logs.add( serial_path( size=10, every=25, error=5, probability=0.9)  )\n",
    "logs.add( serial_path( size=10, every=25, error=5, probability=0.9)  )\n",
    "logs.add( noisy_path( every=10, num_symbols=20, count=25)  )\n",
    "\n",
    "instances = logs.generate_instances(100)\n",
    "logs.show_instances(5)"
   ]
  },
  {
   "cell_type": "code",
   "execution_count": 46,
   "metadata": {},
   "outputs": [
    {
     "data": {
      "text/html": [
       "<div>\n",
       "<style scoped>\n",
       "    .dataframe tbody tr th:only-of-type {\n",
       "        vertical-align: middle;\n",
       "    }\n",
       "\n",
       "    .dataframe tbody tr th {\n",
       "        vertical-align: top;\n",
       "    }\n",
       "\n",
       "    .dataframe thead th {\n",
       "        text-align: right;\n",
       "    }\n",
       "</style>\n",
       "<table border=\"1\" class=\"dataframe\">\n",
       "  <thead>\n",
       "    <tr style=\"text-align: right;\">\n",
       "      <th></th>\n",
       "      <th>class</th>\n",
       "      <th>#symbols</th>\n",
       "      <th>example</th>\n",
       "      <th>error</th>\n",
       "      <th>probability</th>\n",
       "    </tr>\n",
       "  </thead>\n",
       "  <tbody>\n",
       "    <tr>\n",
       "      <th>0</th>\n",
       "      <td>serial_path</td>\n",
       "      <td>10</td>\n",
       "      <td>A B C D E F G H I J</td>\n",
       "      <td>5.0</td>\n",
       "      <td>1.0</td>\n",
       "    </tr>\n",
       "    <tr>\n",
       "      <th>1</th>\n",
       "      <td>serial_path</td>\n",
       "      <td>10</td>\n",
       "      <td>K L M N O P Q R S T</td>\n",
       "      <td>5.0</td>\n",
       "      <td>0.9</td>\n",
       "    </tr>\n",
       "    <tr>\n",
       "      <th>2</th>\n",
       "      <td>serial_path</td>\n",
       "      <td>10</td>\n",
       "      <td>U V W X Y Z AA AB AC AD</td>\n",
       "      <td>5.0</td>\n",
       "      <td>0.9</td>\n",
       "    </tr>\n",
       "    <tr>\n",
       "      <th>3</th>\n",
       "      <td>serial_path</td>\n",
       "      <td>10</td>\n",
       "      <td>AE AF AG AH AI AJ AK AL AM AN</td>\n",
       "      <td>5.0</td>\n",
       "      <td>0.9</td>\n",
       "    </tr>\n",
       "    <tr>\n",
       "      <th>4</th>\n",
       "      <td>serial_path</td>\n",
       "      <td>10</td>\n",
       "      <td>AO AP AQ AR AS AT AU AV AW AX</td>\n",
       "      <td>5.0</td>\n",
       "      <td>0.9</td>\n",
       "    </tr>\n",
       "    <tr>\n",
       "      <th>5</th>\n",
       "      <td>noisy_path</td>\n",
       "      <td>20</td>\n",
       "      <td>f s t r s g l m b e</td>\n",
       "      <td>NaN</td>\n",
       "      <td>NaN</td>\n",
       "    </tr>\n",
       "  </tbody>\n",
       "</table>\n",
       "</div>"
      ],
      "text/plain": [
       "         class  #symbols                        example  error  probability\n",
       "0  serial_path        10            A B C D E F G H I J    5.0          1.0\n",
       "1  serial_path        10            K L M N O P Q R S T    5.0          0.9\n",
       "2  serial_path        10        U V W X Y Z AA AB AC AD    5.0          0.9\n",
       "3  serial_path        10  AE AF AG AH AI AJ AK AL AM AN    5.0          0.9\n",
       "4  serial_path        10  AO AP AQ AR AS AT AU AV AW AX    5.0          0.9\n",
       "5   noisy_path        20            f s t r s g l m b e    NaN          NaN"
      ]
     },
     "execution_count": 46,
     "metadata": {},
     "output_type": "execute_result"
    }
   ],
   "source": [
    "pd.DataFrame(logs.describe()['generators'])"
   ]
  },
  {
   "cell_type": "code",
   "execution_count": 47,
   "metadata": {},
   "outputs": [
    {
     "data": {
      "text/plain": [
       "{89: [['AE', 'AF', 'C', 'AH', 'AI', 'AJ', 'AK', 'AL', 'AM', 'AN'],\n",
       "  ['AE', 'AF', 'AG', 'AH', 'AI', 'G', 'AM', 'AN'],\n",
       "  ['AE', 'AF', 'AG', 'AH', 'AI', 'AJ', 'H', 'AN'],\n",
       "  ['AE', 'AF', 'AG', 'AH', 'AI', 'AJ', 'AK', 'AL', 'J'],\n",
       "  ['AE', 'AF', 'AG', 'AH', 'AI', 'AJ', 'AK', 'AL', 'AM', 'AN'],\n",
       "  ['AE', 'AF', 'AG', 'AH', 'AI', 'AJ', 'AK', 'I'],\n",
       "  ['AE', 'AF', 'AG', 'AH', 'F', 'AL', 'AM', 'AN'],\n",
       "  ['AE', 'AF', 'AG', 'D', 'AI', 'AJ', 'AK', 'AL', 'AM', 'AN'],\n",
       "  ['AE', 'AF', 'AG', 'E', 'AJ', 'AK', 'AL', 'AM', 'AN'],\n",
       "  ['A', 'AF', 'AG', 'AH', 'AI', 'AJ', 'AK', 'AL', 'AM', 'AN'],\n",
       "  ['AE', 'B', 'AG', 'AH', 'AI', 'AJ', 'AK', 'AL', 'AM', 'AN']],\n",
       " 88: [['K', 'L', 'M', 'D', 'O', 'P', 'Q', 'R', 'S', 'T'],\n",
       "  ['K', 'B', 'M', 'N', 'O', 'P', 'Q', 'R', 'S', 'T'],\n",
       "  ['K', 'L', 'M', 'N', 'O', 'P', 'Q', 'R', 'J'],\n",
       "  ['K', 'L', 'M', 'N', 'O', 'P', 'Q', 'I'],\n",
       "  ['K', 'L', 'M', 'N', 'O', 'P', 'Q', 'R', 'S', 'T'],\n",
       "  ['K', 'L', 'M', 'N', 'O', 'P', 'Q', 'H', 'T'],\n",
       "  ['K', 'L', 'M', 'N', 'O', 'F', 'Q', 'R', 'S', 'T'],\n",
       "  ['A', 'L', 'M', 'N', 'O', 'P', 'Q', 'R', 'S', 'T'],\n",
       "  ['K', 'L', 'M', 'N', 'O', 'P', 'G', 'S', 'T'],\n",
       "  ['K', 'L', 'M', 'N', 'E', 'P', 'Q', 'R', 'S', 'T'],\n",
       "  ['K', 'L', 'C', 'N', 'O', 'P', 'Q', 'R', 'S', 'T']],\n",
       " 100: [['A', 'B', 'C', 'D', 'E', 'F', 'G', 'H', 'I', 'J']],\n",
       " 85: [['U', 'V', 'C', 'X', 'Y', 'Z', 'AA', 'AB', 'AC', 'AD'],\n",
       "  ['U', 'B', 'W', 'X', 'Y', 'Z', 'AA', 'AB', 'AC', 'AD'],\n",
       "  ['U', 'V', 'W', 'D', 'Y', 'Z', 'AA', 'AB', 'AC', 'AD'],\n",
       "  ['U', 'V', 'W', 'X', 'Y', 'Z', 'AA', 'AB', 'J'],\n",
       "  ['U', 'V', 'W', 'X', 'Y', 'Z', 'AA', 'AB', 'AC', 'AD'],\n",
       "  ['U', 'V', 'W', 'X', 'Y', 'Z', 'AA', 'I'],\n",
       "  ['U', 'V', 'W', 'X', 'Y', 'Z', 'AA', 'H', 'AC', 'AD'],\n",
       "  ['U', 'V', 'W', 'X', 'Y', 'Z', 'G', 'AB', 'AC', 'AD'],\n",
       "  ['U', 'V', 'W', 'X', 'Y', 'F', 'AA', 'AB', 'AC', 'AD'],\n",
       "  ['U', 'V', 'W', 'X', 'E', 'Z', 'AA', 'AB', 'AC', 'AD'],\n",
       "  ['A', 'V', 'W', 'X', 'Y', 'Z', 'AA', 'AB', 'AC', 'AD']],\n",
       " 86: [['AO', 'AP', 'AQ', 'AR', 'E', 'AT', 'AU', 'AV', 'AW', 'AX'],\n",
       "  ['AO', 'AP', 'C', 'AR', 'AS', 'AT', 'AU', 'AV', 'AW', 'AX'],\n",
       "  ['AO', 'AP', 'AQ', 'AR', 'AS', 'F', 'AU', 'AV', 'AW', 'AX'],\n",
       "  ['AO', 'AP', 'AQ', 'D', 'AS', 'AT', 'AU', 'AV', 'AW', 'AX'],\n",
       "  ['AO', 'AP', 'AQ', 'AR', 'AS', 'AT', 'AU', 'AV', 'J'],\n",
       "  ['AO', 'AP', 'AQ', 'AR', 'AS', 'AT', 'AU', 'I'],\n",
       "  ['AO', 'AP', 'AQ', 'AR', 'AS', 'AT', 'AU', 'AV', 'AW', 'AX'],\n",
       "  ['AO', 'AP', 'AQ', 'AR', 'AS', 'AT', 'G', 'AV', 'AW', 'AX'],\n",
       "  ['AO', 'AP', 'AQ', 'AR', 'AS', 'AT', 'H', 'AX'],\n",
       "  ['A', 'AP', 'AQ', 'AR', 'AS', 'AT', 'AU', 'AV', 'AW', 'AX'],\n",
       "  ['AO', 'B', 'AQ', 'AR', 'AS', 'AT', 'AU', 'AV', 'AW', 'AX']]}"
      ]
     },
     "execution_count": 47,
     "metadata": {},
     "output_type": "execute_result"
    }
   ],
   "source": [
    "traces = [ [ s for (t, s) in serie ] for serie in instances ]  \n",
    "get_serial_paths( traces, minfreq= int( len(traces) / 10)  )"
   ]
  },
  {
   "cell_type": "markdown",
   "metadata": {},
   "source": [
    "## Conclusions"
   ]
  },
  {
   "cell_type": "markdown",
   "metadata": {},
   "source": [
    "1. The algorithm is useful for a len(S) > 3, because the high probability to have the edge set $(s_0, s_1), (s_1, s_2), (s_0, s_1)$, while in contrast, the chances are dramatically lower to have this set in the same frequency range: $(s_0, s_1), (s_1, s_2), (s_2, s_3), (s_0, s_1), (s_0, s_2), (s_0, s_3), (s_1, s_3)$\n",
    "1. Using cliques, the time to get results is quite low\n",
    "1. If just one serial path appears, the precision is 100%\n",
    "1. When several serial paths are in the same dataset, two cases appears. 1) If each path appears in less than 100% of the instances, they are quite well detected. 2) If at least one path is present in all instances, the detection is good for that one but shows several false positives in the others.\n",
    "1. I developed a powerful sample instance generator."
   ]
  },
  {
   "cell_type": "markdown",
   "metadata": {},
   "source": [
    "## Pending tasks\n",
    "\n",
    "1. Add tolerance to incomplete sequences\n",
    "1. Test with Observatory logs"
   ]
  },
  {
   "cell_type": "code",
   "execution_count": null,
   "metadata": {},
   "outputs": [],
   "source": []
  }
 ],
 "metadata": {
  "kernelspec": {
   "display_name": "Python 3",
   "language": "python",
   "name": "python3"
  },
  "language_info": {
   "codemirror_mode": {
    "name": "ipython",
    "version": 3
   },
   "file_extension": ".py",
   "mimetype": "text/x-python",
   "name": "python",
   "nbconvert_exporter": "python",
   "pygments_lexer": "ipython3",
   "version": "3.7.5"
  }
 },
 "nbformat": 4,
 "nbformat_minor": 4
}
