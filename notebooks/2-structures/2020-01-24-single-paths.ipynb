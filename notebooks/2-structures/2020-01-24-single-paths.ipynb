{
 "cells": [
  {
   "cell_type": "markdown",
   "metadata": {},
   "source": [
    "# Path discovery, all friends with all\n"
   ]
  },
  {
   "cell_type": "code",
   "execution_count": 1,
   "metadata": {},
   "outputs": [],
   "source": [
    "%load_ext autoreload\n",
    "%autoreload 2\n",
    "\n",
    "import networkx as nx\n",
    "# import scipy\n",
    "import matplotlib.pyplot as plt\n",
    "\n",
    "\n",
    "# import clique_discovery \n",
    "# from helpers import *"
   ]
  },
  {
   "cell_type": "markdown",
   "metadata": {},
   "source": [
    "In 2020-01-23-single-paths, my specific goal were to isolate all single paths in the traces, i.e. find the longest sequences of symbols that appears consequtively in a set of traces. I succeed in:\n",
    "\n",
    "* Identify nodes that belong to some loop\n",
    "* Change successors_pairs to include only just the closest pairs\n",
    "* In [LoopProblem Notebook](./2020-01-20-LoopProblem.ipynb) , I wrote several attemps of formalization.\n",
    "\n",
    "Today, I will include the idea of *consider first appearance order* in every single trace. Also I will test backwards valid traces as in \n",
    "\n",
    "```\n",
    "ABC\n",
    "CBA\n",
    "```\n"
   ]
  },
  {
   "cell_type": "code",
   "execution_count": 2,
   "metadata": {},
   "outputs": [],
   "source": [
    "def graph(G, color=\"#cccccc\", with_weigths=True):\n",
    "    pos = nx.circular_layout(G)\n",
    "    plt.rcParams['figure.figsize'] = [10, 6]\n",
    "    plt.subplot(111)\n",
    "\n",
    "    nx.draw_networkx (G, pos, width=1, node_color=color, with_labels=True, connectionstyle='arc3, rad=0.03' )\n",
    "    if with_weigths:\n",
    "        weights = { (str(u), str(v)): G[u][v]['weight'] for u,v in G.edges() }\n",
    "        nx.draw_networkx_edge_labels(G, pos=pos, edge_labels=weights)\n",
    "    plt.show()"
   ]
  },
  {
   "cell_type": "code",
   "execution_count": 3,
   "metadata": {},
   "outputs": [],
   "source": [
    "def naive_graph( T, with_weigths=False ):\n",
    "    NAIVE=nx.DiGraph()\n",
    "    NAIVE.add_edges_from( [ (a,b) for t in T for a,b in zip( t[:-1], t[1:] )  ] )\n",
    "    graph( NAIVE, with_weigths=with_weigths )"
   ]
  },
  {
   "cell_type": "code",
   "execution_count": 4,
   "metadata": {},
   "outputs": [],
   "source": [
    "def get_successor_by_freq( traces ):\n",
    "    \"\"\"\n",
    "    Get successor pairs in every T in traces, and combine them by frequency of appearance.\n",
    "    \n",
    "    >>> T = [ list(\"ABC\"), list(\"ABCABC\") ]\n",
    "    >>> get_successor_pairs_by_freq(T)\n",
    "    {('A', 'B'): 3, ('A', 'C'): 3, ('B', 'C'): 3, ('B', 'A'): 1, ('C', 'A'): 1, ('C', 'B'): 1}\n",
    "    \"\"\"\n",
    "    pairs_with_freq = {}\n",
    "    L = float(len(traces))\n",
    "\n",
    "    for trace in traces:\n",
    "        for pair in get_successor_pairs(trace):\n",
    "            if pair in pairs_with_freq.keys():\n",
    "                pairs_with_freq[pair] = pairs_with_freq[pair] + 1.0/L\n",
    "            else:\n",
    "                pairs_with_freq[pair] = 1.0/L\n",
    "            \n",
    "    By_freq = {}\n",
    "    for (u, v), freq in pairs_with_freq.items():\n",
    "        f = round(freq,2)\n",
    "        if f in By_freq.keys():\n",
    "            By_freq[f].append( (u,v) )\n",
    "        else:\n",
    "            By_freq[f] =[ (u,v) ]\n",
    "    return By_freq"
   ]
  },
  {
   "cell_type": "code",
   "execution_count": 5,
   "metadata": {},
   "outputs": [],
   "source": [
    "# Including Modifications by Andres (20200124)\n",
    "def get_successor_pairs( T_prime ):\n",
    "    \"\"\"\n",
    "    Get near successor pairs\n",
    "    \n",
    "    Given the trace $T' = s_1 ... s_L$\n",
    "    For every $1 <= i <= L$ find the maximal subtrace starting at $i$\n",
    "    $T_i_j = s_i ... s_j$ such that $s_i \\ne s_k$ for all $i < k <= j$\n",
    "    \n",
    "    Return the concatenation for all $T_i_j$\n",
    "    [ (s_i, s_k) ] for all s_i \\in T_i_j, s_k \\in T_i_j for all i < k <= j\n",
    "    \n",
    "    ADDED 2020-01-23:\n",
    "    Que no se repitan!\n",
    "\n",
    "    \n",
    "    >>> get_successor_pairs(list(\"ABCD\"))\n",
    "    [('A', 'B'), ('A', 'C'), ('A', 'D'), ('B', 'C'), ('B', 'D'), ('C', 'D')]\n",
    "    \"\"\"\n",
    "    pairs = []\n",
    "    for i in range(0, len(T_prime)-1):\n",
    "\n",
    "\n",
    "        partial_subtrace = T_prime[i:]\n",
    "\n",
    "        s_i = partial_subtrace.pop(0)\n",
    "        L = len(partial_subtrace)\n",
    "\n",
    "        # Find first first j such s_i == s_j, or L if not exists\n",
    "        if s_i in partial_subtrace:\n",
    "            j = partial_subtrace.index(s_i)\n",
    "        else:\n",
    "            j = L\n",
    "\n",
    "        # This is the subtrace T_i_j, the maximal that not contains s1\n",
    "        # (Actually, it not contains s_i)\n",
    "#         T_i_j=partial_subtrace[:j] # 2020-01-20 Old BEHAVIOR\n",
    "        T_i_j=partial_subtrace[:L] # Andres 20200124 .. all friends with all, including loops\n",
    "        \n",
    "        T_i_j_pairs = [] # 2020-01-23 BEHAVIOR ... but not remove, it doesn't affect\n",
    "\n",
    "        # Construct all s_i, s_k , i < k <= j\n",
    "        for s_k in T_i_j:\n",
    "            e = (s_i, s_k)\n",
    "\n",
    "            pairs.append(e)       # 2020-01-20 Old BEHAVIOR\n",
    "            \n",
    "#             if e not in T_i_j_pairs:  # 2020-01-23 BEHAVIOR\n",
    "#                 T_i_j_pairs.append(e) # 2020-01-23 BEHAVIOR\n",
    "#         pairs += T_i_j_pairs          # 2020-01-23 BEHAVIOR\n",
    "            \n",
    "            \n",
    "            # Added 2020-01-18: global star / end\n",
    "#             if ADD_START_END:\n",
    "#                 pairs.append( (\"_START_\", s_i) )\n",
    "#                 pairs.append(( s_k, \"_END_\") )\n",
    "\n",
    "\n",
    "    return pairs"
   ]
  },
  {
   "cell_type": "markdown",
   "metadata": {},
   "source": [
    "## Remember succesors from 2020-01-23"
   ]
  },
  {
   "cell_type": "code",
   "execution_count": 6,
   "metadata": {},
   "outputs": [
    {
     "data": {
      "text/plain": [
       "{1.0: [('A', 'B'), ('A', 'C'), ('B', 'C')]}"
      ]
     },
     "execution_count": 6,
     "metadata": {},
     "output_type": "execute_result"
    }
   ],
   "source": [
    "# A single path is shown as a complete graph \n",
    "get_successor_by_freq([list(\"ABC\")])"
   ]
  },
  {
   "cell_type": "code",
   "execution_count": 7,
   "metadata": {},
   "outputs": [
    {
     "data": {
      "text/plain": [
       "{3.0: [('A', 'B'), ('A', 'C'), ('B', 'C')],\n",
       " 1.0: [('A', 'A'), ('B', 'A'), ('B', 'B'), ('C', 'A'), ('C', 'B'), ('C', 'C')]}"
      ]
     },
     "execution_count": 7,
     "metadata": {},
     "output_type": "execute_result"
    }
   ],
   "source": [
    "# Note that in a loop the path appears inverted\n",
    "get_successor_by_freq([list(\"ABCABC\")])"
   ]
  },
  {
   "cell_type": "code",
   "execution_count": 8,
   "metadata": {},
   "outputs": [
    {
     "data": {
      "text/plain": [
       "({2.0: [('.', 'A'), ('.', 'B')],\n",
       "  3.0: [('A', 'B')],\n",
       "  1.0: [('A', 'A'), ('B', 'A'), ('B', 'B')]},\n",
       " {3.0: [('A', 'B')],\n",
       "  1.0: [('A', '.'),\n",
       "   ('A', 'A'),\n",
       "   ('B', '.'),\n",
       "   ('B', 'A'),\n",
       "   ('B', 'B'),\n",
       "   ('.', 'A'),\n",
       "   ('.', 'B')]},\n",
       " {3.0: [('A', 'B')],\n",
       "  1.0: [('A', 'A'), ('B', 'A'), ('B', 'B')],\n",
       "  2.0: [('A', '.'), ('B', '.')]})"
      ]
     },
     "execution_count": 8,
     "metadata": {},
     "output_type": "execute_result"
    }
   ],
   "source": [
    "# Note what happens when noise is introduced\n",
    "get_successor_by_freq([list(\".ABAB\")]), \\\n",
    "get_successor_by_freq([list(\"AB.AB\")]), \\\n",
    "get_successor_by_freq([list(\"ABAB.\")])"
   ]
  },
  {
   "cell_type": "code",
   "execution_count": 9,
   "metadata": {},
   "outputs": [
    {
     "data": {
      "text/plain": [
       "{2.0: [('1', 'A'), ('A', '1'), ('2', 'B'), ('B', '2')],\n",
       " 3.0: [('1', '2'), ('1', 'B'), ('A', '2'), ('A', 'B')],\n",
       " 1.0: [('1', '1'),\n",
       "  ('A', 'A'),\n",
       "  ('2', 'A'),\n",
       "  ('2', '1'),\n",
       "  ('2', '2'),\n",
       "  ('B', 'A'),\n",
       "  ('B', '1'),\n",
       "  ('B', 'B')]}"
      ]
     },
     "execution_count": 9,
     "metadata": {},
     "output_type": "execute_result"
    }
   ],
   "source": [
    "# Here the symbols are merged simulating parallel execution, when no order is guaranteed between processes\n",
    "get_successor_by_freq([list(\"1A2BA1B2\")])"
   ]
  },
  {
   "cell_type": "markdown",
   "metadata": {},
   "source": [
    "## Simple Loop"
   ]
  },
  {
   "cell_type": "code",
   "execution_count": 10,
   "metadata": {},
   "outputs": [],
   "source": [
    "T = [\n",
    "    list(\"ABCDABCD\"),\n",
    "]"
   ]
  },
  {
   "cell_type": "code",
   "execution_count": 11,
   "metadata": {},
   "outputs": [
    {
     "data": {
      "image/png": "[encoded data removed]",
      "text/plain": [
       "<Figure size 720x432 with 1 Axes>"
      ]
     },
     "metadata": {},
     "output_type": "display_data"
    }
   ],
   "source": [
    "# This graph is a simple loop.\n",
    "naive_graph(T)"
   ]
  },
  {
   "cell_type": "code",
   "execution_count": 12,
   "metadata": {},
   "outputs": [],
   "source": [
    "# # Build an auxiliary graph for one frequency\n",
    "def successors_in_one_freq( successor_pairs_f ):\n",
    "    G={}\n",
    "    for f, pairs in successor_pairs_f.items():\n",
    "        G[f] = nx.DiGraph()\n",
    "        for p in pairs:\n",
    "            G[f].add_edge(p[0], p[1], weight=f )\n",
    "    return G"
   ]
  },
  {
   "cell_type": "code",
   "execution_count": 13,
   "metadata": {},
   "outputs": [],
   "source": [
    "# The list T has only one item, then the pairs below represents that single path.\n",
    "succ_of_T = get_successor_by_freq(T)"
   ]
  },
  {
   "cell_type": "code",
   "execution_count": 14,
   "metadata": {},
   "outputs": [],
   "source": [
    "def successorsGraph(successor_by_freq):\n",
    "    G=nx.DiGraph()\n",
    "    for f, pairs in successor_by_freq.items():\n",
    "        for u, v in pairs:\n",
    "            G.add_edge(u, v, weight=f)\n",
    "    return G"
   ]
  },
  {
   "cell_type": "markdown",
   "metadata": {},
   "source": [
    "Let's build the graph of all $(u,v)$ in successor_by_freq"
   ]
  },
  {
   "cell_type": "code",
   "execution_count": 15,
   "metadata": {},
   "outputs": [
    {
     "data": {
      "image/png": "[encoded data removed]",
      "text/plain": [
       "<Figure size 720x432 with 1 Axes>"
      ]
     },
     "metadata": {},
     "output_type": "display_data"
    },
    {
     "data": {
      "text/plain": [
       "{3.0: [('A', 'B'), ('A', 'C'), ('A', 'D'), ('B', 'C'), ('B', 'D'), ('C', 'D')],\n",
       " 1.0: [('A', 'A'),\n",
       "  ('B', 'A'),\n",
       "  ('B', 'B'),\n",
       "  ('C', 'A'),\n",
       "  ('C', 'B'),\n",
       "  ('C', 'C'),\n",
       "  ('D', 'A'),\n",
       "  ('D', 'B'),\n",
       "  ('D', 'C'),\n",
       "  ('D', 'D')]}"
      ]
     },
     "execution_count": 15,
     "metadata": {},
     "output_type": "execute_result"
    }
   ],
   "source": [
    "bigG = successorsGraph(succ_of_T)\n",
    "\n",
    "graph(bigG)\n",
    "succ_of_T"
   ]
  },
  {
   "cell_type": "markdown",
   "metadata": {},
   "source": [
    "Search cliques in the same frequency. But now, extracting the loops in each trace. Let's build a list of *G_freq[f]*"
   ]
  },
  {
   "cell_type": "code",
   "execution_count": 16,
   "metadata": {},
   "outputs": [],
   "source": [
    "# # Now with the complex T\n",
    "G_freq = successors_in_one_freq(succ_of_T) # { f: successors_graph(pairs, f) for f, pairs in succ_of_T.items() }"
   ]
  },
  {
   "cell_type": "markdown",
   "metadata": {},
   "source": [
    "Cliques in $G_{freq}$ are the set of vertex:"
   ]
  },
  {
   "cell_type": "code",
   "execution_count": 17,
   "metadata": {},
   "outputs": [
    {
     "data": {
      "text/plain": [
       "{3.0: [['A', 'D', 'C', 'B']], 1.0: [['A', 'D', 'C', 'B']]}"
      ]
     },
     "execution_count": 17,
     "metadata": {},
     "output_type": "execute_result"
    }
   ],
   "source": [
    "{ f: list(nx.algorithms.clique.find_cliques( G_freq[f].to_undirected() )) for f in G_freq.keys() }"
   ]
  },
  {
   "cell_type": "code",
   "execution_count": 18,
   "metadata": {},
   "outputs": [],
   "source": [
    "# Sort the cliques and apply the rules:\n",
    "# 1) The nodes of a single path in their equivalent pair has in_degree=0,1,2,...\n",
    "# 2) A path is composed for at least 2 nodes\n",
    "\n",
    "def infer_paths(G_freq, min_clique_size=2):\n",
    "\n",
    "    paths_f = {}\n",
    "    cliques_f = { f: list(nx.algorithms.clique.find_cliques( G_freq[f].to_undirected() )) for f in G_freq.keys() }\n",
    "    for f, cliques in cliques_f.items():\n",
    "        paths = []\n",
    "        for clique in cliques:\n",
    "            # From the original graph(f),\n",
    "            G_complete = G_freq[f].copy()\n",
    "            \n",
    "            # remove the nodes not in this clique \n",
    "            for node in set(G_complete.nodes).difference( set(clique) ):\n",
    "                G_complete.remove_node(node)\n",
    "                \n",
    "            # Order nodes by inner degree\n",
    "            nodes = sorted( G_complete.in_degree() , key=lambda p: p[1], reverse=False)\n",
    "\n",
    "            # - core - CRITERIA 1 and 2\n",
    "            # Strict checking: in_degree(n) in [0, ... , len(N)-1]\n",
    "            if len(nodes) >=min_clique_size and all( \n",
    "                [in_degree == i for i, (a, in_degree) in zip(range(0, len(nodes)), nodes)]\n",
    "            ):\n",
    "                    paths.append ( [ a for a, in_degree in nodes ] )\n",
    "        if paths:\n",
    "            paths_f[f] = paths\n",
    "    return paths_f"
   ]
  },
  {
   "cell_type": "markdown",
   "metadata": {},
   "source": [
    "Sort the cliques, let's assume that a path is composed for at least 2 nodes and apply the rule:\n",
    "\n",
    "**Claim (1)**: The nodes of a single path in their equivalent pair graph can be ordered by in_degree, starting at 0. $in\\_degree=0,1,2,...$ "
   ]
  },
  {
   "cell_type": "code",
   "execution_count": 19,
   "metadata": {},
   "outputs": [
    {
     "data": {
      "text/plain": [
       "{3.0: [['A', 'B', 'C', 'D']]}"
      ]
     },
     "execution_count": 19,
     "metadata": {},
     "output_type": "execute_result"
    }
   ],
   "source": [
    "infer_paths(G_freq)"
   ]
  },
  {
   "cell_type": "markdown",
   "metadata": {},
   "source": [
    "But see that the inferred paths appears duplicated and inverted. Let's introduce the **precedence graph** to retain who appears first in each trace. Given a single grace $t$, the $uniques(t)$ is obtained by adding each sequence symbol in $t$ if not already in $uniques(t)$.\n",
    "\n",
    "$t = pqrstqrstqr \\longrightarrow uniques(t) = pqrst$\n",
    "\n",
    "Clearly $uniques(t)$ defines a serial path, then the successors graph of $unique(t)$ can be used to retain the precedence. "
   ]
  },
  {
   "cell_type": "code",
   "execution_count": 20,
   "metadata": {},
   "outputs": [],
   "source": [
    "def unique_single_trace( T ):\n",
    "    uT = []\n",
    "    for s in T:\n",
    "        if s not in uT:\n",
    "            uT.append(s)\n",
    "    return uT\n",
    "    "
   ]
  },
  {
   "cell_type": "code",
   "execution_count": 21,
   "metadata": {},
   "outputs": [
    {
     "data": {
      "text/plain": [
       "['p', 'q', 'r', 's', 't']"
      ]
     },
     "execution_count": 21,
     "metadata": {},
     "output_type": "execute_result"
    }
   ],
   "source": [
    "unique_single_trace( list(\"pqrstqrstqr\") )"
   ]
  },
  {
   "cell_type": "code",
   "execution_count": 22,
   "metadata": {},
   "outputs": [
    {
     "data": {
      "text/plain": [
       "['A', 'B', 'C', 'D']"
      ]
     },
     "execution_count": 22,
     "metadata": {},
     "output_type": "execute_result"
    }
   ],
   "source": [
    "uniqueT = unique_single_trace( T[0] )\n",
    "uniqueT"
   ]
  },
  {
   "cell_type": "code",
   "execution_count": 23,
   "metadata": {},
   "outputs": [],
   "source": [
    "# uniqueG = successorsGraph( get_successor_by_freq(unique_single_trace( list(\"ABCACB\") )) )\n",
    "# graph(uniqueG)\n",
    "# get_successor_by_freq([unique_single_trace( list(\"ABCACB\") )])"
   ]
  },
  {
   "cell_type": "code",
   "execution_count": 24,
   "metadata": {},
   "outputs": [],
   "source": [
    "def split_in_freqGraph( successorsGraph ):\n",
    "    u_v_f = [ (u, v, successorsGraph[u][v][\"weight\"]) for u, v in successorsGraph.edges]\n",
    "    frqs = set([ f for u, v, f in u_v_f])\n",
    "    G={}\n",
    "    for f in frqs:\n",
    "        G[f] = successorsGraph.copy()\n",
    "        # Get all nodes whose pairs has weight!=f\n",
    "        for u, v, f2 in u_v_f:\n",
    "            if f != f2:\n",
    "                G[f].remove_edge(u,v)\n",
    "        # Remove \n",
    "    return G"
   ]
  },
  {
   "cell_type": "code",
   "execution_count": 25,
   "metadata": {},
   "outputs": [
    {
     "data": {
      "image/png": "[encoded data removed]",
      "text/plain": [
       "<Figure size 720x432 with 1 Axes>"
      ]
     },
     "metadata": {},
     "output_type": "display_data"
    },
    {
     "data": {
      "text/plain": [
       "{3.0: [['A', 'B', 'C', 'D']]}"
      ]
     },
     "execution_count": 25,
     "metadata": {},
     "output_type": "execute_result"
    }
   ],
   "source": [
    "# Now all together:\n",
    "T = [\n",
    "    list(\"ABCDABCD\"),\n",
    "]\n",
    "bigG = successorsGraph(  get_successor_by_freq(T)  )\n",
    "G_freq = split_in_freqGraph( bigG )\n",
    "\n",
    "# for f, G in G_freq.items():\n",
    "#     graph(G)\n",
    "graph(bigG)\n",
    "\n",
    "infer_paths(G_freq)"
   ]
  },
  {
   "cell_type": "code",
   "execution_count": 26,
   "metadata": {},
   "outputs": [
    {
     "data": {
      "image/png": "[encoded data removed]",
      "text/plain": [
       "<Figure size 720x432 with 1 Axes>"
      ]
     },
     "metadata": {},
     "output_type": "display_data"
    },
    {
     "data": {
      "image/png": "[encoded data removed]",
      "text/plain": [
       "<Figure size 720x432 with 1 Axes>"
      ]
     },
     "metadata": {},
     "output_type": "display_data"
    },
    {
     "data": {
      "text/plain": [
       "{1.0: [['a', 'b', 'c', 'd', 'e']]}"
      ]
     },
     "execution_count": 26,
     "metadata": {},
     "output_type": "execute_result"
    }
   ],
   "source": [
    "# Single path again, using the clique method\n",
    "T = [\n",
    "    list(\"abcde\")\n",
    "]\n",
    "bigG = successorsGraph(  get_successor_by_freq(T)  )\n",
    "\n",
    "naive_graph(T)\n",
    "graph(bigG)\n",
    "infer_paths(  split_in_freqGraph( bigG ) )"
   ]
  },
  {
   "cell_type": "markdown",
   "metadata": {},
   "source": [
    "## Multiple traces , no loop"
   ]
  },
  {
   "cell_type": "code",
   "execution_count": 27,
   "metadata": {},
   "outputs": [
    {
     "data": {
      "text/plain": [
       "{1.0: [['A', 'B', 'C'], ['1', '2', '3']]}"
      ]
     },
     "execution_count": 27,
     "metadata": {},
     "output_type": "execute_result"
    }
   ],
   "source": [
    "# Expected paths: ABC 123\n",
    "T = [\n",
    "    list(\"ABC123\"),\n",
    "    list(\"123ABC\"),    \n",
    "]\n",
    "bigG = successorsGraph(  get_successor_by_freq(T)  )\n",
    "infer_paths( split_in_freqGraph( bigG ) )"
   ]
  },
  {
   "cell_type": "code",
   "execution_count": 28,
   "metadata": {},
   "outputs": [
    {
     "data": {
      "text/plain": [
       "{0.44: [['A', 'B', 'C']], 1.0: [['1', '2', '3']]}"
      ]
     },
     "execution_count": 28,
     "metadata": {},
     "output_type": "execute_result"
    }
   ],
   "source": [
    "# Expected paths: ABC 123\n",
    "T = [\n",
    "    list(\"ABC123\"), list(\"ABC123\"),\n",
    "    list(\"123ABC\"), list(\"123ABC\"),\n",
    "    list(\"123\"), list(\"123\"), list(\"123\"), list(\"123\"), list(\"123\"), \n",
    "]\n",
    "bigG = successorsGraph(  get_successor_by_freq(T)  )\n",
    "infer_paths( split_in_freqGraph( bigG ) )"
   ]
  },
  {
   "cell_type": "markdown",
   "metadata": {},
   "source": [
    "### No-regret restricion"
   ]
  },
  {
   "cell_type": "markdown",
   "metadata": {},
   "source": [
    "I have to understand why. But my method has the restriction that if path $P = p_1p_2...p_N$ is in the set of traces, then the backwards $P' = p_N..p_2p_1$ is not allowed to be.\n",
    "\n",
    "This could be a limitation if the logs describes roll-out roll-in actions, as:\n",
    "\n",
    "1. Check key\n",
    "1. Open Door\n",
    "1. Check lights\n",
    "1. Turno on light\n",
    "1. Check table\n",
    "1. Tidy up\n"
   ]
  },
  {
   "cell_type": "code",
   "execution_count": 29,
   "metadata": {},
   "outputs": [
    {
     "data": {
      "text/plain": [
       "{}"
      ]
     },
     "execution_count": 29,
     "metadata": {},
     "output_type": "execute_result"
    }
   ],
   "source": [
    "# Expected paths: I don't know! This example is interesting.\n",
    "T = [ list(\"ABCDDCBA\") ]\n",
    "bigG = successorsGraph(  get_successor_by_freq(T)  )\n",
    "infer_paths( split_in_freqGraph( bigG ) )"
   ]
  },
  {
   "cell_type": "code",
   "execution_count": 30,
   "metadata": {},
   "outputs": [
    {
     "data": {
      "text/plain": [
       "{}"
      ]
     },
     "execution_count": 30,
     "metadata": {},
     "output_type": "execute_result"
    }
   ],
   "source": [
    "# Expected paths: I don't know! This example is interesting.\n",
    "T = [ list(\"ABCD\"),\n",
    "     list(\"DCBA\") \n",
    "]\n",
    "bigG = successorsGraph(  get_successor_by_freq(T)  )\n",
    "infer_paths( split_in_freqGraph( bigG ) )"
   ]
  },
  {
   "cell_type": "markdown",
   "metadata": {},
   "source": [
    "## Simple Loops"
   ]
  },
  {
   "cell_type": "code",
   "execution_count": 31,
   "metadata": {},
   "outputs": [
    {
     "data": {
      "image/png": "[encoded data removed]",
      "text/plain": [
       "<Figure size 720x432 with 1 Axes>"
      ]
     },
     "metadata": {},
     "output_type": "display_data"
    },
    {
     "data": {
      "text/plain": [
       "{3.0: [['A', 'B', 'C']]}"
      ]
     },
     "execution_count": 31,
     "metadata": {},
     "output_type": "execute_result"
    }
   ],
   "source": [
    "# Expected Loops: ABC\n",
    "T = [\n",
    "    list(\"ABCABC\")\n",
    "]\n",
    "bigG = successorsGraph(  get_successor_by_freq(T)  )\n",
    "naive_graph(T)\n",
    "paths = infer_paths( split_in_freqGraph( bigG ) )\n",
    "paths"
   ]
  },
  {
   "cell_type": "markdown",
   "metadata": {},
   "source": [
    "Claim (2): If the nodes $V$ makes a loop in a pairs graph $G$ then $| freq(AB) - freq(BA) | = 1$, $\\forall A,B \\in V(G)$ (2)\n",
    "```\n",
    "    ABC ABC ..  ABC ABC = N\n",
    "    \n",
    "    AB  AB  ..  AB  AB  = N\n",
    "     \\  / \\     / \\ / \n",
    "     B--A  B..--A B-A   = N-1\n",
    "\n",
    "    A-C A-C ..  A-C A-C = N\n",
    "      \\ / \\     / \\ /   \n",
    "      C-A C-..--A C-A   = N-1\n",
    "```"
   ]
  },
  {
   "cell_type": "code",
   "execution_count": 32,
   "metadata": {},
   "outputs": [],
   "source": [
    "# Nodes part of a loop\n",
    "# Search all n in bigG such that\n",
    "# | freq(AB) - freq(BA) | = 1 \\forall A,B \\in V(G)\n",
    "\n",
    "def is_a_loop_criteria(u, v, bigG):\n",
    "    return \\\n",
    "        (u,v) in bigG.edges \\\n",
    "        and (v,u) in bigG.edges \\\n",
    "        and  1 == abs( bigG.edges[u,v]['weight'] - bigG.edges[v,u]['weight'] )\n",
    "\n",
    "    \n",
    "def loops_from_G( bigG, verbose=False ):\n",
    "    loops = set()\n",
    "    for u in bigG.nodes:\n",
    "        for v in bigG.nodes - u:\n",
    "            if is_a_loop_criteria(u,v,bigG):\n",
    "                loops.add(u)\n",
    "                loops.add(v)\n",
    "    return loops"
   ]
  },
  {
   "cell_type": "code",
   "execution_count": 33,
   "metadata": {},
   "outputs": [
    {
     "data": {
      "text/plain": [
       "set()"
      ]
     },
     "execution_count": 33,
     "metadata": {},
     "output_type": "execute_result"
    }
   ],
   "source": [
    "# Let's see. \n",
    "loops_from_G(bigG, verbose=True)"
   ]
  },
  {
   "cell_type": "code",
   "execution_count": 34,
   "metadata": {},
   "outputs": [
    {
     "data": {
      "image/png": "[encoded data removed]",
      "text/plain": [
       "<Figure size 720x432 with 1 Axes>"
      ]
     },
     "metadata": {},
     "output_type": "display_data"
    },
    {
     "data": {
      "text/plain": [
       "{3.0: [['A', 'B', 'C'], ['1', '2', '3']],\n",
       " 4.0: [['A', '3'],\n",
       "  ['A', '2'],\n",
       "  ['A', '1'],\n",
       "  ['C', '3'],\n",
       "  ['C', '2'],\n",
       "  ['C', '1'],\n",
       "  ['B', '3'],\n",
       "  ['B', '2'],\n",
       "  ['B', '1']]}"
      ]
     },
     "execution_count": 34,
     "metadata": {},
     "output_type": "execute_result"
    }
   ],
   "source": [
    "# Expected Loops: ABC 123\n",
    "T = [\n",
    "    list(\"ABCABC123123\")\n",
    "]\n",
    "bigG = successorsGraph(  get_successor_by_freq(T)  )\n",
    "naive_graph(T)\n",
    "paths = infer_paths( split_in_freqGraph( bigG ) )\n",
    "paths"
   ]
  },
  {
   "cell_type": "code",
   "execution_count": 35,
   "metadata": {},
   "outputs": [
    {
     "data": {
      "text/plain": [
       "set()"
      ]
     },
     "execution_count": 35,
     "metadata": {},
     "output_type": "execute_result"
    }
   ],
   "source": [
    "loops_from_G(bigG, verbose=True)"
   ]
  },
  {
   "cell_type": "markdown",
   "metadata": {},
   "source": [
    "## Tested examples"
   ]
  },
  {
   "cell_type": "code",
   "execution_count": 36,
   "metadata": {},
   "outputs": [],
   "source": [
    "def evaluate_against (T, expected_paths):\n",
    "    paths = infer_paths( split_in_freqGraph( successorsGraph(  get_successor_by_freq(T)  ) ) )\n",
    "    good = []\n",
    "    bad = []\n",
    "    expected = [ list(a) for a in expected_paths ]\n",
    "    for f, paths in paths.items():\n",
    "        for p in paths:\n",
    "#             print(paths)\n",
    "            if p in expected:\n",
    "                good.append(\"\".join(p))\n",
    "            else:\n",
    "                bad.append(\"\".join(p))\n",
    "            \n",
    "    if len(expected_paths) != len(good):\n",
    "        print(), print()\n",
    "        print(\"WARNING HERE! OJO AQUI!\")\n",
    "        print(), print()\n",
    "    print(\"These %s paths were correctly detected (%s undetected):\" % (len(good), len(expected_paths)-len(good)))\n",
    "    print(good)\n",
    "    print()\n",
    "    \n",
    "    print(\"These %s paths are spurious:\" % len(bad))\n",
    "    print (bad)\n",
    "    return good, bad"
   ]
  },
  {
   "cell_type": "markdown",
   "metadata": {},
   "source": [
    "### Simple Loop Examples"
   ]
  },
  {
   "cell_type": "code",
   "execution_count": 37,
   "metadata": {},
   "outputs": [
    {
     "name": "stdout",
     "output_type": "stream",
     "text": [
      "These 1 paths were correctly detected (0 undetected):\n",
      "['ABCD']\n",
      "\n",
      "These 0 paths are spurious:\n",
      "[]\n"
     ]
    }
   ],
   "source": [
    "T = [\n",
    "    list(\"ABCDABCD\"),\n",
    "]\n",
    "g, b = evaluate_against(T, [\"ABCD\"] )"
   ]
  },
  {
   "cell_type": "code",
   "execution_count": 38,
   "metadata": {},
   "outputs": [
    {
     "name": "stdout",
     "output_type": "stream",
     "text": [
      "These 2 paths were correctly detected (0 undetected):\n",
      "['ABCD', '12345']\n",
      "\n",
      "These 0 paths are spurious:\n",
      "[]\n"
     ]
    }
   ],
   "source": [
    "T = [\n",
    "    list(\"ABCDABCD\"),\n",
    "    list(\"1234512345\"),\n",
    "    list(\"12345\")\n",
    "]\n",
    "g, b = evaluate_against(T, [\"ABCD\", \"12345\"] )"
   ]
  },
  {
   "cell_type": "markdown",
   "metadata": {},
   "source": [
    "### Complex Loop Examples"
   ]
  },
  {
   "cell_type": "code",
   "execution_count": 40,
   "metadata": {},
   "outputs": [
    {
     "name": "stdout",
     "output_type": "stream",
     "text": [
      "These 2 paths were correctly detected (0 undetected):\n",
      "['123', 'ABC']\n",
      "\n",
      "These 9 paths are spurious:\n",
      "['A3', 'A2', 'A1', 'C3', 'C2', 'C1', 'B3', 'B2', 'B1']\n"
     ]
    }
   ],
   "source": [
    "# Type 76\n",
    "T = [\n",
    "    list(\"ABCABCABC123123123123\")\n",
    "]\n",
    "g, b = evaluate_against(T, (\"ABC\", \"123\") )"
   ]
  },
  {
   "cell_type": "markdown",
   "metadata": {},
   "source": [
    "## Still Failing. Still..."
   ]
  },
  {
   "cell_type": "code",
   "execution_count": 48,
   "metadata": {},
   "outputs": [
    {
     "name": "stdout",
     "output_type": "stream",
     "text": [
      "\n",
      "\n",
      "WARNING HERE! OJO AQUI!\n",
      "\n",
      "\n",
      "These 2 paths were correctly detected (1 undetected):\n",
      "['def', 'hjk']\n",
      "\n",
      "These 6 paths are spurious:\n",
      "['dFG', 'eFG', 'fFG', 'hFG', 'jFG', 'kFG']\n"
     ]
    }
   ],
   "source": [
    "\"\"\"\n",
    "  @def \n",
    "       > FG \n",
    "  @hjk \n",
    "\"\"\"        \n",
    "T = [\n",
    "    list(\"defdefFG\"),\n",
    "    list(\"hjkhjkFG\")\n",
    "]\n",
    "g, b = evaluate_against(T, (\"hjk\", \"def\", \"FG\") )"
   ]
  },
  {
   "cell_type": "code",
   "execution_count": 49,
   "metadata": {},
   "outputs": [
    {
     "name": "stdout",
     "output_type": "stream",
     "text": [
      "\n",
      "\n",
      "WARNING HERE! OJO AQUI!\n",
      "\n",
      "\n",
      "These 1 paths were correctly detected (2 undetected):\n",
      "['12345FG']\n",
      "\n",
      "These 14 paths are spurious:\n",
      "['defG', '2def', '3def', '5def', '1def', 'defF', '4def', 'hjklG', '2hjkl', '3hjkl', '5hjkl', '1hjkl', 'hjklF', '4hjkl']\n"
     ]
    }
   ],
   "source": [
    "\"\"\"\n",
    "          hjk\n",
    "  12345 <     > FG\n",
    "          def \n",
    "\"\"\"\n",
    "T = [\n",
    "    list(\"12345defFG\"),\n",
    "    list(\"12345hjklFG\")\n",
    "]\n",
    "g, b = evaluate_against(T, (\"12345FG\", \"hjkl\", \"def\") )"
   ]
  },
  {
   "cell_type": "code",
   "execution_count": 50,
   "metadata": {},
   "outputs": [
    {
     "name": "stdout",
     "output_type": "stream",
     "text": [
      "\n",
      "\n",
      "WARNING HERE! OJO AQUI!\n",
      "\n",
      "\n",
      "These 2 paths were correctly detected (2 undetected):\n",
      "['def', 'hjk']\n",
      "\n",
      "These 6 paths are spurious:\n",
      "['12345dFG', '12345eFG', '12345fFG', '12345kFG', '12345hFG', '12345jFG']\n"
     ]
    }
   ],
   "source": [
    "\"\"\"\n",
    "          @hjk\n",
    "  12345 <      > FG\n",
    "          @def \n",
    "\"\"\"\n",
    "T = [\n",
    "    list(\"12345defdefFG\"),\n",
    "    list(\"12345hjkhjkFG\")\n",
    "]\n",
    "g, b = evaluate_against(T, [\"12345\", \"hjk\", \"def\", \"FG\"] )"
   ]
  },
  {
   "cell_type": "code",
   "execution_count": 51,
   "metadata": {},
   "outputs": [
    {
     "name": "stdout",
     "output_type": "stream",
     "text": [
      "\n",
      "\n",
      "WARNING HERE! OJO AQUI!\n",
      "\n",
      "\n",
      "These 3 paths were correctly detected (3 undetected):\n",
      "['FG', 'hjk', 'def']\n",
      "\n",
      "These 42 paths are spurious:\n",
      "['12A', '12G', '12F', '12B', '12C', 'hG', 'hF', 'jG', 'jF', 'kG', 'kF', '2d', '2f', '2e', '1d', '1f', '1e', 'ABCG', 'ABCF', 'Ad', 'dG', 'dF', 'Bd', 'Cd', 'Ae', 'eG', 'eF', 'Be', 'Ce', 'Af', 'fG', 'fF', 'Bf', 'Cf', '34A', '34G', '34d', '34e', '34F', '34f', '34B', '34C']\n"
     ]
    }
   ],
   "source": [
    "# loop_inside = @hjk | ( (12 | 34) - ABC - @def - FG) )\n",
    "\"\"\"\n",
    "                     \n",
    "  @hjk ----------- \n",
    "                  \\\n",
    "   12               > FG\n",
    "       > ABC - @def \n",
    "   34 \n",
    "        \n",
    "\"\"\"\n",
    "T = [\n",
    "    list(\"12ABCdefdefFG\"),\n",
    "    list(\"12ABCdefdefdefFG\"),\n",
    "    list(\"34ABCdefFG\"),\n",
    "    list(\"hjkhjkFG\")\n",
    "]\n",
    "g, b = evaluate_against(T, (\"ABC\", \"34\", \"12\", \"hjk\", \"def\", \"FG\") )"
   ]
  },
  {
   "cell_type": "code",
   "execution_count": 52,
   "metadata": {},
   "outputs": [
    {
     "name": "stdout",
     "output_type": "stream",
     "text": [
      "\n",
      "\n",
      "WARNING HERE! OJO AQUI!\n",
      "\n",
      "\n",
      "These 2 paths were correctly detected (3 undetected):\n",
      "['def', 'xyz']\n",
      "\n",
      "These 76 paths are spurious:\n",
      "['dG', '2d', '3d', '5d', '1d', 'dF', '4d', 'eG', '2e', '3e', '5e', '1e', 'eF', '4e', 'fG', '2f', '3f', '5f', '1f', 'fF', '4f', '12345FG', 'zG', '2z', '3z', '5z', '1z', 'zF', 'zhjk', '4z', 'xG', '2x', '3x', '5x', '1x', 'xF', 'xhjk', '4x', 'yG', '2y', '3y', '5y', '1y', 'yF', 'yhjk', '4y', 'dx', 'dz', 'dy', 'ex', 'ez', 'ey', 'fz', 'fx', 'fy', 'hG', '2h', '3h', '5h', '1h', 'hF', '4h', 'kG', '2k', '3k', '5k', '1k', 'kF', '4k', 'jG', '2j', '3j', '5j', '1j', 'jF', '4j']\n"
     ]
    }
   ],
   "source": [
    "\"\"\"\n",
    "          @hjk\n",
    "  12345 <      > FG\n",
    "          @def \n",
    "          @xyz\n",
    "\"\"\"\n",
    "T = [\n",
    "    list(\"12345defdefxyzxyzFG\"),\n",
    "    list(\"12345xyzxyzhjkhjkFG\"),\n",
    "    list(\"12345hjkxyzxyzhjkFG\"),\n",
    "\n",
    "]\n",
    "g, b = evaluate_against(T, [\"12345\", \"hjk\", \"def\", \"xyz\", \"FG\"] )"
   ]
  },
  {
   "cell_type": "code",
   "execution_count": null,
   "metadata": {},
   "outputs": [],
   "source": []
  }
 ],
 "metadata": {
  "kernelspec": {
   "display_name": "Python 3",
   "language": "python",
   "name": "python3"
  },
  "language_info": {
   "codemirror_mode": {
    "name": "ipython",
    "version": 3
   },
   "file_extension": ".py",
   "mimetype": "text/x-python",
   "name": "python",
   "nbconvert_exporter": "python",
   "pygments_lexer": "ipython3",
   "version": "3.7.5"
  }
 },
 "nbformat": 4,
 "nbformat_minor": 4
}
