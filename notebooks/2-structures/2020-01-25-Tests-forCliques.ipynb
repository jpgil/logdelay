{
 "cells": [
  {
   "cell_type": "markdown",
   "metadata": {},
   "source": [
    "# Test Battery for Clique Detection"
   ]
  },
  {
   "cell_type": "code",
   "execution_count": 10,
   "metadata": {},
   "outputs": [],
   "source": [
    "# Parameters\n",
    "METHOD_ID=\"2020-01-24 all pairs\""
   ]
  },
  {
   "cell_type": "code",
   "execution_count": 11,
   "metadata": {},
   "outputs": [],
   "source": [
    "%load_ext autoreload\n",
    "%autoreload 2\n",
    "\n",
    "import networkx as nx\n",
    "# import scipy\n",
    "import matplotlib.pyplot as plt"
   ]
  },
  {
   "cell_type": "code",
   "execution_count": 35,
   "metadata": {},
   "outputs": [],
   "source": [
    "def evaluate_against (T, expected_paths):\n",
    "    if METHOD_ID==\"2020-01-24 all pairs\":\n",
    "        paths = infer_paths( split_in_freqGraph( successorsGraph(  get_successor_by_freq(T)  ) ) )\n",
    "    else:\n",
    "        raise ValueError(\"Not valid METHOD_ID\")\n",
    "    good = []\n",
    "    bad = []\n",
    "    expected = [ list(a) for a in expected_paths ]\n",
    "    for f, paths in paths.items():\n",
    "        for p in paths:\n",
    "#             print(paths)\n",
    "            if p in expected:\n",
    "                good.append(\"\".join(p))\n",
    "            else:\n",
    "                bad.append(\"\".join(p))\n",
    "            \n",
    "    if len(expected_paths) != len(good):\n",
    "        print(), print()\n",
    "        print(\"WARNING HERE! OJO AQUI!\")\n",
    "        print(), print()\n",
    "    print(\"These %s paths were correctly detected (%s undetected):\" % (len(good), len(expected_paths)-len(good)))\n",
    "    print(good)\n",
    "    print()\n",
    "    \n",
    "    print(\"These %s paths are spurious:\" % len(bad))\n",
    "    print (bad)\n",
    "    return good, bad"
   ]
  },
  {
   "cell_type": "code",
   "execution_count": 13,
   "metadata": {},
   "outputs": [],
   "source": [
    "def graph(G, color=\"#cccccc\", with_weigths=True):\n",
    "    pos = nx.circular_layout(G)\n",
    "    plt.rcParams['figure.figsize'] = [10, 6]\n",
    "    plt.subplot(111)\n",
    "\n",
    "    nx.draw_networkx (G, pos, width=1, node_color=color, with_labels=True, connectionstyle='arc3, rad=0.03' )\n",
    "    if with_weigths:\n",
    "        weights = { (str(u), str(v)): G[u][v]['weight'] for u,v in G.edges() }\n",
    "        nx.draw_networkx_edge_labels(G, pos=pos, edge_labels=weights)\n",
    "    plt.show()"
   ]
  },
  {
   "cell_type": "code",
   "execution_count": 14,
   "metadata": {},
   "outputs": [],
   "source": [
    "def get_successor_by_freq( traces ):\n",
    "    \"\"\"\n",
    "    Get successor pairs in every T in traces, and combine them by frequency of appearance.\n",
    "    \n",
    "    >>> T = [ list(\"ABC\"), list(\"ABCABC\") ]\n",
    "    >>> get_successor_pairs_by_freq(T)\n",
    "    {('A', 'B'): 3, ('A', 'C'): 3, ('B', 'C'): 3, ('B', 'A'): 1, ('C', 'A'): 1, ('C', 'B'): 1}\n",
    "    \"\"\"\n",
    "    pairs_with_freq = {}\n",
    "    L = float(len(traces))\n",
    "\n",
    "    for trace in traces:\n",
    "        for pair in get_successor_pairs(trace):\n",
    "            if pair in pairs_with_freq.keys():\n",
    "                pairs_with_freq[pair] = pairs_with_freq[pair] + 1.0/L\n",
    "            else:\n",
    "                pairs_with_freq[pair] = 1.0/L\n",
    "            \n",
    "    By_freq = {}\n",
    "    for (u, v), freq in pairs_with_freq.items():\n",
    "        f = round(freq,2)\n",
    "        if f in By_freq.keys():\n",
    "            By_freq[f].append( (u,v) )\n",
    "        else:\n",
    "            By_freq[f] =[ (u,v) ]\n",
    "    return By_freq"
   ]
  },
  {
   "cell_type": "code",
   "execution_count": 15,
   "metadata": {},
   "outputs": [],
   "source": [
    "def successorsGraph(successor_by_freq):\n",
    "    G=nx.DiGraph()\n",
    "    for f, pairs in successor_by_freq.items():\n",
    "        for u, v in pairs:\n",
    "            G.add_edge(u, v, weight=f)\n",
    "    return G"
   ]
  },
  {
   "cell_type": "code",
   "execution_count": 16,
   "metadata": {},
   "outputs": [],
   "source": [
    "# Sort the cliques and apply the rules:\n",
    "# 1) The nodes of a single path in their equivalent pair has in_degree=0,1,2,...\n",
    "# 2) A path is composed for at least 2 nodes\n",
    "\n",
    "def infer_paths(G_freq, min_clique_size=2):\n",
    "\n",
    "    paths_f = {}\n",
    "    cliques_f = { f: list(nx.algorithms.clique.find_cliques( G_freq[f].to_undirected() )) for f in G_freq.keys() }\n",
    "    for f, cliques in cliques_f.items():\n",
    "        paths = []\n",
    "        for clique in cliques:\n",
    "            # From the original graph(f),\n",
    "            G_complete = G_freq[f].copy()\n",
    "            \n",
    "            # remove the nodes not in this clique \n",
    "            for node in set(G_complete.nodes).difference( set(clique) ):\n",
    "                G_complete.remove_node(node)\n",
    "                \n",
    "            # Order nodes by inner degree\n",
    "            nodes = sorted( G_complete.in_degree() , key=lambda p: p[1], reverse=False)\n",
    "\n",
    "            # - core - CRITERIA 1 and 2\n",
    "            # Strict checking: in_degree(n) in [0, ... , len(N)-1]\n",
    "            if len(nodes) >=min_clique_size and all( \n",
    "                [in_degree == i for i, (a, in_degree) in zip(range(0, len(nodes)), nodes)]\n",
    "            ):\n",
    "                    paths.append ( [ a for a, in_degree in nodes ] )\n",
    "        if paths:\n",
    "            paths_f[f] = paths\n",
    "    return paths_f"
   ]
  },
  {
   "cell_type": "code",
   "execution_count": 17,
   "metadata": {},
   "outputs": [],
   "source": [
    "# Including Modifications by Andres (20200124)\n",
    "def get_successor_pairs( T_prime ):\n",
    "    \"\"\"\n",
    "    Get near successor pairs\n",
    "    \n",
    "    Given the trace $T' = s_1 ... s_L$\n",
    "    For every $1 <= i <= L$ find the maximal subtrace starting at $i$\n",
    "    $T_i_j = s_i ... s_j$ such that $s_i \\ne s_k$ for all $i < k <= j$\n",
    "    \n",
    "    Return the concatenation for all $T_i_j$\n",
    "    [ (s_i, s_k) ] for all s_i \\in T_i_j, s_k \\in T_i_j for all i < k <= j\n",
    "    \n",
    "    ADDED 2020-01-23:\n",
    "    Que no se repitan!\n",
    "\n",
    "    \n",
    "    >>> get_successor_pairs(list(\"ABCD\"))\n",
    "    [('A', 'B'), ('A', 'C'), ('A', 'D'), ('B', 'C'), ('B', 'D'), ('C', 'D')]\n",
    "    \"\"\"\n",
    "    pairs = []\n",
    "    for i in range(0, len(T_prime)-1):\n",
    "\n",
    "\n",
    "        partial_subtrace = T_prime[i:]\n",
    "\n",
    "        s_i = partial_subtrace.pop(0)\n",
    "        L = len(partial_subtrace)\n",
    "\n",
    "        # Find first first j such s_i == s_j, or L if not exists\n",
    "        if s_i in partial_subtrace:\n",
    "            j = partial_subtrace.index(s_i)\n",
    "        else:\n",
    "            j = L\n",
    "\n",
    "        # This is the subtrace T_i_j, the maximal that not contains s1\n",
    "        # (Actually, it not contains s_i)\n",
    "#         T_i_j=partial_subtrace[:j] # 2020-01-20 Old BEHAVIOR\n",
    "        T_i_j=partial_subtrace[:L] # Andres 20200124 .. all friends with all, including loops\n",
    "        \n",
    "        T_i_j_pairs = [] # 2020-01-23 BEHAVIOR ... but not remove, it doesn't affect\n",
    "\n",
    "        # Construct all s_i, s_k , i < k <= j\n",
    "        for s_k in T_i_j:\n",
    "            e = (s_i, s_k)\n",
    "\n",
    "            pairs.append(e)       # 2020-01-20 Old BEHAVIOR\n",
    "            \n",
    "#             if e not in T_i_j_pairs:  # 2020-01-23 BEHAVIOR\n",
    "#                 T_i_j_pairs.append(e) # 2020-01-23 BEHAVIOR\n",
    "#         pairs += T_i_j_pairs          # 2020-01-23 BEHAVIOR\n",
    "            \n",
    "            \n",
    "            # Added 2020-01-18: global star / end\n",
    "#             if ADD_START_END:\n",
    "#                 pairs.append( (\"_START_\", s_i) )\n",
    "#                 pairs.append(( s_k, \"_END_\") )\n",
    "\n",
    "\n",
    "    return pairs"
   ]
  },
  {
   "cell_type": "code",
   "execution_count": 18,
   "metadata": {},
   "outputs": [],
   "source": [
    "def split_in_freqGraph( successorsGraph ):\n",
    "    u_v_f = [ (u, v, successorsGraph[u][v][\"weight\"]) for u, v in successorsGraph.edges]\n",
    "    frqs = set([ f for u, v, f in u_v_f])\n",
    "    G={}\n",
    "    for f in frqs:\n",
    "        G[f] = successorsGraph.copy()\n",
    "        # Get all nodes whose pairs has weight!=f\n",
    "        for u, v, f2 in u_v_f:\n",
    "            if f != f2:\n",
    "                G[f].remove_edge(u,v)\n",
    "        # Remove \n",
    "    return G"
   ]
  },
  {
   "cell_type": "markdown",
   "metadata": {},
   "source": [
    "## Tested examples"
   ]
  },
  {
   "cell_type": "markdown",
   "metadata": {},
   "source": [
    "### Simple Loop Examples"
   ]
  },
  {
   "cell_type": "code",
   "execution_count": 41,
   "metadata": {},
   "outputs": [
    {
     "name": "stdout",
     "output_type": "stream",
     "text": [
      "These 1 paths were correctly detected (0 undetected):\n",
      "['ABCD']\n",
      "\n",
      "These 0 paths are spurious:\n",
      "[]\n"
     ]
    }
   ],
   "source": [
    "T = [\n",
    "    list(\"ABCDABCD\"),\n",
    "]\n",
    "g, b = evaluate_against(T, [\"ABCD\"] )"
   ]
  },
  {
   "cell_type": "code",
   "execution_count": 42,
   "metadata": {},
   "outputs": [
    {
     "name": "stdout",
     "output_type": "stream",
     "text": [
      "These 2 paths were correctly detected (0 undetected):\n",
      "['ABCD', '12345']\n",
      "\n",
      "These 0 paths are spurious:\n",
      "[]\n"
     ]
    }
   ],
   "source": [
    "T = [\n",
    "    list(\"ABCDABCD\"),\n",
    "    list(\"1234512345\"),\n",
    "    list(\"12345\")\n",
    "]\n",
    "g, b = evaluate_against(T, [\"ABCD\", \"12345\"] )"
   ]
  },
  {
   "cell_type": "markdown",
   "metadata": {},
   "source": [
    "### Complex Loop Examples"
   ]
  },
  {
   "cell_type": "code",
   "execution_count": 43,
   "metadata": {},
   "outputs": [
    {
     "name": "stdout",
     "output_type": "stream",
     "text": [
      "These 3 paths were correctly detected (0 undetected):\n",
      "['zxcv', 'ABC', '123']\n",
      "\n",
      "These 12 paths are spurious:\n",
      "['A1', '2B', 'C3', 'C2', '1A', 'B2', '3C', '2C', 'AB3', 'A23', '1BC', '1B3']\n"
     ]
    }
   ],
   "source": [
    "# Type 75\n",
    "T = [\n",
    "    list(\"A1B23C1A2B3C1ABC23zxcv\"),\n",
    "]\n",
    "g, b = evaluate_against(T, (\"ABC\", \"123\", \"zxcv\") )"
   ]
  },
  {
   "cell_type": "code",
   "execution_count": 44,
   "metadata": {},
   "outputs": [
    {
     "name": "stdout",
     "output_type": "stream",
     "text": [
      "These 2 paths were correctly detected (0 undetected):\n",
      "['123', 'ABC']\n",
      "\n",
      "These 9 paths are spurious:\n",
      "['B1', 'B3', 'B2', 'C1', 'C3', 'C2', 'A1', 'A3', 'A2']\n"
     ]
    }
   ],
   "source": [
    "# Type 76\n",
    "T = [\n",
    "    list(\"ABCABCABC123123123123\")\n",
    "]\n",
    "g, b = evaluate_against(T, (\"ABC\", \"123\") )"
   ]
  },
  {
   "cell_type": "code",
   "execution_count": 45,
   "metadata": {},
   "outputs": [
    {
     "name": "stdout",
     "output_type": "stream",
     "text": [
      "These 2 paths were correctly detected (0 undetected):\n",
      "['ABC', '123']\n",
      "\n",
      "These 0 paths are spurious:\n",
      "[]\n"
     ]
    }
   ],
   "source": [
    "# Type 76-b\n",
    "T = [\n",
    "    list(\"ABCABCABC\"),\n",
    "    list(\"123123123123\")\n",
    "]\n",
    "g, b = evaluate_against(T, (\"ABC\", \"123\") )"
   ]
  },
  {
   "cell_type": "code",
   "execution_count": 46,
   "metadata": {},
   "outputs": [
    {
     "name": "stdout",
     "output_type": "stream",
     "text": [
      "These 3 paths were correctly detected (0 undetected):\n",
      "['abcdefghijklmnopqrstuvwxyz', '123', 'ABC']\n",
      "\n",
      "These 126 paths are spurious:\n",
      "['An', 'Ao', 'fA', 'cA', 'Al', 'iA', 'hA', 'Ap', 'Aj', 'Am', 'Ak', 'gA', 'eA', 'Ar', 'bA', 'Aq', 'As', 'dA', 'At', '1n', 'g1', '1i', '1r', 'h1', '1o', '1q', '1p', '1j', '1s', 'd1', 'e1', '1t', '1m', 'f1', '1k', 'c1', '1l', 'Bn', 'Bo', 'fB', 'cB', 'Bl', 'iB', 'hB', 'Bp', 'jB', 'Bm', 'kB', 'Bu', 'gB', 'eB', 'Br', 'Bq', 'Bs', 'dB', 'Bt', 'nC', 'gC', 'iC', 'Cr', 'hC', 'oC', 'qC', 'kC', 'pC', 'jC', 'Cs', 'eC', 'Ct', 'mC', 'fC', 'Cu', 'lC', 'd2', '2n', 'g2', 'i2', '2r', 'h2', '2o', '2q', 'k2', '2p', 'j2', '2s', 'e2', '2t', '2m', 'f2', '2u', 'c2', '2l', '3v', 'n3', 'g3', 'o3', 'e3', 'f3', '3x', 'k3', 'l3', '3z', '3y', 'i3', '3r', 'h3', '3q', 'p3', 'j3', '3s', '3t', 'm3', '3u', '3w', 'A1', '2B', 'C2', 'C3', '1A', 'B2', '2C', '3C', '1BC', '1B3', 'AB3', 'A23']\n"
     ]
    }
   ],
   "source": [
    "# Type 77\n",
    "T = [\n",
    "    list(\"aAb1B2cd3Cefgh1iAjk2Blmnop3qCrst1AuBC2vwxyz3\"),\n",
    "]\n",
    "g, b = evaluate_against(T, (\"ABC\", \"123\", \"abcdefghijklmnopqrstuvwxyz\") )"
   ]
  },
  {
   "cell_type": "code",
   "execution_count": 47,
   "metadata": {},
   "outputs": [
    {
     "name": "stdout",
     "output_type": "stream",
     "text": [
      "These 2 paths were correctly detected (0 undetected):\n",
      "['123', 'ABC']\n",
      "\n",
      "These 24 paths are spurious:\n",
      "['3A', '2A', 'B1', 'C1', '3B', 'C2', 'A3', 'A2', '1B', '1C', 'B3', '2C', '.1', '3.', '.2', '.A', '2.', '.3', '1.', '.B', 'C.', '.C', 'B.', 'A.']\n"
     ]
    }
   ],
   "source": [
    "# Type 78\n",
    "T = [\n",
    "    list(\".1A.B2.C3..ABC...A1..2B..3C.\")\n",
    "]\n",
    "g, b = evaluate_against(T, (\"ABC\", \"123\") )"
   ]
  },
  {
   "cell_type": "markdown",
   "metadata": {},
   "source": [
    "Claim: all paths (cliques) forming a base are loops. Starting from max(f) -> min(f)."
   ]
  },
  {
   "cell_type": "markdown",
   "metadata": {},
   "source": [
    "### Examples from previous notebooks"
   ]
  },
  {
   "cell_type": "code",
   "execution_count": 48,
   "metadata": {},
   "outputs": [
    {
     "name": "stdout",
     "output_type": "stream",
     "text": [
      "These 3 paths were correctly detected (0 undetected):\n",
      "['lk', 'ABCDE', '12']\n",
      "\n",
      "These 24 paths are spurious:\n",
      "['k1', 'l1', 'k2', 'l2', '1A', '1B', '1E', '1C', '1D', 'kA', 'kB', 'kE', 'kC', 'kD', 'lA', 'lB', 'lE', 'lC', 'lD', '2A', '2B', '2E', '2C', '2D']\n"
     ]
    }
   ],
   "source": [
    "# combined_loops: lk 12 ABCDE\n",
    "T = [\n",
    "    list(\"lklk1212ABCDEABCDEABCDE1212\"),\n",
    "    list(\"lk12ABCDEABCDE\"),\n",
    "    list(\"lk12ABCDE\"),\n",
    "]\n",
    "g, b = evaluate_against(T, (\"ABCDE\", \"lk\", \"12\") )"
   ]
  },
  {
   "cell_type": "code",
   "execution_count": 49,
   "metadata": {},
   "outputs": [
    {
     "name": "stdout",
     "output_type": "stream",
     "text": [
      "These 3 paths were correctly detected (0 undetected):\n",
      "['12', 'ef', 'ABCD']\n",
      "\n",
      "These 20 paths are spurious:\n",
      "['fA', '1f', 'fB', 'fC', '2f', 'fD', 'eA', '1e', 'eB', 'eC', '2e', 'eD', 'Bf', 'Cf', 'Af', 'Df', 'Be', 'Ce', 'Ae', 'De']\n"
     ]
    }
   ],
   "source": [
    "\"\"\"\n",
    "head_with_loop = 12 ABCD* ef*\n",
    "\n",
    "12 @ABCD @ef\n",
    "\"\"\"\n",
    "T = [\n",
    "    list(\"12ABCDefABCDABCDef\"),\n",
    "]\n",
    "g, b = evaluate_against(T, (\"ABCD\", \"12\", \"ef\") )"
   ]
  },
  {
   "cell_type": "code",
   "execution_count": 50,
   "metadata": {},
   "outputs": [
    {
     "name": "stdout",
     "output_type": "stream",
     "text": [
      "These 3 paths were correctly detected (0 undetected):\n",
      "['lk', 'ABCDE', '12']\n",
      "\n",
      "These 24 paths are spurious:\n",
      "['k1', 'l1', 'k2', 'l2', '1A', '1B', '1E', '1C', '1D', 'kA', 'kB', 'kE', 'kC', 'kD', 'lA', 'lB', 'lE', 'lC', 'lD', '2A', '2B', '2E', '2C', '2D']\n"
     ]
    }
   ],
   "source": [
    "\"\"\"\n",
    "  @lk - @12 - @ABCDE\n",
    "\"\"\"\n",
    "T = [\n",
    "    list(\"lklk1212ABCDEABCDEABCDE1212\"),\n",
    "    list(\"lk12ABCDEABCDE\"),\n",
    "    list(\"lk12ABCDE\"),\n",
    "]\n",
    "g, b = evaluate_against(T, [\"ABCDE\", \"lk\", \"12\"] )"
   ]
  },
  {
   "cell_type": "code",
   "execution_count": 51,
   "metadata": {},
   "outputs": [
    {
     "name": "stdout",
     "output_type": "stream",
     "text": [
      "These 2 paths were correctly detected (0 undetected):\n",
      "['123', 'ABC']\n",
      "\n",
      "These 12 paths are spurious:\n",
      "['1B', 'B3', '2C', 'A2', 'B1', '3B', 'C2', '2A', 'A3', '1C', '3A', 'C1']\n"
     ]
    }
   ],
   "source": [
    "\"\"\"\n",
    "   ABC * 123        \n",
    "\"\"\"\n",
    "T = [ list(a) for a in ['ABC123', 'AB1C23', 'AB12C3', 'AB123C', 'A1BC23', 'A1B2C3', 'A1B23C', \n",
    "      'A12BC3', 'A12B3C', 'A123BC', '1ABC23', '1AB2C3', '1AB23C', '1A2BC3', \n",
    "      '1A2B3C', '1A23BC', '12ABC3', '12AB3C', '12A3BC', '123ABC'\n",
    "]]\n",
    "g, b = evaluate_against(T, (\"ABC\", \"123\") )"
   ]
  },
  {
   "cell_type": "markdown",
   "metadata": {},
   "source": [
    "## Still Failing. Still..."
   ]
  },
  {
   "cell_type": "code",
   "execution_count": 52,
   "metadata": {},
   "outputs": [
    {
     "name": "stdout",
     "output_type": "stream",
     "text": [
      "\n",
      "\n",
      "WARNING HERE! OJO AQUI!\n",
      "\n",
      "\n",
      "These 2 paths were correctly detected (1 undetected):\n",
      "['hjk', 'def']\n",
      "\n",
      "These 6 paths are spurious:\n",
      "['hFG', 'jFG', 'dFG', 'eFG', 'fFG', 'kFG']\n"
     ]
    }
   ],
   "source": [
    "\"\"\"\n",
    "  @def \n",
    "       > FG \n",
    "  @hjk \n",
    "\"\"\"        \n",
    "T = [\n",
    "    list(\"defdefFG\"),\n",
    "    list(\"hjkhjkFG\")\n",
    "]\n",
    "g, b = evaluate_against(T, (\"hjk\", \"def\", \"FG\") )"
   ]
  },
  {
   "cell_type": "code",
   "execution_count": 53,
   "metadata": {},
   "outputs": [
    {
     "name": "stdout",
     "output_type": "stream",
     "text": [
      "\n",
      "\n",
      "WARNING HERE! OJO AQUI!\n",
      "\n",
      "\n",
      "These 1 paths were correctly detected (2 undetected):\n",
      "['12345FG']\n",
      "\n",
      "These 14 paths are spurious:\n",
      "['4hjkl', '1hjkl', 'hjklG', '2hjkl', '5hjkl', 'hjklF', '3hjkl', '4def', '1def', 'defG', '2def', '5def', 'defF', '3def']\n"
     ]
    }
   ],
   "source": [
    "\"\"\"\n",
    "          hjk\n",
    "  12345 <     > FG\n",
    "          def \n",
    "\"\"\"\n",
    "T = [\n",
    "    list(\"12345defFG\"),\n",
    "    list(\"12345hjklFG\")\n",
    "]\n",
    "g, b = evaluate_against(T, (\"12345FG\", \"hjkl\", \"def\") )"
   ]
  },
  {
   "cell_type": "code",
   "execution_count": 54,
   "metadata": {},
   "outputs": [
    {
     "name": "stdout",
     "output_type": "stream",
     "text": [
      "\n",
      "\n",
      "WARNING HERE! OJO AQUI!\n",
      "\n",
      "\n",
      "These 2 paths were correctly detected (2 undetected):\n",
      "['hjk', 'def']\n",
      "\n",
      "These 6 paths are spurious:\n",
      "['12345hFG', '12345jFG', '12345dFG', '12345eFG', '12345fFG', '12345kFG']\n"
     ]
    }
   ],
   "source": [
    "\"\"\"\n",
    "          @hjk\n",
    "  12345 <      > FG\n",
    "          @def \n",
    "\"\"\"\n",
    "T = [\n",
    "    list(\"12345defdefFG\"),\n",
    "    list(\"12345hjkhjkFG\")\n",
    "]\n",
    "g, b = evaluate_against(T, [\"12345\", \"hjk\", \"def\", \"FG\"] )"
   ]
  },
  {
   "cell_type": "code",
   "execution_count": 55,
   "metadata": {},
   "outputs": [
    {
     "name": "stdout",
     "output_type": "stream",
     "text": [
      "\n",
      "\n",
      "WARNING HERE! OJO AQUI!\n",
      "\n",
      "\n",
      "These 3 paths were correctly detected (3 undetected):\n",
      "['FG', 'hjk', 'def']\n",
      "\n",
      "These 42 paths are spurious:\n",
      "['hF', 'hG', '12A', '12B', '12C', '12G', '12F', 'jF', 'jG', 'kF', 'kG', '1f', '1d', '1e', '2f', '2d', '2e', 'ABCF', 'ABCG', 'Ad', 'Bd', 'Cd', 'dG', 'dF', 'Ae', 'Be', 'Ce', 'eG', 'eF', 'Af', 'Bf', 'Cf', 'fG', 'fF', '34A', '34B', '34C', '34e', '34d', '34G', '34f', '34F']\n"
     ]
    }
   ],
   "source": [
    "# loop_inside = @hjk | ( (12 | 34) - ABC - @def - FG) )\n",
    "\"\"\"\n",
    "                     \n",
    "  @hjk ----------- \n",
    "                  \\\n",
    "   12               > FG\n",
    "       > ABC - @def \n",
    "   34 \n",
    "        \n",
    "\"\"\"\n",
    "T = [\n",
    "    list(\"12ABCdefdefFG\"),\n",
    "    list(\"12ABCdefdefdefFG\"),\n",
    "    list(\"34ABCdefFG\"),\n",
    "    list(\"hjkhjkFG\")\n",
    "]\n",
    "g, b = evaluate_against(T, (\"ABC\", \"34\", \"12\", \"hjk\", \"def\", \"FG\") )"
   ]
  },
  {
   "cell_type": "code",
   "execution_count": 56,
   "metadata": {},
   "outputs": [
    {
     "name": "stdout",
     "output_type": "stream",
     "text": [
      "\n",
      "\n",
      "WARNING HERE! OJO AQUI!\n",
      "\n",
      "\n",
      "These 2 paths were correctly detected (3 undetected):\n",
      "['def', 'xyz']\n",
      "\n",
      "These 76 paths are spurious:\n",
      "['4d', '1d', 'dG', '2d', '5d', 'dF', '3d', '4e', '1e', 'eG', '2e', '5e', 'eF', '3e', '4f', '1f', 'fG', '2f', '5f', 'fF', '3f', '12345FG', '4x', 'xhjk', '1x', 'xG', '2x', '5x', 'xF', '3x', '4z', 'zhjk', '1z', 'zG', '2z', '5z', 'zF', '3z', '4y', 'yhjk', '1y', 'yG', '2y', '5y', 'yF', '3y', '4h', '1h', 'hG', '2h', '5h', 'hF', '3h', '4j', '1j', 'jG', '2j', '5j', 'jF', '3j', 'dx', 'dz', 'dy', 'ex', 'ez', 'ey', 'fx', 'fz', 'fy', '4k', '1k', 'kG', '2k', '5k', 'kF', '3k']\n"
     ]
    }
   ],
   "source": [
    "\"\"\"\n",
    "          @hjk\n",
    "  12345 <      > FG\n",
    "          @def \n",
    "          @xyz\n",
    "\"\"\"\n",
    "T = [\n",
    "    list(\"12345defdefxyzxyzFG\"),\n",
    "    list(\"12345xyzxyzhjkhjkFG\"),\n",
    "    list(\"12345hjkxyzxyzhjkFG\"),\n",
    "\n",
    "]\n",
    "g, b = evaluate_against(T, [\"12345\", \"hjk\", \"def\", \"xyz\", \"FG\"] )"
   ]
  }
 ],
 "metadata": {
  "kernelspec": {
   "display_name": "Python 3",
   "language": "python",
   "name": "python3"
  },
  "language_info": {
   "codemirror_mode": {
    "name": "ipython",
    "version": 3
   },
   "file_extension": ".py",
   "mimetype": "text/x-python",
   "name": "python",
   "nbconvert_exporter": "python",
   "pygments_lexer": "ipython3",
   "version": "3.7.5"
  }
 },
 "nbformat": 4,
 "nbformat_minor": 4
}
