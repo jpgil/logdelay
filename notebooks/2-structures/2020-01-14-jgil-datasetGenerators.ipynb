{
 "cells": [
  {
   "cell_type": "markdown",
   "metadata": {},
   "source": [
    "# Synthetic Dataset Generator"
   ]
  },
  {
   "cell_type": "code",
   "execution_count": 372,
   "metadata": {},
   "outputs": [],
   "source": [
    "import random\n",
    "import pandas as pd\n",
    "\n",
    "class synthetic_logs:\n",
    "    _gens = []\n",
    "    _symbols = list(\"ABCDEFGHIJKLMNOPQRSTUVWXYZ\")\n",
    "    _noisy   = list(\"abcdefghijklmnopqrstuvwxyz\")\n",
    "    \n",
    "    def __init__(self):\n",
    "        self._gens = []\n",
    "        self._used_symbols = []\n",
    "        self.symbol = self.create_symbols( self._symbols )\n",
    "        self.noisy = self.create_symbols( self._noisy )\n",
    "        \n",
    "    def create_symbols(self, symbols):\n",
    "        def combine(A,B):\n",
    "            return [ a+b for a in A for b in B ]\n",
    "        used = symbols[:]\n",
    "        stack = used[:]\n",
    "        while True:\n",
    "            nxt = stack.pop(0)\n",
    "            if not len(stack):\n",
    "                stack = combine( used, symbols )\n",
    "                used = stack[:]\n",
    "            yield nxt\n",
    "            \n",
    "            \n",
    "    def generate_instances(self, instances=5):\n",
    "        self.instances = [ self.generate_trace() for i in range(instances) ]\n",
    "        return self.instances\n",
    "\n",
    "    def generate_trace(self):\n",
    "        if len(self._gens) == 0:\n",
    "            self.symbol = self.create_symbols( self._symbols )\n",
    "            return [ (i, next(self.symbol) ) for i in range(5) ]\n",
    "        else:\n",
    "            trace = []\n",
    "            for generator in self._gens:\n",
    "                trace = trace + generator.generate_trace()\n",
    "            return sorted(trace, key=lambda e: e[0])\n",
    "            #return trace\n",
    "            \n",
    "    def show_instances(self, head=10):\n",
    "        for i in range( min(head, len(self.instances))  ):\n",
    "            trace = []\n",
    "            for t, l in self.instances[i]:\n",
    "                trace.append(l)\n",
    "            print(\"%3d : [%s]\" % (i+1, \" \".join(trace)))\n",
    "            \n",
    "    def add(self, generator):\n",
    "        generator.log = self\n",
    "        self._gens.append(generator)\n",
    "        \n",
    "    def describe(self):\n",
    "        if len(self._gens) == 0:\n",
    "            return []\n",
    "        else:\n",
    "            desc = {}\n",
    "            desc['generators'] = []\n",
    "            for gen in self._gens:\n",
    "                desc['generators'].append( gen.describe() )\n",
    "            return desc\n",
    "        \n",
    "class noisy_path:\n",
    "    def __init__(self, every, num_symbols, count):\n",
    "        self.every = every\n",
    "        self.num_symbols = num_symbols\n",
    "        self.count = count\n",
    "        self.noise = False\n",
    "        self.last = []\n",
    "    def generate_trace(self):\n",
    "        if not self.noise:\n",
    "            self.noise = [ next(self.log.noisy) for i in range(self.num_symbols) ]\n",
    "        t = 0\n",
    "        trace = []\n",
    "        for i in range(self.count):\n",
    "            trace.append( (t, self.noise[ random.randint(0, len(self.noise)-1) ] ) )\n",
    "            t += self.every\n",
    "            \n",
    "        self.last = trace\n",
    "        return self.last\n",
    "\n",
    "    \n",
    "    def describe(self):\n",
    "        return {\n",
    "            'class': self.__class__.__name__,\n",
    "            '#symbols': len(self.noise),\n",
    "            'example': \" \".join([b for (a,b) in self.last[:10] ]),\n",
    "        }\n",
    "    \n",
    "class serial_path:\n",
    "    def __init__(self, size, every, error=0, probability=1):\n",
    "        self.every = every\n",
    "        self.size = size\n",
    "        self.error = error\n",
    "        self.probability = probability\n",
    "        self.path = False\n",
    "        self.last = [ ]\n",
    "        \n",
    "    def generate_trace(self):\n",
    "        if not self.path:\n",
    "            self.path = [ next(self.log.symbol) for i in range(self.size) ]\n",
    "        t = random.randint(0, self.error)\n",
    "        trace = []\n",
    "        for s in self.path:\n",
    "            trace.append( (t, s) )\n",
    "            err = random.randint(-self.error, self.error)\n",
    "            t = max( t, t + self.every + err )\n",
    "        self.last = trace\n",
    "        if random.random() < self.probability:\n",
    "            return self.last\n",
    "        else:\n",
    "            return []\n",
    "\n",
    "    \n",
    "    def describe(self):\n",
    "        return {\n",
    "            'class': self.__class__.__name__,\n",
    "            '#symbols': len(self.path),\n",
    "            'example': \" \".join([b for (a,b) in self.last[:10] ]),\n",
    "            'error' : self.error,\n",
    "            'probability' : self.probability\n",
    "        }"
   ]
  },
  {
   "cell_type": "markdown",
   "metadata": {},
   "source": [
    "### Default values"
   ]
  },
  {
   "cell_type": "code",
   "execution_count": 350,
   "metadata": {},
   "outputs": [],
   "source": [
    "logs = synthetic_logs()"
   ]
  },
  {
   "cell_type": "code",
   "execution_count": 351,
   "metadata": {},
   "outputs": [
    {
     "data": {
      "text/plain": [
       "[(0, 'A'), (1, 'B'), (2, 'C'), (3, 'D'), (4, 'E')]"
      ]
     },
     "execution_count": 351,
     "metadata": {},
     "output_type": "execute_result"
    }
   ],
   "source": [
    "logs.generate_trace()"
   ]
  },
  {
   "cell_type": "code",
   "execution_count": 352,
   "metadata": {},
   "outputs": [
    {
     "data": {
      "text/plain": [
       "[[(0, 'A'), (1, 'B'), (2, 'C'), (3, 'D'), (4, 'E')],\n",
       " [(0, 'A'), (1, 'B'), (2, 'C'), (3, 'D'), (4, 'E')],\n",
       " [(0, 'A'), (1, 'B'), (2, 'C'), (3, 'D'), (4, 'E')],\n",
       " [(0, 'A'), (1, 'B'), (2, 'C'), (3, 'D'), (4, 'E')],\n",
       " [(0, 'A'), (1, 'B'), (2, 'C'), (3, 'D'), (4, 'E')]]"
      ]
     },
     "execution_count": 352,
     "metadata": {},
     "output_type": "execute_result"
    }
   ],
   "source": [
    "logs.generate_instances()"
   ]
  },
  {
   "cell_type": "code",
   "execution_count": 353,
   "metadata": {},
   "outputs": [
    {
     "name": "stdout",
     "output_type": "stream",
     "text": [
      "  1 : [A B C D E]\n",
      "  2 : [A B C D E]\n",
      "  3 : [A B C D E]\n",
      "  4 : [A B C D E]\n",
      "  5 : [A B C D E]\n"
     ]
    }
   ],
   "source": [
    "logs.show_instances()"
   ]
  },
  {
   "cell_type": "code",
   "execution_count": 354,
   "metadata": {},
   "outputs": [
    {
     "data": {
      "text/plain": [
       "[]"
      ]
     },
     "execution_count": 354,
     "metadata": {},
     "output_type": "execute_result"
    }
   ],
   "source": [
    "logs.describe()"
   ]
  },
  {
   "cell_type": "markdown",
   "metadata": {},
   "source": [
    "## Noise"
   ]
  },
  {
   "cell_type": "code",
   "execution_count": 355,
   "metadata": {},
   "outputs": [],
   "source": [
    "logs = synthetic_logs()\n",
    "logs.add( noisy_path( every=10, num_symbols=20, count=5)  )"
   ]
  },
  {
   "cell_type": "code",
   "execution_count": 356,
   "metadata": {},
   "outputs": [
    {
     "data": {
      "text/plain": [
       "[(0, 'o'), (10, 'h'), (20, 'm'), (30, 'n'), (40, 'm')]"
      ]
     },
     "execution_count": 356,
     "metadata": {},
     "output_type": "execute_result"
    }
   ],
   "source": [
    "logs.generate_trace()"
   ]
  },
  {
   "cell_type": "code",
   "execution_count": 357,
   "metadata": {},
   "outputs": [
    {
     "name": "stdout",
     "output_type": "stream",
     "text": [
      "  1 : [o a f j d]\n",
      "  2 : [i m j l h]\n",
      "  3 : [o o i m a]\n",
      "  4 : [o g e s b]\n",
      "  5 : [k e a g k]\n"
     ]
    }
   ],
   "source": [
    "logs.generate_instances()\n",
    "logs.show_instances()"
   ]
  },
  {
   "cell_type": "code",
   "execution_count": 358,
   "metadata": {},
   "outputs": [
    {
     "data": {
      "text/plain": [
       "{'generators': [{'class': 'noisy_path',\n",
       "   '#symbols': 20,\n",
       "   'example': 'k e a g k'}]}"
      ]
     },
     "execution_count": 358,
     "metadata": {},
     "output_type": "execute_result"
    }
   ],
   "source": [
    "logs.describe()"
   ]
  },
  {
   "cell_type": "markdown",
   "metadata": {},
   "source": [
    "## Serial Paths"
   ]
  },
  {
   "cell_type": "code",
   "execution_count": 359,
   "metadata": {},
   "outputs": [],
   "source": [
    "logs = synthetic_logs()\n",
    "logs.add( serial_path( size=5, every=10, error=3)  )"
   ]
  },
  {
   "cell_type": "code",
   "execution_count": 360,
   "metadata": {},
   "outputs": [
    {
     "data": {
      "text/plain": [
       "[(2, 'A'), (11, 'B'), (21, 'C'), (28, 'D'), (36, 'E')]"
      ]
     },
     "execution_count": 360,
     "metadata": {},
     "output_type": "execute_result"
    }
   ],
   "source": [
    "logs.generate_trace()"
   ]
  },
  {
   "cell_type": "code",
   "execution_count": 361,
   "metadata": {},
   "outputs": [
    {
     "name": "stdout",
     "output_type": "stream",
     "text": [
      "  1 : [A B C D E]\n",
      "  2 : [A B C D E]\n",
      "  3 : [A B C D E]\n",
      "  4 : [A B C D E]\n",
      "  5 : [A B C D E]\n"
     ]
    }
   ],
   "source": [
    "logs.generate_instances()\n",
    "logs.show_instances()"
   ]
  },
  {
   "cell_type": "code",
   "execution_count": 362,
   "metadata": {},
   "outputs": [
    {
     "data": {
      "text/plain": [
       "{'generators': [{'class': 'serial_path',\n",
       "   '#symbols': 5,\n",
       "   'example': 'A B C D E',\n",
       "   'error': 3}]}"
      ]
     },
     "execution_count": 362,
     "metadata": {},
     "output_type": "execute_result"
    }
   ],
   "source": [
    "logs.describe()"
   ]
  },
  {
   "cell_type": "markdown",
   "metadata": {},
   "source": [
    "## Noise + Serial"
   ]
  },
  {
   "cell_type": "code",
   "execution_count": 373,
   "metadata": {},
   "outputs": [],
   "source": [
    "logs = synthetic_logs()\n",
    "logs.add( noisy_path( every=10, num_symbols=50, count=30)  )\n",
    "logs.add( serial_path( size=7, every=25, error=0, probability=1)  )\n",
    "logs.add( serial_path( size=5, every=25, error=5, probability=0.5)  )"
   ]
  },
  {
   "cell_type": "code",
   "execution_count": 374,
   "metadata": {},
   "outputs": [
    {
     "data": {
      "text/plain": [
       "[(0, 'l'), (0, 'A'), (10, 'c'), (20, 'u'), (25, 'B'), (30, 'b'), (40, 'x')]"
      ]
     },
     "execution_count": 374,
     "metadata": {},
     "output_type": "execute_result"
    }
   ],
   "source": [
    "logs.generate_trace()[:7]"
   ]
  },
  {
   "cell_type": "code",
   "execution_count": 375,
   "metadata": {},
   "outputs": [
    {
     "name": "stdout",
     "output_type": "stream",
     "text": [
      "  1 : [o A H c j B m I at au C m J e D n K s ag E p L ax F j v ab G a k ae an z ar w j f ae am al al av]\n",
      "  2 : [p A H ar z B af I al aa C J r e K D w o L y E ab as F aj s u G n af ak h aj aq ao ae aw j v o aw as]\n",
      "  3 : [b A b e B af ab y C au aa D ai z d E au ai F b f g G r o u t af ao z y t r au ak aw b]\n",
      "  4 : [ak A b ag B ae ag h C h h D n ag n E t ap F aj c av G b ai ac p m i ax ae n ap w av ad ar]\n",
      "  5 : [o A H i t I B af t J z C ap p K D a o L s E t av F o s q G q h w af m t d g ar aa ae aq e z]\n",
      "  6 : [s A H c f B as I f l C J j ai D K ab at i E L ar r F w r u G o o ag as j ao ah af ab r aq aw a ag]\n",
      "  7 : [al A H x n B I ar al at C J k g K D ab av L o E g ar F w au n G q f am aq aj p u aw al aw b ab j k]\n",
      "  8 : [z A H aa a B I av aq J aq C h K ah D ak a L am E aj h F p e v G c ar z as ad x e an ax aw x g ah ac]\n",
      "  9 : [x A z s B ad x an C g l D ae av al E aj ar F av av av G aj d f ab p x y m av f aw r ak i]\n",
      " 10 : [d A v s B ao x n C s am D p c t E au y F ap ar aq G i an f b al ap ab ar ar ac e ai ad o]\n"
     ]
    }
   ],
   "source": [
    "logs.generate_instances(10)\n",
    "logs.show_instances()"
   ]
  },
  {
   "cell_type": "code",
   "execution_count": 376,
   "metadata": {},
   "outputs": [
    {
     "data": {
      "text/html": [
       "<div>\n",
       "<style scoped>\n",
       "    .dataframe tbody tr th:only-of-type {\n",
       "        vertical-align: middle;\n",
       "    }\n",
       "\n",
       "    .dataframe tbody tr th {\n",
       "        vertical-align: top;\n",
       "    }\n",
       "\n",
       "    .dataframe thead th {\n",
       "        text-align: right;\n",
       "    }\n",
       "</style>\n",
       "<table border=\"1\" class=\"dataframe\">\n",
       "  <thead>\n",
       "    <tr style=\"text-align: right;\">\n",
       "      <th></th>\n",
       "      <th>class</th>\n",
       "      <th>#symbols</th>\n",
       "      <th>example</th>\n",
       "      <th>error</th>\n",
       "      <th>probability</th>\n",
       "    </tr>\n",
       "  </thead>\n",
       "  <tbody>\n",
       "    <tr>\n",
       "      <th>0</th>\n",
       "      <td>noisy_path</td>\n",
       "      <td>50</td>\n",
       "      <td>d v s ao x n s am p c</td>\n",
       "      <td>NaN</td>\n",
       "      <td>NaN</td>\n",
       "    </tr>\n",
       "    <tr>\n",
       "      <th>1</th>\n",
       "      <td>serial_path</td>\n",
       "      <td>7</td>\n",
       "      <td>A B C D E F G</td>\n",
       "      <td>0.0</td>\n",
       "      <td>1.0</td>\n",
       "    </tr>\n",
       "    <tr>\n",
       "      <th>2</th>\n",
       "      <td>serial_path</td>\n",
       "      <td>5</td>\n",
       "      <td>H I J K L</td>\n",
       "      <td>5.0</td>\n",
       "      <td>0.5</td>\n",
       "    </tr>\n",
       "  </tbody>\n",
       "</table>\n",
       "</div>"
      ],
      "text/plain": [
       "         class  #symbols                example  error  probability\n",
       "0   noisy_path        50  d v s ao x n s am p c    NaN          NaN\n",
       "1  serial_path         7          A B C D E F G    0.0          1.0\n",
       "2  serial_path         5              H I J K L    5.0          0.5"
      ]
     },
     "execution_count": 376,
     "metadata": {},
     "output_type": "execute_result"
    }
   ],
   "source": [
    "pd.DataFrame(logs.describe()['generators'])"
   ]
  },
  {
   "cell_type": "code",
   "execution_count": null,
   "metadata": {},
   "outputs": [],
   "source": []
  }
 ],
 "metadata": {
  "kernelspec": {
   "display_name": "Python 3",
   "language": "python",
   "name": "python3"
  },
  "language_info": {
   "codemirror_mode": {
    "name": "ipython",
    "version": 3
   },
   "file_extension": ".py",
   "mimetype": "text/x-python",
   "name": "python",
   "nbconvert_exporter": "python",
   "pygments_lexer": "ipython3",
   "version": "3.7.5"
  }
 },
 "nbformat": 4,
 "nbformat_minor": 4
}
