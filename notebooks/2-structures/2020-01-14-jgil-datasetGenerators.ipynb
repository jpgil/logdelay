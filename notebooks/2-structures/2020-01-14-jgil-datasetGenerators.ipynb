{
 "cells": [
  {
   "cell_type": "markdown",
   "metadata": {},
   "source": [
    "# Synthetic Dataset Generator"
   ]
  },
  {
   "cell_type": "code",
   "execution_count": 1,
   "metadata": {},
   "outputs": [],
   "source": [
    "%load_ext autoreload\n",
    "%autoreload 2\n",
    "\n",
    "import sys\n",
    "sys.path.append(\"../../\")\n",
    "from src.models.synthetic_logs import *\n",
    "\n",
    "import pandas as pd"
   ]
  },
  {
   "cell_type": "markdown",
   "metadata": {},
   "source": [
    "### Base Class"
   ]
  },
  {
   "cell_type": "code",
   "execution_count": 2,
   "metadata": {},
   "outputs": [],
   "source": [
    "logs = synthetic_logs()"
   ]
  },
  {
   "cell_type": "code",
   "execution_count": 3,
   "metadata": {},
   "outputs": [
    {
     "data": {
      "text/plain": [
       "[(-1, '... boring ...')]"
      ]
     },
     "execution_count": 3,
     "metadata": {},
     "output_type": "execute_result"
    }
   ],
   "source": [
    "logs.generate_trace()"
   ]
  },
  {
   "cell_type": "code",
   "execution_count": 4,
   "metadata": {},
   "outputs": [
    {
     "data": {
      "text/plain": [
       "[[(-1, '... boring ...')],\n",
       " [(-1, '... boring ...')],\n",
       " [(-1, '... boring ...')],\n",
       " [(-1, '... boring ...')],\n",
       " [(-1, '... boring ...')]]"
      ]
     },
     "execution_count": 4,
     "metadata": {},
     "output_type": "execute_result"
    }
   ],
   "source": [
    "logs.generate_instances()"
   ]
  },
  {
   "cell_type": "code",
   "execution_count": 5,
   "metadata": {},
   "outputs": [
    {
     "name": "stdout",
     "output_type": "stream",
     "text": [
      "  1 : [... boring ...]\n",
      "  2 : [... boring ...]\n",
      "  3 : [... boring ...]\n",
      "  4 : [... boring ...]\n",
      "  5 : [... boring ...]\n"
     ]
    }
   ],
   "source": [
    "logs.show_instances()"
   ]
  },
  {
   "cell_type": "code",
   "execution_count": 6,
   "metadata": {},
   "outputs": [
    {
     "data": {
      "text/html": [
       "<div>\n",
       "<style scoped>\n",
       "    .dataframe tbody tr th:only-of-type {\n",
       "        vertical-align: middle;\n",
       "    }\n",
       "\n",
       "    .dataframe tbody tr th {\n",
       "        vertical-align: top;\n",
       "    }\n",
       "\n",
       "    .dataframe thead th {\n",
       "        text-align: right;\n",
       "    }\n",
       "</style>\n",
       "<table border=\"1\" class=\"dataframe\">\n",
       "  <thead>\n",
       "    <tr style=\"text-align: right;\">\n",
       "      <th></th>\n",
       "      <th>class</th>\n",
       "      <th>#symbols</th>\n",
       "      <th>example</th>\n",
       "    </tr>\n",
       "  </thead>\n",
       "  <tbody>\n",
       "    <tr>\n",
       "      <th>0</th>\n",
       "      <td>synthetic_logs</td>\n",
       "      <td>0</td>\n",
       "      <td>(boring)</td>\n",
       "    </tr>\n",
       "  </tbody>\n",
       "</table>\n",
       "</div>"
      ],
      "text/plain": [
       "            class  #symbols     example\n",
       "0  synthetic_logs         0   (boring) "
      ]
     },
     "execution_count": 6,
     "metadata": {},
     "output_type": "execute_result"
    }
   ],
   "source": [
    "pd.DataFrame(logs.describe()['generators'])"
   ]
  },
  {
   "cell_type": "markdown",
   "metadata": {},
   "source": [
    "## Noise"
   ]
  },
  {
   "cell_type": "code",
   "execution_count": 7,
   "metadata": {},
   "outputs": [],
   "source": [
    "logs = noisy_path(count=6)"
   ]
  },
  {
   "cell_type": "code",
   "execution_count": 8,
   "metadata": {},
   "outputs": [
    {
     "data": {
      "text/plain": [
       "[(0, 'r'), (10, 'r'), (20, 'l'), (30, 'j'), (40, 'f'), (50, 'm')]"
      ]
     },
     "execution_count": 8,
     "metadata": {},
     "output_type": "execute_result"
    }
   ],
   "source": [
    "logs.generate_trace()"
   ]
  },
  {
   "cell_type": "code",
   "execution_count": 9,
   "metadata": {},
   "outputs": [
    {
     "name": "stdout",
     "output_type": "stream",
     "text": [
      "  1 : [r o c t j d]\n",
      "  2 : [m p c r k t]\n",
      "  3 : [i k i u v f]\n",
      "  4 : [t e u j m w]\n",
      "  5 : [s d m q q x]\n"
     ]
    }
   ],
   "source": [
    "logs.generate_instances()\n",
    "logs.show_instances()"
   ]
  },
  {
   "cell_type": "code",
   "execution_count": 10,
   "metadata": {},
   "outputs": [
    {
     "data": {
      "text/html": [
       "<div>\n",
       "<style scoped>\n",
       "    .dataframe tbody tr th:only-of-type {\n",
       "        vertical-align: middle;\n",
       "    }\n",
       "\n",
       "    .dataframe tbody tr th {\n",
       "        vertical-align: top;\n",
       "    }\n",
       "\n",
       "    .dataframe thead th {\n",
       "        text-align: right;\n",
       "    }\n",
       "</style>\n",
       "<table border=\"1\" class=\"dataframe\">\n",
       "  <thead>\n",
       "    <tr style=\"text-align: right;\">\n",
       "      <th></th>\n",
       "      <th>class</th>\n",
       "      <th>#symbols</th>\n",
       "      <th>example</th>\n",
       "    </tr>\n",
       "  </thead>\n",
       "  <tbody>\n",
       "    <tr>\n",
       "      <th>0</th>\n",
       "      <td>noisy_path</td>\n",
       "      <td>25</td>\n",
       "      <td>s d m q q x</td>\n",
       "    </tr>\n",
       "  </tbody>\n",
       "</table>\n",
       "</div>"
      ],
      "text/plain": [
       "        class  #symbols      example\n",
       "0  noisy_path        25  s d m q q x"
      ]
     },
     "execution_count": 10,
     "metadata": {},
     "output_type": "execute_result"
    }
   ],
   "source": [
    "pd.DataFrame(logs.describe()['generators'])"
   ]
  },
  {
   "cell_type": "markdown",
   "metadata": {},
   "source": [
    "## Single Paths"
   ]
  },
  {
   "cell_type": "code",
   "execution_count": 11,
   "metadata": {},
   "outputs": [],
   "source": [
    "logs = single_path(7)"
   ]
  },
  {
   "cell_type": "code",
   "execution_count": 12,
   "metadata": {},
   "outputs": [
    {
     "data": {
      "text/plain": [
       "[(3, 'A'), (4, 'B'), (19, 'C'), (28, 'D'), (37, 'E'), (50, 'F'), (57, 'G')]"
      ]
     },
     "execution_count": 12,
     "metadata": {},
     "output_type": "execute_result"
    }
   ],
   "source": [
    "logs.generate_trace()"
   ]
  },
  {
   "cell_type": "code",
   "execution_count": 13,
   "metadata": {},
   "outputs": [
    {
     "name": "stdout",
     "output_type": "stream",
     "text": [
      "  1 : [A B C D E F G]\n",
      "  2 : [A B C D E F G]\n",
      "  3 : [A B C D E F G]\n",
      "  4 : [A B C D E F G]\n",
      "  5 : [A B C D E F G]\n"
     ]
    }
   ],
   "source": [
    "logs.generate_instances()\n",
    "logs.show_instances()"
   ]
  },
  {
   "cell_type": "code",
   "execution_count": 14,
   "metadata": {},
   "outputs": [
    {
     "data": {
      "text/html": [
       "<div>\n",
       "<style scoped>\n",
       "    .dataframe tbody tr th:only-of-type {\n",
       "        vertical-align: middle;\n",
       "    }\n",
       "\n",
       "    .dataframe tbody tr th {\n",
       "        vertical-align: top;\n",
       "    }\n",
       "\n",
       "    .dataframe thead th {\n",
       "        text-align: right;\n",
       "    }\n",
       "</style>\n",
       "<table border=\"1\" class=\"dataframe\">\n",
       "  <thead>\n",
       "    <tr style=\"text-align: right;\">\n",
       "      <th></th>\n",
       "      <th>class</th>\n",
       "      <th>#symbols</th>\n",
       "      <th>example</th>\n",
       "      <th>error</th>\n",
       "      <th>probability</th>\n",
       "    </tr>\n",
       "  </thead>\n",
       "  <tbody>\n",
       "    <tr>\n",
       "      <th>0</th>\n",
       "      <td>single_path</td>\n",
       "      <td>7</td>\n",
       "      <td>A B C D E F G</td>\n",
       "      <td>10</td>\n",
       "      <td>1</td>\n",
       "    </tr>\n",
       "  </tbody>\n",
       "</table>\n",
       "</div>"
      ],
      "text/plain": [
       "         class  #symbols        example  error  probability\n",
       "0  single_path         7  A B C D E F G     10            1"
      ]
     },
     "execution_count": 14,
     "metadata": {},
     "output_type": "execute_result"
    }
   ],
   "source": [
    "pd.DataFrame(logs.describe()['generators'])"
   ]
  },
  {
   "cell_type": "markdown",
   "metadata": {},
   "source": [
    "## Noise * single Path (combine)"
   ]
  },
  {
   "cell_type": "code",
   "execution_count": 15,
   "metadata": {},
   "outputs": [],
   "source": [
    "logs = noisy_path( every=10, num_symbols=50, count=30)  \n",
    "logs = logs * single_path( 9, every=25, error=0, probability=1)  \n",
    "logs = logs * single_path( 5, probability=0.5)  "
   ]
  },
  {
   "cell_type": "code",
   "execution_count": 16,
   "metadata": {},
   "outputs": [
    {
     "data": {
      "text/plain": [
       "[(0, 'o'), (0, 'A'), (10, 'aj'), (20, 'aq'), (25, 'B'), (30, 'at'), (40, 'u')]"
      ]
     },
     "execution_count": 16,
     "metadata": {},
     "output_type": "execute_result"
    }
   ],
   "source": [
    "logs.generate_trace()[:7]"
   ]
  },
  {
   "cell_type": "code",
   "execution_count": 17,
   "metadata": {},
   "outputs": [
    {
     "name": "stdout",
     "output_type": "stream",
     "text": [
      "  1 : [an A J K l L g B b M k k C N ao a D b au l E m ap F v s al G ad ar H aa ae r I ab d l h ar am ax am ad]\n",
      "  2 : [q A ah ag B ax a ap C j u D y d ag E d aw F at av d G z al H au b ac I p af ao b m z r al au]\n",
      "  3 : [al A J aj K o B L ab M ah ab C N ab w D au ap at E a f F r au ag G d aw H c ap ae I am o ad ap l ad k c au]\n",
      "  4 : [at A J ag K ax B L ab M N j p C aa as D f k l E g a F av v o G ag u H a aw t I av as ah u z aq ac e z]\n",
      "  5 : [av A J l K L r B w M av g C N u ag D au f ap E ar aw F k a at G ar m H j au m I aj c m ao w am u h ar]\n",
      "  6 : [p A i av B ab a u C ae am D h b y E y ad F t au k G p au H ap m av I ah ac a ao aa t af w ao]\n",
      "  7 : [i A as ar B x ai aa C aa aj D ag s av E al f F c t i G z t H b aq q I e x e an ao g t aw aw]\n",
      "  8 : [aa A J b K ap B L y M N ai at C x aa D f g m E au au F b af ae G x g H m am aw I e ac z ar f al c p ae]\n",
      "  9 : [u A ap ap B af e j C ak z D y an d E av d F w ad al G an y H z av b I x l g ax c am an ai ab]\n",
      " 10 : [ap A ad J K al L B M ac r N aw C ab ak D y t v E g x F ah ag m G av ap H ao ai l I ai f y x ac al af av g]\n"
     ]
    }
   ],
   "source": [
    "logs.generate_instances(10)\n",
    "logs.show_instances()"
   ]
  },
  {
   "cell_type": "code",
   "execution_count": 18,
   "metadata": {},
   "outputs": [
    {
     "data": {
      "text/html": [
       "<div>\n",
       "<style scoped>\n",
       "    .dataframe tbody tr th:only-of-type {\n",
       "        vertical-align: middle;\n",
       "    }\n",
       "\n",
       "    .dataframe tbody tr th {\n",
       "        vertical-align: top;\n",
       "    }\n",
       "\n",
       "    .dataframe thead th {\n",
       "        text-align: right;\n",
       "    }\n",
       "</style>\n",
       "<table border=\"1\" class=\"dataframe\">\n",
       "  <thead>\n",
       "    <tr style=\"text-align: right;\">\n",
       "      <th></th>\n",
       "      <th>class</th>\n",
       "      <th>#symbols</th>\n",
       "      <th>example</th>\n",
       "      <th>error</th>\n",
       "      <th>probability</th>\n",
       "    </tr>\n",
       "  </thead>\n",
       "  <tbody>\n",
       "    <tr>\n",
       "      <th>0</th>\n",
       "      <td>noisy_path</td>\n",
       "      <td>50</td>\n",
       "      <td>ap ad al ac r aw ab ak y t</td>\n",
       "      <td>NaN</td>\n",
       "      <td>NaN</td>\n",
       "    </tr>\n",
       "    <tr>\n",
       "      <th>1</th>\n",
       "      <td>single_path</td>\n",
       "      <td>9</td>\n",
       "      <td>A B C D E F G H I</td>\n",
       "      <td>0.0</td>\n",
       "      <td>1.0</td>\n",
       "    </tr>\n",
       "    <tr>\n",
       "      <th>2</th>\n",
       "      <td>single_path</td>\n",
       "      <td>5</td>\n",
       "      <td>J K L M N</td>\n",
       "      <td>10.0</td>\n",
       "      <td>0.5</td>\n",
       "    </tr>\n",
       "  </tbody>\n",
       "</table>\n",
       "</div>"
      ],
      "text/plain": [
       "         class  #symbols                     example  error  probability\n",
       "0   noisy_path        50  ap ad al ac r aw ab ak y t    NaN          NaN\n",
       "1  single_path         9           A B C D E F G H I    0.0          1.0\n",
       "2  single_path         5                   J K L M N   10.0          0.5"
      ]
     },
     "execution_count": 18,
     "metadata": {},
     "output_type": "execute_result"
    }
   ],
   "source": [
    "pd.DataFrame(logs.describe()['generators'])"
   ]
  },
  {
   "cell_type": "markdown",
   "metadata": {},
   "source": [
    "## Combining several single_path"
   ]
  },
  {
   "cell_type": "code",
   "execution_count": 19,
   "metadata": {},
   "outputs": [],
   "source": [
    "sp1 = single_path(4)\n",
    "sp2 = single_path(5)\n",
    "sp3 = single_path(10, every=10, error=5, probability=0.5)\n",
    "\n",
    "logs = sp1 *sp2 * sp3"
   ]
  },
  {
   "cell_type": "code",
   "execution_count": 20,
   "metadata": {},
   "outputs": [],
   "source": [
    "#logs.generate_trace()"
   ]
  },
  {
   "cell_type": "code",
   "execution_count": 21,
   "metadata": {},
   "outputs": [
    {
     "name": "stdout",
     "output_type": "stream",
     "text": [
      "  1 : [E J A K B F G L C H I M N D O P Q R S]\n",
      "  2 : [A J E K F B L G C M D H N I O P Q R S]\n",
      "  3 : [A E F B G H I C D]\n",
      "  4 : [A E B C D F G H I]\n",
      "  5 : [J E A K L B F C M D G N O H P I Q R S]\n",
      "  6 : [A B E F C G H I D]\n",
      "  7 : [E A B C F G D H I]\n",
      "  8 : [J E A K L F B G M H C D N I O P Q R S]\n",
      "  9 : [A E B F G H C D I]\n",
      " 10 : [E A F B C G D H I]\n"
     ]
    }
   ],
   "source": [
    "logs.generate_instances(100)\n",
    "logs.show_instances()"
   ]
  },
  {
   "cell_type": "code",
   "execution_count": 22,
   "metadata": {},
   "outputs": [
    {
     "data": {
      "text/html": [
       "<div>\n",
       "<style scoped>\n",
       "    .dataframe tbody tr th:only-of-type {\n",
       "        vertical-align: middle;\n",
       "    }\n",
       "\n",
       "    .dataframe tbody tr th {\n",
       "        vertical-align: top;\n",
       "    }\n",
       "\n",
       "    .dataframe thead th {\n",
       "        text-align: right;\n",
       "    }\n",
       "</style>\n",
       "<table border=\"1\" class=\"dataframe\">\n",
       "  <thead>\n",
       "    <tr style=\"text-align: right;\">\n",
       "      <th></th>\n",
       "      <th>class</th>\n",
       "      <th>#symbols</th>\n",
       "      <th>example</th>\n",
       "      <th>error</th>\n",
       "      <th>probability</th>\n",
       "    </tr>\n",
       "  </thead>\n",
       "  <tbody>\n",
       "    <tr>\n",
       "      <th>0</th>\n",
       "      <td>single_path</td>\n",
       "      <td>4</td>\n",
       "      <td>A B C D</td>\n",
       "      <td>10</td>\n",
       "      <td>1.0</td>\n",
       "    </tr>\n",
       "    <tr>\n",
       "      <th>1</th>\n",
       "      <td>single_path</td>\n",
       "      <td>5</td>\n",
       "      <td>E F G H I</td>\n",
       "      <td>10</td>\n",
       "      <td>1.0</td>\n",
       "    </tr>\n",
       "    <tr>\n",
       "      <th>2</th>\n",
       "      <td>single_path</td>\n",
       "      <td>10</td>\n",
       "      <td>J K L M N O P Q R S</td>\n",
       "      <td>5</td>\n",
       "      <td>0.5</td>\n",
       "    </tr>\n",
       "  </tbody>\n",
       "</table>\n",
       "</div>"
      ],
      "text/plain": [
       "         class  #symbols              example  error  probability\n",
       "0  single_path         4              A B C D     10          1.0\n",
       "1  single_path         5            E F G H I     10          1.0\n",
       "2  single_path        10  J K L M N O P Q R S      5          0.5"
      ]
     },
     "execution_count": 22,
     "metadata": {},
     "output_type": "execute_result"
    }
   ],
   "source": [
    "pd.DataFrame(logs.describe()['generators'])"
   ]
  },
  {
   "cell_type": "markdown",
   "metadata": {},
   "source": [
    "## Adding traces (concatenation)"
   ]
  },
  {
   "cell_type": "code",
   "execution_count": 23,
   "metadata": {},
   "outputs": [
    {
     "ename": "TypeError",
     "evalue": "unsupported operand type(s) for -: 'single_path' and 'single_path'",
     "output_type": "error",
     "traceback": [
      "\u001b[0;31m---------------------------------------------------------------------------\u001b[0m",
      "\u001b[0;31mTypeError\u001b[0m                                 Traceback (most recent call last)",
      "\u001b[0;32m<ipython-input-23-56e846647ccf>\u001b[0m in \u001b[0;36m<module>\u001b[0;34m\u001b[0m\n\u001b[0;32m----> 1\u001b[0;31m \u001b[0mlogs\u001b[0m \u001b[0;34m=\u001b[0m \u001b[0msingle_path\u001b[0m\u001b[0;34m(\u001b[0m\u001b[0;36m4\u001b[0m\u001b[0;34m)\u001b[0m \u001b[0;34m-\u001b[0m \u001b[0msingle_path\u001b[0m\u001b[0;34m(\u001b[0m\u001b[0;36m5\u001b[0m\u001b[0;34m)\u001b[0m\u001b[0;34m\u001b[0m\u001b[0;34m\u001b[0m\u001b[0m\n\u001b[0m",
      "\u001b[0;31mTypeError\u001b[0m: unsupported operand type(s) for -: 'single_path' and 'single_path'"
     ]
    }
   ],
   "source": [
    "logs = single_path(4) - single_path(5)"
   ]
  },
  {
   "cell_type": "code",
   "execution_count": null,
   "metadata": {},
   "outputs": [],
   "source": []
  }
 ],
 "metadata": {
  "kernelspec": {
   "display_name": "Python 3",
   "language": "python",
   "name": "python3"
  },
  "language_info": {
   "codemirror_mode": {
    "name": "ipython",
    "version": 3
   },
   "file_extension": ".py",
   "mimetype": "text/x-python",
   "name": "python",
   "nbconvert_exporter": "python",
   "pygments_lexer": "ipython3",
   "version": "3.7.5"
  }
 },
 "nbformat": 4,
 "nbformat_minor": 4
}
