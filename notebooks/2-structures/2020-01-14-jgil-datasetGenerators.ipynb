{
 "cells": [
  {
   "cell_type": "markdown",
   "metadata": {},
   "source": [
    "# Synthetic Dataset Generator"
   ]
  },
  {
   "cell_type": "code",
   "execution_count": 1,
   "metadata": {},
   "outputs": [],
   "source": [
    "import random\n",
    "import pandas as pd\n",
    "\n",
    "class synthetic_logs:\n",
    "    _gens = []\n",
    "    _symbols = list(\"ABCDEFGHIJKLMNOPQRSTUVWXYZ\")\n",
    "    _noisy   = list(\"abcdefghijklmnopqrstuvwxyz\")\n",
    "    \n",
    "    def __init__(self):\n",
    "        self._gens = []\n",
    "        self._used_symbols = []\n",
    "        self.symbol = self.create_symbols( self._symbols )\n",
    "        self.noisy = self.create_symbols( self._noisy )\n",
    "        \n",
    "    def create_symbols(self, symbols):\n",
    "        def combine(A,B):\n",
    "            return [ a+b for a in A for b in B ]\n",
    "        used = symbols[:]\n",
    "        stack = used[:]\n",
    "        while True:\n",
    "            nxt = stack.pop(0)\n",
    "            if not len(stack):\n",
    "                stack = combine( used, symbols )\n",
    "                used = stack[:]\n",
    "            yield nxt\n",
    "            \n",
    "            \n",
    "    def generate_instances(self, instances=5):\n",
    "        self.instances = [ self.generate_trace() for i in range(instances) ]\n",
    "        return self.instances\n",
    "\n",
    "    def generate_trace(self):\n",
    "        if len(self._gens) == 0:\n",
    "            self.symbol = self.create_symbols( self._symbols )\n",
    "            return [ (i, next(self.symbol) ) for i in range(5) ]\n",
    "        else:\n",
    "            trace = []\n",
    "            for generator in self._gens:\n",
    "                trace = trace + generator.generate_trace()\n",
    "            return sorted(trace, key=lambda e: e[0])\n",
    "            #return trace\n",
    "            \n",
    "    def show_instances(self, head=10):\n",
    "        for i in range( min(head, len(self.instances))  ):\n",
    "            trace = []\n",
    "            for t, l in self.instances[i]:\n",
    "                trace.append(l)\n",
    "            print(\"%3d : [%s]\" % (i+1, \" \".join(trace)))\n",
    "            \n",
    "    def add(self, generator):\n",
    "        generator.log = self\n",
    "        self._gens.append(generator)\n",
    "        \n",
    "    def describe(self):\n",
    "        if len(self._gens) == 0:\n",
    "            return []\n",
    "        else:\n",
    "            desc = {}\n",
    "            desc['generators'] = []\n",
    "            for gen in self._gens:\n",
    "                desc['generators'].append( gen.describe() )\n",
    "            return desc\n",
    "        \n",
    "class noisy_path:\n",
    "    def __init__(self, every, num_symbols, count):\n",
    "        self.every = every\n",
    "        self.num_symbols = num_symbols\n",
    "        self.count = count\n",
    "        self.noise = False\n",
    "        self.last = []\n",
    "    def generate_trace(self):\n",
    "        if not self.noise:\n",
    "            self.noise = [ next(self.log.noisy) for i in range(self.num_symbols) ]\n",
    "        t = 0\n",
    "        trace = []\n",
    "        for i in range(self.count):\n",
    "            trace.append( (t, self.noise[ random.randint(0, len(self.noise)-1) ] ) )\n",
    "            t += self.every\n",
    "            \n",
    "        self.last = trace\n",
    "        return self.last\n",
    "\n",
    "    \n",
    "    def describe(self):\n",
    "        return {\n",
    "            'class': self.__class__.__name__,\n",
    "            '#symbols': len(self.noise),\n",
    "            'example': \" \".join([b for (a,b) in self.last[:10] ]),\n",
    "        }\n",
    "    \n",
    "class serial_path:\n",
    "    def __init__(self, size, every, error=0, probability=1):\n",
    "        self.every = every\n",
    "        self.size = size\n",
    "        self.error = error\n",
    "        self.probability = probability\n",
    "        self.path = False\n",
    "        self.last = [ ]\n",
    "        \n",
    "    def generate_trace(self):\n",
    "        if not self.path:\n",
    "            self.path = [ next(self.log.symbol) for i in range(self.size) ]\n",
    "        t = random.randint(0, self.error)\n",
    "        trace = []\n",
    "        for s in self.path:\n",
    "            trace.append( (t, s) )\n",
    "            err = random.randint(-self.error, self.error)\n",
    "            t = max( t, t + self.every + err )\n",
    "        self.last = trace\n",
    "        if random.random() < self.probability:\n",
    "            return self.last\n",
    "        else:\n",
    "            return []\n",
    "\n",
    "    \n",
    "    def describe(self):\n",
    "        return {\n",
    "            'class': self.__class__.__name__,\n",
    "            '#symbols': len(self.path),\n",
    "            'example': \" \".join([b for (a,b) in self.last[:10] ]),\n",
    "            'error' : self.error,\n",
    "            'probability' : self.probability\n",
    "        }"
   ]
  },
  {
   "cell_type": "markdown",
   "metadata": {},
   "source": [
    "### Default values"
   ]
  },
  {
   "cell_type": "code",
   "execution_count": 2,
   "metadata": {},
   "outputs": [],
   "source": [
    "logs = synthetic_logs()"
   ]
  },
  {
   "cell_type": "code",
   "execution_count": 3,
   "metadata": {},
   "outputs": [
    {
     "data": {
      "text/plain": [
       "[(0, 'A'), (1, 'B'), (2, 'C'), (3, 'D'), (4, 'E')]"
      ]
     },
     "execution_count": 3,
     "metadata": {},
     "output_type": "execute_result"
    }
   ],
   "source": [
    "logs.generate_trace()"
   ]
  },
  {
   "cell_type": "code",
   "execution_count": 4,
   "metadata": {},
   "outputs": [
    {
     "data": {
      "text/plain": [
       "[[(0, 'A'), (1, 'B'), (2, 'C'), (3, 'D'), (4, 'E')],\n",
       " [(0, 'A'), (1, 'B'), (2, 'C'), (3, 'D'), (4, 'E')],\n",
       " [(0, 'A'), (1, 'B'), (2, 'C'), (3, 'D'), (4, 'E')],\n",
       " [(0, 'A'), (1, 'B'), (2, 'C'), (3, 'D'), (4, 'E')],\n",
       " [(0, 'A'), (1, 'B'), (2, 'C'), (3, 'D'), (4, 'E')]]"
      ]
     },
     "execution_count": 4,
     "metadata": {},
     "output_type": "execute_result"
    }
   ],
   "source": [
    "logs.generate_instances()"
   ]
  },
  {
   "cell_type": "code",
   "execution_count": 5,
   "metadata": {},
   "outputs": [
    {
     "name": "stdout",
     "output_type": "stream",
     "text": [
      "  1 : [A B C D E]\n",
      "  2 : [A B C D E]\n",
      "  3 : [A B C D E]\n",
      "  4 : [A B C D E]\n",
      "  5 : [A B C D E]\n"
     ]
    }
   ],
   "source": [
    "logs.show_instances()"
   ]
  },
  {
   "cell_type": "code",
   "execution_count": 6,
   "metadata": {},
   "outputs": [
    {
     "data": {
      "text/plain": [
       "[]"
      ]
     },
     "execution_count": 6,
     "metadata": {},
     "output_type": "execute_result"
    }
   ],
   "source": [
    "logs.describe()"
   ]
  },
  {
   "cell_type": "markdown",
   "metadata": {},
   "source": [
    "## Noise"
   ]
  },
  {
   "cell_type": "code",
   "execution_count": 7,
   "metadata": {},
   "outputs": [],
   "source": [
    "logs = synthetic_logs()\n",
    "logs.add( noisy_path( every=10, num_symbols=20, count=5)  )"
   ]
  },
  {
   "cell_type": "code",
   "execution_count": 8,
   "metadata": {},
   "outputs": [
    {
     "data": {
      "text/plain": [
       "[(0, 'c'), (10, 'i'), (20, 'r'), (30, 'a'), (40, 'j')]"
      ]
     },
     "execution_count": 8,
     "metadata": {},
     "output_type": "execute_result"
    }
   ],
   "source": [
    "logs.generate_trace()"
   ]
  },
  {
   "cell_type": "code",
   "execution_count": 9,
   "metadata": {},
   "outputs": [
    {
     "name": "stdout",
     "output_type": "stream",
     "text": [
      "  1 : [i t d t s]\n",
      "  2 : [d o c b d]\n",
      "  3 : [q t n k d]\n",
      "  4 : [i f a g r]\n",
      "  5 : [k b n s i]\n"
     ]
    }
   ],
   "source": [
    "logs.generate_instances()\n",
    "logs.show_instances()"
   ]
  },
  {
   "cell_type": "code",
   "execution_count": 10,
   "metadata": {},
   "outputs": [
    {
     "data": {
      "text/plain": [
       "{'generators': [{'class': 'noisy_path',\n",
       "   '#symbols': 20,\n",
       "   'example': 'k b n s i'}]}"
      ]
     },
     "execution_count": 10,
     "metadata": {},
     "output_type": "execute_result"
    }
   ],
   "source": [
    "logs.describe()"
   ]
  },
  {
   "cell_type": "markdown",
   "metadata": {},
   "source": [
    "## Serial Paths"
   ]
  },
  {
   "cell_type": "code",
   "execution_count": 11,
   "metadata": {},
   "outputs": [],
   "source": [
    "logs = synthetic_logs()\n",
    "logs.add( serial_path( size=5, every=10, error=3)  )"
   ]
  },
  {
   "cell_type": "code",
   "execution_count": 12,
   "metadata": {},
   "outputs": [
    {
     "data": {
      "text/plain": [
       "[(1, 'A'), (10, 'B'), (23, 'C'), (31, 'D'), (42, 'E')]"
      ]
     },
     "execution_count": 12,
     "metadata": {},
     "output_type": "execute_result"
    }
   ],
   "source": [
    "logs.generate_trace()"
   ]
  },
  {
   "cell_type": "code",
   "execution_count": 13,
   "metadata": {},
   "outputs": [
    {
     "name": "stdout",
     "output_type": "stream",
     "text": [
      "  1 : [A B C D E]\n",
      "  2 : [A B C D E]\n",
      "  3 : [A B C D E]\n",
      "  4 : [A B C D E]\n",
      "  5 : [A B C D E]\n"
     ]
    }
   ],
   "source": [
    "logs.generate_instances()\n",
    "logs.show_instances()"
   ]
  },
  {
   "cell_type": "code",
   "execution_count": 14,
   "metadata": {},
   "outputs": [
    {
     "data": {
      "text/plain": [
       "{'generators': [{'class': 'serial_path',\n",
       "   '#symbols': 5,\n",
       "   'example': 'A B C D E',\n",
       "   'error': 3,\n",
       "   'probability': 1}]}"
      ]
     },
     "execution_count": 14,
     "metadata": {},
     "output_type": "execute_result"
    }
   ],
   "source": [
    "logs.describe()"
   ]
  },
  {
   "cell_type": "markdown",
   "metadata": {},
   "source": [
    "## Noise + Serial"
   ]
  },
  {
   "cell_type": "code",
   "execution_count": 15,
   "metadata": {},
   "outputs": [],
   "source": [
    "logs = synthetic_logs()\n",
    "logs.add( noisy_path( every=10, num_symbols=50, count=30)  )\n",
    "logs.add( serial_path( size=7, every=25, error=0, probability=1)  )\n",
    "logs.add( serial_path( size=5, every=25, error=5, probability=0.5)  )"
   ]
  },
  {
   "cell_type": "code",
   "execution_count": 16,
   "metadata": {},
   "outputs": [
    {
     "data": {
      "text/plain": [
       "[(0, 'y'), (0, 'A'), (0, 'H'), (10, 'au'), (20, 'w'), (23, 'I'), (25, 'B')]"
      ]
     },
     "execution_count": 16,
     "metadata": {},
     "output_type": "execute_result"
    }
   ],
   "source": [
    "logs.generate_trace()[:7]"
   ]
  },
  {
   "cell_type": "code",
   "execution_count": 17,
   "metadata": {},
   "outputs": [
    {
     "name": "stdout",
     "output_type": "stream",
     "text": [
      "  1 : [au A H a q I B g af J d C g aq K D h h L ap E am ae F ad j g G p c ah as aa k aq w af b ae aw ax i]\n",
      "  2 : [ag A f af B v u m C q n D g an k E q r F d ak ad G e al j c o ak e ar m p as ac l u]\n",
      "  3 : [k A l i B j ai aq C p f D ax as au E ak q F ah c g G v b q k ax aw b ab h m am j av au]\n",
      "  4 : [aa A aw ak B j ah at C d z D ai aa aj E av n F w l f G b af p am s av ag ad at au x j p v]\n",
      "  5 : [z A ag z B ax ai at C l i D g y l E t i F ap z x G am k p f ap am ah k av al af l a au]\n",
      "  6 : [l A H aj ai B d I ah as C J v a D k K h a E aq L i F ae p c G g t u ac ai an ab e am j p ai w b]\n",
      "  7 : [x A as u B as aa aa C n av D t am v E aw ae F aj z z G am aq aw ah ag ai as y i ao ar q ai o]\n",
      "  8 : [n A m ae B q q ar C j y D ab aa ah E w af F r b ai G l aa h k as al au i af ao ag aw g ak]\n",
      "  9 : [v A H k am B n I av al C J b r D k K ao d E L ac g F ak i i G ar k af n x ak x at o x o as i b]\n",
      " 10 : [ab A ai aj B ac al an C v aq D aa an q E at ad F s t s G n o ac g y ag l g j aa aa z i y]\n"
     ]
    }
   ],
   "source": [
    "logs.generate_instances(10)\n",
    "logs.show_instances()"
   ]
  },
  {
   "cell_type": "code",
   "execution_count": 18,
   "metadata": {},
   "outputs": [
    {
     "data": {
      "text/html": [
       "<div>\n",
       "<style scoped>\n",
       "    .dataframe tbody tr th:only-of-type {\n",
       "        vertical-align: middle;\n",
       "    }\n",
       "\n",
       "    .dataframe tbody tr th {\n",
       "        vertical-align: top;\n",
       "    }\n",
       "\n",
       "    .dataframe thead th {\n",
       "        text-align: right;\n",
       "    }\n",
       "</style>\n",
       "<table border=\"1\" class=\"dataframe\">\n",
       "  <thead>\n",
       "    <tr style=\"text-align: right;\">\n",
       "      <th></th>\n",
       "      <th>class</th>\n",
       "      <th>#symbols</th>\n",
       "      <th>example</th>\n",
       "      <th>error</th>\n",
       "      <th>probability</th>\n",
       "    </tr>\n",
       "  </thead>\n",
       "  <tbody>\n",
       "    <tr>\n",
       "      <th>0</th>\n",
       "      <td>noisy_path</td>\n",
       "      <td>50</td>\n",
       "      <td>ab ai aj ac al an v aq aa an</td>\n",
       "      <td>NaN</td>\n",
       "      <td>NaN</td>\n",
       "    </tr>\n",
       "    <tr>\n",
       "      <th>1</th>\n",
       "      <td>serial_path</td>\n",
       "      <td>7</td>\n",
       "      <td>A B C D E F G</td>\n",
       "      <td>0.0</td>\n",
       "      <td>1.0</td>\n",
       "    </tr>\n",
       "    <tr>\n",
       "      <th>2</th>\n",
       "      <td>serial_path</td>\n",
       "      <td>5</td>\n",
       "      <td>H I J K L</td>\n",
       "      <td>5.0</td>\n",
       "      <td>0.5</td>\n",
       "    </tr>\n",
       "  </tbody>\n",
       "</table>\n",
       "</div>"
      ],
      "text/plain": [
       "         class  #symbols                       example  error  probability\n",
       "0   noisy_path        50  ab ai aj ac al an v aq aa an    NaN          NaN\n",
       "1  serial_path         7                 A B C D E F G    0.0          1.0\n",
       "2  serial_path         5                     H I J K L    5.0          0.5"
      ]
     },
     "execution_count": 18,
     "metadata": {},
     "output_type": "execute_result"
    }
   ],
   "source": [
    "pd.DataFrame(logs.describe()['generators'])"
   ]
  },
  {
   "cell_type": "markdown",
   "metadata": {},
   "source": [
    "## Three serials"
   ]
  },
  {
   "cell_type": "code",
   "execution_count": 43,
   "metadata": {},
   "outputs": [],
   "source": [
    "logs = synthetic_logs()\n",
    "logs.add( serial_path( size=7, every=25, error=5, probability=1)  )\n",
    "logs.add( serial_path( size=7, every=25, error=10, probability=1)  )\n",
    "logs.add( serial_path( size=10, every=10, error=5, probability=0.5)  )"
   ]
  },
  {
   "cell_type": "code",
   "execution_count": 44,
   "metadata": {},
   "outputs": [
    {
     "name": "stdout",
     "output_type": "stream",
     "text": [
      "  1 : [A H B I C J K D E L M F G N]\n",
      "  2 : [H A O P Q I B R S T J U C V W K X D L E M F N G]\n",
      "  3 : [A H B I C J D K E L F M G N]\n",
      "  4 : [A H B I J C K D L E M F G N]\n",
      "  5 : [A O H P B Q R I S C T U V D J W K X E L F M G N]\n",
      "  6 : [A H B I C J D K E L F G M N]\n",
      "  7 : [A H B I C J D K E L F M G N]\n",
      "  8 : [A H B I C J K D L E M F N G]\n",
      "  9 : [A O H P Q R S T I B U V J W C X D K L E F M N G]\n",
      " 10 : [O A H P I Q B R S J T C U V K W D X L E M F N G]\n",
      " 11 : [H A B I C J D K E L F G M N]\n",
      " 12 : [A H B I C J K D E L F M G N]\n",
      " 13 : [A H B I C J K D L E M F N G]\n",
      " 14 : [A O H P Q B I R S C J T U K V D L W X E M N F G]\n",
      " 15 : [A H I B C J K D L E F M G N]\n",
      " 16 : [A O H P Q R B I S T C J U V K D W X L E M F N G]\n",
      " 17 : [H A O P I Q B R J S C T K U V D W L X E M F N G]\n",
      " 18 : [A H B I C J D E K F L G M N]\n",
      " 19 : [A O H P Q B I R S C J T U V D K W X E L M F N G]\n",
      " 20 : [A H B I J C K D L E M F N G]\n"
     ]
    }
   ],
   "source": [
    "logs.generate_instances(100)\n",
    "logs.show_instances(20)"
   ]
  },
  {
   "cell_type": "code",
   "execution_count": 42,
   "metadata": {},
   "outputs": [
    {
     "data": {
      "text/html": [
       "<div>\n",
       "<style scoped>\n",
       "    .dataframe tbody tr th:only-of-type {\n",
       "        vertical-align: middle;\n",
       "    }\n",
       "\n",
       "    .dataframe tbody tr th {\n",
       "        vertical-align: top;\n",
       "    }\n",
       "\n",
       "    .dataframe thead th {\n",
       "        text-align: right;\n",
       "    }\n",
       "</style>\n",
       "<table border=\"1\" class=\"dataframe\">\n",
       "  <thead>\n",
       "    <tr style=\"text-align: right;\">\n",
       "      <th></th>\n",
       "      <th>class</th>\n",
       "      <th>#symbols</th>\n",
       "      <th>example</th>\n",
       "      <th>error</th>\n",
       "      <th>probability</th>\n",
       "    </tr>\n",
       "  </thead>\n",
       "  <tbody>\n",
       "    <tr>\n",
       "      <th>0</th>\n",
       "      <td>serial_path</td>\n",
       "      <td>7</td>\n",
       "      <td>A B C D E F G</td>\n",
       "      <td>0</td>\n",
       "      <td>1.0</td>\n",
       "    </tr>\n",
       "    <tr>\n",
       "      <th>1</th>\n",
       "      <td>serial_path</td>\n",
       "      <td>7</td>\n",
       "      <td>H I J K L M N</td>\n",
       "      <td>10</td>\n",
       "      <td>1.0</td>\n",
       "    </tr>\n",
       "    <tr>\n",
       "      <th>2</th>\n",
       "      <td>serial_path</td>\n",
       "      <td>10</td>\n",
       "      <td>O P Q R S T U V W X</td>\n",
       "      <td>5</td>\n",
       "      <td>0.5</td>\n",
       "    </tr>\n",
       "  </tbody>\n",
       "</table>\n",
       "</div>"
      ],
      "text/plain": [
       "         class  #symbols              example  error  probability\n",
       "0  serial_path         7        A B C D E F G      0          1.0\n",
       "1  serial_path         7        H I J K L M N     10          1.0\n",
       "2  serial_path        10  O P Q R S T U V W X      5          0.5"
      ]
     },
     "execution_count": 42,
     "metadata": {},
     "output_type": "execute_result"
    }
   ],
   "source": [
    "pd.DataFrame(logs.describe()['generators'])"
   ]
  },
  {
   "cell_type": "code",
   "execution_count": null,
   "metadata": {},
   "outputs": [],
   "source": []
  }
 ],
 "metadata": {
  "kernelspec": {
   "display_name": "Python 3",
   "language": "python",
   "name": "python3"
  },
  "language_info": {
   "codemirror_mode": {
    "name": "ipython",
    "version": 3
   },
   "file_extension": ".py",
   "mimetype": "text/x-python",
   "name": "python",
   "nbconvert_exporter": "python",
   "pygments_lexer": "ipython3",
   "version": "3.7.5"
  }
 },
 "nbformat": 4,
 "nbformat_minor": 4
}
