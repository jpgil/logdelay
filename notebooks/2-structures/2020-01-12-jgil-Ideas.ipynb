{
 "cells": [
  {
   "cell_type": "markdown",
   "metadata": {},
   "source": [
    "# Ideas on structure discovering"
   ]
  },
  {
   "cell_type": "code",
   "execution_count": 1,
   "metadata": {},
   "outputs": [],
   "source": [
    "import random\n",
    "import networkx as nx\n",
    "import matplotlib.pyplot as plt"
   ]
  },
  {
   "cell_type": "code",
   "execution_count": 2,
   "metadata": {},
   "outputs": [],
   "source": [
    "def insert_random(s, n, times):\n",
    "    l=len(s)\n",
    "    res = s[:]\n",
    "    for i in range(0,times):\n",
    "        pos = random.randint(0,len(res))\n",
    "        res = res[:pos] + [ n[random.randint(0,len(n)-1)] ] + res[pos:]\n",
    "    return res"
   ]
  },
  {
   "cell_type": "code",
   "execution_count": 3,
   "metadata": {},
   "outputs": [],
   "source": [
    "def random_noise(n, length):\n",
    "    s=[]\n",
    "    for i in range(length):\n",
    "        s.append( n[random.randint(0,len(n)-1)] )\n",
    "    return s"
   ]
  },
  {
   "cell_type": "code",
   "execution_count": 4,
   "metadata": {},
   "outputs": [],
   "source": [
    "def interleave_path(p, t):\n",
    "    path=p[:]\n",
    "    trace=t[:]\n",
    "    start = 0\n",
    "    step = int( len(trace) / len(path) ) + 1\n",
    "    while len(path)>0:\n",
    "        s = path.pop(0)\n",
    "        pos = random.randint(start, min(start+step, len(trace)) )\n",
    "        start = pos+1\n",
    "        trace = trace[:pos] + [s] + trace[pos:]\n",
    "    return trace"
   ]
  },
  {
   "cell_type": "code",
   "execution_count": 5,
   "metadata": {},
   "outputs": [],
   "source": [
    "def get_succesor_edges( traces ):\n",
    "    edges = {}\n",
    "\n",
    "    for this_trace in traces:\n",
    "        for idx in range(0, len(this_trace)-1):\n",
    "            partial_subtrace = this_trace[idx:]\n",
    "            s0 = partial_subtrace.pop(0)\n",
    "            try:\n",
    "                k_plus_1 = partial_subtrace.index(s0)\n",
    "            except:\n",
    "                k_plus_1 = len(partial_subtrace)\n",
    "            # This is the subtrace T, the maximal that not contains s0\n",
    "            T=partial_subtrace[:k_plus_1]\n",
    "\n",
    "            # Avoid ABBBB, count just the first AB\n",
    "#             edges_in_this_chunk = []\n",
    "\n",
    "            # Edges found:\n",
    "            for si in T:\n",
    "                e = (s0, si)\n",
    "#                 if e not in edges_in_this_chunk:\n",
    "#                     edges_in_this_chunk.append(e)\n",
    "                if e in edges.keys():\n",
    "                    edges[e] = edges[e] + 1\n",
    "                else:\n",
    "                    edges[e] = 1\n",
    "    return edges"
   ]
  },
  {
   "cell_type": "code",
   "execution_count": 6,
   "metadata": {},
   "outputs": [],
   "source": [
    "def cluster_same_freq(edges, threshold=0):\n",
    "    weights = list(set(edges.values()))\n",
    "    sorted(weights)\n",
    "    groups = {}\n",
    "    for e in edges.keys():\n",
    "        w  = edges[e]\n",
    "        if w in groups.keys():\n",
    "            groups[w].append( e )\n",
    "        else:\n",
    "            groups[w] = [e]\n",
    "            \n",
    "    remove_smaller = []\n",
    "    for w in groups.keys():\n",
    "        if len( groups[w] ) < threshold:\n",
    "            remove_smaller.append(w)\n",
    "    for w in remove_smaller:\n",
    "        del(groups[w])\n",
    "        \n",
    "    return groups\n",
    "#     print(groups)"
   ]
  },
  {
   "cell_type": "code",
   "execution_count": 7,
   "metadata": {},
   "outputs": [],
   "source": [
    "def testLeftNode(graph, serials=[]):\n",
    "\n",
    "    candid=[]\n",
    "    for serial in serials:\n",
    "        # Test if Sk can be append at the left\n",
    "        for Sk in [ Sk for (Sk, Sl) in graph.edges() if Sl == serial[0] ]:\n",
    "\n",
    "            # Test (Sk, node) exists for all nodes\n",
    "            if all( [(Sk,node) in graph.edges() for node in serial] ):\n",
    "                \n",
    "                # Continue the search to the left\n",
    "                candid = candid + testLeftNode(graph, [[Sk] + serial] ) \n",
    "\n",
    "    return serials + candid"
   ]
  },
  {
   "cell_type": "code",
   "execution_count": 8,
   "metadata": {},
   "outputs": [],
   "source": [
    "def get_maximal_serials(candidates, verbose=False):\n",
    "    if len(candidates) <= 1:\n",
    "        return candidates\n",
    "\n",
    "    first, c2 = candidates[0], candidates[1:]\n",
    "\n",
    "#     if any( [ len(set(first).intersection(set(n))) == len(set(first)) for n in c2] ):\n",
    "    if any( [ len(first) < len(n) and set(first).intersection(set(n)) for n in c2] ):\n",
    "        if verbose:\n",
    "            print(\"%s is already part of another\" % first)\n",
    "        return get_maximal_serials( c2, verbose )\n",
    "    else:\n",
    "        return [first] + get_maximal_serials( c2, verbose )\n",
    "    "
   ]
  },
  {
   "cell_type": "code",
   "execution_count": 9,
   "metadata": {},
   "outputs": [],
   "source": [
    "# symbols\n",
    "s = list(\"ABCDEFGHIJKLMNOPQRSTUVWXYZabcdefghijklmnopqrstuvwxyz0123456789!@#$%^&*()_+=-{}[]\\|<>,./?\")"
   ]
  },
  {
   "cell_type": "markdown",
   "metadata": {},
   "source": [
    "## Single Serial Path Discovery"
   ]
  },
  {
   "cell_type": "markdown",
   "metadata": {},
   "source": [
    "Any trace of the form ```ABCDE``` can be described by a single path without loops in a directed graph. If we define *noise* as any symbol in between the trace different from symbols of the trace we have the following examples:"
   ]
  },
  {
   "cell_type": "code",
   "execution_count": 10,
   "metadata": {},
   "outputs": [
    {
     "data": {
      "text/plain": [
       "'abcdefghijklmnopqrstuvwxyz0123456789!@#'"
      ]
     },
     "execution_count": 10,
     "metadata": {},
     "output_type": "execute_result"
    }
   ],
   "source": [
    "noisy_symbols = s[26:65]\n",
    "# noisy_symbols = s[9:65]\n",
    "\"\".join(noisy_symbols)"
   ]
  },
  {
   "cell_type": "markdown",
   "metadata": {},
   "source": [
    "In the set below, the goal is to automatically find the serial path ```ABCDE``` and discard the noise."
   ]
  },
  {
   "cell_type": "code",
   "execution_count": 11,
   "metadata": {},
   "outputs": [],
   "source": [
    "NUM_INSTANCES=30"
   ]
  },
  {
   "cell_type": "markdown",
   "metadata": {},
   "source": [
    "### Create dataset"
   ]
  },
  {
   "cell_type": "code",
   "execution_count": 12,
   "metadata": {},
   "outputs": [
    {
     "data": {
      "text/plain": [
       "['A', 'B', 'C', 'D', 'E']"
      ]
     },
     "execution_count": 12,
     "metadata": {},
     "output_type": "execute_result"
    }
   ],
   "source": [
    "# Serial Path\n",
    "serial_path = list(\"ABCDE\")\n",
    "serial_path"
   ]
  },
  {
   "cell_type": "code",
   "execution_count": 13,
   "metadata": {},
   "outputs": [
    {
     "name": "stdout",
     "output_type": "stream",
     "text": [
      "#3u6xlptApeyqt4p@kjn92#jt2B86!n!kqcC33j!Dknc523@!0jw8oufbs2v4bwlasd@0@b4pof540k922bac8f!sccazE6uv2h2d6iqx\n",
      "k92k#6z@74cct5k6wz3rpekcgluit@#@pxhxAgo3avl9jcaq9vp0adoBlps!7b@wp1@!m6im7Cc611rzc@pgj#zdD@azsxEh0vwelpvrj\n",
      "cz5e6bvi6sh23i06iAek856i0zuhcy8@glloB0Ceoe9dfahcsd##fb0aryrg6bb6r42weuDz9e2#xElrsp7fs1xqk7i1l5zrju12vqq0o\n",
      "8003A@wusmmlpg@pza84fdda2jyt17gB6uvzvcsCyiiyeg6ely3md!gv@pjxwglhtsctDnaEn9i@gh@s56#6att013insrc8ti2wr3d0x\n",
      "tk#3Ainehdy2vaeBi!x7doiny8tm#!f2@xr7bajxrCcoplm7tyl8tu9#4pswtmhwqx4ampDo5lprocsncbmsj!fpmdtz9bir#kE@ck2su\n",
      "l9t40ug2@yahk!gyd74wd04s#aA9Bd2696w6i50fevu!g7nb93ucw@ez7zsCkdbty545#ulu1uzr4doop6D@hb5#mbEt86i1p!6#lf@36\n",
      "3zj8st1inm2hg@1zei1u8hAryj#h2mf380aBCnj7nyr72mwvD#bjjm!glqryErd2msew6ubnfpah41nk3d@w3i1zcz9vxkv3f8yvdy170\n",
      "tm@aqaelgt55beyu#10brAxtBwmb9CDwo@woteazjfckd0h!wta2iog2cbfheh3!g7w#9qj95htd3mubvr@!i94po0uf44i8zzdso1Euy\n",
      "g!!7v!e@bnjifaa5wi0o5o23p3jktv9Aby@redcx9qBo!71bkzzeaxod!z7eb9r6lCnbnsiq6wnDdwf6j48E0@@pwldd4dac1286tmsdw\n",
      "bx037yy67w6q1eseuu61kr2ik3z0y8xkk9AyBbcsrvkogdaw6w90vfl0wj2p@s!jee2w4sdc6lC3d2iksdD8ppic8#Epzwy#zcgyqkf!m\n",
      "f!@pdn5@ezAy#@0awlz6xc0#tetkz!76!t95kqBC4u4#j1y550nk3y5tkrnh4aiovg4k1Dau42uafEpf8kjym#hmav4pg4x6u!o1jjpst\n",
      "0!!415l@A40pB6v2vwicozjdkdpfy4xz41t46vCxjiyln425ng38fo5hp1x420h5nyuy!84yf07ourz52#h#h1f3!#p6ymk8DEnebol@9\n",
      "a#1nqAik@b#9pquqzf@b2@taBrou37708en99bplbjkdewx#6C585oa@iec5g8x039y!h499Di578i7sb1b48o8cnrm9l0dw7k1q#eE5t\n",
      "4rA@e450fnhbv742Bt47nxuCo2z63Dlqtshcu8xthzugsjEt3bwbbuyzc74!#tbp1xz3c8smnc@wc4w#7avc5jmjb#f7#pv0yclqzhvao\n",
      "bgwfpfux4@z0q9jh#3dAw!BybC##eao46k@qfuam8xk826ed1y1#upnDt5ea@s8q6cgEgzzrqnocmiq2aveim8c6ey8#ap0gr@ljit5sp\n",
      "1Aw#4Bo0mx1o8vzushvrah72#ca8xc4u0CDrmy9ypEs6dcuprz6xpmfnp#yepy9b8ty@qtl95@mslur73yecz#q3m38ptl@qh4u5qi@ri\n",
      "kad37h9qo89iu6lahny2u6tn@b1t8rA1ibr5w0jlpev0q#z!n6s!gvr@k9BxCDa!h8zgir4#639a9koE1m9ryxj7i@wq2giv#o@biktus\n",
      "ywuw6r235dh2tvcfA6muf68k!764021vrrfbBr0x!#mdavndvdc!q#fkst#8nlt@qewehmk#10yaC90bqqD16grshpag8h!7ynd2updEf\n",
      "t4l8xlapwnc@vwrf7vltv@nr0At6mnkfw@xvtsjsr#hl47Bb3zydCD#c39bk70po1nwchpoopyv0zsy#ydd50!15dEofr6azcw!0j4dkb\n",
      "k5@fj5vm27biv6!94n#wfqA8t2@2u8durmrmytsjdnh9w#eh658!lb12f7ljs4s3b7nj#le5BphjCo6@h@jl3@ymddDE6vi2dphnla@d8\n"
     ]
    }
   ],
   "source": [
    "# Serial Path with random symbols\n",
    "traces = []\n",
    "for i in range(NUM_INSTANCES): # Number of instances\n",
    "    traces.append ( insert_random(serial_path, noisy_symbols, len(serial_path)*20 ))\n",
    "\n",
    "for t in traces[:20]:\n",
    "    print( \"\".join(t) )"
   ]
  },
  {
   "cell_type": "markdown",
   "metadata": {},
   "source": [
    "## Count successors edges of same symbol"
   ]
  },
  {
   "cell_type": "markdown",
   "metadata": {},
   "source": [
    "Build an adjacency matrix that counts how many edges $(s_0, s_i)$ are in the trace $T=s_0 ... s_i ... s_k$ where $s_i  \\neq s_0, \\forall 0 < i <= k$"
   ]
  },
  {
   "cell_type": "code",
   "execution_count": 14,
   "metadata": {},
   "outputs": [],
   "source": [
    "edges1 = get_succesor_edges(traces)"
   ]
  },
  {
   "cell_type": "code",
   "execution_count": 15,
   "metadata": {},
   "outputs": [],
   "source": [
    "edges_group1 = cluster_same_freq(edges1)"
   ]
  },
  {
   "cell_type": "code",
   "execution_count": 16,
   "metadata": {},
   "outputs": [],
   "source": [
    "G = {}\n",
    "for weight in sorted(edges_group1.keys()):\n",
    "    G[weight] = nx.DiGraph()\n",
    "    G[weight].add_edges_from( edges_group1[weight] )\n",
    "        "
   ]
  },
  {
   "cell_type": "code",
   "execution_count": 17,
   "metadata": {},
   "outputs": [
    {
     "data": {
      "image/png": "[encoded data removed]",
      "text/plain": [
       "<Figure size 432x288 with 1 Axes>"
      ]
     },
     "metadata": {},
     "output_type": "display_data"
    }
   ],
   "source": [
    "# Graph the candidates\n",
    "\n",
    "MIN_EDGES_PER_FREQ=4 # min edges per group\n",
    "MIN_FREQ=len(traces)/1.5\n",
    "\n",
    "for weight in G.keys():\n",
    "#     if weight >= MIN_FREQ and len(edges_group1[weight]) >= MIN_EDGES_PER_FREQ:\n",
    "    if weight == NUM_INSTANCES:\n",
    "        nx.draw_circular(G[weight], edge_color=\"#CCCCCC\", node_color=\"#AAAAAA\", with_labels=True)\n",
    "        #Plot the graph\n",
    "        plt.axis('on')\n",
    "        plt.title('Edges with frequency=%d' % weight)\n",
    "# #     plt.savefig(\"chess_legends.png\") \n",
    "        plt.show() "
   ]
  },
  {
   "cell_type": "markdown",
   "metadata": {},
   "source": [
    "My claim is that a serial process $S=s_0...s_L$ will be shown as a graph made with the set of edges $(u,v)$ that appears the same amount of times in the set of traces $\\Gamma$, and also the adjacency matrix of same frequency edges $M_{freq}$ can be chosen by reordering the nodes such that $\\forall 0 < i, j < L$:\n",
    "\n",
    "* $M_{ii}=0$\n",
    "* $M_{ij}=1,  i < j $ (1 in upper diagonal)\n",
    "* $M_{ij}=0,  j < i $ (0 in lower diagonal)\n",
    "\n",
    "Note 1: that this $S$ is not necessarily unique.\n",
    "\n",
    "Note 2: $M_{ii}=0$ by construction of the graph, given they have no loops."
   ]
  },
  {
   "cell_type": "code",
   "execution_count": 18,
   "metadata": {},
   "outputs": [
    {
     "data": {
      "text/plain": [
       "matrix([[0., 1., 1., 1., 1., 0., 0., 0., 0., 0., 0., 0., 0., 0.],\n",
       "        [0., 0., 1., 1., 1., 0., 0., 0., 0., 0., 0., 0., 0., 0.],\n",
       "        [0., 0., 0., 1., 1., 0., 0., 0., 0., 0., 0., 0., 0., 0.],\n",
       "        [0., 0., 0., 0., 1., 0., 0., 1., 1., 0., 0., 0., 1., 1.],\n",
       "        [0., 0., 0., 0., 0., 0., 0., 0., 0., 0., 0., 0., 0., 0.],\n",
       "        [0., 0., 0., 0., 0., 0., 1., 0., 0., 0., 0., 0., 0., 0.],\n",
       "        [0., 0., 0., 0., 0., 0., 0., 0., 0., 0., 0., 0., 0., 0.],\n",
       "        [0., 0., 0., 0., 0., 0., 0., 0., 0., 0., 0., 0., 0., 0.],\n",
       "        [0., 0., 0., 0., 0., 0., 0., 0., 0., 0., 0., 0., 0., 0.],\n",
       "        [0., 0., 0., 0., 0., 0., 0., 0., 0., 0., 1., 0., 0., 0.],\n",
       "        [0., 0., 0., 0., 0., 0., 0., 0., 0., 0., 0., 0., 0., 0.],\n",
       "        [0., 0., 0., 0., 0., 0., 0., 0., 0., 0., 1., 0., 0., 0.],\n",
       "        [0., 0., 0., 0., 0., 0., 0., 0., 0., 0., 0., 0., 0., 0.],\n",
       "        [0., 0., 0., 0., 0., 0., 0., 0., 0., 0., 0., 0., 0., 0.]])"
      ]
     },
     "execution_count": 18,
     "metadata": {},
     "output_type": "execute_result"
    }
   ],
   "source": [
    "nx.to_numpy_matrix(G[NUM_INSTANCES])"
   ]
  },
  {
   "cell_type": "markdown",
   "metadata": {},
   "source": [
    "But... to check the permutations of $ N $ columns implies to check $N!$ possibilities. Then, a new method different than brute force must be found. \n",
    "\n",
    "A simple property (1) is that if a serial path $S$ contains the edges $(s_0, s_1)$, $(s_1, s_2)$, then $(s_0, s_2)$ must exists too. A stronger property (2) is going backward: if $s_{L-p}...s_{L-1}...s_l$ are the last $p$ elements of a serial path of lenght $L$, then a node $s_k$ can be added at the left iff the edges $(s_k, s_{L-q})$ exists for all $0 < q < p$. A third property (3) comes from the observation that any subset of $S$ is also a valid path, then the goal is to search the **maximal** serial path $S$ sharing the same nodes.\n",
    "\n",
    "Then, let's search in the connection space... backward!"
   ]
  },
  {
   "cell_type": "code",
   "execution_count": 19,
   "metadata": {},
   "outputs": [],
   "source": [
    "thisG = G[NUM_INSTANCES]\n",
    "candidates = []\n",
    "for (u,v) in list(thisG.edges()):\n",
    "    serial=[u,v]\n",
    "    candidates = candidates + testLeftNode(thisG, [serial] )[1:]"
   ]
  },
  {
   "cell_type": "code",
   "execution_count": 20,
   "metadata": {},
   "outputs": [
    {
     "name": "stdout",
     "output_type": "stream",
     "text": [
      "['A', 'B', 'C']\n",
      "['A', 'B', 'D']\n",
      "['A', 'B', 'E']\n",
      "['A', 'C', 'D']\n",
      "['B', 'C', 'D']\n",
      "['A', 'B', 'C', 'D']\n",
      "['A', 'C', 'E']\n",
      "['B', 'C', 'E']\n",
      "['A', 'B', 'C', 'E']\n",
      "['A', 'D', 'E']\n",
      "['B', 'D', 'E']\n",
      "['A', 'B', 'D', 'E']\n",
      "['C', 'D', 'E']\n",
      "['A', 'C', 'D', 'E']\n",
      "['B', 'C', 'D', 'E']\n",
      "['A', 'B', 'C', 'D', 'E']\n"
     ]
    }
   ],
   "source": [
    "for c in candidates:\n",
    "    print(c)"
   ]
  },
  {
   "cell_type": "code",
   "execution_count": 21,
   "metadata": {},
   "outputs": [
    {
     "name": "stdout",
     "output_type": "stream",
     "text": [
      "['A', 'B', 'C'] is already part of another\n",
      "['A', 'B', 'D'] is already part of another\n",
      "['A', 'B', 'E'] is already part of another\n",
      "['A', 'C', 'D'] is already part of another\n",
      "['B', 'C', 'D'] is already part of another\n",
      "['A', 'B', 'C', 'D'] is already part of another\n",
      "['A', 'C', 'E'] is already part of another\n",
      "['B', 'C', 'E'] is already part of another\n",
      "['A', 'B', 'C', 'E'] is already part of another\n",
      "['A', 'D', 'E'] is already part of another\n",
      "['B', 'D', 'E'] is already part of another\n",
      "['A', 'B', 'D', 'E'] is already part of another\n",
      "['C', 'D', 'E'] is already part of another\n",
      "['A', 'C', 'D', 'E'] is already part of another\n",
      "['B', 'C', 'D', 'E'] is already part of another\n"
     ]
    },
    {
     "data": {
      "text/plain": [
       "[['A', 'B', 'C', 'D', 'E']]"
      ]
     },
     "execution_count": 21,
     "metadata": {},
     "output_type": "execute_result"
    }
   ],
   "source": [
    "get_maximal_serials(candidates, verbose=True)"
   ]
  },
  {
   "cell_type": "code",
   "execution_count": 22,
   "metadata": {},
   "outputs": [
    {
     "name": "stdout",
     "output_type": "stream",
     "text": [
      "Serial Paths for frequency = 30\n",
      "[['A', 'B', 'C', 'D', 'E']]\n"
     ]
    }
   ],
   "source": [
    "# Now for all Graphs in G\n",
    "for weight in G.keys():\n",
    "    thisG = G[weight]\n",
    "    candidates = []\n",
    "    for (u,v) in list(thisG.edges()):\n",
    "        serial=[u,v]\n",
    "        candidates = candidates + testLeftNode(thisG, [serial] )[1:]\n",
    "    maximals = []\n",
    "    for M in get_maximal_serials(candidates):\n",
    "        if len(M) > 3:\n",
    "            maximals.append(M)\n",
    "            \n",
    "    # Strange trick.... go backwards just to lower the O() of algoritm\n",
    "    maximals.reverse()\n",
    "    maximals = get_maximal_serials( maximals )\n",
    "\n",
    "    if len(maximals) > 0:\n",
    "        print (\"Serial Paths for frequency = %s\" % weight)\n",
    "        print(maximals)"
   ]
  },
  {
   "cell_type": "markdown",
   "metadata": {},
   "source": [
    "## Interleaved serial sequences with noise"
   ]
  },
  {
   "cell_type": "code",
   "execution_count": 23,
   "metadata": {},
   "outputs": [
    {
     "data": {
      "text/plain": [
       "(['A', 'B', 'C', 'D', 'E', 'F', 'G', 'H', 'I', 'J'],\n",
       " ['K', 'L', 'M', 'N', 'O', 'P', 'Q', 'R', 'S'])"
      ]
     },
     "execution_count": 23,
     "metadata": {},
     "output_type": "execute_result"
    }
   ],
   "source": [
    "# Two Serial Path\n",
    "NUM_INSTANCES=100\n",
    "s1 = list(\"ABCDEFGHIJ\")\n",
    "s2 = list(\"KLMNOPQRS\")\n",
    "s1, s2"
   ]
  },
  {
   "cell_type": "code",
   "execution_count": 24,
   "metadata": {},
   "outputs": [
    {
     "name": "stdout",
     "output_type": "stream",
     "text": [
      "i58ufb#vA3nKohetk@m1zL2dh6xmBi#teCo2MxlteeDbN6k5ncl62r0!4nzspO5Ehj9P0!vf4bvs660ylQF9xkRthG3s6eo3lcopwx!oHgSv0sjrnyIrd!v1zv2asqy09r00Jifgrs@45iuddevx6tumh9lfoq4e0vkb840yp#ybuloe6vy2b@ogiplrk3#v@mjbdu6kgieq@2t8v\n",
      "clmoqnnzxkoljiA#3epK248q2q06wiL9xvBpCyq2gahb#ranzjfxM0@faDNhqosbvpiEtgOmvaPcubz2a@gyruz2QppF5he7zv!pjf3ltonRejGoH45vptwfe33uS75@I44dlmx7e4kzpk!wJu!nq3q2ab0k71okn5skyi52oqg5m86b4kqdrms2r4d62tjn1go89zni0q7d50w3a\n",
      "A3dv@pKvn4B#ky9Lb9c7kMlwhd99N1vCetvD#3dOjd1ab!i7PExh0p1xlyg#hq5@#F#y#GQiwj8sea3HrR@uqfgSifsb1v5qk@f1dIJxjshfy7mnbg!tcf#r5szt#4nmangjxohgnnioztk!f35fdcfjxckaaq43etoew4j94zsmb81xjm1wn64e4@0llujtl@i7p9e#9y23s6syb\n",
      "adA53K8jbrvl17kyy4rLjqByon7f#xhjy!u9Cqayo#5M!tDw0tsNyE!j2llwf5Od9rF3276uG8q#bb4kP1j#7p#@massH20wkyoziQxI0z4#kJy9sgutazed8wqajRe!@fs4@s55f6j1zdac6@0Sx2ve6ap4dcimw#eq3m8uq4do!andog7zn3@2o79l!1xmlegip!mbnpl93lei9\n",
      "K@d8zj#p9nchorp#tiLAw9zBj5Ms3N4gyrsz0C5vn2i7tqzhnOo6g1gop#9DnPo3Q7e!7q2R#ti!y71Ehv2xu5jokc@So6lzF9qlrq!8G4mHIele8J09h4e!zaw7xhxh858i@5o8huvurm8rz9ne#rt34lyv8aykr9vxl#a927qtsskg21l1as03nv63cppf#sgm5oy0jv48w6gta\n",
      "pyh0zc#yrAb5s56eBef3aKf@8v#yhCkl!tloD2li03Lj222Ex1xdeMN74rl@!1dbjt9Fc!012mbg7Ontwr#zrc5u1PG8p5t65xQjxprp7#7801zHbrj2R!wsgIfSn48ay8yu@eqviJvoa0f#@f6pik3q@o@#b9pc6rga#ip3lp3s#99z#l71nz25hfc8ugjoakfza0iupz4zjafmq\n",
      "K3huo8A#lmijpL9wo0BCb566M#r1tthtp37cN9aOraDsrc4w3q!Ptmb4m5vyE#lfuag09!oQa2t7R8@87c6F1r3k7qr@8dxS317qGx74ohjivl41H7kjk!8szv#b!tbhw@omvIih80d3omzvw07ksgpkq9Jymce52qjoh#98kqvrt660d#ei1!m52es2ry7dg5rl4#adkd#z59ee0\n",
      "Av!@7k9o6m#BCvzKie0dn#6wD84fL24nMt@p6E2hc3hN0#7lxutFp5ynje9f3wOGbHeIltuxcnJe#pgm4xlPardvvc1kx60s07@mt96arsyQ#et@#zjuc9aj4!v32humRwak9k5wq1oz!8l6cyad6z8Sketxj95xyyce#zzrp44yn@gr!zf4b5eeq2g6aa9xf@p2cbm47ew3n6y@l\n",
      "df#erc#ipt8iA3rKjLh07uex82q8e5ou94BM5Nr#s2#hcz5C1mk7l#yr5cODh#!qpc@gv4gayPjsEn3FxtmwinGtlkgQ1312Rj6SrH1mib#i23iq480Ik#1e3#91mfdlem698ki3Jly2rrggrs08wlr9qrnn0h4n92hwnd97dl!u9618#lzian3@37fqaegm!z0mgat5wzddv1l7#\n",
      "f#wt39zil7r#csycKaiA96nalbj5hjf@lqxrLBqdbljC3@o5balDx915EhMc7Ng3Faidfsxrz6j@GObpHq53ujx16qIvixyn40sP9x5edJ@h@uy@@81er59Qm4i!vnhx9ctyrxtR8l0n!S4e7a15yq0zaof46r2vp6#sxq!djp4s31efvgxrtqpka59ih5zr!l9lguw9ln7n#u8ok\n"
     ]
    }
   ],
   "source": [
    "# Serial Path with random symbols\n",
    "traces = []\n",
    "for i in range(NUM_INSTANCES): # Number of instances\n",
    "    trace = random_noise(noisy_symbols, (len(s1) + len(s2) )*10 )\n",
    "    trace = interleave_path(s1, trace)\n",
    "    trace = interleave_path(s2, trace)\n",
    "    traces.append ( trace )\n",
    "\n",
    "for t in traces[:10]:\n",
    "    print( \"\".join(t) )"
   ]
  },
  {
   "cell_type": "code",
   "execution_count": 25,
   "metadata": {},
   "outputs": [
    {
     "name": "stdout",
     "output_type": "stream",
     "text": [
      "Serial Paths for frequency = 100\n",
      "[['A', 'B', 'C', 'D', 'E', 'F', 'G', 'H', 'I', 'J'], ['K', 'L', 'M', 'N', 'O', 'P', 'Q', 'R', 'S']]\n"
     ]
    }
   ],
   "source": [
    "edges2 = get_succesor_edges(traces)\n",
    "edges_by_freq2 = cluster_same_freq(edges2)\n",
    "G = {}\n",
    "for weight in sorted(edges_by_freq2.keys()):\n",
    "    G[weight] = nx.DiGraph()\n",
    "    G[weight].add_edges_from( edges_by_freq2[weight] )\n",
    "\n",
    "for weight in G.keys():\n",
    "    thisG = G[weight]\n",
    "    candidates = []\n",
    "    for (u,v) in list(thisG.edges()):\n",
    "        serial=[u,v]\n",
    "        candidates = candidates + testLeftNode(thisG, [serial] )[1:]\n",
    "    maximals = []\n",
    "    for M in get_maximal_serials(candidates):\n",
    "        if len(M) > 3: # Magic number!\n",
    "            maximals.append(M)\n",
    "\n",
    "    # Strange trick.... go backwards just to lower the O() of algoritm\n",
    "    maximals.reverse()\n",
    "    maximals = get_maximal_serials( maximals )\n",
    "    if len(maximals) > 0:\n",
    "        print (\"Serial Paths for frequency = %s\" % weight)\n",
    "        print(maximals)"
   ]
  },
  {
   "cell_type": "markdown",
   "metadata": {},
   "source": [
    "## Interleaved five serial sequences without noise"
   ]
  },
  {
   "cell_type": "code",
   "execution_count": 26,
   "metadata": {},
   "outputs": [],
   "source": [
    "# Five Serial Path\n",
    "NUM_INSTANCES=100\n",
    "s1 = list(\"ABCDEF\")\n",
    "s2 = list(\"GHIJKL\")\n",
    "s3 = list(\"MNOPQRS\")\n",
    "s4 = list(\"TUVWXYZ123\")\n",
    "s5 = list(\"abcdefghijklmopq\")"
   ]
  },
  {
   "cell_type": "code",
   "execution_count": 27,
   "metadata": {},
   "outputs": [
    {
     "name": "stdout",
     "output_type": "stream",
     "text": [
      "ATGBHUICJKLVWDXEYZF123\n",
      "GTHUAIBCJDVKWEXLFYZ123\n",
      "GATUHBIVCDJWXEKFLYZ123\n",
      "ATUGBHIVWJCXDKLYEZ1F23\n",
      "TUGAHVWBIXYJCZKDEFL123\n",
      "ABGCHTDIJUKVEWLFXYZ123\n",
      "TGHUAVIWJBXYKLCZD1EF23\n",
      "TAUGBHCVIWJDXKEFYLZ123\n",
      "TGUHAVWIBXYJCDKZ1EL23F\n",
      "GTABHUVICDJWEKLXFYZ123\n"
     ]
    }
   ],
   "source": [
    "# Serial Path with random symbols\n",
    "traces = []\n",
    "for i in range(NUM_INSTANCES): # Number of instances\n",
    "    trace = s4\n",
    "    trace = interleave_path(s1, trace)\n",
    "    trace = interleave_path(s2, trace)\n",
    "#     trace = interleave_path(s3, trace)\n",
    "#     trace = interleave_path(s4, trace)\n",
    "    traces.append ( trace )\n",
    "\n",
    "for t in traces[:10]:\n",
    "    print( \"\".join(t) )"
   ]
  },
  {
   "cell_type": "code",
   "execution_count": 28,
   "metadata": {},
   "outputs": [
    {
     "name": "stdout",
     "output_type": "stream",
     "text": [
      "Serial Paths for frequency = 100\n",
      "[['T', 'U', 'V', 'W', 'X', 'Y', 'Z', '1', '2', '3']]\n"
     ]
    }
   ],
   "source": [
    "edges2 = get_succesor_edges(traces)\n",
    "edges_by_freq2 = cluster_same_freq(edges2)\n",
    "G = {}\n",
    "for weight in sorted(edges_by_freq2.keys()):\n",
    "    G[weight] = nx.DiGraph()\n",
    "    G[weight].add_edges_from( edges_by_freq2[weight] )\n",
    "\n",
    "for weight in G.keys():\n",
    "#     print(\"... calculating for weight %s\" % weight)\n",
    "    thisG = G[weight]\n",
    "    candidates = []\n",
    "    for (u,v) in list(thisG.edges()):\n",
    "        serial=[u,v]\n",
    "        candidates = candidates + testLeftNode(thisG, [serial] )[1:]\n",
    "    maximals = []\n",
    "    for M in get_maximal_serials(candidates):\n",
    "        if len(M) > 3: # Magic number!\n",
    "            maximals.append(M)\n",
    "\n",
    "    # Strange trick.... go backwards just to lower the O() of algoritm\n",
    "    maximals.reverse()\n",
    "\n",
    "    maximals = get_maximal_serials( maximals )\n",
    "    if len(maximals) > 0:\n",
    "        print (\"Serial Paths for frequency = %s\" % weight)\n",
    "        print(maximals)"
   ]
  },
  {
   "cell_type": "markdown",
   "metadata": {},
   "source": [
    "## Conclusions"
   ]
  },
  {
   "cell_type": "markdown",
   "metadata": {},
   "source": [
    "The algorithm is useful for a len(S) > 3, because the high probability to have the edge set $(s_0, s_1), (s_1, s_2), (s_0, s_1)$, while in contrast, the chances are dramatically lower to have this set in the same frequency range: $(s_0, s_1), (s_1, s_2), (s_2, s_3), (s_0, s_1), (s_0, s_2), (s_0, s_3), (s_1, s_3)$\n",
    "\n",
    "In getting maximals path I found that times degrades very quick after a path of 8 symbols. That part needs to be revisited.\n",
    "\n",
    "Besides, I started a sample instance generator.\n"
   ]
  },
  {
   "cell_type": "markdown",
   "metadata": {},
   "source": [
    "## Pending tasks\n",
    "\n",
    "1. Fix maximals non linearity\n",
    "1. Formal writting of the method\n",
    "1. Add tolerance to incomplete sequences\n",
    "1. Test with Observatory logs"
   ]
  },
  {
   "cell_type": "code",
   "execution_count": null,
   "metadata": {},
   "outputs": [],
   "source": []
  }
 ],
 "metadata": {
  "kernelspec": {
   "display_name": "Python 3",
   "language": "python",
   "name": "python3"
  },
  "language_info": {
   "codemirror_mode": {
    "name": "ipython",
    "version": 3
   },
   "file_extension": ".py",
   "mimetype": "text/x-python",
   "name": "python",
   "nbconvert_exporter": "python",
   "pygments_lexer": "ipython3",
   "version": "3.7.5"
  }
 },
 "nbformat": 4,
 "nbformat_minor": 4
}
